{
 "cells": [
  {
   "cell_type": "markdown",
   "metadata": {},
   "source": [
    "<style  type=\"text/css\"> \n",
    "</style>\n",
    "\n",
    "<b><center>\n",
    "<span style=\"font-size: 24pt; line-height: 1.2\">\n",
    "COMS W4111-003/V003 (Fall 2022)<br>Introduction to Databases\n",
    "</span>\n",
    "</center></b>\n",
    "</span><br>\n",
    "<p>\n",
    "<i><center>\n",
    "<span style=\"font-size: 20pt; line-height: 1.2\">\n",
    "Homework 3: Programming and Non-Programming Tracks\n",
    "</span>\n",
    "</center></i>"
   ]
  },
  {
   "cell_type": "markdown",
   "metadata": {},
   "source": [
    "__Note:__ Please replace the information below with your last name, first name and UNI.<br><br>\n",
    "\n",
    "\n",
    "\n",
    "<i>\n",
    "<span style=\"font-size: 20pt; line-height: 1.2\"; >\n",
    "Zhou_Wei, wz2547\n",
    "</span>\n",
    "</i>"
   ]
  },
  {
   "cell_type": "markdown",
   "metadata": {},
   "source": [
    "## Introduction\n",
    "\n",
    "### Objectives\n",
    "\n",
    "\n",
    "### Submission\n",
    "1. File > Download as > PDF via latex (.PDF) (Use the \"File\" menu option on the Jupyter notebook tool bar, not the option on the browser tool bar).\n",
    "2. Upload .pdf and .ipynb to GradeScope\n",
    "\n",
    "**This assignment is due December 7, 11:59 pm EDT**\n",
    "\n",
    "\n",
    "### Collaboration\n",
    "- You may use any information you get in TA or Prof. Ferguson's office hours, from lectures or from recitations.\n",
    "- You may use information that you find on the web.\n",
    "- You are NOT allowed to collaborate with other students outside of office hours.\n"
   ]
  },
  {
   "cell_type": "markdown",
   "metadata": {},
   "source": [
    "# Part A: Written Questions"
   ]
  },
  {
   "cell_type": "markdown",
   "metadata": {},
   "source": [
    "## W1: Disk Performance\n",
    "\n",
    "__Question:__\n",
    "\n",
    "Some databases use magnetic disks in a way that only setors in outer traks are\n",
    "used, while setors in inner traks are left unused. What might be the benefits\n",
    "of doing so?"
   ]
  },
  {
   "cell_type": "markdown",
   "metadata": {},
   "source": [
    "__Answer:__"
   ]
  },
  {
   "cell_type": "markdown",
   "metadata": {},
   "source": [
    "The outer tracks have the higher data transfer rate than the inner tracks. This is because the sectors in outer tracks are more dense than the inner tracks. Database will want to retrieve from and store the data to the disk quickly."
   ]
  },
  {
   "cell_type": "markdown",
   "metadata": {},
   "source": [
    "## W2: RAID\n",
    "\n",
    "__Question:__\n",
    "\n",
    "Briefly explain RAID-0, RAID-1 and RAID-5. Briefly explain pros and cons."
   ]
  },
  {
   "cell_type": "markdown",
   "metadata": {},
   "source": [
    "__Answer:__"
   ]
  },
  {
   "cell_type": "markdown",
   "metadata": {},
   "source": [
    "RAID-0: consists of striping, without mirroring or parity. It is fast and have more space, but it is not reliable since no replicate data being stored or backup strategy used. \n",
    "\n",
    "RAID-1: consists of data mirroring, without parity or striping. It is reliable since the data is replicated, but it reduece the disk utilization rate. In addition, the mirroring step increase the load.\n",
    "\n",
    "RAID-5: consists of block-level striping with distributed parity. It improved performance through parallelism. The distributed parity ensures data recovery. However, the rebuild times is long and process is complex. If another disk fails during the rebuild, then data is lost forever.\n"
   ]
  },
  {
   "cell_type": "markdown",
   "metadata": {},
   "source": [
    "## W3: Storage Hierarchy\n",
    "\n",
    "__Question:__\n",
    "\n",
    "Briefly explain the following levels of the storage hierarchy.\n",
    "- Cache\n",
    "- Main memory\n",
    "- Disk"
   ]
  },
  {
   "cell_type": "markdown",
   "metadata": {},
   "source": [
    "__Answer:__"
   ]
  },
  {
   "cell_type": "markdown",
   "metadata": {},
   "source": [
    "The cost per bit is increase in this order: Disk, Main memory, Cache.\n",
    "\n",
    "The capacity and access time decrease in this order: Disk, Main memory, Cache.\n",
    "\n",
    "Cache is high-speed memory. It acts as a buffer between RAM and CPU. It is a smaller and faster memory that stores copies of the data from frequently used main memory locations.\n",
    "\n",
    "Main Memory is where programs and data are kept when the processor is actively using them. \n",
    "\n",
    "Cache and main memory are called primary storage, fastest but volotile. Disk are secondary storage, non-volatile, moderately fast access time."
   ]
  },
  {
   "cell_type": "markdown",
   "metadata": {},
   "source": [
    "## W4: Disks\n",
    "\n",
    "__Question:__\n",
    "\n",
    "Compare the pros and cons of hard disks versus SSDs."
   ]
  },
  {
   "cell_type": "markdown",
   "metadata": {},
   "source": [
    "__Answer:__"
   ]
  },
  {
   "cell_type": "markdown",
   "metadata": {},
   "source": [
    "Hard disks is cheaper than SSDs, but it is power-hungry, generate noise, produce heat and don't work as fast as SSD. \n",
    "SSDs are faster to start up, faster to shut down and faster to transfer data than hard disks. SSDs can be smaller and use less power than hard drives. SSDs can also be more reliable than than hard disks since they're not mechanical. "
   ]
  },
  {
   "cell_type": "markdown",
   "metadata": {},
   "source": [
    "## W4: Disk Addressing\n",
    "\n",
    "__Question:__\n",
    "\n",
    "Briefly explain cylinder-sector-head addressing and logical block addressing."
   ]
  },
  {
   "cell_type": "markdown",
   "metadata": {},
   "source": [
    "__Answer:__"
   ]
  },
  {
   "cell_type": "markdown",
   "metadata": {},
   "source": [
    "Cylinder-sector-head addressing is used for early hard disk. It has three parameters, head number, cylinder number, and sector number. The biggest addressing hard disk is limited. The early hard disk with different densities on different tracks wastes a lot of disk space. Since the sectors on the outer tracks are more than the inner tracks, the hard disk drive has no real CHS value. Thus, CHS addressing is replaced by logical block addressing, which performs by sectors. With a certain rule, the logical block addressing coverts all the CHS serial numbers into logical linear serial numbers. The hard drive controller will convert the logical address into physical address while accessing the hard disk, which can greatly improve the system efficiency."
   ]
  },
  {
   "cell_type": "markdown",
   "metadata": {},
   "source": [
    "## W5: Record Management\n",
    "\n",
    "__Question:__\n",
    "\n",
    "Briefly explain the concepts of fixed length records and variable length records. What are some complexities that variable length records introduce?"
   ]
  },
  {
   "cell_type": "markdown",
   "metadata": {},
   "source": [
    "__Answer:__"
   ]
  },
  {
   "cell_type": "markdown",
   "metadata": {},
   "source": [
    "Fixed length records: all the records are exactly the same length.\n",
    "\n",
    "Variable length records: the length of each record varies. \n",
    "\n",
    "Files must be scanned to locate the Nth record. It is expensive to locate the specific records within a file or specific fields within records."
   ]
  },
  {
   "cell_type": "markdown",
   "metadata": {},
   "source": [
    "## W6: File Organization\n",
    "\n",
    "__Question:__\n",
    "\n",
    "Briefly explain and compare heap file organization and sequential file organization."
   ]
  },
  {
   "cell_type": "markdown",
   "metadata": {},
   "source": [
    "__Answer:__"
   ]
  },
  {
   "cell_type": "markdown",
   "metadata": {},
   "source": [
    "Heap file organization: record can be placed anywhere in the file where there is space. It is important to find free space in the file. \n",
    "\n",
    "Sequential: store records in sequential order, based on the value of the search key of each record. It is suitable for application that require sequential processing of the entire file. The records in the file is ordered by search-key, most by primary key. It uses pointer chains to delete and insert values."
   ]
  },
  {
   "cell_type": "markdown",
   "metadata": {},
   "source": [
    "## W7: Buffer Pool\n",
    "\n",
    "__Question:__\n",
    "\n",
    "What type of query might benefit from using most-recently-used eviction policy for buffer pool management?"
   ]
  },
  {
   "cell_type": "markdown",
   "metadata": {},
   "source": [
    "__Answer:__"
   ]
  },
  {
   "cell_type": "markdown",
   "metadata": {},
   "source": [
    "MRU is useful in situations where the older record is, the more likely to be accessed. When a file is being repeatly scanned in a loop reference pattern, such as join, MRU is the best replacement algorithm."
   ]
  },
  {
   "cell_type": "markdown",
   "metadata": {},
   "source": [
    "## W8: Row versus Column Storage\n",
    "\n",
    "__Question:__\n",
    "\n",
    "For which types of queries are column oriented storage beneficial?"
   ]
  },
  {
   "cell_type": "markdown",
   "metadata": {},
   "source": [
    "__Answer:__"
   ]
  },
  {
   "cell_type": "markdown",
   "metadata": {},
   "source": [
    "Column oriented storage is powerful for OLAP. For example, it can benefit BI scenaires, such as aggregation operations(SUM, AVG) and project."
   ]
  },
  {
   "cell_type": "markdown",
   "metadata": {},
   "source": [
    "## W9: Multi-table Clustering\n",
    "\n",
    "__Question:__\n",
    "\n",
    "For which types of queries might multi-table clustering be useful?"
   ]
  },
  {
   "cell_type": "markdown",
   "metadata": {},
   "source": [
    "__Answer:__"
   ]
  },
  {
   "cell_type": "markdown",
   "metadata": {},
   "source": [
    "In a multi-table index cluster, related table rows are grouped together to reduce disk I/O. Thus, the frequent join would be useful to use multi-table clustering."
   ]
  },
  {
   "cell_type": "markdown",
   "metadata": {},
   "source": [
    "## W10: Indexes\n",
    "\n",
    "__Question:__\n",
    "\n",
    "Briefly explain and give the pros and cons of B+ tree indexes and hash indexes."
   ]
  },
  {
   "cell_type": "markdown",
   "metadata": {},
   "source": [
    "__Answer:__"
   ]
  },
  {
   "cell_type": "markdown",
   "metadata": {},
   "source": [
    "B+ tree:\n",
    "\n",
    "    Pros: \n",
    "\n",
    "- Ordered storage even with insert/deletes, the tree will update for insertion and deletion and keep the structure the same.\n",
    "- Some searches are faster.\n",
    "\n",
    "    Cons:\n",
    "    \n",
    "- Leaf and non-leaf nodes are of different size, making storage complicate\n",
    "- Deletion may occur in ono-leaf node, making it complicate\n",
    "\n",
    "Hash Index:\n",
    "\n",
    "    Pros:\n",
    "    \n",
    "- Allow fast access when retrieving the record by the key value. \n",
    "- It is useful for queries with an equality condition\n",
    "\n",
    "    Cons:\n",
    "- For the same key, the overflow may be large\n",
    "- Hash indexes can only satisfy \"=\", \"in\" and \"<=>\" queries, and cannot use range queries\n",
    "- Hash index cannot be used to avoid sorting operations on data"
   ]
  },
  {
   "cell_type": "markdown",
   "metadata": {},
   "source": [
    "## W11: Clustered Index\n",
    "\n",
    "__Question:__\n",
    "\n",
    "Why can there be only one clustered index for a database table?"
   ]
  },
  {
   "cell_type": "markdown",
   "metadata": {},
   "source": [
    "__Answer:__"
   ]
  },
  {
   "cell_type": "markdown",
   "metadata": {},
   "source": [
    "It is because the data rows themselves can be stored in only one order."
   ]
  },
  {
   "cell_type": "markdown",
   "metadata": {},
   "source": [
    "## W12: Composite Indexes\n",
    "\n",
    "__Question:__\n",
    "\n",
    "Consider a table with columns:\n",
    "1. ```lastname```\n",
    "2. ```firstname```\n",
    "\n",
    "Assume common look ups were by ```firstname``` and ```lastname``` together, or just by ```lastname.``` What would be a disadvantage of creating an index on ```firstname```?"
   ]
  },
  {
   "cell_type": "markdown",
   "metadata": {},
   "source": [
    "__Answer:__"
   ]
  },
  {
   "cell_type": "markdown",
   "metadata": {},
   "source": [
    "It took storage space and not useful since it usually look ups by firstname and lastname together or just by lastname. It also affect the performance of writes and slower data modification"
   ]
  },
  {
   "cell_type": "markdown",
   "metadata": {},
   "source": [
    "## W13: Query Optimization\n",
    "\n",
    "__Question:__\n",
    "\n",
    "Explain the concept of equivalent queries and their importance for query optimization."
   ]
  },
  {
   "cell_type": "markdown",
   "metadata": {},
   "source": [
    "__Answer:__"
   ]
  },
  {
   "cell_type": "markdown",
   "metadata": {},
   "source": [
    "SQL queries are semantically equivalent if they produce the same results given any valid input relations. Query optimization choose the amongst all equivalent queries with the lowest cost"
   ]
  },
  {
   "cell_type": "markdown",
   "metadata": {},
   "source": [
    "## W14: Operator Implementation\n",
    "\n",
    "__Question:__\n",
    "\n",
    "There are many possible algorithms for implementing a specific operator, e.g. JOIN. Give a scenario where a Sort-Merge Join is better than a hash join, and vice versa."
   ]
  },
  {
   "cell_type": "markdown",
   "metadata": {},
   "source": [
    "__Answer:__"
   ]
  },
  {
   "cell_type": "markdown",
   "metadata": {},
   "source": []
  },
  {
   "cell_type": "markdown",
   "metadata": {},
   "source": [
    "Sort-Merge Join is better than a hash join:\n",
    "\n",
    "    - When the joined tables are sorted on the join columns\n",
    "\n",
    "Hash join is better than a Sort-Merge Join: \n",
    "\n",
    "    - When the joined tables are not sorted on the join columns."
   ]
  },
  {
   "cell_type": "markdown",
   "metadata": {},
   "source": [
    "## W15: Optimizing via Index Creation\n",
    "\n",
    "__Question:__\n",
    "\n",
    "Consider a scenario in which the SQL statement is of the form ```SELECT DISTINCT c1, c2, c3 from T.``` Why might it make sense to create an index to optimize this query?"
   ]
  },
  {
   "cell_type": "markdown",
   "metadata": {},
   "source": [
    "__Answer:__"
   ]
  },
  {
   "cell_type": "markdown",
   "metadata": {},
   "source": [
    "The DISTINCT is to sort the output rows in order to find duplicates. If you put an index on the output columns, the engine can read them through index order and save sort step, so the speed will increase."
   ]
  },
  {
   "cell_type": "code",
   "execution_count": null,
   "metadata": {},
   "outputs": [],
   "source": []
  }
 ],
 "metadata": {
  "kernelspec": {
   "display_name": "Python 3 (ipykernel)",
   "language": "python",
   "name": "python3"
  },
  "language_info": {
   "codemirror_mode": {
    "name": "ipython",
    "version": 3
   },
   "file_extension": ".py",
   "mimetype": "text/x-python",
   "name": "python",
   "nbconvert_exporter": "python",
   "pygments_lexer": "ipython3",
   "version": "3.9.12"
  }
 },
 "nbformat": 4,
 "nbformat_minor": 4
}
