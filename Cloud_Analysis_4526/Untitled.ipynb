{
 "cells": [
  {
   "cell_type": "code",
   "execution_count": 1,
   "id": "b7572bac",
   "metadata": {},
   "outputs": [
    {
     "name": "stdout",
     "output_type": "stream",
     "text": [
      "4301367664\n",
      "4301367696\n"
     ]
    }
   ],
   "source": [
    "a = 3\n",
    "print(id(a))\n",
    "a = 4\n",
    "print(id(a))"
   ]
  },
  {
   "cell_type": "code",
   "execution_count": 19,
   "id": "6a5a39ee",
   "metadata": {},
   "outputs": [
    {
     "name": "stdout",
     "output_type": "stream",
     "text": [
      "4367650688\n",
      "4367615808\n"
     ]
    }
   ],
   "source": [
    "a = (['a','b'],'b')\n",
    "print(id(a))\n",
    "print(id(a[0]))"
   ]
  },
  {
   "cell_type": "code",
   "execution_count": 16,
   "id": "3b719b32",
   "metadata": {},
   "outputs": [
    {
     "data": {
      "text/plain": [
       "tuple"
      ]
     },
     "execution_count": 16,
     "metadata": {},
     "output_type": "execute_result"
    }
   ],
   "source": [
    "type(a)"
   ]
  },
  {
   "cell_type": "code",
   "execution_count": 17,
   "id": "604ed91f",
   "metadata": {},
   "outputs": [],
   "source": [
    "a[0][0] = 'b'"
   ]
  },
  {
   "cell_type": "code",
   "execution_count": 20,
   "id": "abaa8b1d",
   "metadata": {},
   "outputs": [
    {
     "name": "stdout",
     "output_type": "stream",
     "text": [
      "(['a', 'b'], 'b')\n",
      "4367650688\n",
      "4367615808\n"
     ]
    }
   ],
   "source": [
    "print(a)\n",
    "print(id(a))\n",
    "print(id(a[0]))"
   ]
  },
  {
   "cell_type": "code",
   "execution_count": 1,
   "id": "35685e46",
   "metadata": {},
   "outputs": [],
   "source": [
    "arr1 = [1,2,3,4,5]\n",
    "arr2 = map(lambda x:x*2,arr1)"
   ]
  },
  {
   "cell_type": "code",
   "execution_count": 2,
   "id": "4329b1f9",
   "metadata": {},
   "outputs": [
    {
     "data": {
      "text/plain": [
       "[2, 4, 6, 8, 10]"
      ]
     },
     "execution_count": 2,
     "metadata": {},
     "output_type": "execute_result"
    }
   ],
   "source": [
    "list(arr2)"
   ]
  },
  {
   "cell_type": "code",
   "execution_count": 6,
   "id": "202ef3c1",
   "metadata": {},
   "outputs": [],
   "source": [
    "class Dog:\n",
    "\n",
    "    def __init__(self, name, age):  \n",
    "        self.name = name\n",
    "        self.age = age\n",
    "\n",
    "    def bark(self):\n",
    "        print(\"bark bark!\")\n",
    "\n",
    "    def doginfo(self):\n",
    "        print(self.name + \" is \" + str(self.age) + \" year(s) old.\")\n",
    "\n",
    "    def birthday(self):\n",
    "        self.age +=1\n",
    "\n",
    "    def setBuddy(self, buddy):\n",
    "        self.buddy = buddy\n",
    "        buddy.buddy = self"
   ]
  },
  {
   "cell_type": "code",
   "execution_count": 8,
   "id": "92b0bd52",
   "metadata": {},
   "outputs": [],
   "source": [
    "ozzy = Dog(\"Ozzy\", 2)\n",
    "filou = Dog(\"Filou\", 8)\n",
    "\n",
    "ozzy.setBuddy(filou)"
   ]
  },
  {
   "cell_type": "code",
   "execution_count": 9,
   "id": "828551e6",
   "metadata": {},
   "outputs": [
    {
     "name": "stdout",
     "output_type": "stream",
     "text": [
      "Filou\n",
      "8\n"
     ]
    }
   ],
   "source": [
    "print(ozzy.buddy.name)\n",
    "print(ozzy.buddy.age)"
   ]
  },
  {
   "cell_type": "code",
   "execution_count": 10,
   "id": "789edca4",
   "metadata": {},
   "outputs": [
    {
     "name": "stdout",
     "output_type": "stream",
     "text": [
      "Ozzy\n",
      "2\n"
     ]
    }
   ],
   "source": [
    "print(filou.buddy.name)\n",
    "print(filou.buddy.age)"
   ]
  },
  {
   "cell_type": "code",
   "execution_count": 11,
   "id": "eec8e76e",
   "metadata": {},
   "outputs": [],
   "source": [
    "a = [1,\"2\"]"
   ]
  },
  {
   "cell_type": "code",
   "execution_count": 12,
   "id": "22d88551",
   "metadata": {},
   "outputs": [
    {
     "name": "stdout",
     "output_type": "stream",
     "text": [
      "[1, '2']\n"
     ]
    }
   ],
   "source": [
    "print(a)"
   ]
  },
  {
   "cell_type": "code",
   "execution_count": 23,
   "id": "ab683579",
   "metadata": {},
   "outputs": [],
   "source": [
    "b=(1,2)"
   ]
  },
  {
   "cell_type": "code",
   "execution_count": 24,
   "id": "af663504",
   "metadata": {},
   "outputs": [
    {
     "name": "stdout",
     "output_type": "stream",
     "text": [
      "<class 'int'>\n"
     ]
    }
   ],
   "source": [
    "print(type(b[0]))"
   ]
  },
  {
   "cell_type": "code",
   "execution_count": 20,
   "id": "889050d9",
   "metadata": {},
   "outputs": [],
   "source": [
    "b=(1,'2')"
   ]
  },
  {
   "cell_type": "code",
   "execution_count": 22,
   "id": "1bc7e734",
   "metadata": {},
   "outputs": [
    {
     "name": "stdout",
     "output_type": "stream",
     "text": [
      "<class 'int'>\n"
     ]
    }
   ],
   "source": [
    "print(type(b[0]))"
   ]
  },
  {
   "cell_type": "code",
   "execution_count": 34,
   "id": "cafd8d67",
   "metadata": {},
   "outputs": [],
   "source": [
    "a=[[1,2],2,3]"
   ]
  },
  {
   "cell_type": "code",
   "execution_count": 32,
   "id": "7b6a4941",
   "metadata": {},
   "outputs": [],
   "source": [
    "a=(1,2,(2,3))"
   ]
  },
  {
   "cell_type": "code",
   "execution_count": 35,
   "id": "0278b4cd",
   "metadata": {},
   "outputs": [],
   "source": [
    "a[2]=3"
   ]
  },
  {
   "cell_type": "code",
   "execution_count": 36,
   "id": "5d949be5",
   "metadata": {},
   "outputs": [
    {
     "data": {
      "text/plain": [
       "[[1, 2], 2, 3]"
      ]
     },
     "execution_count": 36,
     "metadata": {},
     "output_type": "execute_result"
    }
   ],
   "source": [
    "a"
   ]
  },
  {
   "cell_type": "code",
   "execution_count": 37,
   "id": "4e7d66a4",
   "metadata": {},
   "outputs": [
    {
     "data": {
      "text/plain": [
       "4645342208"
      ]
     },
     "execution_count": 37,
     "metadata": {},
     "output_type": "execute_result"
    }
   ],
   "source": [
    "a = ['a']\n",
    "id(a)"
   ]
  },
  {
   "cell_type": "code",
   "execution_count": 38,
   "id": "ba2cad20",
   "metadata": {},
   "outputs": [
    {
     "data": {
      "text/plain": [
       "4385906416"
      ]
     },
     "execution_count": 38,
     "metadata": {},
     "output_type": "execute_result"
    }
   ],
   "source": [
    "id(a[0])"
   ]
  },
  {
   "cell_type": "code",
   "execution_count": 39,
   "id": "5af1f23c",
   "metadata": {},
   "outputs": [
    {
     "data": {
      "text/plain": [
       "4645298112"
      ]
     },
     "execution_count": 39,
     "metadata": {},
     "output_type": "execute_result"
    }
   ],
   "source": [
    "b=['a']\n",
    "id(b)"
   ]
  },
  {
   "cell_type": "code",
   "execution_count": 41,
   "id": "3b7dec4d",
   "metadata": {},
   "outputs": [
    {
     "data": {
      "text/plain": [
       "4385906416"
      ]
     },
     "execution_count": 41,
     "metadata": {},
     "output_type": "execute_result"
    }
   ],
   "source": [
    "id(b[0])"
   ]
  },
  {
   "cell_type": "code",
   "execution_count": 48,
   "id": "9b67a04f",
   "metadata": {},
   "outputs": [],
   "source": [
    "a = (1,)\n",
    "b= a\n",
    "b=b+(2,)"
   ]
  },
  {
   "cell_type": "code",
   "execution_count": 49,
   "id": "d7900bd9",
   "metadata": {},
   "outputs": [
    {
     "data": {
      "text/plain": [
       "(1,)"
      ]
     },
     "execution_count": 49,
     "metadata": {},
     "output_type": "execute_result"
    }
   ],
   "source": [
    "a"
   ]
  },
  {
   "cell_type": "code",
   "execution_count": 50,
   "id": "58578a55",
   "metadata": {},
   "outputs": [
    {
     "data": {
      "text/plain": [
       "(1, 2)"
      ]
     },
     "execution_count": 50,
     "metadata": {},
     "output_type": "execute_result"
    }
   ],
   "source": [
    "b"
   ]
  },
  {
   "cell_type": "code",
   "execution_count": 54,
   "id": "6dea4b6d",
   "metadata": {},
   "outputs": [],
   "source": [
    "a = [1]\n",
    "b= a\n",
    "b.append(2)"
   ]
  },
  {
   "cell_type": "code",
   "execution_count": 55,
   "id": "23776dee",
   "metadata": {},
   "outputs": [
    {
     "data": {
      "text/plain": [
       "[1, 2]"
      ]
     },
     "execution_count": 55,
     "metadata": {},
     "output_type": "execute_result"
    }
   ],
   "source": [
    "a"
   ]
  },
  {
   "cell_type": "code",
   "execution_count": 56,
   "id": "a9350f24",
   "metadata": {},
   "outputs": [
    {
     "data": {
      "text/plain": [
       "[1, 2]"
      ]
     },
     "execution_count": 56,
     "metadata": {},
     "output_type": "execute_result"
    }
   ],
   "source": [
    "b"
   ]
  },
  {
   "cell_type": "code",
   "execution_count": 59,
   "id": "3a87860b",
   "metadata": {},
   "outputs": [],
   "source": [
    "a = [1]\n",
    "a.extend([2,3])"
   ]
  },
  {
   "cell_type": "code",
   "execution_count": 60,
   "id": "b6370aa5",
   "metadata": {},
   "outputs": [
    {
     "data": {
      "text/plain": [
       "[1, 2, 3]"
      ]
     },
     "execution_count": 60,
     "metadata": {},
     "output_type": "execute_result"
    }
   ],
   "source": [
    "a"
   ]
  },
  {
   "cell_type": "code",
   "execution_count": 78,
   "id": "555156c8",
   "metadata": {},
   "outputs": [
    {
     "data": {
      "text/plain": [
       "64"
      ]
     },
     "execution_count": 78,
     "metadata": {},
     "output_type": "execute_result"
    }
   ],
   "source": [
    "from sys import getsizeof\n",
    "a = [1]\n",
    "getsizeof(a)"
   ]
  },
  {
   "cell_type": "code",
   "execution_count": 79,
   "id": "c71b449c",
   "metadata": {},
   "outputs": [
    {
     "data": {
      "text/plain": [
       "28"
      ]
     },
     "execution_count": 79,
     "metadata": {},
     "output_type": "execute_result"
    }
   ],
   "source": [
    "getsizeof(a[0])"
   ]
  },
  {
   "cell_type": "code",
   "execution_count": 68,
   "id": "226e430d",
   "metadata": {},
   "outputs": [
    {
     "data": {
      "text/plain": [
       "53"
      ]
     },
     "execution_count": 68,
     "metadata": {},
     "output_type": "execute_result"
    }
   ],
   "source": [
    "getsizeof(a[1])"
   ]
  },
  {
   "cell_type": "code",
   "execution_count": 87,
   "id": "a164dbc9",
   "metadata": {},
   "outputs": [
    {
     "name": "stdout",
     "output_type": "stream",
     "text": [
      "2\n",
      "[1, 1]\n"
     ]
    }
   ],
   "source": [
    "a=[1,2,1]\n",
    "print(a.pop(1))\n",
    "print(a)"
   ]
  },
  {
   "cell_type": "code",
   "execution_count": 146,
   "id": "f7258d9a",
   "metadata": {},
   "outputs": [],
   "source": [
    "class Node:\n",
    "    \n",
    "    def __init__(self, val):\n",
    "        self.val = val\n",
    "        self.next = None\n",
    "\n",
    "\n",
    "class MyLinkedList:\n",
    "\n",
    "    def __init__(self):\n",
    "        self._head = Node(0)  # 虚拟头部节点\n",
    "        self._count = 0  # 添加的节点数\n",
    "\n",
    "    def get(self, index: int) -> int:\n",
    "        \"\"\"\n",
    "        Get the value of the index-th node in the linked list. If the index is invalid, return -1.\n",
    "        \"\"\"\n",
    "        if 0 <= index < self._count:\n",
    "            node = self._head\n",
    "            for _ in range(index + 1):\n",
    "                node = node.next\n",
    "            return node.val\n",
    "        else:\n",
    "            return -1\n",
    "\n",
    "    def addAtHead(self, val: int) -> None:\n",
    "        \"\"\"\n",
    "        Add a node of value val before the first element of the linked list. After the insertion, the new node will be the first node of the linked list.\n",
    "        \"\"\"\n",
    "        self.addAtIndex(0, val)\n",
    "\n",
    "    def addAtTail(self, val: int) -> None:\n",
    "        \"\"\"\n",
    "        Append a node of value val to the last element of the linked list.\n",
    "        \"\"\"\n",
    "        self.addAtIndex(self._count, val)\n",
    "\n",
    "    def addAtIndex(self, index: int, val: int) -> None:\n",
    "        \"\"\"\n",
    "        Add a node of value val before the index-th node in the linked list. If index equals to the length of linked list, the node will be appended to the end of linked list. If index is greater than the length, the node will not be inserted.\n",
    "        \"\"\"\n",
    "        if index < 0:\n",
    "            index = 0\n",
    "        elif index > self._count:\n",
    "            return\n",
    "\n",
    "        # 计数累加\n",
    "        self._count += 1\n",
    "\n",
    "        add_node = Node(val)\n",
    "        prev_node, current_node = None, self._head\n",
    "        for _ in range(index + 1):\n",
    "            prev_node, current_node = current_node, current_node.next #traverse\n",
    "        else:\n",
    "            prev_node.next, add_node.next = add_node, current_node\n",
    "\n",
    "    def deleteAtIndex(self, index: int) -> None:\n",
    "        \"\"\"\n",
    "        Delete the index-th node in the linked list, if the index is valid.\n",
    "        \"\"\"\n",
    "        if 0 <= index < self._count:\n",
    "            # 计数-1\n",
    "            self._count -= 1\n",
    "            prev_node, current_node = None, self._head\n",
    "            for _ in range(index + 1):\n",
    "                prev_node, current_node = current_node, current_node.next\n",
    "            else:\n",
    "                prev_node.next, current_node.next = current_node.next, None\n"
   ]
  },
  {
   "cell_type": "code",
   "execution_count": null,
   "id": "b2a28532",
   "metadata": {},
   "outputs": [],
   "source": [
    "newest.next,L.head = L.head,newest"
   ]
  },
  {
   "cell_type": "code",
   "execution_count": 147,
   "id": "b6e14f45",
   "metadata": {},
   "outputs": [],
   "source": [
    "a = MyLinkedList()"
   ]
  },
  {
   "cell_type": "code",
   "execution_count": 149,
   "id": "95246f03",
   "metadata": {},
   "outputs": [
    {
     "name": "stdout",
     "output_type": "stream",
     "text": [
      "0\n"
     ]
    }
   ],
   "source": [
    "# a.addAtIndex(0,3)\n",
    "a.addAtHead(3)\n",
    "a.addAtIndex(1,4)"
   ]
  },
  {
   "cell_type": "code",
   "execution_count": 133,
   "id": "0ac34147",
   "metadata": {},
   "outputs": [
    {
     "data": {
      "text/plain": [
       "4"
      ]
     },
     "execution_count": 133,
     "metadata": {},
     "output_type": "execute_result"
    }
   ],
   "source": [
    "a.get(1)"
   ]
  },
  {
   "cell_type": "code",
   "execution_count": 134,
   "id": "e23ca87c",
   "metadata": {},
   "outputs": [
    {
     "data": {
      "text/plain": [
       "3"
      ]
     },
     "execution_count": 134,
     "metadata": {},
     "output_type": "execute_result"
    }
   ],
   "source": [
    "a.get(0)"
   ]
  },
  {
   "cell_type": "code",
   "execution_count": 135,
   "id": "374b7979",
   "metadata": {},
   "outputs": [
    {
     "data": {
      "text/plain": [
       "0"
      ]
     },
     "execution_count": 135,
     "metadata": {},
     "output_type": "execute_result"
    }
   ],
   "source": [
    "a._head.val"
   ]
  },
  {
   "cell_type": "code",
   "execution_count": 142,
   "id": "cf0b8096",
   "metadata": {},
   "outputs": [
    {
     "name": "stdout",
     "output_type": "stream",
     "text": [
      "if\n",
      "another\n",
      "0\n",
      "in\n"
     ]
    }
   ],
   "source": [
    "add last(L,e):\n",
    "newest = Node(e) \n",
    "newest.next = None \n",
    "L.tail.next = newest \n",
    "L.tail = newest \n",
    "# L.size = L.size + 1"
   ]
  },
  {
   "cell_type": "code",
   "execution_count": null,
   "id": "8f5f4a4e",
   "metadata": {},
   "outputs": [],
   "source": []
  }
 ],
 "metadata": {
  "kernelspec": {
   "display_name": "Python 3 (ipykernel)",
   "language": "python",
   "name": "python3"
  },
  "language_info": {
   "codemirror_mode": {
    "name": "ipython",
    "version": 3
   },
   "file_extension": ".py",
   "mimetype": "text/x-python",
   "name": "python",
   "nbconvert_exporter": "python",
   "pygments_lexer": "ipython3",
   "version": "3.9.12"
  }
 },
 "nbformat": 4,
 "nbformat_minor": 5
}
