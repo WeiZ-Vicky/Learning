{
 "cells": [
  {
   "cell_type": "code",
   "execution_count": 11,
   "id": "8634e4d6",
   "metadata": {},
   "outputs": [
    {
     "data": {
      "text/plain": [
       "foo: ()Int\n"
      ]
     },
     "execution_count": 11,
     "metadata": {},
     "output_type": "execute_result"
    }
   ],
   "source": [
    "def foo()={\n",
    "    val x=1 //return nothing\n",
    "    x\n",
    "}\n"
   ]
  },
  {
   "cell_type": "code",
   "execution_count": 10,
   "id": "5f35f445",
   "metadata": {},
   "outputs": [
    {
     "data": {
      "text/plain": [
       "res3: Int = 1\n"
      ]
     },
     "execution_count": 10,
     "metadata": {},
     "output_type": "execute_result"
    }
   ],
   "source": [
    "foo()"
   ]
  },
  {
   "cell_type": "code",
   "execution_count": 12,
   "id": "0f7e7e73",
   "metadata": {},
   "outputs": [
    {
     "data": {
      "text/plain": [
       "g: [A, B, C](f: (A, B) => C)A => (B => C)\n",
       "f: (a: String, b: Int)Double\n"
      ]
     },
     "execution_count": 12,
     "metadata": {},
     "output_type": "execute_result"
    }
   ],
   "source": [
    "def g[A,B,C](f: (A,B) => C): A => (B => C) =a => b => f(a,b)\n",
    "\n",
    "def f(a: String, b: Int): Double =  a.length/b.toFloat"
   ]
  },
  {
   "cell_type": "code",
   "execution_count": 13,
   "id": "b2bf094d",
   "metadata": {},
   "outputs": [
    {
     "data": {
      "text/plain": [
       "res4: String => (Int => Double) = $Lambda$2081/0x0000000800d88040@6f0f1c41\n"
      ]
     },
     "execution_count": 13,
     "metadata": {},
     "output_type": "execute_result"
    }
   ],
   "source": [
    "g(f) "
   ]
  },
  {
   "cell_type": "code",
   "execution_count": 6,
   "id": "90241170",
   "metadata": {},
   "outputs": [
    {
     "data": {
      "text/plain": [
       "abs: (n: Int)Int\n"
      ]
     },
     "execution_count": 6,
     "metadata": {},
     "output_type": "execute_result"
    }
   ],
   "source": [
    "def abs(n:Int) = \n",
    "    if (n>=0) n\n",
    "    else -n\n"
   ]
  },
  {
   "cell_type": "code",
   "execution_count": 7,
   "id": "08f11a91",
   "metadata": {},
   "outputs": [
    {
     "data": {
      "text/plain": [
       "res2: Int = 4\n"
      ]
     },
     "execution_count": 7,
     "metadata": {},
     "output_type": "execute_result"
    }
   ],
   "source": [
    "abs(4)"
   ]
  },
  {
   "cell_type": "code",
   "execution_count": 11,
   "id": "aaabdce3",
   "metadata": {},
   "outputs": [
    {
     "data": {
      "text/plain": [
       "fac: (n: Int)Int\n"
      ]
     },
     "execution_count": 11,
     "metadata": {},
     "output_type": "execute_result"
    }
   ],
   "source": [
    "def fac(n:Int):Int = {\n",
    "    if (n==1) 1\n",
    "    else fac(n-1)*n\n",
    "}"
   ]
  },
  {
   "cell_type": "code",
   "execution_count": 13,
   "id": "71b2c028",
   "metadata": {},
   "outputs": [
    {
     "data": {
      "text/plain": [
       "res6: Int = 24\n"
      ]
     },
     "execution_count": 13,
     "metadata": {},
     "output_type": "execute_result"
    }
   ],
   "source": [
    "fac(4)"
   ]
  },
  {
   "cell_type": "code",
   "execution_count": 8,
   "id": "07e0144f",
   "metadata": {},
   "outputs": [
    {
     "data": {
      "text/plain": [
       "fb: (n: Int)Int\n"
      ]
     },
     "execution_count": 8,
     "metadata": {},
     "output_type": "execute_result"
    }
   ],
   "source": [
    "def fb(n:Int):Int = {\n",
    "    if (n==0) 0\n",
    "    else if (n==1) 1\n",
    "    else fb(n-1)+fb(n-2)\n",
    "}"
   ]
  },
  {
   "cell_type": "code",
   "execution_count": 10,
   "id": "2eb9d890",
   "metadata": {},
   "outputs": [
    {
     "data": {
      "text/plain": [
       "res4: Int = 3\n"
      ]
     },
     "execution_count": 10,
     "metadata": {},
     "output_type": "execute_result"
    }
   ],
   "source": [
    "fb(4)"
   ]
  },
  {
   "cell_type": "code",
   "execution_count": 17,
   "id": "5ff71385",
   "metadata": {},
   "outputs": [
    {
     "data": {
      "text/plain": [
       "tfac: (n: Int)Int\n"
      ]
     },
     "execution_count": 17,
     "metadata": {},
     "output_type": "execute_result"
    }
   ],
   "source": [
    "def tfac(n:Int):Int = {\n",
    "    def loop(acc:Int,n:Int):Int = {\n",
    "        if (n<=1) acc\n",
    "        else {\n",
    "            loop(acc*n,n-1)\n",
    "        }\n",
    "    }\n",
    "    loop(1,n)\n",
    "}"
   ]
  },
  {
   "cell_type": "code",
   "execution_count": 19,
   "id": "d304ed4e",
   "metadata": {},
   "outputs": [
    {
     "data": {
      "text/plain": [
       "res8: Int = 1\n"
      ]
     },
     "execution_count": 19,
     "metadata": {},
     "output_type": "execute_result"
    }
   ],
   "source": [
    "tfac(1)"
   ]
  },
  {
   "cell_type": "code",
   "execution_count": 20,
   "id": "6c7e96c5",
   "metadata": {},
   "outputs": [
    {
     "data": {
      "text/plain": [
       "tfb: (n: Int)Int\n"
      ]
     },
     "execution_count": 20,
     "metadata": {},
     "output_type": "execute_result"
    }
   ],
   "source": [
    "def tfb(n:Int):Int = {\n",
    "    def loop(a1:Int,a2:Int,n:Int):Int = {\n",
    "        if (n==0) a1\n",
    "        else {\n",
    "            loop(a2,a1+a2,n-1)\n",
    "        }\n",
    "    }\n",
    "    loop(0,1,n)\n",
    "}"
   ]
  },
  {
   "cell_type": "code",
   "execution_count": 21,
   "id": "8c8e3985",
   "metadata": {},
   "outputs": [
    {
     "data": {
      "text/plain": [
       "res9: Int = 3\n"
      ]
     },
     "execution_count": 21,
     "metadata": {},
     "output_type": "execute_result"
    }
   ],
   "source": [
    "tfb(4)"
   ]
  },
  {
   "cell_type": "code",
   "execution_count": 22,
   "id": "15ce9348",
   "metadata": {},
   "outputs": [
    {
     "data": {
      "text/plain": [
       "foo: Int => Boolean = $Lambda$2073/0x000000080023e040@4ba268dd\n"
      ]
     },
     "execution_count": 22,
     "metadata": {},
     "output_type": "execute_result"
    }
   ],
   "source": [
    "var foo = (x:Int) => x==5"
   ]
  },
  {
   "cell_type": "code",
   "execution_count": 23,
   "id": "98d83202",
   "metadata": {},
   "outputs": [
    {
     "data": {
      "text/plain": [
       "res10: Boolean = false\n"
      ]
     },
     "execution_count": 23,
     "metadata": {},
     "output_type": "execute_result"
    }
   ],
   "source": [
    "foo(4)"
   ]
  },
  {
   "cell_type": "code",
   "execution_count": 25,
   "id": "aeb479f9",
   "metadata": {},
   "outputs": [
    {
     "data": {
      "text/plain": [
       "i: Int => Int = $Lambda$2077/0x0000000800d8f040@2372b37c\n"
      ]
     },
     "execution_count": 25,
     "metadata": {},
     "output_type": "execute_result"
    }
   ],
   "source": [
    "val i = (i:Int) => {println(i);if(i==3) i+1 else i}"
   ]
  },
  {
   "cell_type": "code",
   "execution_count": 27,
   "id": "0880108f",
   "metadata": {},
   "outputs": [
    {
     "name": "stdout",
     "output_type": "stream",
     "text": [
      "4\n"
     ]
    },
    {
     "data": {
      "text/plain": [
       "res12: Int = 4\n"
      ]
     },
     "execution_count": 27,
     "metadata": {},
     "output_type": "execute_result"
    }
   ],
   "source": [
    "i(4)"
   ]
  },
  {
   "cell_type": "code",
   "execution_count": 31,
   "id": "16430665",
   "metadata": {},
   "outputs": [
    {
     "name": "stdout",
     "output_type": "stream",
     "text": [
      "3\n"
     ]
    },
    {
     "data": {
      "text/plain": [
       "res14: Int = 4\n"
      ]
     },
     "execution_count": 31,
     "metadata": {},
     "output_type": "execute_result"
    }
   ],
   "source": [
    "i(3)"
   ]
  },
  {
   "cell_type": "code",
   "execution_count": 35,
   "id": "bb4ef61f",
   "metadata": {},
   "outputs": [
    {
     "data": {
      "text/plain": [
       "a: List[Int] = List(1, 23, 2)\n",
       "res18: Int = 23\n"
      ]
     },
     "execution_count": 35,
     "metadata": {},
     "output_type": "execute_result"
    }
   ],
   "source": [
    "val a = List(1,23,2)\n",
    "a(1)"
   ]
  },
  {
   "cell_type": "code",
   "execution_count": 36,
   "id": "afd8ae32",
   "metadata": {},
   "outputs": [
    {
     "data": {
      "text/plain": [
       "res19: Int = 1\n"
      ]
     },
     "execution_count": 36,
     "metadata": {},
     "output_type": "execute_result"
    }
   ],
   "source": [
    "a.head"
   ]
  },
  {
   "cell_type": "code",
   "execution_count": 37,
   "id": "c32f47a6",
   "metadata": {},
   "outputs": [
    {
     "data": {
      "text/plain": [
       "res20: List[Int] = List(23, 2)\n"
      ]
     },
     "execution_count": 37,
     "metadata": {},
     "output_type": "execute_result"
    }
   ],
   "source": [
    "a.tail"
   ]
  },
  {
   "cell_type": "code",
   "execution_count": 38,
   "id": "88bddc1a",
   "metadata": {},
   "outputs": [
    {
     "data": {
      "text/plain": [
       "a: Seq[Int] = List(1, 2)\n"
      ]
     },
     "execution_count": 38,
     "metadata": {},
     "output_type": "execute_result"
    }
   ],
   "source": [
    "val a = Seq(1,2)"
   ]
  },
  {
   "cell_type": "code",
   "execution_count": 39,
   "id": "761cb459",
   "metadata": {},
   "outputs": [
    {
     "data": {
      "text/plain": [
       "res21: Class[_ <: Seq[Int]] = class scala.collection.immutable.$colon$colon\n"
      ]
     },
     "execution_count": 39,
     "metadata": {},
     "output_type": "execute_result"
    }
   ],
   "source": [
    "a.getClass"
   ]
  },
  {
   "cell_type": "code",
   "execution_count": 40,
   "id": "d38ad34b",
   "metadata": {},
   "outputs": [
    {
     "data": {
      "text/plain": [
       "seq: Seq[Int] = List(1, 2, 3, 4, 5)\n"
      ]
     },
     "execution_count": 40,
     "metadata": {},
     "output_type": "execute_result"
    }
   ],
   "source": [
    "val seq: Seq[Int] = Seq(1, 2, 3, 4, 5)"
   ]
  },
  {
   "cell_type": "code",
   "execution_count": 41,
   "id": "859e44ff",
   "metadata": {},
   "outputs": [
    {
     "data": {
      "text/plain": [
       "res22: Class[_ <: Seq[Int]] = class scala.collection.immutable.$colon$colon\n"
      ]
     },
     "execution_count": 41,
     "metadata": {},
     "output_type": "execute_result"
    }
   ],
   "source": [
    "seq.getClass"
   ]
  },
  {
   "cell_type": "code",
   "execution_count": 42,
   "id": "79b84507",
   "metadata": {},
   "outputs": [
    {
     "data": {
      "text/plain": [
       "res23: Int = 2\n"
      ]
     },
     "execution_count": 42,
     "metadata": {},
     "output_type": "execute_result"
    }
   ],
   "source": [
    "seq(1)"
   ]
  },
  {
   "cell_type": "code",
   "execution_count": 43,
   "id": "e5e85706",
   "metadata": {},
   "outputs": [
    {
     "data": {
      "text/plain": [
       "res24: Boolean = true\n"
      ]
     },
     "execution_count": 43,
     "metadata": {},
     "output_type": "execute_result"
    }
   ],
   "source": [
    "seq.contains(1)"
   ]
  },
  {
   "cell_type": "code",
   "execution_count": 45,
   "id": "cd39c7bc",
   "metadata": {},
   "outputs": [
    {
     "data": {
      "text/plain": [
       "a: List[Int] = List(1, 23, 2)\n",
       "res26: Boolean = true\n"
      ]
     },
     "execution_count": 45,
     "metadata": {},
     "output_type": "execute_result"
    }
   ],
   "source": [
    "val a = List(1,23,2)\n",
    "a.contains(1)"
   ]
  },
  {
   "cell_type": "code",
   "execution_count": 55,
   "id": "88e53a70",
   "metadata": {},
   "outputs": [
    {
     "name": "stdout",
     "output_type": "stream",
     "text": [
      "true\n"
     ]
    },
    {
     "data": {
      "text/plain": [
       "a: String = abd\n",
       "res36: Boolean = true\n"
      ]
     },
     "execution_count": 55,
     "metadata": {},
     "output_type": "execute_result"
    }
   ],
   "source": [
    "val a = \"abd\"\n",
    "println(a.contains(\"ab\"))\n",
    "a.contains('a')"
   ]
  },
  {
   "cell_type": "code",
   "execution_count": 66,
   "id": "5dcd2999",
   "metadata": {},
   "outputs": [
    {
     "data": {
      "text/plain": [
       "a: Seq[Nothing] = List()\n"
      ]
     },
     "execution_count": 66,
     "metadata": {},
     "output_type": "execute_result"
    }
   ],
   "source": [
    "val a = Seq()"
   ]
  },
  {
   "cell_type": "code",
   "execution_count": 71,
   "id": "35bdade2",
   "metadata": {},
   "outputs": [
    {
     "data": {
      "text/plain": [
       "x2: Array[String] = Array(null, null, null, null)\n"
      ]
     },
     "execution_count": 71,
     "metadata": {},
     "output_type": "execute_result"
    }
   ],
   "source": [
    "val x2 = new Array[String](4) "
   ]
  },
  {
   "cell_type": "code",
   "execution_count": 78,
   "id": "79f55775",
   "metadata": {},
   "outputs": [
    {
     "ename": "<console>",
     "evalue": "23: error: missing argument list for method tabulate in object Array",
     "output_type": "error",
     "traceback": [
      "<console>:23: error: missing argument list for method tabulate in object Array",
      "Unapplied methods are only converted to functions when a function type is expected.",
      "You can make this conversion explicit by writing `tabulate _` or `tabulate(_)(_)(_)` instead of `tabulate`.",
      "       val x5 = Array.tabulate(5)",
      "                              ^",
      ""
     ]
    }
   ],
   "source": [
    "val x5 = Array.tabulate(5)"
   ]
  },
  {
   "cell_type": "code",
   "execution_count": 84,
   "id": "b8bbe5bd",
   "metadata": {},
   "outputs": [
    {
     "data": {
      "text/plain": [
       "index: [A](a: Array[A], e: A)Int\n"
      ]
     },
     "execution_count": 84,
     "metadata": {},
     "output_type": "execute_result"
    }
   ],
   "source": [
    "def index[A](a: Array[A],e:A):Int = {\n",
    "    def loop(i:Int):Int = {\n",
    "        if (i>a.length) throw new IllegalArgumentException(\"%d not in Array\".format(e))\n",
    "        else if (a(i)==e) i\n",
    "        else loop(i+1)\n",
    "    }\n",
    "    loop(0)\n",
    "}"
   ]
  },
  {
   "cell_type": "code",
   "execution_count": 85,
   "id": "9bfb9f8a",
   "metadata": {},
   "outputs": [
    {
     "data": {
      "text/plain": [
       "x: Array[Int] = Array(1, 2, 3, 4)\n",
       "res37: Int = 1\n"
      ]
     },
     "execution_count": 85,
     "metadata": {},
     "output_type": "execute_result"
    }
   ],
   "source": [
    "val x=Array(1,2,3,4)\n",
    "index(x,2)"
   ]
  },
  {
   "cell_type": "code",
   "execution_count": 93,
   "id": "5ec2b378",
   "metadata": {},
   "outputs": [
    {
     "data": {
      "text/plain": [
       "isSorted: [A](a: Array[A], p: (A, A) => Boolean)Boolean\n"
      ]
     },
     "execution_count": 93,
     "metadata": {},
     "output_type": "execute_result"
    }
   ],
   "source": [
    "def isSorted[A](a:Array[A],p:(A,A)=>Boolean):Boolean = {\n",
    "    def loop(i:Int):Boolean = {\n",
    "        if (i>=a.length-2) true\n",
    "        else if (p(a(i),a(i+1))) loop(i+1)\n",
    "        else false\n",
    "    }\n",
    "    loop(0)\n",
    "}"
   ]
  },
  {
   "cell_type": "code",
   "execution_count": 95,
   "id": "9ebef82d",
   "metadata": {},
   "outputs": [
    {
     "data": {
      "text/plain": [
       "r1: Boolean = false\n",
       "r2: Boolean = true\n",
       "r3: Boolean = false\n",
       "r4: Boolean = true\n",
       "r5: Boolean = true\n"
      ]
     },
     "execution_count": 95,
     "metadata": {},
     "output_type": "execute_result"
    }
   ],
   "source": [
    "val r1 = isSorted(Array(1,2,3,4),(a: Int,b: Int) => a>b)\n",
    "val r2 = isSorted(Array(1,2,3,4),(a: Int,b: Int) => a<b)\n",
    "val r3 = isSorted(Array(1,2,3,4),(a: Int,b: Int) => b>a*a)\n",
    "val r4 = isSorted(Array(1,2,5,26),(a: Int,b: Int) => b>a*a)\n",
    "val r5 = isSorted(Array(\"Hope\",\"Hopeful\",\"Hopeless\"),(a: String,b: String)=> a.length<b.length)"
   ]
  },
  {
   "cell_type": "code",
   "execution_count": null,
   "id": "eb363dc1",
   "metadata": {},
   "outputs": [],
   "source": []
  },
  {
   "cell_type": "code",
   "execution_count": 1,
   "id": "39b1b5a7",
   "metadata": {},
   "outputs": [],
   "source": [
    "%%init_spark\n",
    "launcher.packages=[\"org.plotly-scala:plotly-jupyter-scala_2.12:0.4.0\"]"
   ]
  },
  {
   "cell_type": "code",
   "execution_count": 2,
   "id": "f8eeb09f",
   "metadata": {},
   "outputs": [
    {
     "data": {
      "text/plain": [
       "Intitializing Scala interpreter ..."
      ]
     },
     "metadata": {},
     "output_type": "display_data"
    },
    {
     "data": {
      "text/plain": [
       "Spark Web UI available at http://192.168.0.149:4040\n",
       "SparkContext available as 'sc' (version = 3.3.0, master = local[*], app id = local-1666833060326)\n",
       "SparkSession available as 'spark'\n"
      ]
     },
     "metadata": {},
     "output_type": "display_data"
    },
    {
     "data": {
      "text/plain": [
       "import plotly._\n",
       "import plotly.element._\n",
       "import plotly.layout.Layout\n",
       "import plotly.Plotly._\n",
       "data: Seq[plotly.Bar] = List(Bar(Strings(List(giraffes, orangutans, monkeys)),Doubles(List(20.0, 14.0, 23.0)),None,None,None,None,None,None,None,None))\n"
      ]
     },
     "execution_count": 2,
     "metadata": {},
     "output_type": "execute_result"
    }
   ],
   "source": [
    "//Plotly barchart example\n",
    "import plotly._\n",
    "import plotly.element._\n",
    "import plotly.layout.Layout \n",
    "import plotly.Plotly._\n",
    "\n",
    "val data = Seq(\n",
    "  Bar(\n",
    "    Seq(\"giraffes\", \"orangutans\", \"monkeys\"),\n",
    "    Seq(20, 14, 23)\n",
    "  )\n",
    ")\n",
    "\n",
    "\n",
    "data.plot()"
   ]
  },
  {
   "cell_type": "code",
   "execution_count": null,
   "id": "3454af95",
   "metadata": {},
   "outputs": [],
   "source": []
  }
 ],
 "metadata": {
  "kernelspec": {
   "display_name": "spylon-kernel",
   "language": "scala",
   "name": "spylon-kernel"
  },
  "language_info": {
   "codemirror_mode": "text/x-scala",
   "file_extension": ".scala",
   "help_links": [
    {
     "text": "MetaKernel Magics",
     "url": "https://metakernel.readthedocs.io/en/latest/source/README.html"
    }
   ],
   "mimetype": "text/x-scala",
   "name": "scala",
   "pygments_lexer": "scala",
   "version": "0.4.1"
  }
 },
 "nbformat": 4,
 "nbformat_minor": 5
}
