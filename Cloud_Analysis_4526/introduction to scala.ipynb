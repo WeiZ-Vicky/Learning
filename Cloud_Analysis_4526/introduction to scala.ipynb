{
 "cells": [
  {
   "cell_type": "markdown",
   "id": "9971eaf9",
   "metadata": {},
   "source": [
    "<h1>Scala</h1>\n",
    "<li>A general purpose functional and object-oriented programming language</li>\n",
    "<p style=\"margin-left:40px;margin-right:100px\">\n",
    "Functional programming has become the tool of choice for concurrency and big data applications. Scala provides a full functional experience with <span style=\"color:blue\">immutable</span> objects, <span style=\"color:blue\">functional collections</span> and <span style=\"color:blue\">code without side effects</span>\n",
    "    </p><p></p>\n",
    "<li>Objects are <b>strongly typed</b></li>\n",
    "<li>Written in Java (runs on a Java Virtual Machine)</li>\n",
    "<li>Apache Spark is written in Scala</li>\n",
    "<p>\n",
    "    <b>Note</b>: The latest Scala is Scala 3 but Apache Spark is still using Scala 2.12. Scala 3 has some really nice changes but we're going to focus on the one that Spark uses. If you want to dive deeper into Scala, check out <i>Programming Scala, 3rd edition by Dean Wampler (2nd edition for Scala 2)</i>\n",
    "    "
   ]
  },
  {
   "cell_type": "code",
   "execution_count": 1,
   "id": "17a912f3",
   "metadata": {},
   "outputs": [
    {
     "data": {
      "text/plain": [
       "Intitializing Scala interpreter ..."
      ]
     },
     "metadata": {},
     "output_type": "display_data"
    },
    {
     "data": {
      "text/plain": [
       "Spark Web UI available at http://192.168.11.104:4040\n",
       "SparkContext available as 'sc' (version = 3.3.0, master = local[*], app id = local-1675373447579)\n",
       "SparkSession available as 'spark'\n"
      ]
     },
     "metadata": {},
     "output_type": "display_data"
    },
    {
     "data": {
      "text/plain": [
       "res0: String = version 2.12.15\n"
      ]
     },
     "execution_count": 1,
     "metadata": {},
     "output_type": "execute_result"
    }
   ],
   "source": [
    "//Check Scala version\n",
    "util.Properties.versionString"
   ]
  },
  {
   "cell_type": "markdown",
   "id": "905d4542",
   "metadata": {},
   "source": [
    "<h1>A Scala function</h1>"
   ]
  },
  {
   "cell_type": "code",
   "execution_count": 2,
   "id": "58036e9a",
   "metadata": {},
   "outputs": [
    {
     "data": {
      "text/plain": [
       "abs: (n: Int)Int\n"
      ]
     },
     "execution_count": 2,
     "metadata": {},
     "output_type": "execute_result"
    }
   ],
   "source": [
    "def abs(n: Int) : Int = \n",
    "    if (n<0) -n\n",
    "    else n"
   ]
  },
  {
   "cell_type": "markdown",
   "id": "6200e65e",
   "metadata": {},
   "source": [
    "<li><b>def</b> Scala keyword indicating a definition\n",
    "\n",
    "<li><b>abs</b> Function identifier\n",
    "\n",
    "<li>abs is a \"pure\" (no side effects) function\n",
    "\n",
    "<li><b>(n: Int)</b> Argument(s) to the function. Arguments must be typed\n",
    "\n",
    "<li><b> :Int</b> Return type (optional). Scala will guess the return type\n",
    "\n",
    "<li><b>if .. else</b> Obvious!\n",
    "\n",
    "<li><b>$ (n<0) $</b> Condition. Must be enclosed in parantheses\n",
    "\n",
    "<li><b> -n </b> return value. Scala functions return whatever the last expression evaluated returns\n",
    "    \n",
    "<li><b>=</b> Functions are first class objects\n",
    "    <ul>\n",
    "        <li>the l-value is an identifier (abs)</li>\n",
    "        <li>the r-value is an expression (a functional expression)</li>\n",
    "        <li>The = is assigning a value (functional value) to abs</li>\n",
    "    </ul>\n",
    "<li>abs is a pure function since it has no side effects and is deterministic</li>\n",
    "<li>abs is referentially transparent since x + abs(-42) can be replaced by x+(-42) always</li>\n",
    "\n"
   ]
  },
  {
   "cell_type": "code",
   "execution_count": 3,
   "id": "9d66568f",
   "metadata": {},
   "outputs": [
    {
     "data": {
      "text/plain": [
       "res1: Int = 10\n"
      ]
     },
     "execution_count": 3,
     "metadata": {},
     "output_type": "execute_result"
    }
   ],
   "source": [
    "abs(10)\n"
   ]
  },
  {
   "cell_type": "code",
   "execution_count": 4,
   "id": "17d49308",
   "metadata": {},
   "outputs": [
    {
     "data": {
      "text/plain": [
       "res2: Int = 10\n"
      ]
     },
     "execution_count": 4,
     "metadata": {},
     "output_type": "execute_result"
    }
   ],
   "source": [
    "abs(-10)"
   ]
  },
  {
   "cell_type": "markdown",
   "id": "c6cbdfac",
   "metadata": {},
   "source": [
    "<h3>Scala functions must return data of the type specified</h3>\n",
    "<li>Why does the following function give an error?</li>"
   ]
  },
  {
   "cell_type": "code",
   "execution_count": 3,
   "id": "5927b289",
   "metadata": {},
   "outputs": [
    {
     "ename": "<console>",
     "evalue": "24: error: type mismatch;",
     "output_type": "error",
     "traceback": [
      "<console>:24: error: type mismatch;",
      " found   : Unit",
      " required: Int",
      "           if (n<0) -n",
      "           ^",
      ""
     ]
    }
   ],
   "source": [
    "def foo(n: Int): Int = \n",
    "    if (n<0) -n"
   ]
  },
  {
   "cell_type": "markdown",
   "id": "a0dd7217",
   "metadata": {},
   "source": [
    "<li>But this doesn't give an error</li>"
   ]
  },
  {
   "cell_type": "code",
   "execution_count": 6,
   "id": "cc6cc3dc",
   "metadata": {},
   "outputs": [
    {
     "data": {
      "text/plain": [
       "foo: (n: Int)AnyVal\n"
      ]
     },
     "execution_count": 6,
     "metadata": {},
     "output_type": "execute_result"
    }
   ],
   "source": [
    "def foo(n: Int) = \n",
    "    if (n<0) -n"
   ]
  },
  {
   "cell_type": "markdown",
   "id": "c3cbc65b",
   "metadata": {},
   "source": [
    "<h1>Recursion in Scala</h1>\n",
    "<b>Factorial</b>:\n",
    "\n",
    "$ f_{n} = \\left\\{\\begin{array}{ll}\n",
    "n & if n\\leq1 \\\\\n",
    "n \\times f_{n-1} & if n \\gt 1\n",
    "\\end{array}\\right.$\n",
    "\n",
    "\n"
   ]
  },
  {
   "cell_type": "code",
   "execution_count": 2,
   "id": "b4fc3152",
   "metadata": {},
   "outputs": [
    {
     "data": {
      "text/plain": [
       "fact: (n: Int)Int\n"
      ]
     },
     "execution_count": 2,
     "metadata": {},
     "output_type": "execute_result"
    }
   ],
   "source": [
    "def fact(n: Int): Int =\n",
    "    if (n <= 1) n\n",
    "    else n * fact(n-1)\n"
   ]
  },
  {
   "cell_type": "markdown",
   "id": "bf901ecb",
   "metadata": {},
   "source": [
    "<h4>A recursive function must specify a return type</h4>\n",
    "<li>because Scala cannot infer the return type from a call to an \"undefined\" function</li>"
   ]
  },
  {
   "cell_type": "code",
   "execution_count": 8,
   "id": "a229ffb4",
   "metadata": {},
   "outputs": [
    {
     "ename": "<console>",
     "evalue": "26: error: recursive method fact needs result type",
     "output_type": "error",
     "traceback": [
      "<console>:26: error: recursive method fact needs result type",
      "           else n * fact(n-1) //fact is not yet defined so Scala does not know the return type",
      "                    ^",
      ""
     ]
    }
   ],
   "source": [
    "def fact(n: Int) =\n",
    "    if (n <= 1) n\n",
    "    else n * fact(n-1) //fact is not yet defined so Scala does not know the return type\n",
    "\n"
   ]
  },
  {
   "cell_type": "markdown",
   "id": "a7b40bf0",
   "metadata": {},
   "source": [
    "<h1>Tail recursive factorial</h1>\n",
    "<li>to make factorial tail recursive we need to add an argument to the function</li>\n",
    "<li>this argument will accumulate \"up\" the factorial from 1 to n-1</li>\n",
    "<li>but, it also changes the function signature, which is not desirable</li>\n",
    "<li>so, typically</li>\n",
    "<ul>\n",
    "    <li>tail recursive functions are structured with an outer non-recursive interface function</li>\n",
    "    <li>and an inner tail recursive function, usually called loop, do_rec, or go</li>\n",
    "</ul>"
   ]
  },
  {
   "cell_type": "markdown",
   "id": "0c99f29d",
   "metadata": {},
   "source": [
    "<h1>Recursion in Scala</h1>\n",
    "<b>Tail recursive factorial</b>:\n",
    "\n",
    "$ f_{n} = \\left\\{\\begin{array}{ll}\n",
    "initialize & a=1 \\\\\n",
    "a & if & n\\leq1 \\\\\n",
    "f_{(n-1),a \\times n}  & if & n \\gt 1\n",
    "\\end{array}\\right.$"
   ]
  },
  {
   "cell_type": "code",
   "execution_count": 9,
   "id": "5c07787d",
   "metadata": {},
   "outputs": [
    {
     "data": {
      "text/plain": [
       "fact: (n: Int)Int\n"
      ]
     },
     "execution_count": 9,
     "metadata": {},
     "output_type": "execute_result"
    }
   ],
   "source": [
    "def fact(n: Int): Int = {\n",
    "    def loop(n: Int,a: Int): Int = {\n",
    "        if (n<=1) a\n",
    "        else loop(n-1,a*n)\n",
    "    }\n",
    "    loop(n,1)\n",
    "}"
   ]
  },
  {
   "cell_type": "code",
   "execution_count": 10,
   "id": "08285b1f",
   "metadata": {},
   "outputs": [
    {
     "data": {
      "text/plain": [
       "res3: Int = 24\n"
      ]
     },
     "execution_count": 10,
     "metadata": {},
     "output_type": "execute_result"
    }
   ],
   "source": [
    "fact(4)"
   ]
  },
  {
   "cell_type": "code",
   "execution_count": 11,
   "id": "64407ec4",
   "metadata": {},
   "outputs": [
    {
     "data": {
      "text/plain": [
       "fact: (n: Int)Int\n"
      ]
     },
     "execution_count": 11,
     "metadata": {},
     "output_type": "execute_result"
    }
   ],
   "source": [
    "def fact(n: Int): Int = {\n",
    "    def loop(n: Int,a: Int): Int = {  \n",
    "        println(n,a) \n",
    "        if (n<=1) a\n",
    "        else loop(n-1,a*n)\n",
    "    }\n",
    "    loop(n,1)\n",
    "}"
   ]
  },
  {
   "cell_type": "code",
   "execution_count": 12,
   "id": "e0f06a88",
   "metadata": {},
   "outputs": [
    {
     "name": "stdout",
     "output_type": "stream",
     "text": [
      "(4,1)\n",
      "(3,4)\n",
      "(2,12)\n",
      "(1,24)\n"
     ]
    },
    {
     "data": {
      "text/plain": [
       "res4: Int = 24\n"
      ]
     },
     "execution_count": 12,
     "metadata": {},
     "output_type": "execute_result"
    }
   ],
   "source": [
    "fact(4)"
   ]
  },
  {
   "cell_type": "markdown",
   "id": "8c6c924e",
   "metadata": {},
   "source": [
    "<span style=\"color:blue;font-size:xx-large\">A note on blocks</span>\n",
    "<p></p>\n",
    "<li>If a block contains more than one statement, enclose it in curly braces {....}</li>\n",
    "<li>Statements can be separated using semicolons</li>\n",
    "<li>If a block contains only one statement, the curly braces are optional</li>\n",
    "<li>A block is an expression. It returns the last value evaluated</li>"
   ]
  },
  {
   "cell_type": "code",
   "execution_count": 13,
   "id": "d135fe47",
   "metadata": {},
   "outputs": [
    {
     "data": {
      "text/plain": [
       "fact: (n: Int)Int\n"
      ]
     },
     "execution_count": 13,
     "metadata": {},
     "output_type": "execute_result"
    }
   ],
   "source": [
    "//One statement in the function, no curly braces necessary\n",
    "def fact(n: Int): Int =\n",
    "    if (n <= 1) n\n",
    "    else n * fact(n-1)\n"
   ]
  },
  {
   "cell_type": "code",
   "execution_count": 14,
   "id": "f7806eef",
   "metadata": {},
   "outputs": [
    {
     "data": {
      "text/plain": [
       "fact: (n: Int)Int\n"
      ]
     },
     "execution_count": 14,
     "metadata": {},
     "output_type": "execute_result"
    }
   ],
   "source": [
    "//Can be written in a single line\n",
    "def fact(n: Int): Int = if (n <= 1) n else n * fact(n-1)"
   ]
  },
  {
   "cell_type": "code",
   "execution_count": 6,
   "id": "1bd34c93",
   "metadata": {},
   "outputs": [
    {
     "data": {
      "text/plain": [
       "fact: (n: Int)Int\n"
      ]
     },
     "execution_count": 6,
     "metadata": {},
     "output_type": "execute_result"
    }
   ],
   "source": [
    "//Multiple statements, use curly braces\n",
    "//\n",
    "def fact(n: Int): Int = {\n",
    "    def loop(n: Int,a: Int): Int = {\n",
    "        print(n,a) //1 statmentment\n",
    "        if (n<=1) a\n",
    "        else loop(n-1,a*n) //The value from the if is returned\n",
    "    }\n",
    "    loop(n,1) //The value from this function call is returned\n",
    "}"
   ]
  },
  {
   "cell_type": "code",
   "execution_count": 7,
   "id": "6fa818e9",
   "metadata": {},
   "outputs": [
    {
     "name": "stdout",
     "output_type": "stream",
     "text": [
      "(4,1)(3,4)(2,12)(1,24)"
     ]
    },
    {
     "data": {
      "text/plain": [
       "res2: Int = 24\n"
      ]
     },
     "execution_count": 7,
     "metadata": {},
     "output_type": "execute_result"
    }
   ],
   "source": [
    "fact(4)"
   ]
  },
  {
   "cell_type": "code",
   "execution_count": null,
   "id": "7b1bacf6",
   "metadata": {},
   "outputs": [],
   "source": [
    "def fact(n: Int): Int = {\n",
    "    def loop(n: Int,a: Int): Int = {  \n",
    "        //Use a semicolon to separate statements in the same line\n",
    "        println(n,a);if (n<=1) a else loop(n-1,a*n) //The value from the if is returned\n",
    "    }\n",
    "    loop(n,1) //The value from this function call is returned\n",
    "}"
   ]
  },
  {
   "cell_type": "markdown",
   "id": "83a3e053",
   "metadata": {},
   "source": [
    "<h1>Iterative version of factorial</h1>\n",
    "<li><span style=\"color:blue\">var</span> tells Scala that this value is changeable</li>\n",
    "<li>But you don't want to do this (or NO FOR LOOPS!!!)</li>"
   ]
  },
  {
   "cell_type": "code",
   "execution_count": 8,
   "id": "62d8c0c1",
   "metadata": {},
   "outputs": [
    {
     "name": "stdout",
     "output_type": "stream",
     "text": [
      "(1,1)\n",
      "(2,2)\n",
      "(3,6)\n",
      "(4,24)\n"
     ]
    },
    {
     "data": {
      "text/plain": [
       "fact_it: (n: Int)Int\n",
       "res3: Int = 24\n"
      ]
     },
     "execution_count": 8,
     "metadata": {},
     "output_type": "execute_result"
    }
   ],
   "source": [
    "def fact_it(n:Int): Int = {\n",
    "    var product = 1\n",
    "    for(i <- 1 to n) { //i is integer\n",
    "        product=product*i\n",
    "        println(i,product)\n",
    "    }\n",
    "    product\n",
    "}\n",
    "fact_it(4)"
   ]
  },
  {
   "cell_type": "markdown",
   "id": "634c75c9",
   "metadata": {},
   "source": [
    "<h1>Tail recursion vs iteration</h1>\n",
    "<li>Tail recursion is equivalent to iteration </li>\n",
    "<li>So why do we need it?</li>\n",
    "<ul>\n",
    "    <li>Immutability: No running “product” variable is updated</li>\n",
    "    <li>Immutability makes the function stateless and referentially transparent</li>\n",
    "    <li>and therefore parallelizable (distributable)</li>\n",
    "    <li>Recursive (and tail recursive) functions are more readable</li>\n",
    "    <li>Recursive (and tail recursive) functions are expressible mathematically</li>\n",
    "</ul>"
   ]
  },
  {
   "cell_type": "markdown",
   "id": "73bf61f4",
   "metadata": {},
   "source": [
    "<h1>Adding tail recursion annotator</h1>\n",
    "<li>Iteration is often more efficient than recursion</li>\n",
    "<li>But, it comes at a cost (not parallelizable and less readable)</li>\n",
    "<li>Most compilers (not python though) will automatically try to convert tail recursion into iteration</li>\n",
    "<li>If you're sure a function is tail recursive, add the tailrec annotator so that Scala doesn't have to try to guess!</li>"
   ]
  },
  {
   "cell_type": "code",
   "execution_count": null,
   "id": "9d0cb4a2",
   "metadata": {},
   "outputs": [],
   "source": [
    "import scala.annotation.tailrec //tailrec annotation package\n",
    "def fact(n: Int): Int = {  //the interface\n",
    "    @tailrec //This is a decorator and MUST go in the line preceding the tailrec function\n",
    "    def loop(n: Int,a: Int): Int = {  //recursive helper function\n",
    "        println(n,a)\n",
    "        if (n<=1) a\n",
    "        else loop(n-1,a*n)\n",
    "    }\n",
    "    loop(n,1)\n",
    "}"
   ]
  },
  {
   "cell_type": "markdown",
   "id": "fd58ae73",
   "metadata": {},
   "source": [
    "<h1>Data Types in Scala</h1>\n",
    "<img src=\"scala data types.png\">"
   ]
  },
  {
   "cell_type": "code",
   "execution_count": null,
   "id": "769324ef",
   "metadata": {},
   "outputs": [],
   "source": [
    "//Null and Nothing: Null type is when there should be a value but no value. Nothing type is..."
   ]
  },
  {
   "cell_type": "markdown",
   "id": "bc88b62f",
   "metadata": {},
   "source": [
    "<li><b>AnyVal</b> refer to basic data type that are actual values. Integers, Characters, Floats, etc.</li>\n",
    "<li><b>AnyRef</b> objects that contain values (think of collections - Seq, List, Array, String)</li>"
   ]
  },
  {
   "cell_type": "markdown",
   "id": "90f100f6",
   "metadata": {},
   "source": [
    "<h1>Basic types</h1>\n",
    "<li><b>Int</b> 32 bit integers</li>\n",
    "<li><b>Long</b> 64 bit integers</li>\n",
    "<li><b>Char</b> 16 bit unicode characters</li>\n",
    "<li><b>String</b> a sequence of Chars</li>\n",
    "<li><b>Float</b> 32 bit floating point numbers</li>\n",
    "<li><b>Double</b> 64 bit double precision floating point numbers</li>\n",
    "<li><b>Byte/Short</b> 8 and 16 bit integers</li>\n",
    "<li><b>Boolean</b> true of false</li>\n",
    "<li><b>BigInt</b> Big integers (unimaginably long ones!)</li>"
   ]
  },
  {
   "cell_type": "markdown",
   "id": "67e65f56",
   "metadata": {},
   "source": [
    "<h2>String and Char</h2>\n",
    "<li>String literals are enclosed in double quotes</li>\n",
    "<li>Char literals are enclosed in single quotes</li>\n",
    "<li>Note that the Jupyter REPL will always tell you the data type (and this can be very valuable)</li>"
   ]
  },
  {
   "cell_type": "code",
   "execution_count": 64,
   "id": "0576f74d",
   "metadata": {},
   "outputs": [
    {
     "data": {
      "text/plain": [
       "s: String = Tom Baker\n",
       "avg_grade_in_class: Char = C\n"
      ]
     },
     "execution_count": 64,
     "metadata": {},
     "output_type": "execute_result"
    }
   ],
   "source": [
    "val s = \"Tom Baker\"\n",
    "val avg_grade_in_class = 'C'"
   ]
  },
  {
   "cell_type": "code",
   "execution_count": 65,
   "id": "0a33db7e",
   "metadata": {},
   "outputs": [
    {
     "data": {
      "text/plain": [
       "y: Array[Int] = Array(1, 2, 3, 4)\n"
      ]
     },
     "execution_count": 65,
     "metadata": {},
     "output_type": "execute_result"
    }
   ],
   "source": [
    "val y = Array(1,2,3,4)"
   ]
  },
  {
   "cell_type": "code",
   "execution_count": 66,
   "id": "70479dfb",
   "metadata": {},
   "outputs": [],
   "source": [
    "y(0)=5"
   ]
  },
  {
   "cell_type": "code",
   "execution_count": 67,
   "id": "6105f3ec",
   "metadata": {},
   "outputs": [
    {
     "data": {
      "text/plain": [
       "res23: Array[Int] = Array(5, 2, 3, 4)\n"
      ]
     },
     "execution_count": 67,
     "metadata": {},
     "output_type": "execute_result"
    }
   ],
   "source": [
    "y //Array's inside is mutable"
   ]
  },
  {
   "cell_type": "markdown",
   "id": "787c3e78",
   "metadata": {},
   "source": [
    "<h1>var vs val</h1>\n",
    "<li>use var to make an object mutable</li>\n",
    "<li>use val to make it immutable</li>\n",
    "<li><b>IMPORTANT</b>: Though Jupyter will allow you to redeclare variables if in a different cell, this behavior is not allowed in a program. Variables can be declared only once!</li>"
   ]
  },
  {
   "cell_type": "code",
   "execution_count": null,
   "id": "ce47afc2",
   "metadata": {},
   "outputs": [],
   "source": []
  },
  {
   "cell_type": "code",
   "execution_count": 21,
   "id": "0651d2b0",
   "metadata": {},
   "outputs": [
    {
     "data": {
      "text/plain": [
       "x: Int = 25\n",
       "x: Int = 25\n"
      ]
     },
     "execution_count": 21,
     "metadata": {},
     "output_type": "execute_result"
    }
   ],
   "source": [
    "var x = 24\n",
    "x=25"
   ]
  },
  {
   "cell_type": "code",
   "execution_count": 22,
   "id": "be2b0a4d",
   "metadata": {},
   "outputs": [
    {
     "ename": "<console>",
     "evalue": "25: error: reassignment to val",
     "output_type": "error",
     "traceback": [
      "<console>:25: error: reassignment to val",
      "       x=25",
      "        ^",
      ""
     ]
    }
   ],
   "source": [
    "val x = 24 //Since x is already declared, this would not be allowed in a program. Works in a new Jupyter cell though!\n",
    "x=25"
   ]
  },
  {
   "cell_type": "code",
   "execution_count": 23,
   "id": "f6eb0ceb",
   "metadata": {},
   "outputs": [
    {
     "ename": "<console>",
     "evalue": "24: error: x is already defined as value x",
     "output_type": "error",
     "traceback": [
      "<console>:24: error: x is already defined as value x",
      "       val x = \"John Gilpin\" //Cannot redeclare x",
      "           ^",
      ""
     ]
    }
   ],
   "source": [
    "val x = 24\n",
    "val x = \"John Gilpin\" //Cannot redeclare x"
   ]
  },
  {
   "cell_type": "markdown",
   "id": "abef253d",
   "metadata": {},
   "source": [
    "In jupyter you can redefine val, but in Scala you cannot."
   ]
  },
  {
   "cell_type": "code",
   "execution_count": 24,
   "id": "599b853a",
   "metadata": {},
   "outputs": [
    {
     "data": {
      "text/plain": [
       "x: Int = 10\n"
      ]
     },
     "execution_count": 24,
     "metadata": {},
     "output_type": "execute_result"
    }
   ],
   "source": [
    "val x = 10"
   ]
  },
  {
   "cell_type": "code",
   "execution_count": 25,
   "id": "5ada5872",
   "metadata": {},
   "outputs": [
    {
     "data": {
      "text/plain": [
       "x: Int = 20\n"
      ]
     },
     "execution_count": 25,
     "metadata": {},
     "output_type": "execute_result"
    }
   ],
   "source": [
    "val x = 20"
   ]
  },
  {
   "cell_type": "markdown",
   "id": "a2afc1f3",
   "metadata": {},
   "source": [
    "<li>You must declare a variable before you can use it</li>"
   ]
  },
  {
   "cell_type": "code",
   "execution_count": 26,
   "id": "f1a4c892",
   "metadata": {},
   "outputs": [
    {
     "ename": "<console>",
     "evalue": "23: error: not found: value p",
     "output_type": "error",
     "traceback": [
      "<console>:23: error: not found: value p",
      "       p=10",
      "       ^",
      "<console>:25: error: not found: value p",
      "       val $ires6 = p",
      "                    ^",
      ""
     ]
    }
   ],
   "source": [
    "p=10"
   ]
  },
  {
   "cell_type": "code",
   "execution_count": 27,
   "id": "6f2ad931",
   "metadata": {},
   "outputs": [
    {
     "data": {
      "text/plain": [
       "p: Int = 10\n"
      ]
     },
     "execution_count": 27,
     "metadata": {},
     "output_type": "execute_result"
    }
   ],
   "source": [
    "val p=10"
   ]
  },
  {
   "cell_type": "markdown",
   "id": "1dcd9065",
   "metadata": {},
   "source": [
    "<h1>Iterable types</h1>\n",
    "<li><b>Seq</b> ordered sequential immutable iterable</li>\n",
    "<li><b>List</b> ordered linked list of immutable elements </li>\n",
    "<li><b>Array</b> iterable collection. Immutable in size but mutable in elements (subclass of Seq)</li>"
   ]
  },
  {
   "cell_type": "markdown",
   "id": "9e20e112",
   "metadata": {},
   "source": [
    "<h1>Arrays</h1>\n",
    "<li>Arrays are mutable in value but immutable in size</li>"
   ]
  },
  {
   "cell_type": "code",
   "execution_count": 69,
   "id": "5365b00a",
   "metadata": {},
   "outputs": [
    {
     "data": {
      "text/plain": [
       "x1: Array[Int] = Array(1, 2, 3, 4, 9)\n",
       "x2: Array[String] = Array(null, null, null, null)\n",
       "x3: Array[Double] = Array(0.0, 0.0, 0.0, 0.0)\n",
       "x4: Array[Int] = Array(1, 3, 5, 7, 9)\n",
       "x5: Array[Int] = Array(0, 1, 4, 9, 16)\n",
       "x6: Array[Char] = Array(T, o, m,  , B, a, k, e, r)\n"
      ]
     },
     "execution_count": 69,
     "metadata": {},
     "output_type": "execute_result"
    }
   ],
   "source": [
    "val x1 = Array(1,2,3,4,9) //An array of Int of size 5\n",
    "val x2 = new Array[String](4) //An Array of String of size 4 each initialized to the empty string //new: allocate memory for this //null:has a pointer like string\n",
    "val x3 = new Array[Double](4) // An Array of Double of size 4 each initialized to 0.0\n",
    "val x4 = Array.range(1,10,2) //An array of int containing ints from 1 to 10 incremented by 2\n",
    "val x5 = Array.tabulate(5)(n => n*n) //An array of length 5 withe squares of numbers from 0 to 4\n",
    "val x6 = \"Tom Baker\".toArray //Convert a string to an array of Char"
   ]
  },
  {
   "cell_type": "code",
   "execution_count": 7,
   "id": "1010fa0a",
   "metadata": {},
   "outputs": [],
   "source": [
    "// var x1 = Array(1,2,3)\n",
    "// x1 = Array(1,4)"
   ]
  },
  {
   "cell_type": "markdown",
   "id": "8d2099cc",
   "metadata": {},
   "source": [
    "<h3>Array indexing</h3>\n",
    "<li>Java and C style indexing</li>\n",
    "<li>the length attribute of an array returns its length</li>"
   ]
  },
  {
   "cell_type": "code",
   "execution_count": 72,
   "id": "b01967c7",
   "metadata": {},
   "outputs": [
    {
     "name": "stdout",
     "output_type": "stream",
     "text": [
      "42\n",
      "54\n"
     ]
    },
    {
     "data": {
      "text/plain": [
       "rates: Array[Int] = Array(8, 2, 43, 22, 54, 42)\n"
      ]
     },
     "execution_count": 72,
     "metadata": {},
     "output_type": "execute_result"
    }
   ],
   "source": [
    "val rates=Array(8,2,43,22,32,42)\n",
    "println(rates(5))\n",
    "rates(4) = rates(4) + rates(3)\n",
    "println(rates(4))"
   ]
  },
  {
   "cell_type": "code",
   "execution_count": 73,
   "id": "1fcf8f1c",
   "metadata": {},
   "outputs": [
    {
     "data": {
      "text/plain": [
       "x: Array[Int] = Array(1, 17, 42, 22, 33, 56)\n",
       "res26: Int = 6\n"
      ]
     },
     "execution_count": 73,
     "metadata": {},
     "output_type": "execute_result"
    }
   ],
   "source": [
    "val x = Array(1,17,42,22,33,56)\n",
    "x.length"
   ]
  },
  {
   "cell_type": "markdown",
   "id": "70b35837",
   "metadata": {},
   "source": [
    "<h1>Functional building blocks</h1>\n",
    "<h3>Patterns for constructing a functional program</h3>\n",
    "<li><b>Recursion</b>: Enables parallelism</li>\n",
    "<li><b>Parametric polymorphism</b>: Frees functions from being applied to specific data types</li>\n",
    "<li><b>Higher-order functions</b>: Allows functions to apply generalized functions to data</li>\n",
    "<li><b>Currying</b>: Let's a function work with partial data</li>"
   ]
  },
  {
   "cell_type": "markdown",
   "id": "ce929451",
   "metadata": {},
   "source": [
    "<h2>Recursive implementation of Python's index function in Scala</h2>\n",
    "<li>the index function returns the location of an element in an array</li>\n",
    "<li>and throws an exception if the element is not in the array</li>\n",
    "\n",
    "<p>\n",
    "    <li>Check if the element is the first value in the array</li>\n",
    "    <li>If yes, return the index (i)<li>\n",
    "    <li>If no, call the function on the rest of the array<li>\n",
    "    <li>Calling the function on the rest of the array requires increasing the index by 1</li>\n",
    "    <li>If we find that the first value in a subarray is the element, return this incremented index</li>\n",
    "    <li>IMPORTANT: stopping condition - when the incremented index is greater than the length of the array</li>\n",
    "    "
   ]
  },
  {
   "cell_type": "markdown",
   "id": "2d8c723d",
   "metadata": {},
   "source": [
    "<li>The <span style=\"color:blue\">index</span> function in python returns the location of the first occurrence of an element in an array</li>\n",
    "<li>A recursive implementation first checks whether the first element in the array matches the element</li>\n",
    "<li>If it does, return the index, otherwise call the same function on the rest of the array</li>\n",
    "<li>Note below the structure <i>if...else if.. else</i></li>"
   ]
  },
  {
   "cell_type": "code",
   "execution_count": 19,
   "id": "5dcd08d1",
   "metadata": {},
   "outputs": [
    {
     "data": {
      "text/plain": [
       "index: (a: Array[Int], e: Int)Int\n"
      ]
     },
     "execution_count": 19,
     "metadata": {},
     "output_type": "execute_result"
    }
   ],
   "source": [
    "def index(a: Array[Int],e: Int): Int = {\n",
    "    def loop(i: Int): Int = {\n",
    "        if (i>=a.length) throw new IllegalArgumentException(\"%d not in Array\".format(e))\n",
    "        else if (a(i)==e) i\n",
    "        else loop(i+1)\n",
    "    }\n",
    "    loop(0)\n",
    "}"
   ]
  },
  {
   "cell_type": "code",
   "execution_count": 13,
   "id": "891f81b0",
   "metadata": {},
   "outputs": [
    {
     "data": {
      "text/plain": [
       "x: Array[Int] = Array(1, 2, 3, 4)\n",
       "res5: Int = 1\n"
      ]
     },
     "execution_count": 13,
     "metadata": {},
     "output_type": "execute_result"
    }
   ],
   "source": [
    "val x=Array(1,2,3,4)\n",
    "index(x,2)"
   ]
  },
  {
   "cell_type": "code",
   "execution_count": 14,
   "id": "c1d7b496",
   "metadata": {},
   "outputs": [
    {
     "ename": "java.lang.IllegalArgumentException",
     "evalue": " 5 not in Array",
     "output_type": "error",
     "traceback": [
      "java.lang.IllegalArgumentException: 5 not in Array",
      "  at loop$1(<console>:25)",
      "  at index(<console>:29)",
      "  ... 38 elided",
      ""
     ]
    }
   ],
   "source": [
    "val x=Array(1,2,3,4)\n",
    "index(x,5)"
   ]
  },
  {
   "cell_type": "markdown",
   "id": "3692b4f5",
   "metadata": {},
   "source": [
    "<h2>Parametric polymorphism</h2>\n",
    "<li>A function that can work for any parameter type is said to be <span style=\"color:blue\">parametrically polymorphic</span></li>\n",
    "<li>The <span style=\"color:blue\">len function in python</span> is parametrically polymorphic</li>\n",
    "<li>Unfortunately the <span style=\"color:blue\">index</span> function above is not parametrically polymorphic because it works only for <span style=\"color:blue\">Int</span> types</li>\n",
    "<li>We would have to write versions of index for each data type (String, Char, Double, etc)</li>\n",
    "<li>Which is unnecessarily painful! A parametrically polymorphic function would be much nicer</li>"
   ]
  },
  {
   "cell_type": "markdown",
   "id": "dda02345",
   "metadata": {},
   "source": [
    "<h3>Writing a polymorphic function in scala</h3>\n",
    "<li>Scala supports parametric polymorphism using square brackets because types are indicated using square brackets</li>\n",
    "<li><span style=\"color:blue\">Array[Int]</span> declares an Array whose elements are of type Int</li>\n",
    "<li>We can replace Int with a generic identifier, e.g. Array[T] that will be filled in at run time</li>\n",
    "<li>And use that T, the \"fill-in\" data type wherever a type is required in the function</li>\n",
    "<li>By convention, the unknown data type is represented by an uppercase letter</li>\n",
    "\n",
    "\n"
   ]
  },
  {
   "cell_type": "code",
   "execution_count": 21,
   "id": "f6dced1e",
   "metadata": {},
   "outputs": [
    {
     "data": {
      "text/plain": [
       "index: [A](a: Array[A], e: A)Int\n",
       "r1: Int = 1\n",
       "r3: Int = 2\n"
      ]
     },
     "execution_count": 21,
     "metadata": {},
     "output_type": "execute_result"
    }
   ],
   "source": [
    "//A is our fill-in data type\n",
    "def index[A] (a: Array[A], e: A): Int = { //Note that we've replaced Int by A in the original function\n",
    "  @annotation.tailrec\n",
    "  def loop(i: Int): Int =\n",
    "    //In the throw, replace %d by %s (since e may not be an Int)\n",
    "    if (i >= a.length) throw new IllegalArgumentException(\"%s not in Array\".format(e))\n",
    "    else if (a(i)==e) i\n",
    "    else loop(i + 1)\n",
    "\n",
    "  loop(0)\n",
    "}\n",
    "val r1=index(Array(\"Hello\",\"buongiorno\"),\"buongiorno\")\n",
    "//val r2=index(Array(\"Hello\",\"buongiorno\"),\"Bon Jour\")\n",
    "val r3=index(Array(1,2,3,4),3)"
   ]
  },
  {
   "cell_type": "code",
   "execution_count": null,
   "id": "d91f1f76",
   "metadata": {},
   "outputs": [],
   "source": []
  },
  {
   "cell_type": "markdown",
   "id": "659fdd1b",
   "metadata": {},
   "source": [
    "<img src=\"parametric polymorphism.png\">"
   ]
  },
  {
   "cell_type": "markdown",
   "id": "d5736c2c",
   "metadata": {},
   "source": [
    "<h1>Higher order functions</h1>\n",
    "<p></p>\n",
    "<div style=\"font-size:large\">\n",
    "<li>A function that takes a function as an argument, or a function that returns a function, is known as a <span style=\"color:blue\">higher order function</span></li><p>\n",
    "<li>A language in which functions are first class objects can have higher order functions</li><p>\n",
    "<li>Higher order functions can be used to generalize a function so that it works in many different situations</li><p>\n",
    "<li>Let's take our index function as an example</li><p>\n",
    "    </div>"
   ]
  },
  {
   "cell_type": "markdown",
   "id": "3c76b3b5",
   "metadata": {},
   "source": [
    "<h1>Converting index to a higher-order function</h1>\n",
    "<li>index returns the location of a value that satisfies <span style=\"color:blue\">a(i)==e</span> </li>\n",
    "<li><span style=\"color:blue\">a(i)==e</span> returns a boolean (true or false)</li>\n",
    "<li>and both <span style=\"color:blue\">a(i)</span> and <span style=\"color:blue\">e</span> are of the same unspecified type A</li>\n",
    "<li>we can generalize this so that index returns the <span style=\"color:red\">location of a value that satisfies any arbitrary condition</span></li>\n",
    "<li>We can do this by passing the condition as a  function argument to index with the signature <span style=\"color:blue\">f: A => Boolean</span></li>\n",
    "<li>where A is the argument type (unknown) and Boolean is the return type</li>\n",
    "<li>A function that returns either true or false is known as a <span style=\"color:red\">predicate function</span></li>"
   ]
  },
  {
   "cell_type": "code",
   "execution_count": 22,
   "id": "34f4fd95",
   "metadata": {},
   "outputs": [
    {
     "data": {
      "text/plain": [
       "y: String => Boolean = $Lambda$2182/0x0000000800dec040@1d8a074d\n",
       "res7: Boolean = false\n"
      ]
     },
     "execution_count": 22,
     "metadata": {},
     "output_type": "execute_result"
    }
   ],
   "source": [
    "//Examples of the boolean condition\n",
    "\n",
    "val y = (x: String) => x==\"hello\"\n",
    "y(\"mello\")\n",
    "//y(\"hello\")"
   ]
  },
  {
   "cell_type": "code",
   "execution_count": 23,
   "id": "d907179a",
   "metadata": {},
   "outputs": [
    {
     "data": {
      "text/plain": [
       "y: Int => Boolean = $Lambda$2184/0x0000000800def040@7df29f71\n",
       "res8: Boolean = true\n"
      ]
     },
     "execution_count": 23,
     "metadata": {},
     "output_type": "execute_result"
    }
   ],
   "source": [
    "val y = (x: Int) => x==10\n",
    "y(10)\n",
    "//y(11)"
   ]
  },
  {
   "cell_type": "code",
   "execution_count": 24,
   "id": "463dd569",
   "metadata": {},
   "outputs": [
    {
     "data": {
      "text/plain": [
       "foo: (Int, Int) => Boolean = $Lambda$2185/0x0000000800dee840@25e49553\n",
       "res9: Boolean = true\n"
      ]
     },
     "execution_count": 24,
     "metadata": {},
     "output_type": "execute_result"
    }
   ],
   "source": [
    "val foo = (a: Int,b: Int) => a==b\n",
    "foo(3,3)"
   ]
  },
  {
   "cell_type": "code",
   "execution_count": 36,
   "id": "1f7440e7",
   "metadata": {},
   "outputs": [
    {
     "data": {
      "text/plain": [
       "index: [A](a: Array[A], p: A => Boolean)Int\n"
      ]
     },
     "execution_count": 36,
     "metadata": {},
     "output_type": "execute_result"
    }
   ],
   "source": [
    "//Higher order index function\n",
    "def index[A] (a: Array[A], p: A => Boolean): Int = {\n",
    "  @annotation.tailrec\n",
    "  def loop(i: Int): Int =\n",
    "    if (i >= a.length) throw new IllegalArgumentException(\"%s not found in array\".format(p))\n",
    "    else if (p(a(i))) i\n",
    "    else loop(i + 1)\n",
    "\n",
    "  loop(0)\n",
    "}\n",
    "//Return the location of the first instance of \"Hello\" in the array\n",
    "val r1 = index(Array(\"Hola\",\"Hello\",\"bon jour\"),(x:String) => x==\"Hello\")"
   ]
  },
  {
   "cell_type": "markdown",
   "id": "652f134d",
   "metadata": {},
   "source": [
    "<img src=\"higher order function.png\">"
   ]
  },
  {
   "cell_type": "code",
   "execution_count": 37,
   "id": "fc4f1689",
   "metadata": {},
   "outputs": [
    {
     "data": {
      "text/plain": [
       "r1: Int = 1\n",
       "r2: Int = 2\n"
      ]
     },
     "execution_count": 37,
     "metadata": {},
     "output_type": "execute_result"
    }
   ],
   "source": [
    "//Return the location of the first instance of \"Hello\" in the array\n",
    "val r1 = index(Array(\"Hola\",\"Hello\",\"bon jour\"),(x:String) => x==\"Hello\")\n",
    "\n",
    "//Return the location of the first value that is divisible by 4\n",
    "val r2 = index(Array(2,3,4,5,6,7,8),(x:Int) => x%4==0)"
   ]
  },
  {
   "cell_type": "code",
   "execution_count": 38,
   "id": "5a2273ee",
   "metadata": {},
   "outputs": [
    {
     "ename": "java.lang.IllegalArgumentException",
     "evalue": " $Lambda$2204/0x0000000800e16040@4d6ba3b6 not found in array",
     "output_type": "error",
     "traceback": [
      "java.lang.IllegalArgumentException: $Lambda$2204/0x0000000800e16040@4d6ba3b6 not found in array",
      "  at loop$1(<console>:27)",
      "  at index(<console>:31)",
      "  ... 37 elided",
      ""
     ]
    }
   ],
   "source": [
    "index(Array(1,3,2,4),(x:Int) => x==42)"
   ]
  },
  {
   "cell_type": "markdown",
   "id": "daca5530",
   "metadata": {},
   "source": [
    "<h1>Try this</h1>\n",
    "<li>Return the index of the first value that is divisible by both 2 and 3</li>\n",
    "<li>Note: logical and in Scala is &</li>"
   ]
  },
  {
   "cell_type": "code",
   "execution_count": 39,
   "id": "483a647d",
   "metadata": {},
   "outputs": [
    {
     "data": {
      "text/plain": [
       "a: Array[Int] = Array(1, 2, 3, 4, 6, 10)\n",
       "r3: Int = 4\n"
      ]
     },
     "execution_count": 39,
     "metadata": {},
     "output_type": "execute_result"
    }
   ],
   "source": [
    "val a = Array(1,2,3,4,6,10)\n",
    "val r3 = index(a,(x:Int) => x%2==0 & x%3==0)"
   ]
  },
  {
   "cell_type": "markdown",
   "id": "0c2d993c",
   "metadata": {},
   "source": [
    "<h2>Anonymous functions</h2>\n",
    "\n",
    "<pre>\n",
    "val foo = (x: Int) => x==5\n",
    "</pre>\n",
    "\n",
    "<li><b>foo</b> is the function name</li>\n",
    "<li>The RHS of the assignment is the function definition</li>\n",
    "<li><b>=></b> separates the argument list (x of type Int) from the implementation</li>"
   ]
  },
  {
   "cell_type": "code",
   "execution_count": 51,
   "id": "a28e5bec",
   "metadata": {},
   "outputs": [
    {
     "data": {
      "text/plain": [
       "div_by_4: Int => Boolean = $Lambda$2316/0x0000000800e90840@4c9f4d92\n",
       "r1: Boolean = true\n",
       "r2: Boolean = false\n"
      ]
     },
     "execution_count": 51,
     "metadata": {},
     "output_type": "execute_result"
    }
   ],
   "source": [
    "val div_by_4 =  (x:Int) => x%4==0\n",
    "val r1 = div_by_4(8)\n",
    "val r2 = div_by_4(7)"
   ]
  },
  {
   "cell_type": "markdown",
   "id": "aa3bb74d",
   "metadata": {},
   "source": [
    "<h1>Declarations</h1>\n",
    "<h3>def, var, val, lazy val</h3>\n",
    "<li>def, val, var can all be used to declare and create objects</li>\n",
    "<li>val is used to create immutable objects</li>\n",
    "<li>var is used to create mutable objects</li>\n",
    "<li>def is used to create immutable objects (we’ll see the difference between def and val)</li>\n",
    "<li>lazy val is used to “defer” the creation of an object until it is explicitly required</li>\n",
    "<li>Note: Each of these can be used to declare and create variables, functions, or other objects</li>"
   ]
  },
  {
   "cell_type": "markdown",
   "id": "7c0c3336",
   "metadata": {},
   "source": [
    "<h3>val vs lazy val vs def</h3>\n",
    "<li>Each of these is an assignment statement of the form <span style=\"color:blue\">identifier (LHS) = expression (RHS)</span></li>\n",
    "<li><span style=\"color:blue\">val</span>: evaluates the RHS and attaches the resulting value to the identifier on the LHS. The evaluation is never done again</li>\n",
    "<li><span style=\"color:blue\">lazy val</span>: evaluates the RHS expression and assigns a value to the identifier only when needed. The evaluation is only done once, but in a lazy way</li>\n",
    "<li><span style=\"color:blue\">def</span>: the expression is evaluated <b>each</b> time that the identifier is called but not evaluated at the point of definition</li>"
   ]
  },
  {
   "cell_type": "code",
   "execution_count": 20,
   "id": "37da7581",
   "metadata": {},
   "outputs": [
    {
     "name": "stdout",
     "output_type": "stream",
     "text": [
      "Things can get hot quickly on Venus\n"
     ]
    },
    {
     "data": {
      "text/plain": [
       "x: Int = <lazy>\n",
       "y: Int = -1685015854\n",
       "z: Int\n"
      ]
     },
     "execution_count": 20,
     "metadata": {},
     "output_type": "execute_result"
    }
   ],
   "source": [
    "//x returns an Int. It will always return the same Int\n",
    "lazy val x = {\n",
    "    println(\"Life on Mars can be a bit on the cold side\")\n",
    "    util.Random.nextInt\n",
    "}\n",
    "\n",
    "//y returns an Int. It will always return the same Int\n",
    "val y = {\n",
    "    println(\"Things can get hot quickly on Venus\")\n",
    "    util.Random.nextInt\n",
    "}\n",
    "\n",
    "//z returns an Int. It will always return a different Int\n",
    "def z = {\n",
    "    println(\"Life is a gas on Jupiter\")\n",
    "    util.Random.nextInt\n",
    "}"
   ]
  },
  {
   "cell_type": "code",
   "execution_count": 21,
   "id": "f766386a",
   "metadata": {},
   "outputs": [
    {
     "name": "stdout",
     "output_type": "stream",
     "text": [
      "Life on Mars can be a bit on the cold side\n"
     ]
    },
    {
     "data": {
      "text/plain": [
       "res11: Int = 1580491915\n"
      ]
     },
     "execution_count": 21,
     "metadata": {},
     "output_type": "execute_result"
    }
   ],
   "source": [
    "x"
   ]
  },
  {
   "cell_type": "code",
   "execution_count": 22,
   "id": "81581085",
   "metadata": {},
   "outputs": [
    {
     "data": {
      "text/plain": [
       "res12: Int = 1580491915\n"
      ]
     },
     "execution_count": 22,
     "metadata": {},
     "output_type": "execute_result"
    }
   ],
   "source": [
    "x //immutable since val. it only evalutaed once"
   ]
  },
  {
   "cell_type": "code",
   "execution_count": 23,
   "id": "dcbee108",
   "metadata": {},
   "outputs": [
    {
     "data": {
      "text/plain": [
       "res13: Int = -1685015854\n"
      ]
     },
     "execution_count": 23,
     "metadata": {},
     "output_type": "execute_result"
    }
   ],
   "source": [
    "y"
   ]
  },
  {
   "cell_type": "code",
   "execution_count": 24,
   "id": "1d2bf364",
   "metadata": {},
   "outputs": [
    {
     "name": "stdout",
     "output_type": "stream",
     "text": [
      "Life is a gas on Jupiter\n"
     ]
    },
    {
     "data": {
      "text/plain": [
       "res14: Int = 2128815426\n"
      ]
     },
     "execution_count": 24,
     "metadata": {},
     "output_type": "execute_result"
    }
   ],
   "source": [
    "z "
   ]
  },
  {
   "cell_type": "code",
   "execution_count": 25,
   "id": "bb69aaf8",
   "metadata": {},
   "outputs": [
    {
     "name": "stdout",
     "output_type": "stream",
     "text": [
      "Life is a gas on Jupiter\n"
     ]
    },
    {
     "data": {
      "text/plain": [
       "res15: Int = -957187880\n"
      ]
     },
     "execution_count": 25,
     "metadata": {},
     "output_type": "execute_result"
    }
   ],
   "source": [
    "z // def evaluated every time"
   ]
  },
  {
   "cell_type": "markdown",
   "id": "2c213595",
   "metadata": {},
   "source": [
    "<h2>Try this!</h2>\n",
    "Write a scala parametric polymorphic function that checks whether an array is sorted, according to some arbitrary comparision function.\n",
    "<li>If the array is sorted, the function returns true otherwise it returns false</li>\n",
    "<li>the function should have two arguments, an array of type A, and the comparision function</li>\n",
    "\n",
    "\n",
    "<h3>Examples:</h3>\n",
    "\n",
    "* Array(1,2,3,4) is sorted using the rule that for each (i,j) the value at i is less than the value at j\n",
    "* Array(1,2,3,4) is not sorted using the rule that for each (i,j) the value at j is greater than the square of the value at i\n",
    "* Array(1,2,5,26) satisfies the square rule\n",
    "\n",
    "<h3>Approach</h3>\n",
    "<li>tail recursion!!!!</li>\n",
    "<li>define the wrapper (interface) function. Note that it will have a function argument</li>\n",
    "<li>define a recursive loop function inside the isSorted</li>\n",
    "<li>start at the second element. Apply the function argument to compare 1st and 2nd element</li>\n",
    "<li>if the comparison is false, the Array is not sorted</li>\n",
    "<li>if the comparison is true, repeat (recursive call) with the rest of the array (rooted at 2nd argument)</li>\n",
    "<li>When will it all end?</li>"
   ]
  },
  {
   "cell_type": "markdown",
   "id": "a4899f6e",
   "metadata": {},
   "source": [
    "<div style=\"font-size:large\">First, try writing a function of two variables that returns true or false<p>\n",
    "    E.g., the function returns true if b>a is true where b is the 2nd argument and a is the first argument</div>"
   ]
  },
  {
   "cell_type": "code",
   "execution_count": 13,
   "id": "abfb5f31",
   "metadata": {},
   "outputs": [
    {
     "data": {
      "text/plain": [
       "res9: (Int, Int) => Boolean = $Lambda$2052/0x0000000800d90840@62e5a71\n"
      ]
     },
     "execution_count": 13,
     "metadata": {},
     "output_type": "execute_result"
    }
   ],
   "source": [
    "(x: Int,y: Int) => y>x"
   ]
  },
  {
   "cell_type": "code",
   "execution_count": 14,
   "id": "aceba234",
   "metadata": {},
   "outputs": [
    {
     "data": {
      "text/plain": [
       "res10: (Int, Int) => Boolean = $Lambda$2053/0x0000000800d97840@76d9cdbd\n"
      ]
     },
     "execution_count": 14,
     "metadata": {},
     "output_type": "execute_result"
    }
   ],
   "source": [
    "(x: Int,y: Int) => y>x*x"
   ]
  },
  {
   "cell_type": "markdown",
   "id": "ced8f17d",
   "metadata": {},
   "source": [
    "<div style=\"font-size:large\">\n",
    "    Then, write the signature of isSorted</div>\n",
    "    <li>Return false if not sorted</li>"
   ]
  },
  {
   "cell_type": "code",
   "execution_count": null,
   "id": "c8bceacd",
   "metadata": {},
   "outputs": [],
   "source": []
  },
  {
   "cell_type": "markdown",
   "id": "ea19121a",
   "metadata": {},
   "source": [
    "<div style=\"font-size:large\">\n",
    "    Then, the loop<p>\n",
    "    <li>the first statement in the loop is the stopping condition</li>\n",
    "    <li>the second statement checks whether two values satisfy the condition</li>\n",
    "    <li>the third statement is the recursive call</li></div"
   ]
  },
  {
   "cell_type": "code",
   "execution_count": 17,
   "id": "1e350e22",
   "metadata": {},
   "outputs": [
    {
     "data": {
      "text/plain": [
       "isSorted: [A](a: Array[A], p: (A, A) => Boolean)Boolean\n"
      ]
     },
     "execution_count": 17,
     "metadata": {},
     "output_type": "execute_result"
    }
   ],
   "source": [
    "def isSorted[A] (a: Array[A], p: (A,A) => Boolean): Boolean = {\n",
    "    def loop(i: Int): Boolean = {\n",
    "        if (i>=a.length) true\n",
    "        else {\n",
    "            if (p(a(i-1),a(i))) loop(i+1)\n",
    "            else false\n",
    "        }\n",
    "    }\n",
    "    loop(1)\n",
    "}"
   ]
  },
  {
   "cell_type": "markdown",
   "id": "885fe730",
   "metadata": {},
   "source": [
    "<div style=\"font-size:large\">\n",
    "    Finally, initialize necessary loop variables and call loop</div"
   ]
  },
  {
   "cell_type": "code",
   "execution_count": 28,
   "id": "06746e0d",
   "metadata": {},
   "outputs": [],
   "source": [
    "// val foo = (a: Int,b: Int) => a>b"
   ]
  },
  {
   "cell_type": "markdown",
   "id": "93e5e254",
   "metadata": {},
   "source": [
    "<div style=\"font-size:large\">Test the function!</div>"
   ]
  },
  {
   "cell_type": "code",
   "execution_count": 26,
   "id": "42e282d9",
   "metadata": {},
   "outputs": [
    {
     "data": {
      "text/plain": [
       "r1: Boolean = false\n",
       "r2: Boolean = true\n",
       "r3: Boolean = false\n",
       "r4: Boolean = true\n",
       "r5: Boolean = true\n"
      ]
     },
     "execution_count": 26,
     "metadata": {},
     "output_type": "execute_result"
    }
   ],
   "source": [
    "val r1 = isSorted(Array(1,2,3,4),(a: Int,b: Int) => a>b)\n",
    "val r2 = isSorted(Array(1,2,3,4),(a: Int,b: Int) => a<b)\n",
    "val r3 = isSorted(Array(1,2,3,4),(a: Int,b: Int) => b>a*a)\n",
    "val r4 = isSorted(Array(1,2,5,26),(a: Int,b: Int) => b>a*a)\n",
    "val r5 = isSorted(Array(\"Hope\",\"Hopeful\",\"Hopeless\"),(a: String,b: String)=> a.length<b.length)"
   ]
  },
  {
   "cell_type": "markdown",
   "id": "968a7f99",
   "metadata": {},
   "source": [
    "<h1>Currying</h1>\n",
    "<p></p>\n",
    "<div style=\"font-size:large\">\n",
    "<li>currying is the process of converting a function with multiple arguments into a sequence of functions, each with a single argument</li><p></p>\n",
    "    \n",
    "$f(x,y,z) ===> f(x)(y)(z)$\n",
    "    <p></p>\n",
    "<li>Currying is a useful function building block because</li><p></p>\n",
    "<ul>\n",
    "<li>parameter values may not be known at the same time </li><p></p>\n",
    "    <ul>\n",
    "<li>$f(x,y,z)$ if partial data for x arrives, we can use the curried $f(x)(y)(z)$ to start processing $f$</li><p></p>\n",
    "<li>generating anonymous functions to pass to other functions is relatively simple</li><p></p>\n",
    "    </ul>\n",
    "    </ul>\n",
    "<li>Scala functions are often written as curried functions</li><p></p>\n",
    "</div>"
   ]
  },
  {
   "cell_type": "markdown",
   "id": "cb83aca7",
   "metadata": {},
   "source": [
    "<span style=\"color:red;font-size:xx-large\">A curried version of python's index function</span><p>\n",
    "<div style=\"font-size:large\">\n",
    "<li>Note that the function argument and the data argument are in separate lists</li><p>\n",
    "<li>def index[A]<span style=\"color:blue\">(a: Array[A])</span><span style=\"color:green\">(p:A => Boolean)</span>: Int</li>\n",
    "    </div>"
   ]
  },
  {
   "cell_type": "code",
   "execution_count": 59,
   "id": "24681e4c",
   "metadata": {},
   "outputs": [
    {
     "data": {
      "text/plain": [
       "index: [A](a: Array[A])(p: A => Boolean)Int\n"
      ]
     },
     "execution_count": 59,
     "metadata": {},
     "output_type": "execute_result"
    }
   ],
   "source": [
    "def index[A](a: Array[A])(p:A => Boolean): Int = {\n",
    "  @annotation.tailrec\n",
    "  def loop(i: Int): Int = {\n",
    "    if (i >= a.length) throw new IllegalArgumentException(\"That didn't work now, did it?\")\n",
    "    else if (p(a(i))) i\n",
    "    else loop(i + 1)\n",
    "  }\n",
    "\n",
    "  loop(0)    \n",
    "}"
   ]
  },
  {
   "cell_type": "markdown",
   "id": "7248a3d4",
   "metadata": {},
   "source": [
    "<span style=\"font-size:large\">Calling the curried index</span>"
   ]
  },
  {
   "cell_type": "code",
   "execution_count": 55,
   "id": "519f7623",
   "metadata": {},
   "outputs": [
    {
     "data": {
      "text/plain": [
       "res24: Int = 1\n"
      ]
     },
     "execution_count": 55,
     "metadata": {},
     "output_type": "execute_result"
    }
   ],
   "source": [
    "index(Array(1,2,3,4,5))((x: Int) => x%2==0)"
   ]
  },
  {
   "cell_type": "code",
   "execution_count": 56,
   "id": "346b58a9",
   "metadata": {},
   "outputs": [
    {
     "data": {
      "text/plain": [
       "res25: (Int => Boolean) => Int = $Lambda$2258/0x0000000800e55040@5152ca49\n"
      ]
     },
     "execution_count": 56,
     "metadata": {},
     "output_type": "execute_result"
    }
   ],
   "source": [
    "index(Array(1,2,3,4,5))(_)"
   ]
  },
  {
   "cell_type": "markdown",
   "id": "f27039ce",
   "metadata": {},
   "source": [
    "<span style=\"color:red;font-size:xx-large\">A partial application version of index</span>\n",
    "<p>\n",
    "    <li><span style=\"color:blue\">partial application</span> refers to the conversion of a function of n arguments into a function of n-1 or fewer arguments with some values fixed</li>\n",
    "    <li>partial application is used in functional programming to define specialized functions</li>\n",
    "    <li>A curried function can be converted to a partial application function using the (_) operator (the underscore signifies an unknown function argument</li>\n",
    "    <li>z, defined below, is a function that can apply any predicate function to the Array(1,2,3,4,5) and return the index of the first occurrence that satisfies that condition</li>"
   ]
  },
  {
   "cell_type": "code",
   "execution_count": 6,
   "id": "1231d3ed",
   "metadata": {},
   "outputs": [
    {
     "data": {
      "text/plain": [
       "z: (Int => Boolean) => Int = $Lambda$2114/0x0000000800db2040@4d0ee6b9\n"
      ]
     },
     "execution_count": 6,
     "metadata": {},
     "output_type": "execute_result"
    }
   ],
   "source": [
    "val z = index(Array(1,2,3,4,5))(_) //only can change predicate function"
   ]
  },
  {
   "cell_type": "code",
   "execution_count": 7,
   "id": "8953cf4f",
   "metadata": {},
   "outputs": [
    {
     "data": {
      "text/plain": [
       "r1: Int = 2\n"
      ]
     },
     "execution_count": 7,
     "metadata": {},
     "output_type": "execute_result"
    }
   ],
   "source": [
    "val r1 = z((x: Int) => x%3==0)\n"
   ]
  },
  {
   "cell_type": "code",
   "execution_count": 8,
   "id": "ef0be11e",
   "metadata": {},
   "outputs": [
    {
     "ename": "java.lang.IllegalArgumentException",
     "evalue": " That didn't work now, did it?",
     "output_type": "error",
     "traceback": [
      "java.lang.IllegalArgumentException: That didn't work now, did it?",
      "  at loop$1(<console>:26)",
      "  at index(<console>:30)",
      "  at $anonfun$z$1(<console>:24)",
      "  at $anonfun$z$1$adapted(<console>:24)",
      "  ... 38 elided",
      ""
     ]
    }
   ],
   "source": [
    "val r2 = z((x: Int) => x==6)"
   ]
  },
  {
   "cell_type": "markdown",
   "id": "e442b590",
   "metadata": {},
   "source": [
    "<span style=\"color:red;font-size:x-large\">A partial application function with the predicate function specified</span>\n",
    "<p>\n",
    "<li>Note that we must specify A when creating a partial application version because Scala needs to know the type of A</li><p>\n"
   ]
  },
  {
   "cell_type": "code",
   "execution_count": 9,
   "id": "40c8d445",
   "metadata": {},
   "outputs": [
    {
     "data": {
      "text/plain": [
       "z: Array[Int] => Int = $Lambda$2131/0x0000000800dc6840@7724b15b\n",
       "r1: Int = 0\n",
       "r2: Int = 3\n"
      ]
     },
     "execution_count": 9,
     "metadata": {},
     "output_type": "execute_result"
    }
   ],
   "source": [
    "val z = index(_:Array[Int])((x: Int) => x%2==1) //Note the placement of the underscore\n",
    "val r1 = z(Array(1,2,3,4,5))\n",
    "val r2 = z(Array(2,4,6,9,8))"
   ]
  },
  {
   "cell_type": "code",
   "execution_count": 60,
   "id": "61e11744",
   "metadata": {},
   "outputs": [
    {
     "ename": "<console>",
     "evalue": "26: error: missing argument list for method index",
     "output_type": "error",
     "traceback": [
      "<console>:26: error: missing argument list for method index",
      "Unapplied methods are only converted to functions when a function type is expected.",
      "You can make this conversion explicit by writing `index _` or `index(_)(_)` instead of `index`.",
      "       index(Array(1,2,3,4,5))",
      "            ^",
      ""
     ]
    }
   ],
   "source": [
    "index(Array(1,2,3,4,5))"
   ]
  },
  {
   "cell_type": "markdown",
   "id": "cd2d5d72",
   "metadata": {},
   "source": [
    "<span style=\"color:red;font-size:xx-large\">Converting a function into a curried function</span>\n",
    "<p>\n",
    "    <li>The .curried method curries any scala function</li>\n",
    "    <li>In the example below <span style=\"color:blue\">Double=>(Double=>Double)</span> should be read as \"bar is a function that takes a Double as an argument and returns a new function. The new function takes a Double as an argument and returns a Double</li>"
   ]
  },
  {
   "cell_type": "code",
   "execution_count": 37,
   "id": "6ef49af7",
   "metadata": {},
   "outputs": [
    {
     "data": {
      "text/plain": [
       "foo: (a: Double, b: Double)Int\n",
       "bar: Double => (Double => Int) = scala.Function2$$Lambda$2161/0x0000000800268840@c4a08b8\n",
       "r1: Int = 0\n",
       "r2: Int = 0\n"
      ]
     },
     "execution_count": 37,
     "metadata": {},
     "output_type": "execute_result"
    }
   ],
   "source": [
    "def foo(a: Double, b: Double): Int = a.toInt/b.toInt\n",
    "val bar = (foo _).curried //The _ here is a placeholder for all arguments\n",
    "val r1 = foo(3.2,4.1)\n",
    "val r2 = bar(3.2)(4.1)"
   ]
  },
  {
   "cell_type": "code",
   "execution_count": 38,
   "id": "1f52602a",
   "metadata": {},
   "outputs": [
    {
     "data": {
      "text/plain": [
       "a: Double => Int = scala.Function2$$Lambda$2162/0x000000080025d840@477101a3\n"
      ]
     },
     "execution_count": 38,
     "metadata": {},
     "output_type": "execute_result"
    }
   ],
   "source": [
    "val a = bar(3)"
   ]
  },
  {
   "cell_type": "code",
   "execution_count": 34,
   "id": "0fbdb215",
   "metadata": {},
   "outputs": [
    {
     "data": {
      "text/plain": [
       "res18: Double = 0.0\n"
      ]
     },
     "execution_count": 34,
     "metadata": {},
     "output_type": "execute_result"
    }
   ],
   "source": [
    "a(4)"
   ]
  },
  {
   "cell_type": "markdown",
   "id": "6bbb823c",
   "metadata": {},
   "source": [
    "<li>We will see lots of curried functions in scala</li>\n",
    "<li>But, one immediate benefit:</li>\n",
    "<ul>\n",
    "    <li>scala can infer argument types in chained functions</li>\n",
    "    <li>and we can use this inference to create more generic functions</li>\n",
    "    </ul>\n",
    "    <li>Consider the simple curried function foo below and its uncurried version</li>"
   ]
  },
  {
   "cell_type": "code",
   "execution_count": 61,
   "id": "656271ce",
   "metadata": {},
   "outputs": [
    {
     "data": {
      "text/plain": [
       "foo: [A](x: A)(f: A => A)A\n",
       "res29: Int = 25\n"
      ]
     },
     "execution_count": 61,
     "metadata": {},
     "output_type": "execute_result"
    }
   ],
   "source": [
    "\n",
    "def foo[A](x: A)(f: A => A): A = f(x) //curried arguments x and f\n",
    "foo(5)(x => x*x) //the A is Int will be passed through from foo(5) to (foo(5))(x=>x*x)\n"
   ]
  },
  {
   "cell_type": "code",
   "execution_count": 43,
   "id": "1aef12a9",
   "metadata": {},
   "outputs": [
    {
     "ename": "<console>",
     "evalue": "28: error: missing parameter type",
     "output_type": "error",
     "traceback": [
      "<console>:28: error: missing parameter type",
      "       foo(5, x => x*x) // error: missing parameter type. Scala does not know what to infer here //valuated indepdently, so x don't know the data type",
      "              ^",
      ""
     ]
    }
   ],
   "source": [
    "def foo[A](x: A, f: A => A): A = f(x) //non-curried arguments x and f\n",
    "foo(5, x => x*x) // error: missing parameter type. Scala does not know what to infer here //valuated indepdently, so x don't know the data type\n",
    "\n",
    "//We will have to be explicit about the type of A in f\n",
    "//foo(5,(x: Int) => x*x)"
   ]
  },
  {
   "cell_type": "code",
   "execution_count": 41,
   "id": "741c5b8c",
   "metadata": {},
   "outputs": [
    {
     "data": {
      "text/plain": [
       "bar: Nothing => ((Nothing => Nothing) => Nothing) = scala.Function2$$Lambda$2161/0x0000000800268840@72384a24\n"
      ]
     },
     "execution_count": 41,
     "metadata": {},
     "output_type": "execute_result"
    }
   ],
   "source": [
    "// val bar = (foo _).curried "
   ]
  },
  {
   "cell_type": "code",
   "execution_count": 42,
   "id": "21ea4594",
   "metadata": {},
   "outputs": [
    {
     "ename": "<console>",
     "evalue": "26: error: type mismatch;",
     "output_type": "error",
     "traceback": [
      "<console>:26: error: type mismatch;",
      " found   : Int(5)",
      " required: Nothing",
      "       bar(5)",
      "           ^",
      ""
     ]
    }
   ],
   "source": [
    "// bar(5)"
   ]
  },
  {
   "cell_type": "markdown",
   "id": "15aba6fb",
   "metadata": {},
   "source": [
    "<span style=\"color:red;font-size:xx-large\">Digression</span><p>\n",
    "    <li>Write a function that converts a function of four arguments into a curried function of 4 arguments</li>\n",
    "    <li>I.e., $curry(f(a,b,c,d)) => g(a)(b)(c)(d)$</li>\n",
    "    <li>Yes, I know we can just use .curried, but let's write our own \"currier\"!</li>"
   ]
  },
  {
   "cell_type": "markdown",
   "id": "8660ef90",
   "metadata": {},
   "source": [
    "<div style=\"font-size:large\">\n",
    "<li>$f$ has four arguments and returns one value and we want to keep it general</li><p>\n",
    "<li>Therefore the curry function will have 5 data types: A, B, C, D for the args and E for the return type</li><p>\n",
    "<li>curry takes one argument, a function with the signature <span style=\"color:blue\">f: (A,B,C,D):E</span></li><p>\n",
    "<li>curry returns a chain of function calls $ g(a)(b)(c)(d) $</li><p>\n",
    "<li>Given argument A, curry returns a function with the signature (B => (C => (D => E))</li><p>\n",
    "<li>Given A, and B, curry returns  (C => (D => E))</li><p>\n",
    "    <li>Given all four arguments, curry returns $f(a,b,c,d)$</li><p>\n",
    "    <li>Let's write curry!</li><p>\n",
    "    "
   ]
  },
  {
   "cell_type": "code",
   "execution_count": 59,
   "id": "9d0312c2",
   "metadata": {},
   "outputs": [
    {
     "data": {
      "text/plain": [
       "Curry: [A, B, C, D, E](f: (A, B, C, D) => E)A => (B => (C => (D => E)))\n"
      ]
     },
     "execution_count": 59,
     "metadata": {},
     "output_type": "execute_result"
    }
   ],
   "source": [
    "def Curry[A,B,C,D,E](f:(A,B,C,D)=>E): A => (B => (C => (D => E))) =\n",
    "    a => (b => (c => (d => f(a,b,c,d))))\n"
   ]
  },
  {
   "cell_type": "code",
   "execution_count": 60,
   "id": "1200e394",
   "metadata": {},
   "outputs": [
    {
     "data": {
      "text/plain": [
       "f: (q: Int, w: Int, e: Int, r: Int)Double\n",
       "res30: Double = 84.55\n"
      ]
     },
     "execution_count": 60,
     "metadata": {},
     "output_type": "execute_result"
    }
   ],
   "source": [
    "def f(q: Int, w: Int, e: Int, r: Int) = 0.2*q + 0.15*w + 0.5*e + 0.15*r\n",
    "f(90,75,83,92)\n",
    "// (a: Int, b: Int, c: Int, d: Int) => 0.2*a + 0.15*b + 0.5*c + 0.15*d)"
   ]
  },
  {
   "cell_type": "code",
   "execution_count": 61,
   "id": "817d4022",
   "metadata": {},
   "outputs": [
    {
     "data": {
      "text/plain": [
       "res31: Int => (Int => (Int => (Int => Double))) = $Lambda$2222/0x0000000800e1c040@38154e56\n"
      ]
     },
     "execution_count": 61,
     "metadata": {},
     "output_type": "execute_result"
    }
   ],
   "source": [
    "Curry((q: Int, w: Int, e: Int, r: Int) => 0.2*q + 0.15*w + 0.5*e + 0.15*r)"
   ]
  },
  {
   "cell_type": "code",
   "execution_count": 78,
   "id": "76bde2c7",
   "metadata": {},
   "outputs": [
    {
     "data": {
      "text/plain": [
       "bar: Int => Double = $Lambda$2278/0x0000000800e82840@1f130ba3\n",
       "res43: Double = 84.55\n"
      ]
     },
     "execution_count": 78,
     "metadata": {},
     "output_type": "execute_result"
    }
   ],
   "source": [
    "val bar = Curry(f)(90)(75)(83) // first convert to curry function, then apply with arguments\n",
    "bar(92)"
   ]
  },
  {
   "cell_type": "code",
   "execution_count": 82,
   "id": "bbc4f5ce",
   "metadata": {},
   "outputs": [
    {
     "data": {
      "text/plain": [
       "res46: Int = 10\n"
      ]
     },
     "execution_count": 82,
     "metadata": {},
     "output_type": "execute_result"
    }
   ],
   "source": [
    "Curry((a: Int, b: Int, c: Int, d: Int) => a + b + c + d)(1)(2)(3)(4)"
   ]
  },
  {
   "cell_type": "code",
   "execution_count": 18,
   "id": "dcf95ddf",
   "metadata": {},
   "outputs": [
    {
     "data": {
      "text/plain": [
       "res8: Int => (Int => Double) = $Lambda$2145/0x0000000800ddd840@507f061a\n"
      ]
     },
     "execution_count": 18,
     "metadata": {},
     "output_type": "execute_result"
    }
   ],
   "source": [
    "Curry(f)(90)(75)"
   ]
  },
  {
   "cell_type": "markdown",
   "id": "1f1a7e51",
   "metadata": {},
   "source": [
    "<h1>Combining functions</h1>\n",
    "<li>Compose: $ (f \\circ g)(x) $ or $ f(g(x)) $ </li>\n",
    "<li>andThen: $ g(f(x)) $"
   ]
  },
  {
   "cell_type": "code",
   "execution_count": 19,
   "id": "a9db60f0",
   "metadata": {},
   "outputs": [
    {
     "data": {
      "text/plain": [
       "f: Int => Int = $Lambda$2149/0x0000000800de9040@507c4d9c\n",
       "g: Int => Int = $Lambda$2150/0x0000000800de9840@351c7f53\n",
       "t1: Int = 32\n",
       "t2: Int = 64\n"
      ]
     },
     "execution_count": 19,
     "metadata": {},
     "output_type": "execute_result"
    }
   ],
   "source": [
    "val f = (x: Int) => x*2\n",
    "val g = (x: Int) => x*x\n",
    "\n",
    "val t1=(f compose g)(4) //Do g first and apply f to the result\n",
    "val t2=(f andThen g)(4) //Do f first and then apply g to the result"
   ]
  },
  {
   "cell_type": "code",
   "execution_count": null,
   "id": "bba80c03",
   "metadata": {},
   "outputs": [],
   "source": []
  }
 ],
 "metadata": {
  "kernelspec": {
   "display_name": "spylon-kernel",
   "language": "scala",
   "name": "spylon-kernel"
  },
  "language_info": {
   "codemirror_mode": "text/x-scala",
   "file_extension": ".scala",
   "help_links": [
    {
     "text": "MetaKernel Magics",
     "url": "https://metakernel.readthedocs.io/en/latest/source/README.html"
    }
   ],
   "mimetype": "text/x-scala",
   "name": "scala",
   "pygments_lexer": "scala",
   "version": "0.4.1"
  },
  "toc": {
   "base_numbering": 1,
   "nav_menu": {},
   "number_sections": true,
   "sideBar": true,
   "skip_h1_title": false,
   "title_cell": "Table of Contents",
   "title_sidebar": "Contents",
   "toc_cell": false,
   "toc_position": {},
   "toc_section_display": true,
   "toc_window_display": false
  }
 },
 "nbformat": 4,
 "nbformat_minor": 5
}
