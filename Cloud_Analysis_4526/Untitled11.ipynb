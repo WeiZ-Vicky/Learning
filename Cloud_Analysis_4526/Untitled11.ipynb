{
 "cells": [
  {
   "cell_type": "code",
   "execution_count": 8,
   "id": "57c1b329",
   "metadata": {},
   "outputs": [
    {
     "name": "stdout",
     "output_type": "stream",
     "text": [
      "[1, 2, 3, 4, 9]\n",
      "[1, 2, 3, 4, 9]\n",
      "4416097152\n",
      "4416097152\n"
     ]
    }
   ],
   "source": [
    "def stateful_func(x,y):\n",
    "    x.append(y)\n",
    "    return x\n",
    "\n",
    "list1 = [1,2,3,4]\n",
    "list2 = stateful_func(list1,9)\n",
    "print(list1)\n",
    "print(list2)\n",
    "print(id(list1))\n",
    "print(id(list2))"
   ]
  },
  {
   "cell_type": "code",
   "execution_count": 9,
   "id": "518d05c8",
   "metadata": {},
   "outputs": [
    {
     "name": "stdout",
     "output_type": "stream",
     "text": [
      "[1, 2, 3, 4]\n",
      "[1, 2, 3, 4, 9]\n",
      "4416096704\n",
      "4416097408\n"
     ]
    }
   ],
   "source": [
    "def stateless_func(x,y):\n",
    "    x=x+[y]\n",
    "    return x\n",
    "\n",
    "list1 = [1,2,3,4]\n",
    "list2 = stateless_func(list1,9)\n",
    "print(list1)\n",
    "print(list2)\n",
    "print(id(list1))\n",
    "print(id(list2))"
   ]
  },
  {
   "cell_type": "code",
   "execution_count": null,
   "id": "d2f62461",
   "metadata": {},
   "outputs": [],
   "source": []
  },
  {
   "cell_type": "code",
   "execution_count": 10,
   "id": "aecd73d8",
   "metadata": {},
   "outputs": [
    {
     "name": "stdout",
     "output_type": "stream",
     "text": [
      "(1, 2, 3, 4, 5)\n",
      "(1, 2, 3, 4)\n"
     ]
    }
   ],
   "source": [
    "def stateless_func_tuples(x,y):\n",
    "    x=x+(y,)\n",
    "    return x"
   ]
  },
  {
   "cell_type": "code",
   "execution_count": 11,
   "id": "9064b944",
   "metadata": {},
   "outputs": [
    {
     "name": "stdout",
     "output_type": "stream",
     "text": [
      "(1, 2, 3, 4, 9)\n",
      "(1, 2, 3, 4)\n",
      "(1, 2, 3, 4, 8)\n"
     ]
    }
   ],
   "source": [
    "x = (1,2,3,4)\n",
    "print(stateless_func_tuples(x,9))\n",
    "print(x)\n",
    "print(stateless_func_tuples(x,8))"
   ]
  },
  {
   "cell_type": "code",
   "execution_count": null,
   "id": "dd877dc4",
   "metadata": {},
   "outputs": [],
   "source": []
  }
 ],
 "metadata": {
  "kernelspec": {
   "display_name": "Python 3 (ipykernel)",
   "language": "python",
   "name": "python3"
  },
  "language_info": {
   "codemirror_mode": {
    "name": "ipython",
    "version": 3
   },
   "file_extension": ".py",
   "mimetype": "text/x-python",
   "name": "python",
   "nbconvert_exporter": "python",
   "pygments_lexer": "ipython3",
   "version": "3.9.12"
  }
 },
 "nbformat": 4,
 "nbformat_minor": 5
}
