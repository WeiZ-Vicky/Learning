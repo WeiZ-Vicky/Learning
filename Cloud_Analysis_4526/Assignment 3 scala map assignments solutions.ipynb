{
 "cells": [
  {
   "cell_type": "markdown",
   "metadata": {},
   "source": [
    "<h1>Scala map problems</h1>\n",
    "<b>Note:</b> Please enter your problem solutions in the two cells immediately below this one. All other work should go below these two cells (and will be ignored by the graders!)"
   ]
  },
  {
   "cell_type": "code",
   "execution_count": 1,
   "metadata": {},
   "outputs": [
    {
     "data": {
      "text/plain": [
       "Intitializing Scala interpreter ..."
      ]
     },
     "metadata": {},
     "output_type": "display_data"
    },
    {
     "data": {
      "text/plain": [
       "Spark Web UI available at http://192.168.7.189:4040\n",
       "SparkContext available as 'sc' (version = 3.3.0, master = local[*], app id = local-1663937417538)\n",
       "SparkSession available as 'spark'\n"
      ]
     },
     "metadata": {},
     "output_type": "display_data"
    },
    {
     "data": {
      "text/plain": [
       "test_data: String = widgets 103.24,eggs 345.22,milk 231.25,widgets 123.11,milk 14.2\n",
       "inventory_value: (data: String)scala.collection.immutable.Map[String,Double]\n",
       "res0: scala.collection.immutable.Map[String,Double] = Map(widgets -> 226.35, eggs -> 345.22, milk -> 245.45)\n"
      ]
     },
     "execution_count": 1,
     "metadata": {},
     "output_type": "execute_result"
    }
   ],
   "source": [
    "//PROBLEM 1 SOLUTION\n",
    "val test_data = \"widgets 103.24,eggs 345.22,milk 231.25,widgets 123.11,milk 14.2\" \n",
    "\n",
    "//YOUR FUNCTION SHOULD GO HERE\n",
    "def inventory_value(data: String) = {\n",
    "    data.split(\",\").map(i=>i.split(\" \")).\n",
    "        map(i => (i(0),i(1).toDouble)).\n",
    "        groupBy(_._1).\n",
    "        mapValues(_.map(_._2).sum)\n",
    "}\n",
    "\n",
    "//Test your function here\n",
    "inventory_value(test_data)"
   ]
  },
  {
   "cell_type": "code",
   "execution_count": 2,
   "metadata": {},
   "outputs": [
    {
     "data": {
      "text/plain": [
       "test_data: String = able was i ere i saw elba, and that was before i was able and could see elba!\n",
       "letter_count: (s: String)scala.collection.immutable.Map[Char,Int]\n",
       "res1: scala.collection.immutable.Map[Char,Int] = Map(e -> 10, s -> 5, n -> 2, t -> 2, u -> 1, f -> 1, a -> 11, i -> 3, b -> 5, l -> 5, c -> 1, h -> 1, r -> 2, w -> 4, o -> 2, d -> 3)\n"
      ]
     },
     "execution_count": 2,
     "metadata": {},
     "output_type": "execute_result"
    },
    {
     "name": "stdout",
     "output_type": "stream",
     "text": [
      "22/09/23 10:42:00 WARN HeartbeatReceiver: Removing executor driver with no recent heartbeats: 524820 ms exceeds timeout 120000 ms\n",
      "22/09/23 10:42:01 WARN SparkContext: Killing executors is not supported by current scheduler.\n"
     ]
    }
   ],
   "source": [
    "//PROBLEM 2 SOLUTION\n",
    "val test_data = \"able was i ere i saw elba, and that was before i was able and could see elba!\"\n",
    "\n",
    "//YOUR FUNCTION SHOULD GO HERE\n",
    "def letter_count(s: String) = \n",
    "    s.toArray.filter(l => l.isLetter).map(e => (e,1)).groupBy(_._1).\n",
    "        map(w => (w._1,w._2.map(_=>1).reduce(_+_)))\n",
    "\n",
    "//Test your function here\n",
    "letter_count(test_data)"
   ]
  },
  {
   "cell_type": "code",
   "execution_count": 16,
   "metadata": {},
   "outputs": [
    {
     "ename": "<console>",
     "evalue": "40: error: type mismatch;",
     "output_type": "error",
     "traceback": [
      "<console>:40: error: type mismatch;",
      " found   : Int(0)",
      " required: scala.collection.generic.CanBuildFrom[Array[scala.collection.immutable.IndexedSeq[Boolean]],scala.collection.immutable.IndexedSeq[Boolean],Any]",
      "           println(masks.map(b => b.filter(x=>x))(0))",
      "                                                  ^",
      ""
     ]
    }
   ],
   "source": [
    "//Problem 3 solution\n",
    "val sample_essay = \"\"\"able was i ere i saw elba\n",
    "a man a plan a canal panama\n",
    "the future is uncertain and the end is always near\"\"\"\n",
    "\n",
    "def essay_grade(text: String): Int = {\n",
    "    val a = text.map(i=>'a')\n",
    "    val text_array = text.split('\\n').map(t=>t.trim)\n",
    "\n",
    "\n",
    "    //val text_array = Array(\"able was i ere i saw elba\",\"a man a plan a canal panama\",\"the future is uncertain and the end is always near\")\n",
    "    val vowels = Array('a','e','i','o','u')\n",
    "    val masks = text_array.map(s => s.map(c=>vowels.contains(c)))\n",
    "    val f_masks = masks.map(b => b.filter(x=>x).length*1.0/b.length)\n",
    "    val result = f_masks.reduce((a,b)=>a+b)/f_masks.length\n",
    "    ((1-result)*100).toInt\n",
    "}\n",
    "\n",
    "essay_grade(sample_essay)"
   ]
  },
  {
   "cell_type": "code",
   "execution_count": 2,
   "metadata": {},
   "outputs": [
    {
     "data": {
      "text/plain": [
       "x: Double = 23.336\n"
      ]
     },
     "execution_count": 2,
     "metadata": {},
     "output_type": "execute_result"
    }
   ],
   "source": [
    "val x=23.336"
   ]
  },
  {
   "cell_type": "code",
   "execution_count": 4,
   "metadata": {},
   "outputs": [
    {
     "name": "stdout",
     "output_type": "stream",
     "text": [
      "23.34\n",
      "23.34\n"
     ]
    }
   ],
   "source": [
    "println(\"%1.2f\".format(x))\n",
    "println(f\"$x%1.2f\")"
   ]
  },
  {
   "cell_type": "code",
   "execution_count": 8,
   "metadata": {},
   "outputs": [
    {
     "data": {
      "text/plain": [
       "y: Double = 23.34\n"
      ]
     },
     "execution_count": 8,
     "metadata": {},
     "output_type": "execute_result"
    }
   ],
   "source": [
    "val y = \"%1.2f\".format(x).toDouble"
   ]
  },
  {
   "cell_type": "code",
   "execution_count": null,
   "metadata": {},
   "outputs": [],
   "source": []
  }
 ],
 "metadata": {
  "kernelspec": {
   "display_name": "spylon-kernel",
   "language": "scala",
   "name": "spylon-kernel"
  },
  "language_info": {
   "codemirror_mode": "text/x-scala",
   "file_extension": ".scala",
   "help_links": [
    {
     "text": "MetaKernel Magics",
     "url": "https://metakernel.readthedocs.io/en/latest/source/README.html"
    }
   ],
   "mimetype": "text/x-scala",
   "name": "scala",
   "pygments_lexer": "scala",
   "version": "0.4.1"
  },
  "toc": {
   "base_numbering": 1,
   "nav_menu": {},
   "number_sections": true,
   "sideBar": true,
   "skip_h1_title": false,
   "title_cell": "Table of Contents",
   "title_sidebar": "Contents",
   "toc_cell": false,
   "toc_position": {},
   "toc_section_display": true,
   "toc_window_display": false
  }
 },
 "nbformat": 4,
 "nbformat_minor": 2
}
