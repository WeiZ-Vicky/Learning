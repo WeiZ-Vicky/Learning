{
 "cells": [
  {
   "cell_type": "markdown",
   "metadata": {},
   "source": [
    "<br><br><br>\n",
    "<span style=\"color:red;font-size:60px\">Functional data structures</span>\n",
    "<br><br>\n",
    "<li>Functional data structures are data objects that are <b>strongly</b> immutable </li>\n",
    "<li>Strongly because they are composed only of immutable objects and make no changes to any data, persistent or transient, within the object</li>\n",
    "<li>The program enforces immutability</li>\n",
    "<li>If a data object is a functional data structure, we can guarantee that it won't be changed by any function</li>"
   ]
  },
  {
   "cell_type": "markdown",
   "metadata": {},
   "source": [
    "<li><b>Question</b>: python tuples are immutable. Are they functional data structures?</li>"
   ]
  },
  {
   "cell_type": "code",
   "execution_count": null,
   "metadata": {},
   "outputs": [],
   "source": [
    "// No, since python tuples can contain mutable objects inside tuple"
   ]
  },
  {
   "cell_type": "code",
   "execution_count": 1,
   "metadata": {},
   "outputs": [
    {
     "data": {
      "text/plain": [
       "Intitializing Scala interpreter ..."
      ]
     },
     "metadata": {},
     "output_type": "display_data"
    },
    {
     "data": {
      "text/plain": [
       "Spark Web UI available at http://192.168.0.149:4047\n",
       "SparkContext available as 'sc' (version = 3.3.0, master = local[*], app id = local-1671596925922)\n",
       "SparkSession available as 'spark'\n"
      ]
     },
     "metadata": {},
     "output_type": "display_data"
    },
    {
     "data": {
      "text/plain": [
       "a: List[Any] = List(a, Array(1, 2), 2)\n"
      ]
     },
     "execution_count": 1,
     "metadata": {},
     "output_type": "execute_result"
    }
   ],
   "source": [
    "var a = List('a',Array(1,2),2)"
   ]
  },
  {
   "cell_type": "code",
   "execution_count": 2,
   "metadata": {},
   "outputs": [
    {
     "data": {
      "text/plain": [
       "res0: List[Any] = List(b, Array(1, 2), 2)\n"
      ]
     },
     "execution_count": 2,
     "metadata": {},
     "output_type": "execute_result"
    }
   ],
   "source": [
    "'b'::a.tail"
   ]
  },
  {
   "cell_type": "code",
   "execution_count": 3,
   "metadata": {},
   "outputs": [
    {
     "data": {
      "text/plain": [
       "res1: Any = a\n"
      ]
     },
     "execution_count": 3,
     "metadata": {},
     "output_type": "execute_result"
    }
   ],
   "source": [
    "a.head"
   ]
  },
  {
   "cell_type": "markdown",
   "metadata": {},
   "source": [
    "<br><br><br>\n",
    "<span style=\"color:green;font-size:xx-large\">Functional data structures</span>\n",
    "<br><br>\n",
    "<li><span style=\"color:blue\">Immutability</span>: The property of functional data structures</h1>\n",
    "<li>Immutable objects are easier to build and to test (no surprise side effects)</li>\n",
    "<li>Immutable objects are thread safe</li>\n",
    "<li>Immutable objects avoid temporal coupling (the order of execution does not matter)</li>\n",
    "<li>Immutable objects ensure that functions are pure</li>\n",
    "<li>In some ways, immutablity can result in a more parsimonious use of memory</li>"
   ]
  },
  {
   "cell_type": "markdown",
   "metadata": {},
   "source": [
    "<br><br><br>\n",
    "<span style=\"color:green;font-size:xx-large\">Data sharing and immutability</span>\n",
    "<br><br>Consider the following example</h2>\n",
    "<ul>\n",
    "<li>variable z contains both x as well as y\n",
    "<li>if x and y are mutable:\n",
    "    <ul><li>z will need to contain copies of x and y</li><li>Why?</li></ul>\n",
    "    \n",
    "<li>if all three are immutable\n",
    "    <ul><li>z can contain links to x and y</li>\n",
    "        <li>no need to make copies</li></ul>\n",
    "<li>When working with large datasets, immutable data may be more efficient than mutable data!"
   ]
  },
  {
   "cell_type": "markdown",
   "metadata": {},
   "source": [
    "<img src=\"datasharing.png\">"
   ]
  },
  {
   "cell_type": "markdown",
   "metadata": {
    "hideCode": true
   },
   "source": [
    "<img src=\"datasharing2.png\">"
   ]
  },
  {
   "cell_type": "markdown",
   "metadata": {},
   "source": [
    "<br><br><br>\n",
    "<span style=\"color:green;font-size:xx-large\">Lists: Scala functional data structures</span>\n",
    "<br><br>\n",
    "\n",
    "<li>Scala <span style=\"color:blue\">List</span> objects are strongly immutable objects</li>\n",
    "<li>They are immutable in both length as well as value </li>\n"
   ]
  },
  {
   "cell_type": "code",
   "execution_count": 4,
   "metadata": {},
   "outputs": [
    {
     "data": {
      "text/plain": [
       "x: List[String] = List(John, Jane, Jing, Jacinto)\n"
      ]
     },
     "execution_count": 4,
     "metadata": {},
     "output_type": "execute_result"
    }
   ],
   "source": [
    "val x = List(\"John\",\"Jane\",\"Jing\",\"Jacinto\")"
   ]
  },
  {
   "cell_type": "code",
   "execution_count": 5,
   "metadata": {},
   "outputs": [
    {
     "data": {
      "text/plain": [
       "a: List[Any] = List(John, 1, a, Array(1, 23))\n"
      ]
     },
     "execution_count": 5,
     "metadata": {},
     "output_type": "execute_result"
    }
   ],
   "source": [
    "val a = List(\"John\",1,'a',Array(1,23))"
   ]
  },
  {
   "cell_type": "code",
   "execution_count": 6,
   "metadata": {},
   "outputs": [
    {
     "data": {
      "text/plain": [
       "y: List[String] = List(John)\n"
      ]
     },
     "execution_count": 6,
     "metadata": {},
     "output_type": "execute_result"
    }
   ],
   "source": [
    "val y = List(\"John\")"
   ]
  },
  {
   "cell_type": "code",
   "execution_count": 7,
   "metadata": {},
   "outputs": [
    {
     "data": {
      "text/plain": [
       "res2: String = John\n"
      ]
     },
     "execution_count": 7,
     "metadata": {},
     "output_type": "execute_result"
    }
   ],
   "source": [
    "y.head"
   ]
  },
  {
   "cell_type": "code",
   "execution_count": 8,
   "metadata": {},
   "outputs": [
    {
     "data": {
      "text/plain": [
       "res3: List[String] = List()\n"
      ]
     },
     "execution_count": 8,
     "metadata": {},
     "output_type": "execute_result"
    }
   ],
   "source": [
    "y.tail"
   ]
  },
  {
   "cell_type": "code",
   "execution_count": 9,
   "metadata": {},
   "outputs": [
    {
     "data": {
      "text/plain": [
       "res4: List[Any] = List(b, 1, a, Array(1, 23))\n"
      ]
     },
     "execution_count": 9,
     "metadata": {},
     "output_type": "execute_result"
    }
   ],
   "source": [
    "'b'::a.tail"
   ]
  },
  {
   "cell_type": "code",
   "execution_count": 11,
   "metadata": {},
   "outputs": [
    {
     "data": {
      "text/plain": [
       "res6: Any = John\n"
      ]
     },
     "execution_count": 11,
     "metadata": {},
     "output_type": "execute_result"
    }
   ],
   "source": [
    "a(0)"
   ]
  },
  {
   "cell_type": "code",
   "execution_count": 12,
   "metadata": {},
   "outputs": [
    {
     "data": {
      "text/plain": [
       "b: (String, Int, Char, Array[Int]) = (John,1,a,Array(1, 23))\n"
      ]
     },
     "execution_count": 12,
     "metadata": {},
     "output_type": "execute_result"
    }
   ],
   "source": [
    "val b = (\"John\",1,'a',Array(1,23))"
   ]
  },
  {
   "cell_type": "code",
   "execution_count": 13,
   "metadata": {},
   "outputs": [
    {
     "data": {
      "text/plain": [
       "res7: Array[Int] = Array(1, 23)\n"
      ]
     },
     "execution_count": 13,
     "metadata": {},
     "output_type": "execute_result"
    }
   ],
   "source": [
    "b._4"
   ]
  },
  {
   "cell_type": "code",
   "execution_count": 14,
   "metadata": {},
   "outputs": [
    {
     "data": {
      "text/plain": [
       "res8: Int = 23\n"
      ]
     },
     "execution_count": 14,
     "metadata": {},
     "output_type": "execute_result"
    }
   ],
   "source": [
    "b._4(1)"
   ]
  },
  {
   "cell_type": "code",
   "execution_count": 11,
   "metadata": {},
   "outputs": [],
   "source": [
    "b._4(1) = 4"
   ]
  },
  {
   "cell_type": "code",
   "execution_count": 12,
   "metadata": {},
   "outputs": [
    {
     "data": {
      "text/plain": [
       "res7: (String, Int, Char, Array[Int]) = (John,1,a,Array(1, 4))\n"
      ]
     },
     "execution_count": 12,
     "metadata": {},
     "output_type": "execute_result"
    }
   ],
   "source": [
    "b"
   ]
  },
  {
   "cell_type": "markdown",
   "metadata": {},
   "source": [
    "<br><br><br>\n",
    "<span style=\"color:green;font-size:large\">Lists are iterable</span>\n",
    "<br><br>\n",
    "<li>elements can be accessed using the index operator</li>\n",
    "<li>lists can be used in any iterable context</li>\n",
    "<li>but, the value of elements cannot be changed</li>"
   ]
  },
  {
   "cell_type": "code",
   "execution_count": 3,
   "metadata": {},
   "outputs": [
    {
     "name": "stdout",
     "output_type": "stream",
     "text": [
      "John\n",
      "Jane\n",
      "Jing\n",
      "Jacinto\n"
     ]
    },
    {
     "data": {
      "text/plain": [
       "res1: List[Unit] = List((), (), (), ())\n"
      ]
     },
     "execution_count": 3,
     "metadata": {},
     "output_type": "execute_result"
    }
   ],
   "source": [
    "x.map(t=>println(t))"
   ]
  },
  {
   "cell_type": "code",
   "execution_count": 4,
   "metadata": {},
   "outputs": [
    {
     "name": "stdout",
     "output_type": "stream",
     "text": [
      "John\n",
      "Jane\n",
      "Jing\n",
      "Jacinto\n"
     ]
    }
   ],
   "source": [
    "//If you don't want to return anything, use a for\n",
    "for(i <- 0 to x.length-1) println(x(i))"
   ]
  },
  {
   "cell_type": "code",
   "execution_count": 5,
   "metadata": {},
   "outputs": [
    {
     "name": "stdout",
     "output_type": "stream",
     "text": [
      "John\n",
      "Jane\n",
      "Jing\n",
      "Jacinto\n"
     ]
    }
   ],
   "source": [
    "//or foreach\n",
    "x.foreach(t=>println(t))"
   ]
  },
  {
   "cell_type": "code",
   "execution_count": 6,
   "metadata": {},
   "outputs": [
    {
     "name": "stdout",
     "output_type": "stream",
     "text": [
      "John\n",
      "Jane\n",
      "Jing\n",
      "Jacinto\n"
     ]
    }
   ],
   "source": [
    "//Or keep the argument implicit\n",
    "x.foreach(println)"
   ]
  },
  {
   "cell_type": "markdown",
   "metadata": {},
   "source": [
    "<li>Scala lists are composed of two parts:</li>\n",
    "<ul>\n",
    "    <li><b>A head</b>: An element of some type <b>T</b></li>\n",
    "    <li><b>A tail</b>: A list containing elements of type <b>T</b></li>\n",
    "</ul>\n",
    "<li>The head and the tail are combined using a <b>Cons</b>\n",
    "    <ul>\n",
    "        <li>Cons is a subclass of List that combines the head and the tail\n",
    "        <li>Cons is represented by the :: symbol\n",
    "    </ul>\n",
    "<li>Read y below as follows: <i>y is a list whose head is the String object Jane and whose tail is the List of String (\"Jing\" :: (\"jacinto\" :: Nil))</i></li>\n",
    "\n",
    "    \n",
    "        \n",
    "            \n",
    "\n"
   ]
  },
  {
   "cell_type": "code",
   "execution_count": 15,
   "metadata": {},
   "outputs": [
    {
     "data": {
      "text/plain": [
       "res9: String = John\n"
      ]
     },
     "execution_count": 15,
     "metadata": {},
     "output_type": "execute_result"
    }
   ],
   "source": [
    "x.head"
   ]
  },
  {
   "cell_type": "code",
   "execution_count": 16,
   "metadata": {},
   "outputs": [
    {
     "data": {
      "text/plain": [
       "res10: List[String] = List(Jane, Jing, Jacinto)\n"
      ]
     },
     "execution_count": 16,
     "metadata": {},
     "output_type": "execute_result"
    }
   ],
   "source": [
    "x.tail"
   ]
  },
  {
   "cell_type": "code",
   "execution_count": 17,
   "metadata": {},
   "outputs": [],
   "source": [
    "//add new elements at the beginning of the List"
   ]
  },
  {
   "cell_type": "code",
   "execution_count": 18,
   "metadata": {},
   "outputs": [
    {
     "name": "stdout",
     "output_type": "stream",
     "text": [
      "a list is initialized with length 0\n"
     ]
    },
    {
     "data": {
      "text/plain": [
       "myList1: List[Nothing] = List()\n"
      ]
     },
     "execution_count": 18,
     "metadata": {},
     "output_type": "execute_result"
    }
   ],
   "source": [
    "val myList1 = List()\n",
    "println(\"a list is initialized with length %s\".format(myList1.length))"
   ]
  },
  {
   "cell_type": "code",
   "execution_count": 19,
   "metadata": {},
   "outputs": [
    {
     "name": "stdout",
     "output_type": "stream",
     "text": [
      "a list is initialized with length 0\n"
     ]
    },
    {
     "data": {
      "text/plain": [
       "myList: scala.collection.immutable.Nil.type = List()\n"
      ]
     },
     "execution_count": 19,
     "metadata": {},
     "output_type": "execute_result"
    }
   ],
   "source": [
    "val myList = Nil\n",
    "println(\"a list is initialized with length %s\".format(myList.length))"
   ]
  },
  {
   "cell_type": "code",
   "execution_count": 20,
   "metadata": {},
   "outputs": [
    {
     "data": {
      "text/plain": [
       "res14: Boolean = true\n"
      ]
     },
     "execution_count": 20,
     "metadata": {},
     "output_type": "execute_result"
    }
   ],
   "source": [
    "myList1 == myList"
   ]
  },
  {
   "cell_type": "code",
   "execution_count": 21,
   "metadata": {},
   "outputs": [
    {
     "data": {
      "text/plain": [
       "y: List[String] = List(Jane, Jing, jacinto)\n",
       "x: List[String] = List(John, Jane, Jing, jacinto)\n"
      ]
     },
     "execution_count": 21,
     "metadata": {},
     "output_type": "execute_result"
    }
   ],
   "source": [
    "// val y = \"Jane\" :: (\"Jing\" :: (\"jacinto\" :: Nil))\n",
    "val y = \"Jane\" :: (\"Jing\" :: (\"jacinto\" :: Nil))\n",
    "val x = \"John\" :: y"
   ]
  },
  {
   "cell_type": "code",
   "execution_count": 22,
   "metadata": {},
   "outputs": [
    {
     "data": {
      "text/plain": [
       "y1: List[String] = List(Jane, Jing, jacinto)\n"
      ]
     },
     "execution_count": 22,
     "metadata": {},
     "output_type": "execute_result"
    }
   ],
   "source": [
    "val y1 = List(\"Jane\" ,\"Jing\" ,\"jacinto\")"
   ]
  },
  {
   "cell_type": "code",
   "execution_count": 23,
   "metadata": {},
   "outputs": [
    {
     "data": {
      "text/plain": [
       "res15: Boolean = true\n"
      ]
     },
     "execution_count": 23,
     "metadata": {},
     "output_type": "execute_result"
    }
   ],
   "source": [
    "y==y1"
   ]
  },
  {
   "cell_type": "code",
   "execution_count": 24,
   "metadata": {},
   "outputs": [
    {
     "data": {
      "text/plain": [
       "y: List[String] = List(Jane, Jing, jacinto)\n"
      ]
     },
     "execution_count": 24,
     "metadata": {},
     "output_type": "execute_result"
    }
   ],
   "source": [
    "val y = \"Jane\" :: (\"Jing\" :: (\"jacinto\" :: myList1))"
   ]
  },
  {
   "cell_type": "markdown",
   "metadata": {},
   "source": [
    "<span style=\"font-size:large;color:blue\">extract the head and tail</span>"
   ]
  },
  {
   "cell_type": "code",
   "execution_count": 25,
   "metadata": {},
   "outputs": [
    {
     "data": {
      "text/plain": [
       "h: String = Jane\n",
       "t: List[String] = List(Jing, jacinto)\n"
      ]
     },
     "execution_count": 25,
     "metadata": {},
     "output_type": "execute_result"
    }
   ],
   "source": [
    "val h = y.head\n",
    "val t = y.tail\n"
   ]
  },
  {
   "cell_type": "markdown",
   "metadata": {},
   "source": [
    "<span style=\"font-size:large;color:blue\">Nil is used to represent the empty list</span>"
   ]
  },
  {
   "cell_type": "code",
   "execution_count": 26,
   "metadata": {},
   "outputs": [
    {
     "data": {
      "text/plain": [
       "n: scala.collection.immutable.Nil.type = List()\n",
       "m: List[String] = List(Jack)\n"
      ]
     },
     "execution_count": 26,
     "metadata": {},
     "output_type": "execute_result"
    }
   ],
   "source": [
    "val n = Nil\n",
    "val m = \"Jack\" :: n"
   ]
  },
  {
   "cell_type": "code",
   "execution_count": 27,
   "metadata": {},
   "outputs": [
    {
     "data": {
      "text/plain": [
       "res16: List[String] = List(Jack)\n"
      ]
     },
     "execution_count": 27,
     "metadata": {},
     "output_type": "execute_result"
    }
   ],
   "source": [
    "List(\"Jack\")"
   ]
  },
  {
   "cell_type": "code",
   "execution_count": 28,
   "metadata": {},
   "outputs": [
    {
     "data": {
      "text/plain": [
       "res17: List[String] = List(Jing, jacinto)\n"
      ]
     },
     "execution_count": 28,
     "metadata": {},
     "output_type": "execute_result"
    }
   ],
   "source": [
    "y.tail"
   ]
  },
  {
   "cell_type": "code",
   "execution_count": 29,
   "metadata": {},
   "outputs": [
    {
     "data": {
      "text/plain": [
       "res18: scala.collection.immutable.Nil.type = List()\n"
      ]
     },
     "execution_count": 29,
     "metadata": {},
     "output_type": "execute_result"
    }
   ],
   "source": [
    "n"
   ]
  },
  {
   "cell_type": "code",
   "execution_count": 30,
   "metadata": {},
   "outputs": [
    {
     "data": {
      "text/plain": [
       "res19: List[List[String]] = List(List(Jing, jacinto))\n"
      ]
     },
     "execution_count": 30,
     "metadata": {},
     "output_type": "execute_result"
    }
   ],
   "source": [
    "y.tail :: n //y.tail is List(String), so it will create List(List(String))"
   ]
  },
  {
   "cell_type": "code",
   "execution_count": 31,
   "metadata": {},
   "outputs": [
    {
     "data": {
      "text/plain": [
       "c: List[java.io.Serializable] = List(List(Jing, jacinto), Jing, jacinto)\n"
      ]
     },
     "execution_count": 31,
     "metadata": {},
     "output_type": "execute_result"
    }
   ],
   "source": [
    "val c = y.tail :: y.tail //java.io.Serializable. head and tail should not be the same type"
   ]
  },
  {
   "cell_type": "code",
   "execution_count": 32,
   "metadata": {},
   "outputs": [
    {
     "data": {
      "text/plain": [
       "res20: java.io.Serializable = List(Jing, jacinto)\n"
      ]
     },
     "execution_count": 32,
     "metadata": {},
     "output_type": "execute_result"
    }
   ],
   "source": [
    "c.head"
   ]
  },
  {
   "cell_type": "code",
   "execution_count": 33,
   "metadata": {},
   "outputs": [
    {
     "data": {
      "text/plain": [
       "res21: List[java.io.Serializable] = List(Jing, jacinto)\n"
      ]
     },
     "execution_count": 33,
     "metadata": {},
     "output_type": "execute_result"
    }
   ],
   "source": [
    "c.tail"
   ]
  },
  {
   "cell_type": "markdown",
   "metadata": {},
   "source": [
    "<li>Note a few things about lists</li>\n",
    "<ol>\n",
    "    <li>All objects in the List must be of the same data type</li>\n",
    "    <li>A list is represented by List[datatype]</li>\n",
    "    <li>The head will always be of type datatype</li>\n",
    "    <li>The tail is always a List</li>\n",
    "    <li>An empty list does not have a head or a tail and trying to extract them will throw an exception</li>\n",
    "    <li>The isEmpty attribute of a list returns true if the list is empty</li>\n",
    "</ol>"
   ]
  },
  {
   "cell_type": "code",
   "execution_count": 17,
   "metadata": {},
   "outputs": [
    {
     "data": {
      "text/plain": [
       "res9: Boolean = true\n"
      ]
     },
     "execution_count": 17,
     "metadata": {},
     "output_type": "execute_result"
    }
   ],
   "source": [
    "m.tail.isEmpty"
   ]
  },
  {
   "cell_type": "code",
   "execution_count": 19,
   "metadata": {},
   "outputs": [
    {
     "data": {
      "text/plain": [
       "x: List[String] = List(John)\n"
      ]
     },
     "execution_count": 19,
     "metadata": {},
     "output_type": "execute_result"
    }
   ],
   "source": [
    "val x = List(\"John\")"
   ]
  },
  {
   "cell_type": "code",
   "execution_count": 20,
   "metadata": {},
   "outputs": [
    {
     "data": {
      "text/plain": [
       "res9: Boolean = false\n"
      ]
     },
     "execution_count": 20,
     "metadata": {},
     "output_type": "execute_result"
    }
   ],
   "source": [
    "x.isEmpty"
   ]
  },
  {
   "cell_type": "code",
   "execution_count": 21,
   "metadata": {},
   "outputs": [
    {
     "data": {
      "text/plain": [
       "res10: Boolean = true\n"
      ]
     },
     "execution_count": 21,
     "metadata": {},
     "output_type": "execute_result"
    }
   ],
   "source": [
    "x.tail.isEmpty"
   ]
  },
  {
   "cell_type": "markdown",
   "metadata": {},
   "source": [
    "<h4>The ::: operator concatenates two lists</h4>"
   ]
  },
  {
   "cell_type": "code",
   "execution_count": 22,
   "metadata": {},
   "outputs": [
    {
     "data": {
      "text/plain": [
       "z: List[String] = List(John, Jane, Jing, jacinto)\n"
      ]
     },
     "execution_count": 22,
     "metadata": {},
     "output_type": "execute_result"
    }
   ],
   "source": [
    "val z = x ::: y"
   ]
  },
  {
   "cell_type": "code",
   "execution_count": 23,
   "metadata": {},
   "outputs": [
    {
     "data": {
      "text/plain": [
       "z: List[java.io.Serializable] = List(List(John), Jane, Jing, jacinto)\n"
      ]
     },
     "execution_count": 23,
     "metadata": {},
     "output_type": "execute_result"
    }
   ],
   "source": [
    "val z = x :: y"
   ]
  },
  {
   "cell_type": "markdown",
   "metadata": {},
   "source": [
    "<span style=\"color:blue;font-size:large\">Since lists are immutable, z contains x and y. z does not contain copies of x or y</span>"
   ]
  },
  {
   "cell_type": "markdown",
   "metadata": {},
   "source": [
    "<br><br><br><br>\n",
    "<span style=\"font-size:xx-large;color:green\">In-class problem</span>\n",
    "<li>Using reduce, and only reduce, return the sum of all even numbers in a list</li>\n"
   ]
  },
  {
   "cell_type": "code",
   "execution_count": 27,
   "metadata": {},
   "outputs": [
    {
     "data": {
      "text/plain": [
       "x: List[Int] = List(2, 3, 4, 5, 6, 7)\n"
      ]
     },
     "execution_count": 27,
     "metadata": {},
     "output_type": "execute_result"
    }
   ],
   "source": [
    "val x = List(2,3,4,5,6,7)\n"
   ]
  },
  {
   "cell_type": "code",
   "execution_count": 29,
   "metadata": {},
   "outputs": [
    {
     "data": {
      "text/plain": [
       "res17: Int = 12\n"
      ]
     },
     "execution_count": 29,
     "metadata": {},
     "output_type": "execute_result"
    }
   ],
   "source": [
    "x.reduce((a,b) => if (b%2==0) a+b else a) //only work with first element is even"
   ]
  },
  {
   "cell_type": "code",
   "execution_count": 31,
   "metadata": {},
   "outputs": [
    {
     "data": {
      "text/plain": [
       "x: List[Int] = List(1, 2, 3, 4, 5, 6, 7)\n",
       "res19: Int = 12\n"
      ]
     },
     "execution_count": 31,
     "metadata": {},
     "output_type": "execute_result"
    }
   ],
   "source": [
    "val x = List(1,2,3,4,5,6,7)\n",
    "x.reduce((a,b) => if (b%2==0) a+b else a) - {if (x(0)%2!=0) x(0) else 0}"
   ]
  },
  {
   "cell_type": "code",
   "execution_count": null,
   "metadata": {},
   "outputs": [],
   "source": []
  },
  {
   "cell_type": "markdown",
   "metadata": {},
   "source": [
    "<br><br><br>\n",
    "<span style=\"color:green;font-size:xx-large\">Case classes and immutable data</span>\n",
    "<br><br>\n",
    "<li>A case class is an immutable object that depends exclusively on its constructor arguments</li>\n",
    "<li>because it depends only on immutable data, case classes can be used to model functional data structures</li>\n"
   ]
  },
  {
   "cell_type": "markdown",
   "metadata": {},
   "source": [
    "<span style=\"color:blue;font-size:large\">Defining objects in Scala</span>"
   ]
  },
  {
   "cell_type": "code",
   "execution_count": 23,
   "metadata": {},
   "outputs": [
    {
     "data": {
      "text/plain": [
       "defined class Person\n"
      ]
     },
     "execution_count": 23,
     "metadata": {},
     "output_type": "execute_result"
    }
   ],
   "source": [
    "class Person(var name: String ) {\n",
    "  var  age = 0\n",
    "  def printit() = println(name,age)\n",
    "}"
   ]
  },
  {
   "cell_type": "code",
   "execution_count": 24,
   "metadata": {},
   "outputs": [
    {
     "name": "stdout",
     "output_type": "stream",
     "text": [
      "(Jill,20)\n"
     ]
    },
    {
     "data": {
      "text/plain": [
       "x: Person = Person@183200e6\n",
       "x.age: Int = 20\n",
       "x.name: String = Jill\n"
      ]
     },
     "execution_count": 24,
     "metadata": {},
     "output_type": "execute_result"
    }
   ],
   "source": [
    "val x = new Person(\"John\")\n",
    "x.age = 20 //Because age was defined using var not val\n",
    "x.name= \"Jill\" //Because name was defined using var not val\n",
    "x.printit()"
   ]
  },
  {
   "cell_type": "code",
   "execution_count": 26,
   "metadata": {},
   "outputs": [
    {
     "data": {
      "text/plain": [
       "res16: String = Jill\n"
      ]
     },
     "execution_count": 26,
     "metadata": {},
     "output_type": "execute_result"
    }
   ],
   "source": [
    "x.name"
   ]
  },
  {
   "cell_type": "markdown",
   "metadata": {},
   "source": [
    "<span style=\"color:blue;font-size:large\">If the initializers are val, we can't change their value</span>\n"
   ]
  },
  {
   "cell_type": "code",
   "execution_count": 4,
   "metadata": {},
   "outputs": [
    {
     "ename": "<console>",
     "evalue": "31: error: reassignment to val",
     "output_type": "error",
     "traceback": [
      "<console>:31: error: reassignment to val",
      "       x.name= \"Jill\"",
      "             ^",
      ""
     ]
    }
   ],
   "source": [
    "class Person(val name: String) {\n",
    "  var  age = 0\n",
    "  def printit() = println(name,age)\n",
    "}\n",
    "val x = new Person(\"John\") //new keyword is required. it get the memory and pointer to the variable. new is a keyword in Java and C++\n",
    "x.age = 20\n",
    "x.name= \"Jill\" //val name\n",
    "x.printit()"
   ]
  },
  {
   "cell_type": "markdown",
   "metadata": {},
   "source": [
    "<span style=\"color:blue;font-size:large\">However, Person is not a functional data structure</span>\n",
    "<li>because we can change age</li>\n",
    "<li>to convert it into a functional data structure, one way is to use only initializers</li>"
   ]
  },
  {
   "cell_type": "code",
   "execution_count": 9,
   "metadata": {},
   "outputs": [
    {
     "data": {
      "text/plain": [
       "defined class Person\n"
      ]
     },
     "execution_count": 9,
     "metadata": {},
     "output_type": "execute_result"
    }
   ],
   "source": [
    "class Person(val name: String, val age: Int) {\n",
    "    def printit() = println(name,age)\n",
    "}"
   ]
  },
  {
   "cell_type": "code",
   "execution_count": 11,
   "metadata": {},
   "outputs": [
    {
     "data": {
      "text/plain": [
       "a: Person = Person@6097a98f\n",
       "b: Person = Person@6de350b2\n"
      ]
     },
     "execution_count": 11,
     "metadata": {},
     "output_type": "execute_result"
    }
   ],
   "source": [
    "val a = new Person(\"wei\",24)\n",
    "val b = new Person(\"zhou\",25)"
   ]
  },
  {
   "cell_type": "code",
   "execution_count": 17,
   "metadata": {},
   "outputs": [
    {
     "data": {
      "text/plain": [
       "a: [A](s: A)A\n"
      ]
     },
     "execution_count": 17,
     "metadata": {},
     "output_type": "execute_result"
    }
   ],
   "source": [
    "def a[A](s:A):A = {\n",
    "    println(s)\n",
    "    s\n",
    "}"
   ]
  },
  {
   "cell_type": "code",
   "execution_count": 18,
   "metadata": {},
   "outputs": [
    {
     "name": "stdout",
     "output_type": "stream",
     "text": [
      "2\n"
     ]
    },
    {
     "data": {
      "text/plain": [
       "res10: String = 2\n"
      ]
     },
     "execution_count": 18,
     "metadata": {},
     "output_type": "execute_result"
    }
   ],
   "source": [
    "a(\"2\")"
   ]
  },
  {
   "cell_type": "markdown",
   "metadata": {},
   "source": [
    "<span style=\"color:blue;font-size:large\">Each instance of a class is a distinct object</span>\n",
    "<li>Two persons with the exact same data will be different objects</li>\n",
    "<li>and the two objects will fail the equality test</li>"
   ]
  },
  {
   "cell_type": "markdown",
   "metadata": {},
   "source": [
    "<span style=\"color:blue;font-size:large\">Ordinary Person class</span>"
   ]
  },
  {
   "cell_type": "code",
   "execution_count": 12,
   "metadata": {},
   "outputs": [
    {
     "name": "stdout",
     "output_type": "stream",
     "text": [
      "(John,20)\n",
      "(John,20)\n"
     ]
    },
    {
     "data": {
      "text/plain": [
       "defined class Person\n",
       "x: Person = Person@3a0643e3\n",
       "x.age: Int = 20\n",
       "y: Person = Person@1f684a5d\n",
       "y.age: Int = 20\n",
       "res3: Boolean = false\n"
      ]
     },
     "execution_count": 12,
     "metadata": {},
     "output_type": "execute_result"
    }
   ],
   "source": [
    "class Person(val name: String) {\n",
    "  var  age = 0\n",
    "  def printit() = println(name,age)\n",
    "}\n",
    "\n",
    "val x = new Person(\"John\")\n",
    "x.age = 20\n",
    "\n",
    "val y = new Person(\"John\")\n",
    "y.age = 20\n",
    "\n",
    "y.printit\n",
    "x.printit\n",
    "\n",
    "x == y //Returns false "
   ]
  },
  {
   "cell_type": "code",
   "execution_count": 16,
   "metadata": {},
   "outputs": [
    {
     "name": "stdout",
     "output_type": "stream",
     "text": [
      "List(John)"
     ]
    }
   ],
   "source": [
    "//Also, I can't just print the object but need to call printit\n",
    "print(x)"
   ]
  },
  {
   "cell_type": "markdown",
   "metadata": {},
   "source": [
    "<br><br><br>\n",
    "<span style=\"color:green;font-size:xx-large\">Case classes </span>\n",
    "<br><br>\n",
    "<li>A <b>case class</b> is a special Scala structure for defining functional data structures</li>\n",
    "<li>In addition to defining the functional data structure, it comes with additional features</li>\n",
    "<ol>\n",
    "    <li>a default apply method that lets you create instances without using <b>new</b></li>\n",
    "    <li>a copy method that creates a deep copy of the object but allows for respecifying arguments</li>\n",
    "    <li>a toString method that converts the initializers into a string</li>\n",
    "    <li>an == method that compares two objects by value rather than by reference</li>\n",
    "    <li>support pattern matching on initializer values</li>\n",
    "</ol>\n",
    "    "
   ]
  },
  {
   "cell_type": "code",
   "execution_count": 20,
   "metadata": {},
   "outputs": [
    {
     "data": {
      "text/plain": [
       "x: Array[Array[Int]] = Array(Array(1, 3, 4))\n"
      ]
     },
     "execution_count": 20,
     "metadata": {},
     "output_type": "execute_result"
    }
   ],
   "source": [
    "// deep copy and shallow copy\n",
    "// shallow copy\n",
    "val x = Array(Array(1,3,4))"
   ]
  },
  {
   "cell_type": "code",
   "execution_count": 22,
   "metadata": {},
   "outputs": [
    {
     "data": {
      "text/plain": [
       "y: Array[Array[Int]] = Array(Array(1, 3, 4))\n"
      ]
     },
     "execution_count": 22,
     "metadata": {},
     "output_type": "execute_result"
    }
   ],
   "source": [
    "var y = x //when x change, y will change to\n",
    "// deep copy will copy the valuse"
   ]
  },
  {
   "cell_type": "code",
   "execution_count": null,
   "metadata": {},
   "outputs": [],
   "source": [
    "//toString allow you to print all the input"
   ]
  },
  {
   "cell_type": "markdown",
   "metadata": {},
   "source": [
    "<span style=\"color:blue;font-size:large\">Case class version of Person</span>\n",
    "<li>In a case class, initializers default to val</li>\n",
    "<li>Case classes come with an apply method that creates a new object</li>\n",
    "<li>Case classes come with equality predefined (on initializers)</li>\n",
    "\n"
   ]
  },
  {
   "cell_type": "code",
   "execution_count": 34,
   "metadata": {},
   "outputs": [
    {
     "data": {
      "text/plain": [
       "defined class Person\n",
       "x: Person = Person(Jill)\n",
       "y: Person = Person(Jill)\n",
       "z: Person = Person(Jill)\n",
       "res22: Boolean = true\n"
      ]
     },
     "execution_count": 34,
     "metadata": {},
     "output_type": "execute_result"
    }
   ],
   "source": [
    "case class Person(name: String) {\n",
    "  var  age = 0\n",
    "}\n",
    "val x = Person(\"Jill\")\n",
    "val y = Person(\"Jill\")\n",
    "val z = Person(\"Jill\")\n",
    "\n",
    "(x == y) && (y == z) //only compare the initialize value"
   ]
  },
  {
   "cell_type": "code",
   "execution_count": 35,
   "metadata": {},
   "outputs": [
    {
     "data": {
      "text/plain": [
       "res23: String = Person(Jill)\n"
      ]
     },
     "execution_count": 35,
     "metadata": {},
     "output_type": "execute_result"
    }
   ],
   "source": [
    "x.toString\n",
    "//.map(x=>println(x))"
   ]
  },
  {
   "cell_type": "code",
   "execution_count": 22,
   "metadata": {},
   "outputs": [
    {
     "data": {
      "text/plain": [
       "z.age: Int = 20\n",
       "res8: Boolean = true\n"
      ]
     },
     "execution_count": 22,
     "metadata": {},
     "output_type": "execute_result"
    }
   ],
   "source": [
    "//Equality is defined only on initializers\n",
    "z.age = 20\n",
    "x == z\n"
   ]
  },
  {
   "cell_type": "code",
   "execution_count": 23,
   "metadata": {},
   "outputs": [
    {
     "data": {
      "text/plain": [
       "res9: (Int, Int) = (0,20)\n"
      ]
     },
     "execution_count": 23,
     "metadata": {},
     "output_type": "execute_result"
    }
   ],
   "source": [
    "(x.age,z.age)"
   ]
  },
  {
   "cell_type": "markdown",
   "metadata": {},
   "source": [
    "<span style=\"color:blue;font-size:large\">Generally, though not necessarily, a good implementation of case class will include all attributes in the initializer</span>\n",
    "<li>if the class contains var objects, it won't be a functional data structure</li>\n",
    "<li>if an attribute in the case class is a val (immutable) it won't be changeable. In which case, it can be promoted as an initializer</li>\n"
   ]
  },
  {
   "cell_type": "code",
   "execution_count": 24,
   "metadata": {},
   "outputs": [
    {
     "data": {
      "text/plain": [
       "defined class Person\n",
       "x: Person = Person(Jill,20)\n",
       "y: Person = Person(Jill,30)\n",
       "z: Person = Person(Jill,15)\n"
      ]
     },
     "execution_count": 24,
     "metadata": {},
     "output_type": "execute_result"
    }
   ],
   "source": [
    "case class Person(name: String, age: Int)\n",
    "val x = Person(\"Jill\",20)\n",
    "val y = Person(\"Jill\",30)\n",
    "val z = Person(\"Jill\",15)"
   ]
  },
  {
   "cell_type": "code",
   "execution_count": 25,
   "metadata": {},
   "outputs": [
    {
     "data": {
      "text/plain": [
       "res10: Boolean = false\n"
      ]
     },
     "execution_count": 25,
     "metadata": {},
     "output_type": "execute_result"
    }
   ],
   "source": [
    "x==y"
   ]
  },
  {
   "cell_type": "markdown",
   "metadata": {},
   "source": [
    "<br><br><br>\n",
    "<span style=\"color:blue;font-size:large\">Case classes are useful for pattern matching </span>\n",
    "<br><br>\n"
   ]
  },
  {
   "cell_type": "markdown",
   "metadata": {},
   "source": [
    "<br><br><br>\n",
    "<span style=\"color:green;font-size:xx-large\">Pattern matching in Scala </span>\n",
    "<br><br>\n",
    "<li><span style=\"color:blue\">match</span>: the scala pattern matching expression</li>\n",
    "<li>match works like a python if elif else, not a C switch statement</li>"
   ]
  },
  {
   "cell_type": "code",
   "execution_count": 28,
   "metadata": {},
   "outputs": [
    {
     "data": {
      "text/plain": [
       "x: Int = 8\n",
       "res20: String = No idea\n"
      ]
     },
     "execution_count": 28,
     "metadata": {},
     "output_type": "execute_result"
    }
   ],
   "source": [
    "val x = 8\n",
    "x match {\n",
    "    case 0 => \"Zero\"\n",
    "    case 1 => \"One\"\n",
    "    case 2 => \"Two\"\n",
    "    case 3 => \"Three\"\n",
    "    case unknown => \"No idea\" //The default when nothing matches\n",
    "}\n",
    "//only do one case"
   ]
  },
  {
   "cell_type": "markdown",
   "metadata": {},
   "source": [
    "<br><br><br>\n",
    "<span style=\"font-size:large\">match can match against types</span>"
   ]
  },
  {
   "cell_type": "code",
   "execution_count": 33,
   "metadata": {},
   "outputs": [
    {
     "name": "stdout",
     "output_type": "stream",
     "text": [
      "Integer 1\n",
      "Integer 2\n",
      "String Jack\n",
      "String Jill\n",
      "Double 3.0\n",
      "Unknown [I@5270a4c3\n"
     ]
    },
    {
     "data": {
      "text/plain": [
       "l: List[Any] = List(1, 2, Jack, Jill, 3.0, Array(2, 3))\n"
      ]
     },
     "execution_count": 33,
     "metadata": {},
     "output_type": "execute_result"
    }
   ],
   "source": [
    "val l = List(1, 2, \"Jack\",\"Jill\",3.0,Array(2,3))\n",
    "for (i <- l)\n",
    "    i match {\n",
    "        case i: Int => println(\"Integer \"+ i)\n",
    "//         case 3.0 => println(i)\n",
    "        case i: String => println(\"String \"+ i)\n",
    "        case i: Double => println(\"Double \" + i)\n",
    "        case unknown => println(\"Unknown \" + i)\n",
    "    }"
   ]
  },
  {
   "cell_type": "markdown",
   "metadata": {},
   "source": [
    "<br><br><br>\n",
    "<span style=\"font-size:large\">pattern matching and lists</span>\n",
    "<li>Let's add all the odd elements in a list</li>"
   ]
  },
  {
   "cell_type": "code",
   "execution_count": 45,
   "metadata": {},
   "outputs": [
    {
     "data": {
      "text/plain": [
       "sumOdd: (l: List[Int])Int\n",
       "alist: List[Int] = List(1, 2, 3, 4, 5, 6)\n",
       "res31: Int = 9\n"
      ]
     },
     "execution_count": 45,
     "metadata": {},
     "output_type": "execute_result"
    }
   ],
   "source": [
    "def sumOdd(l: List[Int]): Int = {\n",
    "    l match {\n",
    "        case Nil => 0 //If the list is empty, return 0\n",
    "        case x :: rest if x % 2 == 1 => x + sumOdd(rest) //If the list has a head and tail and head is odd\n",
    "        case _ :: rest => sumOdd(rest) //if head is not odd, do recursion without adding //just head\n",
    "    }\n",
    "}\n",
    "val alist = List(1,2,3,4,5,6)\n",
    "sumOdd(alist)"
   ]
  },
  {
   "cell_type": "markdown",
   "metadata": {},
   "source": [
    "<h2>Try this!</h2>\n",
    "<ol>\n",
    "    <li>Define an array of Integers containing the ints 1,2,3,4,5,6,7,8,9,10</li>\n",
    "    <li>Using pattern matching, find the numbers that are square numbers (1,4,9) and print the following \"1 is a square number\" (similarly for 4 and 9)</li>\n",
    "    <li>The function, sqrt, in scala.math returns the square root of a number</li>\n",
    "    </ol>"
   ]
  },
  {
   "cell_type": "code",
   "execution_count": 26,
   "metadata": {},
   "outputs": [
    {
     "ename": "<console>",
     "evalue": "30: error: not found: value sqr",
     "output_type": "error",
     "traceback": [
      "<console>:30: error: not found: value sqr",
      "           case _ :: rest => sqr(rest)",
      "                             ^",
      "<console>:35: error: not found: value sqr",
      "       sqr(x)",
      "       ^",
      ""
     ]
    }
   ],
   "source": [
    "import scala.math._ //Import all math functions from Scala\n",
    "val x = List(1,2,3,4,5,6,7,8,9,10)\n",
    "// def sqr(l:List[Int]): List = {\n",
    "// x match {\n",
    "//     case Nil => 0\n",
    "//     case x :: rest if sqrt(x)%1 == 0.0 => println(x)\n",
    "//     case _ :: rest => println(x)\n",
    "// }\n",
    "// }\n",
    "sqr(x)"
   ]
  },
  {
   "cell_type": "code",
   "execution_count": 34,
   "metadata": {},
   "outputs": [
    {
     "name": "stdout",
     "output_type": "stream",
     "text": [
      "1\n",
      "4\n",
      "9\n"
     ]
    },
    {
     "data": {
      "text/plain": [
       "import scala.math._\n",
       "x: Array[Int] = Array(1, 2, 3, 4, 5, 6, 7, 8, 9, 10)\n"
      ]
     },
     "execution_count": 34,
     "metadata": {},
     "output_type": "execute_result"
    }
   ],
   "source": [
    "import scala.math._\n",
    "val x = Array(1,2,3,4,5,6,7,8,9,10)\n",
    "x.foreach(t=> t match{\n",
    "    case a:Int if(sqrt(a)*sqrt(a) == a) => println(a)\n",
    "    case _ => \n",
    "})"
   ]
  },
  {
   "cell_type": "code",
   "execution_count": 36,
   "metadata": {},
   "outputs": [
    {
     "name": "stdout",
     "output_type": "stream",
     "text": [
      "1\n",
      "4\n",
      "9\n"
     ]
    }
   ],
   "source": [
    "x.foreach(t=> t match{\n",
    "    case a:Int => if(sqrt(a)*sqrt(a) == a) println(a)\n",
    "})"
   ]
  },
  {
   "cell_type": "code",
   "execution_count": 63,
   "metadata": {},
   "outputs": [
    {
     "name": "stdout",
     "output_type": "stream",
     "text": [
      "1\n",
      "4\n",
      "9\n"
     ]
    },
    {
     "data": {
      "text/plain": [
       "a: Unit = ()\n"
      ]
     },
     "execution_count": 63,
     "metadata": {},
     "output_type": "execute_result"
    }
   ],
   "source": [
    "val a = x.foreach(t=> t match{\n",
    "    case a => if(sqrt(a)*sqrt(a) == a) println(a)\n",
    "})"
   ]
  },
  {
   "cell_type": "code",
   "execution_count": 57,
   "metadata": {},
   "outputs": [
    {
     "name": "stdout",
     "output_type": "stream",
     "text": [
      "1\n",
      "4\n",
      "9\n"
     ]
    }
   ],
   "source": [
    "x.filter(a=>sqrt(a)*sqrt(a) == a).foreach(println)"
   ]
  },
  {
   "cell_type": "markdown",
   "metadata": {},
   "source": [
    "<br><br><br>\n",
    "<span style=\"color:green;font-size:xx-large\">Pattern matching with case classes </span>\n",
    "<br><br>\n",
    "<li>Case classes can be matched using the interface as a pattern</li>\n",
    "<li>Case classes make pattern matching with inherited objects possible</li>\n",
    "<li>In the example below, note how the class interface is matched to variables when the object matches the desired class (e.g., menu matches Deposit)</li>\n",
    "<li>Note also that menu is an object of the abstract class Menu but is being matched against derived class objects</li>"
   ]
  },
  {
   "cell_type": "code",
   "execution_count": 52,
   "metadata": {},
   "outputs": [
    {
     "name": "stdout",
     "output_type": "stream",
     "text": [
      "Depositing! 100 in Account1\n",
      "Withdrawing: 10000 from Account2\n"
     ]
    },
    {
     "data": {
      "text/plain": [
       "defined class Menu\n",
       "defined class Deposit\n",
       "defined class Withdraw\n",
       "defined class Balance\n",
       "do_operation: (menu: Menu)String\n",
       "deposit: Deposit = Deposit(Account1,100)\n",
       "withdraw: Withdraw = Withdraw(Account2,10000)\n"
      ]
     },
     "execution_count": 52,
     "metadata": {},
     "output_type": "execute_result"
    }
   ],
   "source": [
    "abstract class Menu\n",
    "case class Deposit(account: String, amount: Int) extends Menu\n",
    "case class Withdraw(account: String, amount: Int) extends Menu\n",
    "case class Balance(account: String) extends Menu\n",
    "\n",
    "def do_operation(menu: Menu): String = {\n",
    "    menu match {\n",
    "        case Deposit(account,amount) => s\"Depositing! $amount in $account\"\n",
    "        case Withdraw(account,amount) => s\"Withdrawing: $amount from $account\"\n",
    "        case Balance(account) => s\"Balance: in $account\"\n",
    "    }\n",
    "}\n",
    "\n",
    "val deposit = Deposit(\"Account1\", 100)\n",
    "val withdraw = Withdraw(\"Account2\",10000)\n",
    "println(do_operation(deposit))\n",
    "println(do_operation(withdraw))"
   ]
  },
  {
   "cell_type": "markdown",
   "metadata": {},
   "source": [
    "<li><span style=\"color:blue\">sealed trait</span> is a method of ensuring that all definitions (functions, attributes, derived classes) associated with an object are defined in the same place, at the time of creation</li>\n",
    "<li>The idea is that a method cannot be added later to the object that could change its behavior. That way, its behavior will be consistent across the program</li>"
   ]
  },
  {
   "cell_type": "code",
   "execution_count": 33,
   "metadata": {},
   "outputs": [
    {
     "name": "stdout",
     "output_type": "stream",
     "text": [
      "Depositing 100\n",
      "Withdrawing 10000\n",
      "Balance\n"
     ]
    },
    {
     "data": {
      "text/plain": [
       "defined trait Menu\n",
       "defined class Deposit\n",
       "defined class Withdraw\n",
       "defined class Balance\n",
       "do_operation: (menu: Menu)String\n",
       "deposit: Deposit = Deposit(Account1,100)\n",
       "withdraw: Withdraw = Withdraw(Account2,10000)\n",
       "balance: Balance = Balance(Account1)\n",
       "r: String = Depositing 100\n"
      ]
     },
     "execution_count": 33,
     "metadata": {},
     "output_type": "execute_result"
    }
   ],
   "source": [
    "sealed trait Menu\n",
    "case class Deposit(account: String, amount: Int) extends Menu\n",
    "case class Withdraw(account: String, amount: Int) extends Menu\n",
    "case class Balance(account: String) extends Menu\n",
    "\n",
    "\n",
    "def do_operation(menu: Menu): String = {\n",
    "    menu match {\n",
    "//         case Deposit(account,amount) => s\"Depositing! $amount in $account\"\n",
    "        case o: Deposit => s\"Depositing \" + o.amount //d.do_deposit_stuff()\n",
    "        case o: Withdraw => \"Withdrawing \" + o.amount//w.do_withdraw_stuff()\n",
    "        case b: Balance => \"Balance\"      //b.do_balance_stuff()\n",
    "    }\n",
    "}\n",
    "\n",
    "val deposit = Deposit(\"Account1\", 100)\n",
    "val withdraw = Withdraw(\"Account2\",10000)\n",
    "val balance = Balance(\"Account1\")\n",
    "println(do_operation(deposit))\n",
    "println(do_operation(withdraw))\n",
    "println(do_operation(balance))\n",
    "val r = do_operation(deposit)"
   ]
  },
  {
   "cell_type": "code",
   "execution_count": null,
   "metadata": {},
   "outputs": [],
   "source": []
  }
 ],
 "metadata": {
  "kernelspec": {
   "display_name": "spylon-kernel",
   "language": "scala",
   "name": "spylon-kernel"
  },
  "language_info": {
   "codemirror_mode": "text/x-scala",
   "file_extension": ".scala",
   "help_links": [
    {
     "text": "MetaKernel Magics",
     "url": "https://metakernel.readthedocs.io/en/latest/source/README.html"
    }
   ],
   "mimetype": "text/x-scala",
   "name": "scala",
   "pygments_lexer": "scala",
   "version": "0.4.1"
  },
  "toc": {
   "base_numbering": 1,
   "nav_menu": {},
   "number_sections": true,
   "sideBar": true,
   "skip_h1_title": false,
   "title_cell": "Table of Contents",
   "title_sidebar": "Contents",
   "toc_cell": false,
   "toc_position": {},
   "toc_section_display": true,
   "toc_window_display": false
  }
 },
 "nbformat": 4,
 "nbformat_minor": 2
}
