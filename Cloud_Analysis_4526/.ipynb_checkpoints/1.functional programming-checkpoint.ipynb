{
 "cells": [
  {
   "cell_type": "markdown",
   "id": "cc3a741c",
   "metadata": {},
   "source": [
    "<h1>Stateful vs Stateless functions</h1>\n",
    "<li>In the example below, stateful_func changes x but stateless_func does not</li>\n",
    "<li>Both functions return the same value</li>"
   ]
  },
  {
   "cell_type": "code",
   "execution_count": 3,
   "id": "13380129",
   "metadata": {},
   "outputs": [
    {
     "name": "stdout",
     "output_type": "stream",
     "text": [
      "[1, 2, 3, 4, 8]\n"
     ]
    }
   ],
   "source": [
    "list1 = [1,2,3,4]\n",
    "list1.append(8)\n",
    "print(list1)"
   ]
  },
  {
   "cell_type": "code",
   "execution_count": 4,
   "id": "9de5362c",
   "metadata": {},
   "outputs": [
    {
     "name": "stdout",
     "output_type": "stream",
     "text": [
      "[1, 2, 3, 4, 8]\n"
     ]
    }
   ],
   "source": [
    "list1 = [1,2,3,4]\n",
    "list1 = list1 + [8]\n",
    "print(list1)"
   ]
  },
  {
   "cell_type": "code",
   "execution_count": 5,
   "id": "ff41c0dc",
   "metadata": {},
   "outputs": [],
   "source": [
    "#mutable"
   ]
  },
  {
   "cell_type": "code",
   "execution_count": 6,
   "id": "474522e1",
   "metadata": {},
   "outputs": [
    {
     "name": "stdout",
     "output_type": "stream",
     "text": [
      "[1, 2, 3, 4, 9]\n",
      "[1, 2, 3, 4, 9]\n",
      "4366265024\n",
      "4366265024\n"
     ]
    }
   ],
   "source": [
    "def stateful_func(x,y):\n",
    "    x.append(y)\n",
    "    return x\n",
    "\n",
    "list1 = [1,2,3,4]\n",
    "list2 = stateful_func(list1,9)\n",
    "print(list1)\n",
    "print(list2)\n",
    "print(id(list1))\n",
    "print(id(list2))"
   ]
  },
  {
   "cell_type": "code",
   "execution_count": 7,
   "id": "ff1845d2",
   "metadata": {},
   "outputs": [
    {
     "data": {
      "text/plain": [
       "[1, 2, 3, 4, 8]"
      ]
     },
     "execution_count": 7,
     "metadata": {},
     "output_type": "execute_result"
    }
   ],
   "source": [
    "list1 = [1,2,3,4]\n",
    "stateful_func(list1,8)"
   ]
  },
  {
   "cell_type": "code",
   "execution_count": 8,
   "id": "594cdee7",
   "metadata": {},
   "outputs": [
    {
     "name": "stdout",
     "output_type": "stream",
     "text": [
      "[1, 2, 3, 4]\n",
      "[1, 2, 3, 4, 9]\n",
      "4366264896\n",
      "4366160640\n"
     ]
    }
   ],
   "source": [
    "def stateless_func(x,y):\n",
    "    x=x+[y]\n",
    "    return x\n",
    "\n",
    "list1 = [1,2,3,4]\n",
    "list2 = stateless_func(list1,9)\n",
    "print(list1)\n",
    "print(list2)\n",
    "print(id(list1))\n",
    "print(id(list2))"
   ]
  },
  {
   "cell_type": "code",
   "execution_count": 9,
   "id": "3dec8006",
   "metadata": {},
   "outputs": [
    {
     "ename": "TypeError",
     "evalue": "can only concatenate tuple (not \"list\") to tuple",
     "output_type": "error",
     "traceback": [
      "\u001b[0;31m---------------------------------------------------------------------------\u001b[0m",
      "\u001b[0;31mTypeError\u001b[0m                                 Traceback (most recent call last)",
      "Input \u001b[0;32mIn [9]\u001b[0m, in \u001b[0;36m<cell line: 7>\u001b[0;34m()\u001b[0m\n\u001b[1;32m      3\u001b[0m     \u001b[38;5;28;01mreturn\u001b[39;00m x\n\u001b[1;32m      6\u001b[0m x\u001b[38;5;241m=\u001b[39m(\u001b[38;5;241m1\u001b[39m,\u001b[38;5;241m2\u001b[39m,\u001b[38;5;241m3\u001b[39m,\u001b[38;5;241m4\u001b[39m)\n\u001b[0;32m----> 7\u001b[0m \u001b[43mstateless_func\u001b[49m\u001b[43m(\u001b[49m\u001b[43mx\u001b[49m\u001b[43m,\u001b[49m\u001b[38;5;241;43m5\u001b[39;49m\u001b[43m)\u001b[49m\n",
      "Input \u001b[0;32mIn [9]\u001b[0m, in \u001b[0;36mstateless_func\u001b[0;34m(x, y)\u001b[0m\n\u001b[1;32m      1\u001b[0m \u001b[38;5;28;01mdef\u001b[39;00m \u001b[38;5;21mstateless_func\u001b[39m(x,y):\n\u001b[0;32m----> 2\u001b[0m     x\u001b[38;5;241m=\u001b[39m\u001b[43mx\u001b[49m\u001b[38;5;241;43m+\u001b[39;49m\u001b[43m[\u001b[49m\u001b[43my\u001b[49m\u001b[43m,\u001b[49m\u001b[43m]\u001b[49m\n\u001b[1;32m      3\u001b[0m     \u001b[38;5;28;01mreturn\u001b[39;00m x\n",
      "\u001b[0;31mTypeError\u001b[0m: can only concatenate tuple (not \"list\") to tuple"
     ]
    }
   ],
   "source": [
    "def stateless_func(x,y):\n",
    "    x=x+[y,]\n",
    "    return x\n",
    "\n",
    "\n",
    "x=(1,2,3,4)\n",
    "stateless_func(x,5)"
   ]
  },
  {
   "cell_type": "code",
   "execution_count": 10,
   "id": "72fb3c3f",
   "metadata": {},
   "outputs": [
    {
     "name": "stdout",
     "output_type": "stream",
     "text": [
      "(1, 2, 3, 4, 5)\n",
      "(1, 2, 3, 4)\n"
     ]
    }
   ],
   "source": [
    "def stateless_func_tuples(x,y):\n",
    "    x=x+(y,)\n",
    "    return x\n",
    "\n",
    "\n",
    "x=(1,2,3,4)\n",
    "print(stateless_func_tuples(x,5))\n",
    "print(x)"
   ]
  },
  {
   "cell_type": "markdown",
   "id": "69142415",
   "metadata": {},
   "source": [
    "<h1>Referential transparency</h1>\n",
    "<li>stateful_func is not referentially transparent because its return value depends on what x is at a point in time</li>\n",
    "<li>stateless_func is also not referentially transparent because x is mutable. But, stateless_func can be modified to make it referentially transparent by ensuring that x is immutable (e.g., a tuple)</li>\n",
    "<li>stateful_func cannot be made referentially transparent because it relies on x being mutable</li>"
   ]
  },
  {
   "cell_type": "code",
   "execution_count": 11,
   "id": "84f74396",
   "metadata": {},
   "outputs": [
    {
     "name": "stdout",
     "output_type": "stream",
     "text": [
      "[1, 2, 3, 4, 9]\n",
      "[1, 2, 3, 4, 9, 8]\n"
     ]
    }
   ],
   "source": [
    "x = [1,2,3,4]\n",
    "print(stateful_func(x,9))\n",
    "print(stateful_func(x,8))"
   ]
  },
  {
   "cell_type": "code",
   "execution_count": 12,
   "id": "c40c8a51",
   "metadata": {},
   "outputs": [
    {
     "name": "stdout",
     "output_type": "stream",
     "text": [
      "[1, 2, 3, 4, 9]\n",
      "[1, 2, 3, 4]\n",
      "[1, 2, 3, 4, 8]\n"
     ]
    }
   ],
   "source": [
    "x = [1,2,3,4]\n",
    "print(stateless_func(x,9))\n",
    "print(x)\n",
    "print(stateless_func(x,8))"
   ]
  },
  {
   "cell_type": "code",
   "execution_count": 13,
   "id": "98922fc8",
   "metadata": {},
   "outputs": [
    {
     "name": "stdout",
     "output_type": "stream",
     "text": [
      "(1, 2, 3, 4, 9)\n",
      "(1, 2, 3, 4)\n",
      "(1, 2, 3, 4, 8)\n"
     ]
    }
   ],
   "source": [
    "x = (1,2,3,4)\n",
    "print(stateless_func_tuples(x,9))\n",
    "print(x)\n",
    "print(stateless_func_tuples(x,8))"
   ]
  },
  {
   "cell_type": "markdown",
   "id": "175a598c",
   "metadata": {},
   "source": [
    "<h1>Immutablity</h1>\n",
    "<li>Let's make stateless_func referentially transparent using immutable objects</li>\n",
    "<li>The new stateless_func is a pure function</li>"
   ]
  },
  {
   "cell_type": "code",
   "execution_count": 15,
   "id": "825ad8ee",
   "metadata": {},
   "outputs": [
    {
     "data": {
      "text/plain": [
       "(1, 2, 3, 4, 9)"
      ]
     },
     "execution_count": 15,
     "metadata": {},
     "output_type": "execute_result"
    }
   ],
   "source": [
    "#referentially transparent stateless func\n",
    "def stateless_func(x,y):\n",
    "    x=x+(y,)\n",
    "    return x\n",
    "\n",
    "tuple1 = (1,2,3,4)\n",
    "stateless_func(tuple1,9)"
   ]
  },
  {
   "cell_type": "code",
   "execution_count": 16,
   "id": "5979d949",
   "metadata": {},
   "outputs": [
    {
     "data": {
      "text/plain": [
       "(1, 2, 3, 4, 9)"
      ]
     },
     "execution_count": 16,
     "metadata": {},
     "output_type": "execute_result"
    }
   ],
   "source": [
    "tuple1 = (1,2,3,4)\n",
    "value = 9\n",
    "stateless_func(tuple1,value)"
   ]
  },
  {
   "cell_type": "code",
   "execution_count": 24,
   "id": "a3c48e7d",
   "metadata": {},
   "outputs": [
    {
     "name": "stdout",
     "output_type": "stream",
     "text": [
      "(1, 2, 3, 4, (9, [7]))\n",
      "(9, [7, 11])\n"
     ]
    },
    {
     "data": {
      "text/plain": [
       "(1, 2, 3, 4, (9, [7, 11]))"
      ]
     },
     "execution_count": 24,
     "metadata": {},
     "output_type": "execute_result"
    }
   ],
   "source": [
    "tuple1 = (1,2,3,4)\n",
    "x = [7]\n",
    "value = (9,x)#reference to x\n",
    "print(stateless_func(tuple1,value))\n",
    "x.append(11)\n",
    "print(value)\n",
    "stateless_func(tuple1,value)"
   ]
  },
  {
   "cell_type": "markdown",
   "id": "ed564962",
   "metadata": {},
   "source": [
    "<h1>Lazy evaluation</h1>\n",
    "<li>the values in evens are not evaluated unless the programmer uses it</li>\n",
    "<li>and this lets us control exactly how much we want to grab from the data</li>"
   ]
  },
  {
   "cell_type": "code",
   "execution_count": 73,
   "id": "f52b94b6",
   "metadata": {},
   "outputs": [
    {
     "data": {
      "text/plain": [
       "True"
      ]
     },
     "execution_count": 73,
     "metadata": {},
     "output_type": "execute_result"
    }
   ],
   "source": [
    "True == 1"
   ]
  },
  {
   "cell_type": "code",
   "execution_count": 100,
   "id": "3e8f9beb",
   "metadata": {},
   "outputs": [
    {
     "data": {
      "text/plain": [
       "<map at 0x104f49130>"
      ]
     },
     "execution_count": 100,
     "metadata": {},
     "output_type": "execute_result"
    }
   ],
   "source": [
    "def square(x) :            # 计算平方数\n",
    "    return x ** 2\n",
    "\n",
    "map(square, [1,2,3,4,5]) "
   ]
  },
  {
   "cell_type": "code",
   "execution_count": 104,
   "id": "7102df51",
   "metadata": {},
   "outputs": [
    {
     "name": "stdout",
     "output_type": "stream",
     "text": [
      "<map object at 0x10555bf40>\n"
     ]
    }
   ],
   "source": [
    "x=[1,2,3,4]\n",
    "y=[3,4,5,6,7]\n",
    "print(map(len,[x,y])) #not done\n",
    "z=map(len,[x,y])"
   ]
  },
  {
   "cell_type": "code",
   "execution_count": 105,
   "id": "13e2879e",
   "metadata": {},
   "outputs": [
    {
     "data": {
      "text/plain": [
       "[4, 5]"
      ]
     },
     "execution_count": 105,
     "metadata": {},
     "output_type": "execute_result"
    }
   ],
   "source": [
    "list(z)"
   ]
  },
  {
   "cell_type": "code",
   "execution_count": 19,
   "id": "59a7218c",
   "metadata": {},
   "outputs": [
    {
     "data": {
      "text/plain": [
       "<map at 0x10793b610>"
      ]
     },
     "execution_count": 19,
     "metadata": {},
     "output_type": "execute_result"
    }
   ],
   "source": [
    "l = (1,2,3,4,5,6,7,8)\n",
    "def f1(x):\n",
    "    return x*x\n",
    "\n",
    "def f2(x):\n",
    "    return x%2==0\n",
    "\n",
    "evens = map(f2,map(f1,l))\n",
    "evens"
   ]
  },
  {
   "cell_type": "code",
   "execution_count": 20,
   "id": "fa4f7f11",
   "metadata": {},
   "outputs": [
    {
     "data": {
      "text/plain": [
       "[False, True, False, True, False, True, False, True]"
      ]
     },
     "execution_count": 20,
     "metadata": {},
     "output_type": "execute_result"
    }
   ],
   "source": [
    "list(evens)"
   ]
  },
  {
   "cell_type": "markdown",
   "id": "58d97ed9",
   "metadata": {},
   "source": [
    "<h1>First class functions</h1>\n",
    "<li>filter contains a function argument</li>\n",
    "<li>any function on one variable can be used here (provided it works!)</li>\n",
    "<li>is_odd and is_square become building blocks for the general purpose \"filter\" function</li>"
   ]
  },
  {
   "cell_type": "code",
   "execution_count": 31,
   "id": "e905d360",
   "metadata": {},
   "outputs": [],
   "source": [
    "# def a(t):\n",
    "#     return (i+1 for i in t)\n",
    "# tuple(a((1,2,3)))"
   ]
  },
  {
   "cell_type": "code",
   "execution_count": 37,
   "id": "0f669f21",
   "metadata": {},
   "outputs": [],
   "source": [
    "def is_odd(a):\n",
    "    return not a%2\n",
    "\n",
    "def is_square(a):\n",
    "    return (a**0.5)**2 == a\n",
    "\n",
    "def filter(t,p):\n",
    "    return (v for v in t if p(v)) #tuple comprehension, since tuple is immutable, its lazy evulation.\n"
   ]
  },
  {
   "cell_type": "code",
   "execution_count": 38,
   "id": "863e7aaf",
   "metadata": {},
   "outputs": [],
   "source": [
    "odds = filter((1,2,3,4,5),is_odd)"
   ]
  },
  {
   "cell_type": "code",
   "execution_count": 39,
   "id": "443506fb",
   "metadata": {},
   "outputs": [
    {
     "data": {
      "text/plain": [
       "<generator object filter.<locals>.<genexpr> at 0x1043ae270>"
      ]
     },
     "execution_count": 39,
     "metadata": {},
     "output_type": "execute_result"
    }
   ],
   "source": [
    "odds"
   ]
  },
  {
   "cell_type": "code",
   "execution_count": 40,
   "id": "9c12f9df",
   "metadata": {},
   "outputs": [
    {
     "data": {
      "text/plain": [
       "[2, 4]"
      ]
     },
     "execution_count": 40,
     "metadata": {},
     "output_type": "execute_result"
    }
   ],
   "source": [
    "list(odds)"
   ]
  },
  {
   "cell_type": "code",
   "execution_count": 41,
   "id": "1d814413",
   "metadata": {},
   "outputs": [
    {
     "data": {
      "text/plain": [
       "<generator object filter.<locals>.<genexpr> at 0x1043ae6d0>"
      ]
     },
     "execution_count": 41,
     "metadata": {},
     "output_type": "execute_result"
    }
   ],
   "source": [
    "odds = filter((1,2,3,4,5),is_odd)\n",
    "squares = filter((1,2,3,4,5),is_square)\n",
    "odds"
   ]
  },
  {
   "cell_type": "code",
   "execution_count": 42,
   "id": "40a887d9",
   "metadata": {},
   "outputs": [],
   "source": [
    "# (3**0.5)**2 == 3"
   ]
  },
  {
   "cell_type": "code",
   "execution_count": 43,
   "id": "5c364375",
   "metadata": {},
   "outputs": [
    {
     "data": {
      "text/plain": [
       "[2, 4]"
      ]
     },
     "execution_count": 43,
     "metadata": {},
     "output_type": "execute_result"
    }
   ],
   "source": [
    "list(odds)"
   ]
  },
  {
   "cell_type": "code",
   "execution_count": 44,
   "id": "428ef290",
   "metadata": {},
   "outputs": [],
   "source": [
    "# list(squares)"
   ]
  },
  {
   "cell_type": "code",
   "execution_count": 45,
   "id": "1ec79862",
   "metadata": {},
   "outputs": [
    {
     "data": {
      "text/plain": [
       "1"
      ]
     },
     "execution_count": 45,
     "metadata": {},
     "output_type": "execute_result"
    }
   ],
   "source": [
    "next(squares)\n",
    "        "
   ]
  },
  {
   "cell_type": "code",
   "execution_count": 46,
   "id": "4583d327",
   "metadata": {},
   "outputs": [
    {
     "data": {
      "text/plain": [
       "4"
      ]
     },
     "execution_count": 46,
     "metadata": {},
     "output_type": "execute_result"
    }
   ],
   "source": [
    "next(squares)"
   ]
  },
  {
   "cell_type": "code",
   "execution_count": 47,
   "id": "695ece19",
   "metadata": {},
   "outputs": [
    {
     "ename": "StopIteration",
     "evalue": "",
     "output_type": "error",
     "traceback": [
      "\u001b[0;31m---------------------------------------------------------------------------\u001b[0m",
      "\u001b[0;31mStopIteration\u001b[0m                             Traceback (most recent call last)",
      "Input \u001b[0;32mIn [47]\u001b[0m, in \u001b[0;36m<cell line: 1>\u001b[0;34m()\u001b[0m\n\u001b[0;32m----> 1\u001b[0m \u001b[38;5;28;43mnext\u001b[39;49m\u001b[43m(\u001b[49m\u001b[43modds\u001b[49m\u001b[43m)\u001b[49m\n",
      "\u001b[0;31mStopIteration\u001b[0m: "
     ]
    }
   ],
   "source": [
    "next(odds)"
   ]
  },
  {
   "cell_type": "markdown",
   "id": "a0279a36",
   "metadata": {},
   "source": [
    "<h1>Recursion</h1>\n",
    "<h3>Example: Fibonacci numbers</h3>\n"
   ]
  },
  {
   "cell_type": "code",
   "execution_count": 48,
   "id": "eb39904b",
   "metadata": {},
   "outputs": [],
   "source": [
    "#while"
   ]
  },
  {
   "cell_type": "code",
   "execution_count": 49,
   "id": "c305a32a",
   "metadata": {},
   "outputs": [
    {
     "data": {
      "text/plain": [
       "102334155"
      ]
     },
     "execution_count": 49,
     "metadata": {},
     "output_type": "execute_result"
    }
   ],
   "source": [
    "def fibonacci(i):    \n",
    "    if i==0: return 0    \n",
    "    if i==1: return 1    \n",
    "    f1=0    \n",
    "    f2=1\n",
    "    count = 2\n",
    "    while count <= i:\n",
    "        f1,f2 = f2,f1+f2\n",
    "        count+=1\n",
    "    return f2\n",
    "fibonacci(40)"
   ]
  },
  {
   "cell_type": "markdown",
   "id": "604ef8a8",
   "metadata": {},
   "source": [
    "<h3>In imperative programs, the value of data elements varies within a function call</h3>\n",
    "<li>Imperative functions are generally <span style=\"color:blue\">stateful</span></li>\n",
    "\n",
    "<table width=\"100%\" style=\"font-size:20px\">\n",
    "    <tr><td>Variable </td><td> State<sub>i</sub> </td><td> State<sub>i+1</sub> </td><td> State<sub>i+2</sub></td>\n",
    "<tr><td>i        </td><td> 3      </td><td> 3        </td><td> 3    </td>    \n",
    "<tr><td>f1       </td><td> 0      </td><td> 1        </td><td> 1       </td> \n",
    "<tr><td>f2       </td><td> 1      </td><td> 1        </td><td> 2     </td>   \n",
    "<tr><td>count    </td><td> 2      </td><td> 3        </td><td> 4      </td> \n",
    "</table>\n",
    "\n"
   ]
  },
  {
   "cell_type": "markdown",
   "id": "48243391",
   "metadata": {},
   "source": [
    "<h3>Functional program</h3>\n",
    "A functional program can be exressed as a mathematical function\n",
    "\n",
    "$ f_{n} = \n",
    "\\left\\{ \n",
    "\\begin{array}{lll} \n",
    "0 & if & n=0 \\\\\n",
    "1 & if & n=1 \\\\ \n",
    "{ f_{n-1} + f_{n-2} } & if & n>1\n",
    "\\end{array} \n",
    "\\right.$"
   ]
  },
  {
   "cell_type": "markdown",
   "id": "addf8a0e",
   "metadata": {},
   "source": [
    "<h3>Recursion</h3>\n",
    "The last line of the equation:\n",
    "\n",
    "$ \\begin{array}{l} { f_{n-1} + f_{n-2} } & if & n>1 \\end{array} $\n",
    "\n",
    "applies the same function, $ f $, to $ f(n-1) $ and $ f(n-2) $\n",
    "\n",
    "When a function calls itself, the function is said to be recursive\n",
    "\n",
    "functional programs make heavy use of recursion\n",
    "\n",
    "<li>the mathematical expression for fibonacci has a one to one correspondence with the recursive function</li>"
   ]
  },
  {
   "cell_type": "code",
   "execution_count": 65,
   "id": "7bb8d721",
   "metadata": {},
   "outputs": [
    {
     "data": {
      "text/plain": [
       "2"
      ]
     },
     "execution_count": 65,
     "metadata": {},
     "output_type": "execute_result"
    }
   ],
   "source": [
    "def rfibonacci(i):\n",
    "    \n",
    "    if i==0: return 0\n",
    "    if i==1: return 1\n",
    "    \n",
    "    return rfibonacci(i-1) + rfibonacci(i-2)\n",
    "rfibonacci(3)"
   ]
  },
  {
   "cell_type": "markdown",
   "id": "cf69d6de",
   "metadata": {},
   "source": [
    "<h2>The tower of Hanoi</h2>\n",
    "<li>Recurive implementation in python</li>"
   ]
  },
  {
   "cell_type": "code",
   "execution_count": 64,
   "id": "e3c2087d",
   "metadata": {},
   "outputs": [
    {
     "name": "stdout",
     "output_type": "stream",
     "text": [
      "inmove disk 1 from A to C\n",
      "move disk 2 from A to B\n",
      "inmove disk 1 from C to B\n",
      "move disk 3 from A to C\n",
      "inmove disk 1 from B to A\n",
      "move disk 2 from B to C\n",
      "inmove disk 1 from A to C\n"
     ]
    }
   ],
   "source": [
    "#a is source,b is auxiliary, and c is the destination tower.\n",
    "def move(n,a,b,c):\n",
    "    if n==1:\n",
    "        print(\"inmove disk 1 from\",a,\"to\",c)\n",
    "        return\n",
    "    move(n-1,a,c,b) #move n-1 from source to axu\n",
    "    print(\"move disk\",n,\"from\",a,\"to\",c) #move last dick to destination\n",
    "    move(n-1,b,a,c)# move n-1 from axu to destination\n",
    "    \n",
    "move(3,\"A\",\"B\",\"C\")"
   ]
  },
  {
   "cell_type": "code",
   "execution_count": 47,
   "id": "b0777764",
   "metadata": {},
   "outputs": [
    {
     "name": "stdout",
     "output_type": "stream",
     "text": [
      "move disk 1 from A to C\n",
      "move disk 2 from A to B\n",
      "move disk 1 from C to B\n",
      "move disk 3 from A to C\n",
      "move disk 1 from B to A\n",
      "move disk 2 from B to C\n",
      "move disk 1 from A to C\n"
     ]
    }
   ],
   "source": [
    "def move(n,a,c,b):\n",
    "    if n==1:\n",
    "        print(\"move disk 1 from\",a,\"to\",c)\n",
    "        return\n",
    "    move(n-1,a,b,c)\n",
    "    print(\"move disk\",n,\"from\",a,\"to\",c)\n",
    "    move(n-1,b,c,a)\n",
    "    \n",
    "move(3,\"A\",\"C\",\"B\")"
   ]
  },
  {
   "cell_type": "code",
   "execution_count": 58,
   "id": "8fd425fd",
   "metadata": {},
   "outputs": [
    {
     "name": "stdout",
     "output_type": "stream",
     "text": [
      "move disk 1 from A to B\n",
      "move disk 2 from A to C\n",
      "move disk 1 from B to C\n",
      "move disk 3 from A to B\n",
      "move disk 1 from C to A\n",
      "move disk 2 from C to B\n",
      "move disk 1 from A to B\n",
      "move disk 4 from A to C\n",
      "move disk 1 from B to C\n",
      "move disk 2 from B to A\n",
      "move disk 1 from C to A\n",
      "move disk 3 from B to C\n",
      "move disk 1 from A to B\n",
      "move disk 2 from A to C\n",
      "move disk 1 from B to C\n"
     ]
    }
   ],
   "source": [
    "move(4,\"A\",\"B\",\"C\")"
   ]
  },
  {
   "cell_type": "code",
   "execution_count": 59,
   "id": "a8bbea12",
   "metadata": {},
   "outputs": [
    {
     "name": "stdout",
     "output_type": "stream",
     "text": [
      "move disk 1 from A to C\n",
      "move disk 2 from A to B\n",
      "move disk 1 from C to B\n",
      "move disk 3 from A to C\n",
      "move disk 1 from B to A\n",
      "move disk 2 from B to C\n",
      "move disk 1 from A to C\n",
      "move disk 4 from A to B\n",
      "move disk 1 from C to B\n",
      "move disk 2 from C to A\n",
      "move disk 1 from B to A\n",
      "move disk 3 from C to B\n",
      "move disk 1 from A to C\n",
      "move disk 2 from A to B\n",
      "move disk 1 from C to B\n",
      "move disk 5 from A to C\n",
      "move disk 1 from B to A\n",
      "move disk 2 from B to C\n",
      "move disk 1 from A to C\n",
      "move disk 3 from B to A\n",
      "move disk 1 from C to B\n",
      "move disk 2 from C to A\n",
      "move disk 1 from B to A\n",
      "move disk 4 from B to C\n",
      "move disk 1 from A to C\n",
      "move disk 2 from A to B\n",
      "move disk 1 from C to B\n",
      "move disk 3 from A to C\n",
      "move disk 1 from B to A\n",
      "move disk 2 from B to C\n",
      "move disk 1 from A to C\n"
     ]
    }
   ],
   "source": [
    "move(5,\"A\",\"B\",\"C\")"
   ]
  },
  {
   "cell_type": "markdown",
   "id": "34606672",
   "metadata": {},
   "source": [
    "<h3>Iterative solution</h3>\n",
    "<li>Source: <i>https://www.codingninjas.com/codestudio/library/iterative-tower-of-hanoi</i>"
   ]
  },
  {
   "cell_type": "code",
   "execution_count": 49,
   "id": "4825dc49",
   "metadata": {},
   "outputs": [
    {
     "name": "stdout",
     "output_type": "stream",
     "text": [
      "Move the disk 1 from S to A\n",
      "Move the disk 2 from S to D\n",
      "Move the disk 1 from A to D\n",
      "Move the disk 3 from S to A\n",
      "Move the disk 1 from D to S\n",
      "Move the disk 2 from D to A\n",
      "Move the disk 1 from S to A\n",
      "Move the disk 4 from S to D\n",
      "Move the disk 1 from A to D\n",
      "Move the disk 2 from A to S\n",
      "Move the disk 1 from D to S\n",
      "Move the disk 3 from A to D\n",
      "Move the disk 1 from S to A\n",
      "Move the disk 2 from S to D\n",
      "Move the disk 1 from A to D\n"
     ]
    }
   ],
   "source": [
    "\n",
    "\n",
    "#Tower of Hanoi\n",
    "INT_MIN = -2147483648\n",
    "\n",
    "class Stack:\n",
    "    def __init__(self, capacity):\n",
    "        self.capacity = capacity\n",
    "        self.top = -1\n",
    "        self.arr = []\n",
    "\n",
    "    # Stack is full when the top is equal\n",
    "    # to the last index\n",
    "    def isFull(self, stack):\n",
    "        return stack.top == stack.capacity - 1\n",
    "\n",
    "    # To check Stack is empty or not\n",
    "    def isEmpty(self, stack):\n",
    "        return stack.top == -1\n",
    "\n",
    "    # Function to add an item in Stack\n",
    "    def push(self, stack, item):\n",
    "        if self.isFull(stack):\n",
    "            return\n",
    "        stack.top+=1\n",
    "        stack.arr.append(item)\n",
    "\n",
    "    # Function to remove an item from Stack\n",
    "    def pop(self, stack):\n",
    "        if self.isEmpty(stack):\n",
    "            return INT_MIN\n",
    "        stack.top-=1        \n",
    "        return stack.arr.pop()\n",
    "    \n",
    "    def moveDisks(self, src, dest, s, d):\n",
    "\n",
    "        pole1 = self.pop(src);\n",
    "        pole2 = self.pop(dest);\n",
    "\n",
    "        # When pole 1 is empty\n",
    "        if(pole1 == INT_MIN):\n",
    "            self.push(src, pole2)\n",
    "            self.move(d, s, pole2)\n",
    "            \n",
    "        # When pole2 pole is empty\n",
    "        elif (pole2 == INT_MIN):\n",
    "            self.push(dest, pole1)\n",
    "            self.move(s, d, pole1)\n",
    "            \n",
    "        # When top disk of pole1 > top disk of pole2\n",
    "        elif (pole1 > pole2):\n",
    "            self.push(src, pole1)\n",
    "            self.push(src, pole2)\n",
    "            self.move(d, s, pole2)\n",
    "        # When top disk of pole1 < top disk of pole2\n",
    "        else:\n",
    "            self.push(dest, pole2)\n",
    "            self.push(dest, pole1)\n",
    "            self.move(s, d, pole1)\n",
    "\n",
    "    # Function to show the movement of disks\n",
    "    def move(self, fromPeg, toPeg, disk):\n",
    "        print(\"Move the disk \"+str(disk)+\" from \"+fromPeg+\" to \" + toPeg)\n",
    "\n",
    "    # Implementation\n",
    "    def Iterative(self, num, src, aux, dest):\n",
    "\n",
    "        s, d, a = 'S', 'D', 'A'\n",
    "\n",
    "        # Rules in algorithm will be followed\n",
    "        if num % 2 == 0:\n",
    "            temp = d\n",
    "            d = a\n",
    "            a = temp\n",
    "\n",
    "        total_num_of_moves = int(pow(2, num) - 1)\n",
    "\n",
    "        # disks with large diameter are pushed first\n",
    "        i = num\n",
    "        while(i>=1):\n",
    "            self.push(src, i)\n",
    "            i-=1\n",
    "        \n",
    "        i = 1\n",
    "        while(i <= total_num_of_moves):\n",
    "            if (i % 3 == 1):\n",
    "                self.moveDisks(src, dest, s, d)\n",
    "            \n",
    "            elif (i % 3 == 2):\n",
    "                self.moveDisks(src, aux, s, a)\n",
    "            \n",
    "            elif (i % 3 == 0):\n",
    "                self.moveDisks(aux, dest, a, d)\n",
    "            \n",
    "            i+=1\n",
    "      \n",
    "# \tnumber of disks\n",
    "num = 4\n",
    "# stacks created for src , dest, aux\n",
    "src  = Stack(num)\n",
    "dest = Stack(num) \n",
    "aux = Stack(num) \n",
    "# solution \n",
    "sol = Stack(0)\n",
    "sol.Iterative(num, src, aux, dest)"
   ]
  },
  {
   "cell_type": "markdown",
   "id": "7dab233d",
   "metadata": {},
   "source": [
    "<h1>Recursion and the \"growing\" (growling!) call stack</h1>\n",
    "<li>Note how long the function stays in 8, 7 and 6</li>\n",
    "<li>Note also how many times we're calling rfibonacci with 1,2,3,4 etc.</li>"
   ]
  },
  {
   "cell_type": "code",
   "execution_count": 50,
   "id": "47fa693c",
   "metadata": {},
   "outputs": [
    {
     "name": "stdout",
     "output_type": "stream",
     "text": [
      "in  8\n",
      "in  7\n",
      "in  6\n",
      "in  5\n",
      "in  4\n",
      "in  3\n",
      "in  2\n",
      "in  1\n",
      "in  0\n",
      "finishing 2\n",
      "in  1\n",
      "finishing 3\n",
      "in  2\n",
      "in  1\n",
      "in  0\n",
      "finishing 2\n",
      "finishing 4\n",
      "in  3\n",
      "in  2\n",
      "in  1\n",
      "in  0\n",
      "finishing 2\n",
      "in  1\n",
      "finishing 3\n",
      "finishing 5\n",
      "in  4\n",
      "in  3\n",
      "in  2\n",
      "in  1\n",
      "in  0\n",
      "finishing 2\n",
      "in  1\n",
      "finishing 3\n",
      "in  2\n",
      "in  1\n",
      "in  0\n",
      "finishing 2\n",
      "finishing 4\n",
      "finishing 6\n",
      "in  5\n",
      "in  4\n",
      "in  3\n",
      "in  2\n",
      "in  1\n",
      "in  0\n",
      "finishing 2\n",
      "in  1\n",
      "finishing 3\n",
      "in  2\n",
      "in  1\n",
      "in  0\n",
      "finishing 2\n",
      "finishing 4\n",
      "in  3\n",
      "in  2\n",
      "in  1\n",
      "in  0\n",
      "finishing 2\n",
      "in  1\n",
      "finishing 3\n",
      "finishing 5\n",
      "finishing 7\n",
      "in  6\n",
      "in  5\n",
      "in  4\n",
      "in  3\n",
      "in  2\n",
      "in  1\n",
      "in  0\n",
      "finishing 2\n",
      "in  1\n",
      "finishing 3\n",
      "in  2\n",
      "in  1\n",
      "in  0\n",
      "finishing 2\n",
      "finishing 4\n",
      "in  3\n",
      "in  2\n",
      "in  1\n",
      "in  0\n",
      "finishing 2\n",
      "in  1\n",
      "finishing 3\n",
      "finishing 5\n",
      "in  4\n",
      "in  3\n",
      "in  2\n",
      "in  1\n",
      "in  0\n",
      "finishing 2\n",
      "in  1\n",
      "finishing 3\n",
      "in  2\n",
      "in  1\n",
      "in  0\n",
      "finishing 2\n",
      "finishing 4\n",
      "finishing 6\n",
      "finishing 8\n"
     ]
    },
    {
     "data": {
      "text/plain": [
       "21"
      ]
     },
     "execution_count": 50,
     "metadata": {},
     "output_type": "execute_result"
    }
   ],
   "source": [
    "def rfibonacci(i):\n",
    "    print(\"in \",i)\n",
    "    if i==0: return 0\n",
    "    if i==1: return 1\n",
    "    result = rfibonacci(i-1) + rfibonacci(i-2)\n",
    "    print(\"finishing\",i)\n",
    "    return result\n",
    "\n",
    "rfibonacci(8)"
   ]
  },
  {
   "cell_type": "markdown",
   "id": "df79a9d3",
   "metadata": {},
   "source": [
    "<h1>Recursive tower of hanoi</h1>"
   ]
  },
  {
   "cell_type": "code",
   "execution_count": 51,
   "id": "a5096698",
   "metadata": {},
   "outputs": [],
   "source": [
    "def tower(ndisks,s,d,m):\n",
    "    if ndisks==1:\n",
    "        print(\"Move disk 1 from \", s, \" to \", d)\n",
    "        return None\n",
    "    tower(ndisks-1, s, m, d)\n",
    "    print(\"Move disk\",ndisks ,\"from source\",s,\"to \",d)\n",
    "    tower(ndisks-1, m, d, s)\n",
    "    "
   ]
  },
  {
   "cell_type": "code",
   "execution_count": 57,
   "id": "1a84a66a",
   "metadata": {},
   "outputs": [
    {
     "name": "stdout",
     "output_type": "stream",
     "text": [
      "Move disk 1 from  A  to  C\n",
      "Move disk 2 from source A to  B\n",
      "Move disk 1 from  C  to  B\n",
      "Move disk 3 from source A to  C\n",
      "Move disk 1 from  B  to  A\n",
      "Move disk 2 from source B to  C\n",
      "Move disk 1 from  A  to  C\n",
      "Move disk 4 from source A to  B\n",
      "Move disk 1 from  C  to  B\n",
      "Move disk 2 from source C to  A\n",
      "Move disk 1 from  B  to  A\n",
      "Move disk 3 from source C to  B\n",
      "Move disk 1 from  A  to  C\n",
      "Move disk 2 from source A to  B\n",
      "Move disk 1 from  C  to  B\n",
      "Move disk 5 from source A to  C\n",
      "Move disk 1 from  B  to  A\n",
      "Move disk 2 from source B to  C\n",
      "Move disk 1 from  A  to  C\n",
      "Move disk 3 from source B to  A\n",
      "Move disk 1 from  C  to  B\n",
      "Move disk 2 from source C to  A\n",
      "Move disk 1 from  B  to  A\n",
      "Move disk 4 from source B to  C\n",
      "Move disk 1 from  A  to  C\n",
      "Move disk 2 from source A to  B\n",
      "Move disk 1 from  C  to  B\n",
      "Move disk 3 from source A to  C\n",
      "Move disk 1 from  B  to  A\n",
      "Move disk 2 from source B to  C\n",
      "Move disk 1 from  A  to  C\n"
     ]
    }
   ],
   "source": [
    "tower(5,\"A\",\"C\",\"B\")"
   ]
  },
  {
   "cell_type": "markdown",
   "id": "70e71e56",
   "metadata": {},
   "source": [
    "<h1>Tail recursion</h1>\n",
    "<li>tail recursive version of fibonacci</li>\n",
    "<li>Note the simpler call stack</li>\n",
    "<li>Note the number of times we call each \"sub\" fibonacci</li>"
   ]
  },
  {
   "cell_type": "markdown",
   "id": "67b17f51",
   "metadata": {},
   "source": [
    "<h3>Functionally</h3>\n",
    "\n",
    "Initialize:\n",
    "$ a=0 $,\n",
    "$ b=1 $\n",
    "\n",
    "$ f(n,a,b) =  \n",
    "\\left\\{ \n",
    "\\begin{array}{ll} \n",
    "a & if & n=0 \\\\\n",
    "{ f(n-1,b,a+b) } & if & n>0\n",
    "\\end{array} \n",
    "\\right.$"
   ]
  },
  {
   "cell_type": "code",
   "execution_count": 62,
   "id": "045769da",
   "metadata": {},
   "outputs": [
    {
     "name": "stdout",
     "output_type": "stream",
     "text": [
      "in  4 0 1\n",
      "in  3 1 1\n",
      "in  2 1 2\n",
      "in  1 2 3\n",
      "in  0 3 5\n"
     ]
    },
    {
     "data": {
      "text/plain": [
       "3"
      ]
     },
     "execution_count": 62,
     "metadata": {},
     "output_type": "execute_result"
    }
   ],
   "source": [
    "def tail_fib(i,a=0,b=1):\n",
    "    print(\"in \",i,a,b)\n",
    "    if i==0: return a\n",
    "    if i>0: return tail_fib(i-1,b,a+b)\n",
    "tail_fib(4)"
   ]
  },
  {
   "cell_type": "code",
   "execution_count": null,
   "id": "2d498664",
   "metadata": {},
   "outputs": [],
   "source": [
    "rfibonacci(30)"
   ]
  },
  {
   "cell_type": "code",
   "execution_count": 66,
   "id": "d0893dca",
   "metadata": {},
   "outputs": [],
   "source": [
    "# // an example of normal recursion\n",
    "def factorial(n):\n",
    "  if n <= 1:\n",
    "    return 1\n",
    "  res = factorial(n-1) #recursive call\n",
    "  return res*n         #processing\n",
    "\n",
    "# // an example of tail recursion\n",
    "def tailFactorial(accumulator, n):\n",
    "  if n <= 1:\n",
    "    return accumulator\n",
    "  accumulator *= n    #processing\n",
    "  n -= 1              #processing\n",
    "  return tailFactorial(accumulator, n) #recursive call"
   ]
  },
  {
   "cell_type": "code",
   "execution_count": 67,
   "id": "33d52ec9",
   "metadata": {},
   "outputs": [
    {
     "data": {
      "text/plain": [
       "24"
      ]
     },
     "execution_count": 67,
     "metadata": {},
     "output_type": "execute_result"
    }
   ],
   "source": [
    "factorial(4)"
   ]
  },
  {
   "cell_type": "code",
   "execution_count": 68,
   "id": "50615789",
   "metadata": {},
   "outputs": [
    {
     "data": {
      "text/plain": [
       "24"
      ]
     },
     "execution_count": 68,
     "metadata": {},
     "output_type": "execute_result"
    }
   ],
   "source": [
    "tailFactorial(1, 4)"
   ]
  },
  {
   "cell_type": "markdown",
   "id": "777d3b23",
   "metadata": {},
   "source": [
    "<h1>Time comparison of different fibonacci functions</h1>"
   ]
  },
  {
   "cell_type": "code",
   "execution_count": 1,
   "id": "e6ec9835",
   "metadata": {},
   "outputs": [
    {
     "name": "stdout",
     "output_type": "stream",
     "text": [
      "n= 2\n",
      "recursion:  7e-06\n",
      "imperative:  3e-06\n",
      "tail recursion:  3e-06\n",
      "n= 4\n",
      "recursion:  4e-06\n",
      "imperative:  3e-06\n",
      "tail recursion:  9e-06\n",
      "n= 8\n",
      "recursion:  1.5e-05\n",
      "imperative:  3e-06\n",
      "tail recursion:  6e-06\n",
      "n= 16\n",
      "recursion:  0.000629\n",
      "imperative:  5e-06\n",
      "tail recursion:  1e-05\n",
      "n= 24\n",
      "recursion:  0.020683\n",
      "imperative:  7e-06\n",
      "tail recursion:  8e-06\n"
     ]
    }
   ],
   "source": [
    "def rfibonacci(i):\n",
    "    if i==0: return 0\n",
    "    if i==1: return 1    \n",
    "    return rfibonacci(i-1) + rfibonacci(i-2)\n",
    "\n",
    "def tail_fib(i,a=0,b=1):\n",
    "    if i==0: return a\n",
    "    if i>0: return tail_fib(i-1,b,a+b)\n",
    "    \n",
    "def fibonacci(i):    \n",
    "    if i==0: return 0    \n",
    "    if i==1: return 1    \n",
    "    f1=0    \n",
    "    f2=1\n",
    "    count = 2\n",
    "    while count <= i:\n",
    "        f1,f2 = f2,f1+f2\n",
    "        count+=1\n",
    "    return f2\n",
    "\n",
    "\n",
    "import datetime\n",
    "for n in (2,4,8,16,24):\n",
    "    print(\"n=\",n)\n",
    "    now = datetime.datetime.now()\n",
    "    rfibonacci(n)\n",
    "    later = datetime.datetime.now()\n",
    "    print(\"recursion: \",(later-now).total_seconds())\n",
    "\n",
    "    now = datetime.datetime.now()\n",
    "    fibonacci(n)\n",
    "    later = datetime.datetime.now()\n",
    "    print(\"imperative: \",(later-now).total_seconds())\n",
    "\n",
    "    import datetime\n",
    "    now = datetime.datetime.now()\n",
    "    tail_fib(n)\n",
    "    later = datetime.datetime.now()\n",
    "    print(\"tail recursion: \",(later-now).total_seconds())\n",
    "\n"
   ]
  },
  {
   "cell_type": "code",
   "execution_count": null,
   "id": "69993e70",
   "metadata": {},
   "outputs": [],
   "source": []
  }
 ],
 "metadata": {
  "kernelspec": {
   "display_name": "Python 3 (ipykernel)",
   "language": "python",
   "name": "python3"
  },
  "language_info": {
   "codemirror_mode": {
    "name": "ipython",
    "version": 3
   },
   "file_extension": ".py",
   "mimetype": "text/x-python",
   "name": "python",
   "nbconvert_exporter": "python",
   "pygments_lexer": "ipython3",
   "version": "3.9.12"
  },
  "toc": {
   "base_numbering": 1,
   "nav_menu": {},
   "number_sections": true,
   "sideBar": true,
   "skip_h1_title": false,
   "title_cell": "Table of Contents",
   "title_sidebar": "Contents",
   "toc_cell": false,
   "toc_position": {},
   "toc_section_display": true,
   "toc_window_display": false
  }
 },
 "nbformat": 4,
 "nbformat_minor": 5
}
