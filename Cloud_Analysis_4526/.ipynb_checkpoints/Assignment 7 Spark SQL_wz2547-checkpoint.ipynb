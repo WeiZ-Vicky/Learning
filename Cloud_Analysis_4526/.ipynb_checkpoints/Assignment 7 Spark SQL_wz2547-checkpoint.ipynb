{
 "cells": [
  {
   "cell_type": "markdown",
   "metadata": {},
   "source": [
    "<h1>Notes</h1>\n",
    "<li>I suggest you run this on the cluster. Running it locally is also possible but you could get bogged down with memory issues. It should run fine on the cluster</li>\n",
    "<li>Note that your 2022 numbers will be a little different. I pulled the data on 10/20/2022 and it is constantly being updated</li>"
   ]
  },
  {
   "cell_type": "code",
   "execution_count": 59,
   "metadata": {},
   "outputs": [
    {
     "name": "stdout",
     "output_type": "stream",
     "text": [
      "+----+---------------------+----------------+\n",
      "|year|pedestrian_proportion|total_proportion|\n",
      "+----+---------------------+----------------+\n",
      "|2012|                82.03|          200.39|\n",
      "|2013|                68.11|          185.60|\n",
      "|2014|                82.98|          195.51|\n",
      "|2015|                75.82|          211.35|\n",
      "|2016|                74.42|          245.19|\n",
      "|2017|                87.79|          236.94|\n",
      "|2018|                90.41|          268.14|\n",
      "|2019|                80.67|          251.59|\n",
      "|2020|                66.25|          166.47|\n",
      "|2021|                57.72|          176.11|\n",
      "|2022|                73.78|          194.45|\n",
      "+----+---------------------+----------------+\n",
      "\n",
      "+---------+----+---------------------+----------------+\n",
      "|  borough|year|pedestrian_proportion|total_proportion|\n",
      "+---------+----+---------------------+----------------+\n",
      "|MANHATTAN|2012|                81.76|          184.19|\n",
      "|MANHATTAN|2013|                96.93|          194.49|\n",
      "|MANHATTAN|2014|               103.44|          197.40|\n",
      "|MANHATTAN|2015|               127.11|          296.86|\n",
      "|MANHATTAN|2016|                69.17|          183.41|\n",
      "|MANHATTAN|2017|                84.24|          171.15|\n",
      "|MANHATTAN|2018|               137.08|          271.80|\n",
      "|MANHATTAN|2019|                78.25|          218.42|\n",
      "|MANHATTAN|2020|                98.00|          170.29|\n",
      "|MANHATTAN|2021|                70.06|          185.08|\n",
      "|MANHATTAN|2022|                84.23|          240.94|\n",
      "+---------+----+---------------------+----------------+\n",
      "\n",
      "+-------------+----+---------------------+----------------+\n",
      "|      borough|year|pedestrian_proportion|total_proportion|\n",
      "+-------------+----+---------------------+----------------+\n",
      "|STATEN ISLAND|2012|                67.00|          113.18|\n",
      "|STATEN ISLAND|2013|               105.33|          527.75|\n",
      "|STATEN ISLAND|2014|                46.00|          157.70|\n",
      "|STATEN ISLAND|2015|                47.20|          129.00|\n",
      "|STATEN ISLAND|2016|                77.33|          164.89|\n",
      "|STATEN ISLAND|2017|                60.00|          193.75|\n",
      "|STATEN ISLAND|2018|                60.00|          191.43|\n",
      "|STATEN ISLAND|2019|               109.50|          350.75|\n",
      "|STATEN ISLAND|2020|                41.33|          116.88|\n",
      "|STATEN ISLAND|2021|                57.50|          182.50|\n",
      "|STATEN ISLAND|2022|               161.00|          204.80|\n",
      "+-------------+----+---------------------+----------------+\n",
      "\n",
      "+-------+----+---------------------+----------------+\n",
      "|borough|year|pedestrian_proportion|total_proportion|\n",
      "+-------+----+---------------------+----------------+\n",
      "| QUEENS|2012|                78.13|          196.64|\n",
      "| QUEENS|2013|                51.71|          150.51|\n",
      "| QUEENS|2014|                84.31|          192.90|\n",
      "| QUEENS|2015|                80.16|          204.37|\n",
      "| QUEENS|2016|               109.47|          352.52|\n",
      "| QUEENS|2017|                83.61|          252.57|\n",
      "| QUEENS|2018|                65.03|          204.11|\n",
      "| QUEENS|2019|                78.23|          270.61|\n",
      "| QUEENS|2020|                64.35|          158.00|\n",
      "| QUEENS|2021|                87.80|          256.09|\n",
      "| QUEENS|2022|               129.10|          305.61|\n",
      "+-------+----+---------------------+----------------+\n",
      "\n",
      "+-------+----+---------------------+----------------+\n",
      "|borough|year|pedestrian_proportion|total_proportion|\n",
      "+-------+----+---------------------+----------------+\n",
      "|  BRONX|2012|                94.12|          169.29|\n",
      "|  BRONX|2013|                66.88|          195.59|\n",
      "|  BRONX|2014|               150.50|          309.79|\n",
      "|  BRONX|2015|               124.73|          216.38|\n",
      "|  BRONX|2016|                96.07|          318.42|\n",
      "|  BRONX|2017|               135.40|          343.76|\n",
      "|  BRONX|2018|               144.40|          299.48|\n",
      "|  BRONX|2019|               156.67|          593.45|\n",
      "|  BRONX|2020|                98.70|          226.87|\n",
      "|  BRONX|2021|               226.80|          250.30|\n",
      "|  BRONX|2022|               103.56|          172.11|\n",
      "+-------+----+---------------------+----------------+\n",
      "\n",
      "+--------+----+---------------------+----------------+\n",
      "| borough|year|pedestrian_proportion|total_proportion|\n",
      "+--------+----+---------------------+----------------+\n",
      "|BROOKLYN|2012|                96.63|          228.06|\n",
      "|BROOKLYN|2013|               121.37|          230.01|\n",
      "|BROOKLYN|2014|                79.71|          212.61|\n",
      "|BROOKLYN|2015|                65.83|          204.57|\n",
      "|BROOKLYN|2016|               145.85|          363.57|\n",
      "|BROOKLYN|2017|               133.15|          301.18|\n",
      "|BROOKLYN|2018|               121.09|          338.41|\n",
      "|BROOKLYN|2019|                81.82|          220.47|\n",
      "|BROOKLYN|2020|               104.71|          194.00|\n",
      "|BROOKLYN|2021|                59.53|          216.19|\n",
      "|BROOKLYN|2022|               107.65|          284.82|\n",
      "+--------+----+---------------------+----------------+\n",
      "\n"
     ]
    },
    {
     "data": {
      "text/plain": [
       "import org.apache.spark.sql.{DataFrame, SQLContext, SparkSession}\n",
       "GetJsonWebData: (url: String)org.apache.spark.sql.DataFrame\n",
       "selection: String = borough,crash_date,number_of_pedestrians_injured,number_of_pedestrians_killed,number_of_persons_injured,number_of_persons_killed\n",
       "where_clause: String = number_of_persons_injured>0%20or%20number_of_persons_killed>0\n",
       "url: String = https://data.cityofnewyork.us/resource/h9gi-nx95.json?$select=borough,crash_date,number_of_pedestrians_injured,number_of_pedestrians_killed,number_of_persons_injured,number_of_persons_killed&$where=number_of_persons_injured>0%20or%20number_of_persons_killed>0&$limit=1700000\n",
       "response: org.apache.spark.sql.DataFrame = [borough: string, crash_date: string ... 4 more fields]\n",
       "import org.apache.spark.sql.functions.udf\n",
       "year: (...\n"
      ]
     },
     "execution_count": 59,
     "metadata": {},
     "output_type": "execute_result"
    }
   ],
   "source": [
    "//Spark SQL Home Assignment Problem Solution\n",
    "import org.apache.spark.sql.{DataFrame, SQLContext, SparkSession}\n",
    "\n",
    "def GetJsonWebData(url: String): DataFrame ={\n",
    "    //Grab the contents of the web page at url\n",
    "    val rdd = spark.sparkContext.parallelize(scala.io.Source.fromURL(url).mkString :: Nil) \n",
    "    //Convert it into JSON (must be single line JSON)\n",
    "    val df = spark.read.json(rdd)\n",
    "    return df\n",
    "}  \n",
    "\n",
    "// CODE FOR SETTING UP THE URL AND GETTING THE DATA INTO A DATAFRAME GOES HERE\n",
    "val selection = \"borough,crash_date,number_of_pedestrians_injured,number_of_pedestrians_killed,number_of_persons_injured,number_of_persons_killed\"\n",
    "val where_clause = \"number_of_persons_injured>0%20or%20number_of_persons_killed>0\"\n",
    "val url = s\"https://data.cityofnewyork.us/resource/h9gi-nx95.json?$$select=$selection&$$where=$where_clause&$$limit=1700000\"\n",
    "val response = GetJsonWebData(url)\n",
    "\n",
    "\n",
    "\n",
    "\n",
    "\n",
    "// CODE FOR CREATING A COLUMN WITH THE YEAR GOES HERE\n",
    "import org.apache.spark.sql.functions.udf\n",
    "\n",
    "def year(x:String):String = x.dropRight(19)\n",
    "val year_udf = udf(year _)\n",
    "val df_year = response\n",
    "                    .withColumn(\"year\",year_udf($\"crash_date\"))\n",
    "                    .select(\"borough\",\"year\",\"number_of_pedestrians_injured\",\"number_of_pedestrians_killed\"\n",
    "                            ,\"number_of_persons_injured\",\"number_of_persons_killed\")\n",
    "\n",
    "\n",
    "\n",
    "// CODE FOR CALCULATING PROPORTIONS FOR EACH YEAR GOES HERE\n",
    "val df_proportions = \n",
    "    df_year\n",
    "    .groupBy(\"year\")\n",
    "    .agg(format_number(sum(\"number_of_pedestrians_injured\")/sum(\"number_of_pedestrians_killed\"),2)\n",
    "         ,format_number(sum(\"number_of_persons_injured\")/sum(\"number_of_persons_killed\"),2))\n",
    "    .withColumnRenamed(\"format_number((sum(number_of_pedestrians_injured) / sum(number_of_pedestrians_killed)), 2)\"\n",
    "                       ,\"pedestrian_proportion\")\n",
    "    .withColumnRenamed(\"format_number((sum(number_of_persons_injured) / sum(number_of_persons_killed)), 2)\"\n",
    "                       ,\"total_proportion\")\n",
    "    .orderBy(col(\"year\"))\n",
    "\n",
    "\n",
    "\n",
    "// CODE FOR CALCULATING PROPORTIONS BY YEAR FOR EACH BOROUGH GOES HERE\n",
    "val borough_list = List(\"BRONX\",\"MANHATTAN\",\"STATEN ISLAND\",\"QUEENS\",\"BROOKLYN\")\n",
    "val df_borough = df_year\n",
    "                .filter($\"borough\".isin(borough_list :_*))\n",
    "                .groupBy(\"borough\",\"year\")\n",
    "                .agg(format_number(sum(\"number_of_pedestrians_injured\")/sum(\"number_of_pedestrians_killed\"),2)\n",
    "                     ,format_number(sum(\"number_of_persons_injured\")/sum(\"number_of_persons_killed\"),2))\n",
    "                .withColumnRenamed(\"format_number((sum(number_of_pedestrians_injured) / sum(number_of_pedestrians_killed)), 2)\"\n",
    "                                   ,\"pedestrian_proportion\")\n",
    "                .withColumnRenamed(\"format_number((sum(number_of_persons_injured) / sum(number_of_persons_killed)), 2)\"\n",
    "                                    ,\"total_proportion\")\n",
    "                .orderBy(col(\"borough\"),col(\"year\"))\n",
    "                \n",
    "\n",
    "\n",
    "// EXTRACT DATA FOR EACH BOROUGH INTO A DATAFRAME\n",
    "val manhattan = df_borough.filter($\"borough\" === \"MANHATTAN\")\n",
    "val staten_island = df_borough.filter($\"borough\" === \"STATEN ISLAND\")\n",
    "val queens = df_borough.filter($\"borough\" === \"QUEENS\")\n",
    "val bronx = df_borough.filter($\"borough\" === \"BRONX\")\n",
    "val brooklyn = df_borough.filter($\"borough\" === \"BROOKLYN\")\n",
    "\n",
    "//import org.apache.spark.sql.functions._\n",
    "//res.withColumn(\"c3\", format_number(col(\"c1\")/col(\"c2\"), 4)).orderBy(col(\"c3\").desc).show()\n",
    "\n",
    "//CODE FOR SHOWING ALL THE RESULTS GOES HERE\n",
    "\n",
    "\n",
    "df_proportions.show //shows proportions for each year\n",
    "\n",
    "//For each year by borough\n",
    "\n",
    "manhattan.show\n",
    "staten_island.show\n",
    "queens.show\n",
    "bronx.show\n",
    "brooklyn.show\n"
   ]
  },
  {
   "cell_type": "markdown",
   "metadata": {},
   "source": [
    "<h1>PART 1</h1>\n",
    "When NYC Mayor Bill D'Blasio assumed office in January 2014, one of his first signature initiatives was making the city safer for pedestrians and motorists. Amongst the many initiatives to make the streets safer was the institution of a low 25 m.p.h. speed limit within the city limits. The reasoning was that car crashes at lower speeds lead to fewer fatalities than crashes at higher speeds.\n",
    "\n",
    "The goal of this assignment is to test whether this has worked or not. Well, actually, the goal is to practice some Spark SQL but we'll do a simple test along the way!\n",
    "\n",
    "We'll use the Motor Vehicle Collision data available from NYC Open Data (the url is below). You need to do the following:\n",
    "\n",
    "<ol>\n",
    "    <li>Use the Socrata API to get Motor Vehicle Collision data from NYC open data (links to the relevant documentation are in the Web resources cell below)</li>\n",
    "    <li>Your API call should return only the following data items:</li>\n",
    "    <ol>\n",
    "        <li>borough</li>\n",
    "        <li>crash date</li>\n",
    "        <li>number of pedestrians injured</li>\n",
    "        <li>number of pedestrians killed</li>\n",
    "        <li>number of persons injured</li>\n",
    "        <li>number of persons killed</li>\n",
    "    </ol>\n",
    "    <li>Additionally, get only the data for which the number of persons injured or the number of persons killed is greater than zero</li>\n",
    "    <li>Once you've created the url for the API call, use the GetJsonWebData function (defined below) to get the data into a dataframe. Note that, in a url, spaces should be replaced by %20</li>\n",
    "    <li>Next, replace the crash_date column with the year of the crash. The scala slice function will help you here and you may need to define a udf. Call this new column <span style=\"color:blue\">year</span></li>\n",
    "    <li>Group the data by year and report the following statistics:</li>\n",
    "    <ol>\n",
    "        <li>proportion of pedestrian injuries to pedestrian deaths</li>\n",
    "        <li>proportion of people injured to people deaths</li>\n",
    "        <li>roughly, if the speed limits worked, then both these proportions should be going up</li>\n",
    "    </ol>\n",
    "    <li>Make sure that the results are ordered by year!</li>\n",
    "    <li>Make sure that floating point numbers are formatted to two decimal places (see formatting at the bottom of this notebook)</li>\n",
    "    <li>Show the result (e.g., below)</li>\n",
    "    \n",
    "</ol>\n",
    "\n",
    "If you run into Java memory issues, try using the java buffer command below. You can also try restarting the kernel and seeing if that fixes it. If all else fails, move to a cluster on the cloud!\n",
    "\n",
    "\n",
    "    \n",
    "\n",
    "\n",
    "<h3>Format of the output</h3>\n",
    "<pre>    \n",
    "       \n",
    "+----+---------------------+----------------+\n",
    "|year|pedestrian_proportion|total_proportion|\n",
    "+----+---------------------+----------------+\n",
    "|2012|                82.03|          200.39|\n",
    "|2013|                68.11|          185.60|\n",
    "|2014|                82.98|          195.51|\n",
    "|2015|                75.82|          211.35|\n",
    "|2016|                74.42|          245.19|\n",
    "|2017|                87.79|          236.94|\n",
    "|2018|                90.41|          268.14|\n",
    "|2019|                80.67|          251.59|\n",
    "|2020|                66.25|          166.47|\n",
    "|2021|                57.72|          176.11|\n",
    "|2022|                75.12|          192.57|\n",
    "+----+---------------------+----------------+\n",
    "\n",
    "</pre>"
   ]
  },
  {
   "cell_type": "markdown",
   "metadata": {},
   "source": [
    "<h1>PART 2</h1>\n",
    "Next we'll do the same thing we did in Part 1 except that we'll see if there are differences by borough in how well the speed limit reduction has worked. \n",
    "\n",
    "Do the following:\n",
    "\n",
    "<ol>\n",
    "    <li>Create a scala list that contains the names of the boroughs. We will clean our data to eliminate any entries that don't have a proper borough name</li>\n",
    "    <li>Remove all data that has an entry in the borough name that doesn't correspond to a name in our list (see the filter example below on how to do this)</li>\n",
    "    <li>Now compute the same proportions as in part 1 but on data that is grouped by first the borough and then the year (you can use <span style=\"color:blue\">groupBy(\"borough\",\"year\")</span>)</li>\n",
    "    <li>Create dataframes for the results for each borough</li>\n",
    "    <li>Show all the results</li>\n",
    "    \n",
    "</ol>\n",
    "<h3>Sample output</h3>\n",
    "<pre>\n",
    "+---------+----+---------------------+----------------+\n",
    "|  borough|year|pedestrian_proportion|total_proportion|\n",
    "+---------+----+---------------------+----------------+\n",
    "|MANHATTAN|2012|                81.76|          184.19|\n",
    "|MANHATTAN|2013|                96.93|          194.49|\n",
    "|MANHATTAN|2014|               103.44|          197.40|\n",
    "|MANHATTAN|2015|               127.11|          296.86|\n",
    "|MANHATTAN|2016|                69.17|          183.41|\n",
    "|MANHATTAN|2017|                84.24|          171.15|\n",
    "|MANHATTAN|2018|               137.08|          271.80|\n",
    "|MANHATTAN|2019|                78.25|          218.42|\n",
    "|MANHATTAN|2020|                98.00|          170.29|\n",
    "|MANHATTAN|2021|                70.06|          185.08|\n",
    "|MANHATTAN|2022|                78.08|          225.94|\n",
    "+---------+----+---------------------+----------------+\n",
    "\n",
    "+-------------+----+---------------------+----------------+\n",
    "|      borough|year|pedestrian_proportion|total_proportion|\n",
    "+-------------+----+---------------------+----------------+\n",
    "|STATEN ISLAND|2012|                67.00|          113.18|\n",
    "|STATEN ISLAND|2013|               105.33|          527.75|\n",
    "|STATEN ISLAND|2014|                46.00|          157.70|\n",
    "|STATEN ISLAND|2015|                47.20|          129.00|\n",
    "|STATEN ISLAND|2016|                77.33|          164.89|\n",
    "|STATEN ISLAND|2017|                60.00|          193.75|\n",
    "|STATEN ISLAND|2018|                60.00|          191.43|\n",
    "|STATEN ISLAND|2019|               109.50|          350.75|\n",
    "|STATEN ISLAND|2020|                41.33|          116.88|\n",
    "|STATEN ISLAND|2021|                57.50|          182.50|\n",
    "|STATEN ISLAND|2022|               150.00|          195.60|\n",
    "+-------------+----+---------------------+----------------+\n",
    "\n",
    "+-------+----+---------------------+----------------+\n",
    "|borough|year|pedestrian_proportion|total_proportion|\n",
    "+-------+----+---------------------+----------------+\n",
    "| QUEENS|2012|                78.13|          196.64|\n",
    "| QUEENS|2013|                51.71|          150.51|\n",
    "| QUEENS|2014|                84.31|          192.90|\n",
    "| QUEENS|2015|                80.16|          204.37|\n",
    "| QUEENS|2016|               109.47|          352.52|\n",
    "| QUEENS|2017|                83.61|          252.57|\n",
    "| QUEENS|2018|                65.03|          204.11|\n",
    "| QUEENS|2019|                78.23|          270.61|\n",
    "| QUEENS|2020|                64.35|          158.00|\n",
    "| QUEENS|2021|                87.80|          256.09|\n",
    "| QUEENS|2022|               134.44|          317.95|\n",
    "+-------+----+---------------------+----------------+\n",
    "\n",
    "+-------+----+---------------------+----------------+\n",
    "|borough|year|pedestrian_proportion|total_proportion|\n",
    "+-------+----+---------------------+----------------+\n",
    "|  BRONX|2012|                94.12|          169.29|\n",
    "|  BRONX|2013|                66.88|          195.59|\n",
    "|  BRONX|2014|               150.50|          309.79|\n",
    "|  BRONX|2015|               124.73|          216.38|\n",
    "|  BRONX|2016|                96.07|          318.42|\n",
    "|  BRONX|2017|               135.40|          343.76|\n",
    "|  BRONX|2018|               144.40|          299.48|\n",
    "|  BRONX|2019|               156.67|          593.45|\n",
    "|  BRONX|2020|                98.70|          226.87|\n",
    "|  BRONX|2021|               226.80|          250.30|\n",
    "|  BRONX|2022|                97.56|          162.93|\n",
    "+-------+----+---------------------+----------------+\n",
    "\n",
    "+--------+----+---------------------+----------------+\n",
    "| borough|year|pedestrian_proportion|total_proportion|\n",
    "+--------+----+---------------------+----------------+\n",
    "|BROOKLYN|2012|                96.63|          228.06|\n",
    "|BROOKLYN|2013|               121.37|          230.01|\n",
    "|BROOKLYN|2014|                79.71|          212.61|\n",
    "|BROOKLYN|2015|                65.83|          204.57|\n",
    "|BROOKLYN|2016|               145.85|          363.57|\n",
    "|BROOKLYN|2017|               133.15|          301.18|\n",
    "|BROOKLYN|2018|               121.09|          338.41|\n",
    "|BROOKLYN|2019|                81.82|          220.47|\n",
    "|BROOKLYN|2020|               104.71|          194.00|\n",
    "|BROOKLYN|2021|                59.53|          216.19|\n",
    "|BROOKLYN|2022|               106.69|          285.53|\n",
    "+--------+----+---------------------+----------------+\n",
    "\n",
    "\n",
    "</pre>\n",
    "\n"
   ]
  },
  {
   "cell_type": "markdown",
   "metadata": {},
   "source": [
    "<h1>Helpful stuff</h1>\n",
    "<li>Feel free to use or not use the material below</li>"
   ]
  },
  {
   "cell_type": "markdown",
   "metadata": {},
   "source": [
    "<h1>Web resources</h1>\n",
    "<li><a href=\"https://data.cityofnewyork.us/resource/h9gi-nx95.json\">The data URL</a></li>\n",
    "<li><a href=\"https://dev.socrata.com/docs/queries/where.html\">Socrata Where clause</a></li>\n",
    "<li><a href=\"https://dev.socrata.com/docs/queries/select.html\">Socrata select clause</a></li>\n",
    "<li><a href=\"https://dev.socrata.com/docs/queries/limit.html\">Socrata limit clause</a></li>\n",
    "<li><a href=\"https://learning.oreilly.com/library/view/scala-cookbook/9781449340292/ch10s19.html\">Scala slice</a></li>"
   ]
  },
  {
   "cell_type": "markdown",
   "metadata": {},
   "source": [
    "<h1>Grab JSON from a URL function</h1>"
   ]
  },
  {
   "cell_type": "code",
   "execution_count": null,
   "metadata": {},
   "outputs": [],
   "source": [
    "import org.apache.spark.sql.{DataFrame, SQLContext, SparkSession}\n",
    "\n",
    "def GetJsonWebData(url: String): DataFrame ={\n",
    "    //Grab the contents of the web page at url\n",
    "    val rdd = spark.sparkContext.parallelize(scala.io.Source.fromURL(url).mkString :: Nil) \n",
    "    //Convert it into JSON (must be single line JSON)\n",
    "    val df = spark.read.json(rdd)\n",
    "    return df\n",
    "}  "
   ]
  },
  {
   "cell_type": "markdown",
   "metadata": {},
   "source": [
    "<h1>If (when?) you run out of memory</h1>\n",
    "<li>Create a spark session with enough local memory (see below)</li>\n",
    "<li>Do this at the top of the notebook after restarting the kernel!</li>\n",
    "<li>If you run out of memory on the cluster</li>\n",
    "<ul><li>restart the cluster kernel and add the following line in the topmost cell (and run it)</li>\n",
    "!export JVM_ARGS=\"-Xmx2048m -XX:MaxPermSize=1024m\""
   ]
  },
  {
   "cell_type": "code",
   "execution_count": 2,
   "metadata": {},
   "outputs": [
    {
     "data": {
      "text/plain": [
       "Intitializing Scala interpreter ..."
      ]
     },
     "metadata": {},
     "output_type": "display_data"
    },
    {
     "data": {
      "text/plain": [
       "Spark Web UI available at http://192.168.7.189:4041\n",
       "SparkContext available as 'sc' (version = 3.3.0, master = local[*], app id = local-1666310113836)\n",
       "SparkSession available as 'spark'\n"
      ]
     },
     "metadata": {},
     "output_type": "display_data"
    },
    {
     "name": "stdout",
     "output_type": "stream",
     "text": [
      "22/10/20 19:55:17 WARN SparkSession: Using an existing Spark session; only runtime SQL configurations will take effect.\n"
     ]
    },
    {
     "data": {
      "text/plain": [
       "import org.apache.spark.sql.SparkSession\n",
       "spark: org.apache.spark.sql.SparkSession = org.apache.spark.sql.SparkSession@3ecd0faa\n"
      ]
     },
     "execution_count": 2,
     "metadata": {},
     "output_type": "execute_result"
    },
    {
     "name": "stdout",
     "output_type": "stream",
     "text": [
      "22/10/20 20:15:59 WARN HeartbeatReceiver: Removing executor driver with no recent heartbeats: 155449 ms exceeds timeout 120000 ms\n",
      "22/10/20 20:15:59 WARN SparkContext: Killing executors is not supported by current scheduler.\n"
     ]
    }
   ],
   "source": [
    "import org.apache.spark.sql.SparkSession\n",
    "val spark = SparkSession.builder \n",
    "    .master(\"local[*]\") \n",
    "    .config(\"spark.driver.memory\", \"15g\") \n",
    "    .appName(\"my-assignment-7\") \n",
    "    .getOrCreate()"
   ]
  },
  {
   "cell_type": "code",
   "execution_count": 1,
   "metadata": {},
   "outputs": [],
   "source": [
    "!export JVM_ARGS=\"-Xmx2048m -XX:MaxPermSize=1024m\"\n"
   ]
  },
  {
   "cell_type": "markdown",
   "metadata": {},
   "source": [
    "<h1>filter</h1>"
   ]
  },
  {
   "cell_type": "code",
   "execution_count": 71,
   "metadata": {},
   "outputs": [
    {
     "name": "stdout",
     "output_type": "stream",
     "text": [
      "+----+----+-----+\n",
      "|Name|City|Score|\n",
      "+----+----+-----+\n",
      "|John| NYC| 1000|\n",
      "+----+----+-----+\n",
      "\n"
     ]
    },
    {
     "data": {
      "text/plain": [
       "df: org.apache.spark.sql.DataFrame = [Name: string, City: string ... 1 more field]\n"
      ]
     },
     "execution_count": 71,
     "metadata": {},
     "output_type": "execute_result"
    }
   ],
   "source": [
    "val df = Seq((\"John\",\"NYC\",1000),\n",
    "             (\"JILL\",\"BOSTON\",1700),\n",
    "            (\"JAMES\",\"NYC\",800),\n",
    "            (\"JACQUES\",\"BOSTON\",400))\n",
    "        .toDF(\"Name\",\"City\",\"Score\")\n",
    "\n",
    "//Note the === (3 = signs) for matching to string values in the example below\n",
    "df.groupBy(\"City\").sum(\"score\").filter($\"City\"===\"BOSTON\").show\n",
    "df.filter($\"Score\"===1000).show"
   ]
  },
  {
   "cell_type": "markdown",
   "metadata": {},
   "source": [
    "<h1>Formatting decimal numbers</h1>"
   ]
  },
  {
   "cell_type": "code",
   "execution_count": null,
   "metadata": {},
   "outputs": [],
   "source": [
    "val df = Seq((\"John\",23.23435353),\n",
    "             (\"Jill\",453.23233),\n",
    "             (\"Qing\",3435.4353524),\n",
    "             (\"Angeliki\",0.24353545453)).toDF(\"name\",\"score\")\n",
    "df.show"
   ]
  },
  {
   "cell_type": "code",
   "execution_count": null,
   "metadata": {},
   "outputs": [],
   "source": [
    "val new_df = df.withColumn(\"score\",format_number($\"score\", 2)) //format number to 2 decimal places\n",
    "new_df.show"
   ]
  },
  {
   "cell_type": "code",
   "execution_count": null,
   "metadata": {},
   "outputs": [],
   "source": []
  }
 ],
 "metadata": {
  "kernelspec": {
   "display_name": "spylon-kernel",
   "language": "scala",
   "name": "spylon-kernel"
  },
  "language_info": {
   "codemirror_mode": "text/x-scala",
   "file_extension": ".scala",
   "help_links": [
    {
     "text": "MetaKernel Magics",
     "url": "https://metakernel.readthedocs.io/en/latest/source/README.html"
    }
   ],
   "mimetype": "text/x-scala",
   "name": "scala",
   "pygments_lexer": "scala",
   "version": "0.4.1"
  }
 },
 "nbformat": 4,
 "nbformat_minor": 2
}
