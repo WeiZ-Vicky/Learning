{
 "cells": [
  {
   "cell_type": "markdown",
   "id": "34e0c650",
   "metadata": {},
   "source": [
    "<h1>Google Cloud Platform Practice</h1>"
   ]
  },
  {
   "cell_type": "markdown",
   "id": "16e1c5d9",
   "metadata": {},
   "source": [
    "In this assignment, you will examine the data on NYC 311 complaints, compute a month by month average time to completion, and show, in a bar chart, that the 311 system has been getting better at handling complaints. The assignment is fairly straightforward and is designed to give you a feel for using the cloud cluster. Follow the steps below and you should be fine."
   ]
  },
  {
   "cell_type": "markdown",
   "id": "f51e242a",
   "metadata": {},
   "source": [
    "<s><h2>STEP 1: Create a Plotly account</h2></s>\n",
    "<s><li>If you don't already have one, create an account at <a href=\"https://plotly.com/api_signup\">https://plotly.com/api_signup</a></li></s>\n",
    "<s><li>Get an API key and copy it somewhere safely</li></s> (NOT NECESSARY - I found a library that doesn't need an account"
   ]
  },
  {
   "cell_type": "markdown",
   "id": "4d096120",
   "metadata": {},
   "source": [
    "<h2>STEP 2: Create a cluster</h2>\n",
    "<li>Follow the steps in the document on our canvas page</li>"
   ]
  },
  {
   "cell_type": "markdown",
   "id": "f6f0298d",
   "metadata": {},
   "source": [
    "<h2>STEP 3: Take a deep breath</h2>\n",
    "<li>You'll need it!</li>"
   ]
  },
  {
   "cell_type": "markdown",
   "id": "30c1b901",
   "metadata": {},
   "source": [
    "<h2>STEP 4: Upload data</h2>\n",
    "<li>upload the file nyc_311_2022_big.csv to the data folder in your cloud storage bucket</li>\n",
    "<li>the file is at <a href=\"https://drive.google.com/file/d/1iGMlHBwycGG3Z9lUInVsF939UP0gLD9_/view?usp=sharing\">https://drive.google.com/file/d/1iGMlHBwycGG3Z9lUInVsF939UP0gLD9_/view?usp=sharing</a> You need to be logged into google with your lion mail account to access this 4GB file)</li>\n"
   ]
  },
  {
   "cell_type": "markdown",
   "id": "39cb19d0",
   "metadata": {},
   "source": [
    "<h2>STEP 5: Create a notebook on your cluster</h2>\n",
    "<li>Create a new notebook (see instructions on canvas)</li>\n",
    "<li>In the first cell, you must have the following commands</li>\n",
    "<pre>\n",
    "%%init_spark\n",
    "launcher.packages=[\"org.plotly-scala:plotly-jupyter-scala_2.12:0.4.0\"]\n",
    "</pre>\n",
    "<li>these load the plotly package and must be the first thing executed in the notebook. If you restart the notebook, run this again</li>\n",
    "<li>The following is an example of the code for constructing a plotly barchart</li>\n",
    "<pre>\n",
    "//Plotly barchart example\n",
    "import plotly._\n",
    "import plotly.element._\n",
    "import plotly.layout.Layout \n",
    "import plotly.Plotly._\n",
    "\n",
    "val data = Seq(\n",
    "  Bar(\n",
    "    Seq(\"giraffes\", \"orangutans\", \"monkeys\"),\n",
    "    Seq(20, 14, 23)\n",
    "  )\n",
    ")\n",
    "\n",
    "data.plot()\n",
    "</pre>\n",
    "<li>run it from a cell. Note that you won't see anything on GCP after you run it so try this on your local jupyter first. A new webpage with the barchart should show up</li>\n",
    "<li>plotly-scala creates a file and stores that file on your local machine</li>\n",
    "<li>on GCP, that file is stored in the root directory of the master node. To find it, do the following</li>\n",
    "<ol>\n",
    "    <li>Go to the file navigation jupyter notebook page</li>\n",
    "    <li>Navigate to the top of the tree (click on the folder icon in the top bar)</li>\n",
    "    <li>Choose \"Local Disk\"</li>\n",
    "    <li>In the file listing, scroll down till you find plot-1.html (or plot-2.html,....)</li>\n",
    "    <li>these plot-n.html files are where your plots are. Click on any one and it should opne up in your browser</li>\n",
    "</ol>\n",
    "<li><b>IMPORTANT</b>: Note that when you delete the cluster, everything in the master, including these html files <s>and the .credentials file</s>, will be gone! Download and save them if necessary</li>"
   ]
  },
  {
   "cell_type": "markdown",
   "id": "d7970d38",
   "metadata": {},
   "source": [
    "<h2>STEP 6: Write code!</h2>\n",
    "<li>Read the data file into an RDD</li>\n",
    "<li>extract the date and the processing time from the rdd into a new rdd</li>\n",
    "<li>modify the date so that it is in the form yyyymm (e.g., 202004)</li>\n",
    "<li>group the data by this modified date</li>\n",
    "<li>calculate the average processing time for each group</li>\n",
    "<li>At this point, you should have a rdd that contains the following sample (note the by-date sort)</li>\n",
    "<pre>\n",
    "(201001,21.9500192299817)\n",
    "(201002,19.845731532163732)\n",
    "(201003,25.077314883297213)\n",
    "(201004,30.277893547725235)\n",
    "(201005,29.459862935681343)\n",
    "(201006,29.17964166482454)\n",
    "(201007,26.227416736921505)\n",
    "(201008,26.24405141747815)\n",
    "(201009,30.43295355377878)\n",
    "(201010,24.145453184279294)\n",
    "(201011,21.589596849143458)\n",
    "(201012,20.51565411056409)\n",
    "(201101,15.898290248909372)\n",
    "(201102,14.422152387906875)\n",
    "(201103,19.963673360824025)\n",
    "</pre>\n",
    "<li>Finally, construct a plotly bar chart of this data using the example above as a guide</li>"
   ]
  },
  {
   "cell_type": "markdown",
   "id": "b818666f",
   "metadata": {},
   "source": [
    "<h2>STEP 7: Submission requirements</h2>\n",
    "<li>Your notebook</li>\n",
    "<li>The appropriate plot-n.html with the bar chart</li>"
   ]
  },
  {
   "cell_type": "code",
   "execution_count": null,
   "id": "19ec50b3",
   "metadata": {},
   "outputs": [],
   "source": []
  }
 ],
 "metadata": {
  "kernelspec": {
   "display_name": "spylon-kernel",
   "language": "scala",
   "name": "spylon-kernel"
  },
  "language_info": {
   "codemirror_mode": "text/x-scala",
   "file_extension": ".scala",
   "help_links": [
    {
     "text": "MetaKernel Magics",
     "url": "https://metakernel.readthedocs.io/en/latest/source/README.html"
    }
   ],
   "mimetype": "text/x-scala",
   "name": "scala",
   "pygments_lexer": "scala",
   "version": "0.4.1"
  }
 },
 "nbformat": 4,
 "nbformat_minor": 5
}
