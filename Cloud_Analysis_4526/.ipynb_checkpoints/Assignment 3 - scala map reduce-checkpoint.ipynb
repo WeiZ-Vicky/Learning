{
 "cells": [
  {
   "cell_type": "markdown",
   "metadata": {},
   "source": [
    "<h1>Scala map problems</h1>\n",
    "<b>Note:</b> Please enter your problem solutions in the three cells immediately below this one. All other work should go below these two cells (and will be ignored by the graders!)"
   ]
  },
  {
   "cell_type": "code",
   "execution_count": 1,
   "metadata": {},
   "outputs": [
    {
     "data": {
      "text/plain": [
       "Intitializing Scala interpreter ..."
      ]
     },
     "metadata": {},
     "output_type": "display_data"
    },
    {
     "data": {
      "text/plain": [
       "Spark Web UI available at http://192.168.0.149:4040\n",
       "SparkContext available as 'sc' (version = 3.3.0, master = local[*], app id = local-1665103282814)\n",
       "SparkSession available as 'spark'\n"
      ]
     },
     "metadata": {},
     "output_type": "display_data"
    },
    {
     "data": {
      "text/plain": [
       "test_data: String = widgets 103.24,eggs 345.22,milk 231.25,widgets 123.11,milk 14.2\n",
       "inventory_value: (data: String)Map[String,Double]\n",
       "res0: Map[String,Double] = Map(eggs -> 345.22, milk -> 245.45, widgets -> 226.35)\n"
      ]
     },
     "execution_count": 1,
     "metadata": {},
     "output_type": "execute_result"
    }
   ],
   "source": [
    "//PROBLEM 1 SOLUTION\n",
    "val test_data = \"widgets 103.24,eggs 345.22,milk 231.25,widgets 123.11,milk 14.2\" \n",
    "\n",
    "//YOUR FUNCTION SHOULD GO HERE\n",
    "def inventory_value(data: String):Map[String,Double] = {\n",
    "    test_data\n",
    "        .split(',')\n",
    "        .sortWith(_<_)\n",
    "        .map(_.split(\" \"))\n",
    "        .groupBy(_(0))\n",
    "        .mapValues(w=>w.map(_(1).toDouble).reduce((a,b)=>a+b))\n",
    "}\n",
    "\n",
    "\n",
    "\n",
    "//Test your function here\n",
    "inventory_value(test_data)"
   ]
  },
  {
   "cell_type": "code",
   "execution_count": 4,
   "metadata": {},
   "outputs": [
    {
     "data": {
      "text/plain": [
       "test_data: String = able was i ere i saw elba, and that was before i was able and could see elba!\n",
       "letter_count: (data: String)scala.collection.immutable.Map[String,Int]\n",
       "res3: scala.collection.immutable.Map[String,Int] = Map(e -> 10, s -> 5, n -> 2, t -> 2, u -> 1, f -> 1, a -> 11, i -> 3, b -> 5, l -> 5, c -> 1, h -> 1, r -> 2, w -> 4, o -> 2, d -> 3)\n"
      ]
     },
     "execution_count": 4,
     "metadata": {},
     "output_type": "execute_result"
    }
   ],
   "source": [
    "//PROBLEM 2 SOLUTION\n",
    "val test_data = \"able was i ere i saw elba, and that was before i was able and could see elba!\"\n",
    "\n",
    "//YOUR FUNCTION SHOULD GO HERE\n",
    "def letter_count(data: String) = {\n",
    "    data.filter(c => c.isLetter)\n",
    "        .split(\"\").map((_,1))\n",
    "        .groupBy(_._1)\n",
    "        .map(w=>(w._1,w._2.map(_=>1).reduce(_+_)))\n",
    "}\n",
    "\n",
    "\n",
    "//Test your function here\n",
    "letter_count(test_data)"
   ]
  },
  {
   "cell_type": "code",
   "execution_count": 201,
   "metadata": {},
   "outputs": [
    {
     "data": {
      "text/plain": [
       "sample_essay: String =\n",
       "able was i ere i saw elba\n",
       "a man a plan a canal panama\n",
       "the future is uncertain and the end is always near\n",
       "essay_grade: (e: String)Int\n",
       "res185: Int = 62\n"
      ]
     },
     "execution_count": 201,
     "metadata": {},
     "output_type": "execute_result"
    }
   ],
   "source": [
    "//PROBLEM 3 SOLUTION\n",
    "val sample_essay = \"\"\"able was i ere i saw elba\n",
    "a man a plan a canal panama\n",
    "the future is uncertain and the end is always near\"\"\"\n",
    "\n",
    "//Your function should go here\n",
    "def essay_grade(e: String):Int = {\n",
    "    (\n",
    "        (1-\n",
    "         e.split(\"\\n\")\n",
    "          .map(w=>(w.split(\"\").length\n",
    "                   ,w.split(\"\").map(w=>if (Set(\"a\",\"e\",\"i\",\"o\",\"u\") contains w) 1 else 0).reduce(_+_).toDouble))\n",
    "          .map(w=>w._2/w._1)\n",
    "          .reduce(_+_)\n",
    "          /e.split(\"\\n\").length\n",
    "        )*100\n",
    "    ).toInt\n",
    "}\n",
    "\n",
    "\n",
    "//Test your function here\n",
    "essay_grade(sample_essay)"
   ]
  },
  {
   "cell_type": "markdown",
   "metadata": {},
   "source": [
    "<h1>Problem 1</h1>\n",
    "\n",
    "Write a scala function \"inventory_value\" that takes a single argument, inventory, as an input and reports the total value of each item in the list. \n",
    "\n",
    "For example, if the inventory list is in the form:\n",
    "\"widgets 103.24,eggs 345.22,milk 231.25,widgets 123.11,milk 14.2” your function should output:\n",
    "\n",
    "res58: scala.collection.immutable.Map[String,Double] = Map(eggs -> 345.22, milk -> 245.45, widgets -> 226.35)\n",
    "\n",
    "\n",
    "You can assume that the string is well formed. I.e., there are no spaces other than the ones between the product name and the inventory value, that each item pair is separated by a comma, each item name is exactly one word, and each value is convertible into double without errors.\n",
    "\n",
    "Helpful functions:\n",
    "\n",
    "1. mapValues: m mapValues f applies f to the values of key,value pairs in m. You may or may not need this function\n",
    "\n",
    "2. groupBy groups items by a key (https://alvinalexander.com/scala/how-to-split-sequences-subsets-groupby-partition-scala-cookbook/)\n",
    "\n"
   ]
  },
  {
   "cell_type": "code",
   "execution_count": null,
   "metadata": {},
   "outputs": [],
   "source": [
    "val test_data = \"widgets 103.24,eggs 345.22,milk 231.25,widgets 123.11,milk 14.2\" "
   ]
  },
  {
   "cell_type": "code",
   "execution_count": null,
   "metadata": {},
   "outputs": [],
   "source": [
    "inventory_value(test_data) //should return\n",
    "//res1: scala.collection.immutable.Map[String,Double] = Map(eggs -> 345.22, milk -> 245.45, widgets -> 226.35)"
   ]
  },
  {
   "cell_type": "markdown",
   "metadata": {},
   "source": [
    "<h2>mapValues function</h2>"
   ]
  },
  {
   "cell_type": "code",
   "execution_count": 8,
   "metadata": {},
   "outputs": [
    {
     "data": {
      "text/plain": [
       "d: scala.collection.immutable.Map[Char,Int] = Map(a -> 12, b -> 15)\n",
       "res7: scala.collection.immutable.Map[Char,Int] = Map(a -> 144, b -> 225)\n"
      ]
     },
     "execution_count": 8,
     "metadata": {},
     "output_type": "execute_result"
    }
   ],
   "source": [
    "val d = Map('a' -> 12,'b'->15) // Creates a key --> value map\n",
    "d.mapValues(i=>i*i) //Applies the function to the values of d "
   ]
  },
  {
   "cell_type": "code",
   "execution_count": 20,
   "metadata": {},
   "outputs": [],
   "source": [
    "// w/o mapValues\n",
    "// test_data\n",
    "//         .split(',')\n",
    "//         .sortWith(_<_)\n",
    "//         .map(_.split(\" \"))\n",
    "//         .groupBy(_(0))\n",
    "//         .map(w=>(w._1,w._2.map(_(1).toDouble).reduce((a,b)=>a+b)))"
   ]
  },
  {
   "cell_type": "markdown",
   "metadata": {},
   "source": [
    "<h1>problem 2</h1>\n",
    "Write a scala function that returns the count of each letter in a text string. \n",
    "\n",
    "For example, if the input string is \"able was i ere i saw elba, and that was before i was able and could see elba!”, your program should return:\n",
    "\n",
    "Map(e -> 10, s -> 5, n -> 2, t -> 2, u -> 1, f -> 1, a -> 11, i -> 3, b -> 5, l -> 5, c -> 1, h -> 1, r -> 2, w -> 4, o -> 2, d -> 3)\n",
    "\n",
    "Note that you should only count the letters and ignore all punctuation, numbers, spaces, or any special characters. \n",
    "\n",
    "The scala function isLetter returns true if a character is a letter and false otherwise."
   ]
  },
  {
   "cell_type": "code",
   "execution_count": 83,
   "metadata": {},
   "outputs": [
    {
     "data": {
      "text/plain": [
       "text: String = able was i ere i saw elba, and that was before i was able and could see elba!\n",
       "res79: scala.collection.immutable.Map[String,Int] = Map(e -> 10, s -> 5, n -> 2, t -> 2, u -> 1, f -> 1, a -> 11, i -> 3, b -> 5, l -> 5, c -> 1, h -> 1, r -> 2, w -> 4, o -> 2, d -> 3)\n"
      ]
     },
     "execution_count": 83,
     "metadata": {},
     "output_type": "execute_result"
    }
   ],
   "source": [
    "val text = \"able was i ere i saw elba, and that was before i was able and could see elba!\"\n",
    "letter_count(text)\n",
    "//Should return:\n",
    "//scala.collection.immutable.Map[Char,Int] = Map(e -> 10, s -> 5, n -> 2, t -> 2, u -> 1, f -> 1, a -> 11, i -> 3, b -> 5, l -> 5, c -> 1, h -> 1, r -> 2, w -> 4, o -> 2, d -> 3)\n"
   ]
  },
  {
   "cell_type": "code",
   "execution_count": 72,
   "metadata": {},
   "outputs": [
    {
     "data": {
      "text/plain": [
       "res68: scala.collection.immutable.Map[Char,Int] = Map(e -> 10, s -> 5, n -> 2, t -> 2, u -> 1, f -> 1, a -> 11, i -> 3, b -> 5, l -> 5, c -> 1, h -> 1, r -> 2, w -> 4, o -> 2, d -> 3)\n"
      ]
     },
     "execution_count": 72,
     "metadata": {},
     "output_type": "execute_result"
    }
   ],
   "source": [
    "// text\n",
    "//     .split(\"\")\n",
    "//     .map(w=>(w.charAt(0),1))\n",
    "//     .filter(_._1.isLetter==true)\n",
    "//     .groupBy(_._1)\n",
    "//     .map(w=>(w._1,w._2.map(_=>1).reduce(_+_)))\n"
   ]
  },
  {
   "cell_type": "markdown",
   "metadata": {},
   "source": [
    "<h2>isLetter</h2>\n",
    "<li>returns true if a character is a letter of the alphabet and false otherwise"
   ]
  },
  {
   "cell_type": "code",
   "execution_count": 84,
   "metadata": {},
   "outputs": [
    {
     "data": {
      "text/plain": [
       "res80: Boolean = true\n"
      ]
     },
     "execution_count": 84,
     "metadata": {},
     "output_type": "execute_result"
    }
   ],
   "source": [
    "'p'.isLetter"
   ]
  },
  {
   "cell_type": "code",
   "execution_count": 85,
   "metadata": {},
   "outputs": [
    {
     "data": {
      "text/plain": [
       "res81: Boolean = false\n"
      ]
     },
     "execution_count": 85,
     "metadata": {},
     "output_type": "execute_result"
    }
   ],
   "source": [
    "'2'.isLetter"
   ]
  },
  {
   "cell_type": "code",
   "execution_count": 86,
   "metadata": {},
   "outputs": [
    {
     "data": {
      "text/plain": [
       "res82: Boolean = false\n"
      ]
     },
     "execution_count": 86,
     "metadata": {},
     "output_type": "execute_result"
    }
   ],
   "source": [
    "'?'.isLetter"
   ]
  },
  {
   "cell_type": "markdown",
   "metadata": {},
   "source": [
    "<h1>Problem 3</h1>\n",
    "An English teacher hates sentences with excessive vowels and wants you to write a program that can grade millions of SAT essays by calculating the average number of vowels per sentence in the essay. For example, if the essay contains the following text:\n",
    "\n",
    "able was I ere I saw elba<br>\n",
    "a man a plan a canal panama<br>\n",
    "the future is uncertain and the end is always near<br>\n",
    "\n",
    "then the essay gets a vowel score of 0.3701234567901235 since the vowel to character ratio in each sentence is: 0.4, 0.37037037037037035, 0.34. In this English teacher's world, characters include anything that is not a vowel (spaces, punctuation, etc.).\n",
    "\n",
    "Write a function <span style=\"color:blue\">essay_grade</span> that, for a given essay provided as an argument, calculates the vowel ratio and returns (1-the ratio) times 100 as the grade on the exam. The final grade should be returned as a truncated Int (62 for the example case). For the purposes of this problem, you must use both the map function as well as the reduce function and you can assume the text is in lower case (i.e., it should work for the example above)"
   ]
  },
  {
   "cell_type": "code",
   "execution_count": 202,
   "metadata": {},
   "outputs": [
    {
     "data": {
      "text/plain": [
       "sample_essay: String =\n",
       "able was i ere i saw elba\n",
       "a man a plan a canal panama\n",
       "the future is uncertain and the end is always near\n",
       "essay_grade: (e: String)Int\n",
       "res186: Int = 62\n"
      ]
     },
     "execution_count": 202,
     "metadata": {},
     "output_type": "execute_result"
    }
   ],
   "source": [
    "val sample_essay = \"\"\"able was i ere i saw elba\n",
    "a man a plan a canal panama\n",
    "the future is uncertain and the end is always near\"\"\"\n",
    "\n",
    "//Your function should go here\n",
    "def essay_grade(e: String):Int = {\n",
    "    (\n",
    "        (1-\n",
    "         e.split(\"\\n\")\n",
    "          .map(w=>(w.split(\"\").length\n",
    "                   ,w.split(\"\").map(w=>if (Set(\"a\",\"e\",\"i\",\"o\",\"u\") contains w) 1 else 0).reduce(_+_).toDouble))\n",
    "          .map(w=>w._2/w._1)\n",
    "          .reduce(_+_)\n",
    "          /e.split(\"\\n\").length\n",
    "        )*100\n",
    "    ).toInt\n",
    "}\n",
    "\n",
    "//Test your function here\n",
    "essay_grade(sample_essay)"
   ]
  },
  {
   "cell_type": "code",
   "execution_count": 203,
   "metadata": {},
   "outputs": [],
   "source": [
    "// val a = \"able was i ere i saw elba\"\n",
    "// a.split(\"\")\n",
    "// .map(w=>if (Set(\"a\",\"e\",\"i\",\"o\",\"u\") contains w) 1 else 0)\n",
    "// .reduce(_+_).toDouble\n"
   ]
  },
  {
   "cell_type": "code",
   "execution_count": 204,
   "metadata": {},
   "outputs": [],
   "source": [
    "\n",
    "// ((1-sample_essay\n",
    "//     .split(\"\\n\")\n",
    "//     .map(w=>(w.split(\"\").length\n",
    "//              ,w.split(\"\").map(w=>if (Set(\"a\",\"e\",\"i\",\"o\",\"u\") contains w) 1 else 0)\n",
    "//                  .reduce(_+_).toDouble))\n",
    "//     .map(w=>w._2/w._1)\n",
    "//     .reduce(_+_)/sample_essay.split(\"\\n\").length)*100).toInt"
   ]
  },
  {
   "cell_type": "code",
   "execution_count": null,
   "metadata": {},
   "outputs": [],
   "source": []
  }
 ],
 "metadata": {
  "kernelspec": {
   "display_name": "spylon-kernel",
   "language": "scala",
   "name": "spylon-kernel"
  },
  "language_info": {
   "codemirror_mode": "text/x-scala",
   "file_extension": ".scala",
   "help_links": [
    {
     "text": "MetaKernel Magics",
     "url": "https://metakernel.readthedocs.io/en/latest/source/README.html"
    }
   ],
   "mimetype": "text/x-scala",
   "name": "scala",
   "pygments_lexer": "scala",
   "version": "0.4.1"
  },
  "toc": {
   "base_numbering": 1,
   "nav_menu": {},
   "number_sections": true,
   "sideBar": true,
   "skip_h1_title": false,
   "title_cell": "Table of Contents",
   "title_sidebar": "Contents",
   "toc_cell": false,
   "toc_position": {},
   "toc_section_display": true,
   "toc_window_display": false
  }
 },
 "nbformat": 4,
 "nbformat_minor": 2
}
