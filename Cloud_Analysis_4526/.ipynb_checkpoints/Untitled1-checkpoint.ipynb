{
 "cells": [
  {
   "cell_type": "code",
   "execution_count": 11,
   "id": "8634e4d6",
   "metadata": {},
   "outputs": [
    {
     "data": {
      "text/plain": [
       "foo: ()Int\n"
      ]
     },
     "execution_count": 11,
     "metadata": {},
     "output_type": "execute_result"
    }
   ],
   "source": [
    "def foo()={\n",
    "    val x=1 //return nothing\n",
    "    x\n",
    "}\n"
   ]
  },
  {
   "cell_type": "code",
   "execution_count": 10,
   "id": "5f35f445",
   "metadata": {},
   "outputs": [
    {
     "data": {
      "text/plain": [
       "res3: Int = 1\n"
      ]
     },
     "execution_count": 10,
     "metadata": {},
     "output_type": "execute_result"
    }
   ],
   "source": [
    "foo()"
   ]
  },
  {
   "cell_type": "code",
   "execution_count": 12,
   "id": "0f7e7e73",
   "metadata": {},
   "outputs": [
    {
     "data": {
      "text/plain": [
       "g: [A, B, C](f: (A, B) => C)A => (B => C)\n",
       "f: (a: String, b: Int)Double\n"
      ]
     },
     "execution_count": 12,
     "metadata": {},
     "output_type": "execute_result"
    }
   ],
   "source": [
    "def g[A,B,C](f: (A,B) => C): A => (B => C) =a => b => f(a,b)\n",
    "\n",
    "def f(a: String, b: Int): Double =  a.length/b.toFloat"
   ]
  },
  {
   "cell_type": "code",
   "execution_count": 13,
   "id": "b2bf094d",
   "metadata": {},
   "outputs": [
    {
     "data": {
      "text/plain": [
       "res4: String => (Int => Double) = $Lambda$2081/0x0000000800d88040@6f0f1c41\n"
      ]
     },
     "execution_count": 13,
     "metadata": {},
     "output_type": "execute_result"
    }
   ],
   "source": [
    "g(f) "
   ]
  },
  {
   "cell_type": "code",
   "execution_count": null,
   "id": "90241170",
   "metadata": {},
   "outputs": [],
   "source": []
  }
 ],
 "metadata": {
  "kernelspec": {
   "display_name": "spylon-kernel",
   "language": "scala",
   "name": "spylon-kernel"
  },
  "language_info": {
   "codemirror_mode": "text/x-scala",
   "file_extension": ".scala",
   "help_links": [
    {
     "text": "MetaKernel Magics",
     "url": "https://metakernel.readthedocs.io/en/latest/source/README.html"
    }
   ],
   "mimetype": "text/x-scala",
   "name": "scala",
   "pygments_lexer": "scala",
   "version": "0.4.1"
  }
 },
 "nbformat": 4,
 "nbformat_minor": 5
}
