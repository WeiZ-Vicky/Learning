{
 "cells": [
  {
   "cell_type": "code",
   "execution_count": 201,
   "metadata": {},
   "outputs": [
    {
     "data": {
      "text/plain": [
       "cleanData: (data: Array[String])(Array[Double], Array[Double])\n",
       "test_dataset1: Array[String] = Array(1.2,3.1,2.4, \" ,1.4,2.1\", 8.1,2.6,bc, 7.1,3.2,9.4)\n",
       "test_dataset2: Array[String] = Array(\"\")\n",
       "test_dataset3: Array[String] = Array(\" ,1.2,9.5\", ,3.1,3.2)\n",
       "r1: (Array[Double], Array[Double]) = (Array(5.466666666666666, 2.575, 4.633333333333334),Array(9.268888888888888, 0.5118750000000001, 11.375555555555556))\n",
       "r2: (Array[Double], Array[Double]) = (Array(NaN),Array(NaN))\n",
       "r3: (Array[Double], Array[Double]) = (Array(NaN, 2.15, 6.35),Array(NaN, 0.9025000000000001, 9.9225))\n"
      ]
     },
     "execution_count": 201,
     "metadata": {},
     "output_type": "execute_result"
    }
   ],
   "source": [
    "//PROBLEM 1: YOUR SOLUTION\n",
    "//Add arguments and the return type to the function signature\n",
    "def cleanData(data:Array[String]) = {\n",
    "    val a = data.map(_.split(\",\")).transpose\n",
    "    val cleaning = a.map(_.flatMap{ p =>\n",
    "        try {\n",
    "            Some(p.toDouble)\n",
    "        }\n",
    "        catch {\n",
    "            case e:Exception => None\n",
    "        }\n",
    "    })\n",
    "    val mean = cleaning.map(x=>x.sum/x.length)\n",
    "    val vari = cleaning.map(x=>x.map(a=>(a-x.sum/x.length)*(a-x.sum/x.length)).sum/x.length)\n",
    "    (mean,vari)\n",
    "}\n",
    "\n",
    "\n",
    "//Test cases\n",
    "var test_dataset1 = Array(\"1.2,3.1,2.4\",\" ,1.4,2.1\",\"8.1,2.6,bc\",\"7.1,3.2,9.4\")\n",
    "var test_dataset2 = Array(\"\")\n",
    "var test_dataset3 = Array(\" ,1.2,9.5\",\",3.1,3.2\")\n",
    "val r1 = cleanData(test_dataset1)\n",
    "val r2 = cleanData(test_dataset2)\n",
    "val r3 = cleanData(test_dataset3)\n",
    "\n",
    "//Return values:\n",
    "\n",
    "//r1: (Array[Double], Array[Double]) = (Array(5.466666666666666, 2.575, 4.633333333333334),Array(9.268888888888888, 0.5118750000000001, 11.375555555555556))\n",
    "//r2: (Array[Double], Array[Double]) = (Array(NaN),Array(NaN))\n",
    "//r3: (Array[Double], Array[Double]) = (Array(NaN, 2.15, 6.35),Array(NaN, 0.9025000000000001, 9.9225))"
   ]
  },
  {
   "cell_type": "code",
   "execution_count": 183,
   "metadata": {},
   "outputs": [
    {
     "name": "stdout",
     "output_type": "stream",
     "text": [
      "true\n",
      "false\n",
      "true\n",
      "false\n",
      "false\n"
     ]
    },
    {
     "data": {
      "text/plain": [
       "isInList: [A](x: List[A], t: A)Boolean\n",
       "x1: List[Int] = List(2, 5, 7, 9, 11)\n",
       "x2: List[String] = List(hello, goodbye, merci)\n"
      ]
     },
     "execution_count": 183,
     "metadata": {},
     "output_type": "execute_result"
    }
   ],
   "source": [
    "//PROBLEM 2: YOUR SOLUTION\n",
    "\n",
    "def isInList[A](x:List[A],t:A):Boolean = {\n",
    "    x.foldLeft(false)((acc,b) => if (b==t) true else acc)\n",
    "}\n",
    "\n",
    "\n",
    "//Test cases\n",
    "val x1 = List(2,5,7,9,11)\n",
    "val x2 = List(\"hello\",\"goodbye\",\"merci\")\n",
    "\n",
    "println(isInList(x1,7)) //true\n",
    "println(isInList(x1,12))  //false\n",
    "println(isInList(x2,\"hello\")) //true\n",
    "println(isInList(x2,\"namaste\")) //false\n",
    "println(isInList(List(),5)) //false\n",
    "\n"
   ]
  },
  {
   "cell_type": "code",
   "execution_count": 184,
   "metadata": {},
   "outputs": [
    {
     "name": "stdout",
     "output_type": "stream",
     "text": [
      "2.5\n",
      "6.8\n",
      "4.3\n"
     ]
    },
    {
     "data": {
      "text/plain": [
       "average: (list: Seq[Double])Double\n",
       "x1: List[Double] = List(1.0, 2.0, 3.0, 4.0)\n",
       "x2: List[Int] = List(2, 5, 7, 9, 11)\n",
       "x3: List[Double] = List(4.3)\n"
      ]
     },
     "execution_count": 184,
     "metadata": {},
     "output_type": "execute_result"
    }
   ],
   "source": [
    "//PROBLEM 3: YOUR SOLUTION\n",
    "\n",
    "def average(list: Seq[Double]): Double = \n",
    "    list.foldLeft((0.0,1))((x,y)=>(x._1+(y-x._1)/x._2,x._2+1))._1\n",
    "\n",
    "\n",
    "//Test cases\n",
    "val x1 = List(1.0,2.0,3.0,4.0)\n",
    "val x2 = List(2,5,7,9,11)\n",
    "val x3 = List(4.3)\n",
    "println(average(x1)) //2.5\n",
    "println(average(x2.map(i=>i.toDouble))) //6.8\n",
    "println(average(x3)) //4.3"
   ]
  },
  {
   "cell_type": "code",
   "execution_count": 188,
   "metadata": {},
   "outputs": [
    {
     "data": {
      "text/plain": [
       "complement: [A](p: (A, A) => Boolean)(a: A, b: A)Boolean\n",
       "isSquare: (a: Int, b: Int)Boolean\n",
       "isShorter: (a: Array[Int], b: Array[Int])Boolean\n",
       "r1: Boolean = false\n",
       "r2: Boolean = true\n",
       "r3: Boolean = false\n",
       "r4: Boolean = true\n"
      ]
     },
     "execution_count": 188,
     "metadata": {},
     "output_type": "execute_result"
    }
   ],
   "source": [
    "//PROBLEM 4: YOUR SOLUTION\n",
    "\n",
    "def complement[A](p:(A,A)=>Boolean)(a:A,b:A):Boolean={\n",
    "    if (p(a,b)) false\n",
    "    else true\n",
    "}\n",
    "\n",
    "def isSquare(a:Int,b:Int):Boolean={\n",
    "    if (a*a == b) true\n",
    "    else false\n",
    "}\n",
    "\n",
    "def isShorter(a:Array[Int],b:Array[Int]):Boolean={\n",
    "    if (a.length<b.length) true\n",
    "    else false\n",
    "}\n",
    "\n",
    "\n",
    "\n",
    "//Test cases\n",
    "val r1 = complement(isSquare)(4,16) //false\n",
    "val r2 = complement(isSquare)(4,15) //true\n",
    "val r3 = complement(isShorter)(Array(1,2,3,4),Array(5,6,7,8,9)) //false\n",
    "val r4 = complement(isShorter)(Array(1,2,3,4),Array(5,6,7)) //true\n",
    "\n"
   ]
  },
  {
   "cell_type": "markdown",
   "metadata": {},
   "source": [
    "<h1>PROBLEM 1</h1>\n",
    "\n",
    "<h2>Requirements</h2>\n",
    "<li>The function signature for cleanData. The signature must correctly include both the arguments as well as the return type</li>\n",
    "<li>The test cases must run correctly</li>\n",
    "<li>Use map, flatMap, Option, and transpose for this assignment</li>\n",
    "\n",
    "\n",
    "<h2>Description</h2>\n",
    "\n",
    "You are given a dataset in a scala Array with the following properties:\n",
    "\n",
    "* Each element in the array corresponds to one row of the dataset\n",
    "* Each element is in the form of a comma separated string with each value represented the value in the corresponding column of the dataset \n",
    "* The number of columns and the number of rows in the dataset are unknown \n",
    "* Write a function <span style=\"color:green\">cleanData</span> that returns a tuple of two elements. The first element is an Array containing the means of each column and the second an array containing the variance (population variance) of each column\n",
    "\n",
    "Your code should take into account the possibility that not every data item is convertible into a Double and should remove each nonconvertible value from the calculations. If a row has zero valid elements, then the data in that row will be ignored. If a column has zero valid elements, then the mean and variance for that column should be NaN\n",
    "\n",
    "You can assume that the array will contain an entry for each column in every row (i.e., that the rows have the right number of columns). If a value is missing, it will either be represented by a nan or by a whitespace.\n",
    "\n",
    "\n",
    "NOTES:\n",
    "<ol>\n",
    "<li> Use Option to deal with missing values (see the in-class example)\n",
    "<li> \n",
    "<p><p>\n",
    "\n",
    "test_data1 is represented by the table below\n",
    "<p>\n",
    "<table align=\"left\">\n",
    "    <tr><td>1.2 </td><td> 3.1 </td> <td>2.4</td></tr>\n",
    "    <tr><td></td><td> 1.4 </td><td> 2.1 </td></tr>\n",
    "    <tr><td>8.1 </td><td> 2.6 </td><td> bc </td></tr>\n",
    "    <tr><td>7.1 </td><td> 3.2 </td><td> 9.4</td></tr>\n",
    " </table>\n",
    "    \n",
    "<p>\n",
    "<BR CLEAR=left><div>\n",
    "    \n",
    "<li>the formula for population variance is \n",
    "    $ \\sum \\frac{(x - \\mu)^{2}}{n}$\n",
    "\n"
   ]
  },
  {
   "cell_type": "code",
   "execution_count": 189,
   "metadata": {},
   "outputs": [
    {
     "data": {
      "text/plain": [
       "test_dataset1: Array[String] = Array(1.2,3.1,2.4, \" ,1.4,2.1\", 8.1,2.6,bc, 7.1,3.2,9.4)\n",
       "a: Array[Array[String]] = Array(Array(1.2, \" \", 8.1, 7.1), Array(3.1, 1.4, 2.6, 3.2), Array(2.4, 2.1, bc, 9.4))\n",
       "b: Array[Array[String]] = Array(Array(1.2, 3.1, 2.4), Array(\" \", 1.4, 2.1), Array(8.1, 2.6, bc), Array(7.1, 3.2, 9.4))\n",
       "cleaning: Array[Array[Double]] = Array(Array(1.2, 3.1, 2.4), Array(1.4, 2.1), Array(8.1, 2.6), Array(7.1, 3.2, 9.4))\n",
       "mean: Array[Double] = Array(2.233333333333333, 1.75, 5.35, 6.566666666666667)\n",
       "vari: Array[Double] = Array(0.6155555555555556, 0.12250000000000007, 7.562499999999998, 6.548888888888889)\n",
       "output: (Array[Double], Array[Double]) = (Array(2.233333333333333, 1.75, 5.35, 6.566666666666667),Array(0.6155555555555556, 0.12250000000000007, 7.562499999999998, 6.5488888888...\n"
      ]
     },
     "execution_count": 189,
     "metadata": {},
     "output_type": "execute_result"
    }
   ],
   "source": [
    "var test_dataset1 = Array(\"1.2,3.1,2.4\",\" ,1.4,2.1\",\"8.1,2.6,bc\",\"7.1,3.2,9.4\")\n",
    "var a = test_dataset1.map(_.split(\",\")).transpose\n",
    "var b = a.transpose\n",
    "var cleaning = b.map(_.map{ p =>\n",
    "    try {\n",
    "        Some(p.toDouble)\n",
    "    }\n",
    "    catch {\n",
    "        case e:Exception => None\n",
    "    }\n",
    "}).map(_.collect{case Some(i) => i})\n",
    "val mean = cleaning.map(x=>x.sum/x.length)\n",
    "val vari = cleaning.map(x=>x.map(a=>(a-x.sum/x.length)*(a-x.sum/x.length)).sum/x.length)\n",
    "var output = (mean,vari)\n",
    "// output.getClass"
   ]
  },
  {
   "cell_type": "markdown",
   "metadata": {},
   "source": [
    "<h1>Problem 2</h1>\n",
    "Write a function <span style=\"color:blue\">isInList</span> that takes two arguments, a list of elements and a value and returns true if value is a member of the list. <b>You must use foldLeft for this function!</b>\n",
    "\n",
    "Testcases:\n",
    "\n",
    "println(isInList(x1,7)) //true<br>\n",
    "println(isInList(x1,12))  //false<br>\n",
    "println(isInList(x2,\"hello\")) //true<br>\n",
    "println(isInList(x2,\"namaste\")) //false<br>\n",
    "println(isInList(List(),5)) //false<br>"
   ]
  },
  {
   "cell_type": "markdown",
   "metadata": {},
   "source": [
    "<h1>Problem 3</h1>\n",
    "Using fold, write a function <span style=\"color:blue\">average</span> that takes an Array of Double and returns the average of the elements of the list. Assume that the list is not empty  and <b>you must use only one statement, a single foldLeft</b>, in the function\n",
    "\n"
   ]
  },
  {
   "cell_type": "markdown",
   "metadata": {},
   "source": [
    "<h1>Problem 4</h1>\n",
    "Write a function <span style=\"color:blue\">complement</span> that takes a predicate function <b>p</b> of two arguments of any type (a predicate function is a function that returns true or false) and returns a function that takes the same two arguments but returns the complement of p. For example,\n",
    "\n",
    "if <b>p(2,\"Valid\")</b> returns true then <b>complement(p)(2,\"Valid\")</b> should return false\n",
    "\n",
    "if <b>p(2,\"Valid\")</b> returns false then <b>complement(p)(2,\"Valid\")</b> should return true\n",
    "\n",
    "To test your complement function by writing the following predicate functions:\n",
    "<ol>\n",
    "    <li><span style=\"color:blue\">isSquare</span> takes two Int arguments and returns true if the second argument is the square of the first. </li>\n",
    "    <li><span style=\"color:blue\">isShorter</span> takes two arguments, both Array[Int] and returns true if the first array is strictly shorter in length than the second array</li>\n"
   ]
  },
  {
   "cell_type": "code",
   "execution_count": null,
   "metadata": {},
   "outputs": [],
   "source": []
  }
 ],
 "metadata": {
  "kernelspec": {
   "display_name": "spylon-kernel",
   "language": "scala",
   "name": "spylon-kernel"
  },
  "language_info": {
   "codemirror_mode": "text/x-scala",
   "file_extension": ".scala",
   "help_links": [
    {
     "text": "MetaKernel Magics",
     "url": "https://metakernel.readthedocs.io/en/latest/source/README.html"
    }
   ],
   "mimetype": "text/x-scala",
   "name": "scala",
   "pygments_lexer": "scala",
   "version": "0.4.1"
  }
 },
 "nbformat": 4,
 "nbformat_minor": 2
}
