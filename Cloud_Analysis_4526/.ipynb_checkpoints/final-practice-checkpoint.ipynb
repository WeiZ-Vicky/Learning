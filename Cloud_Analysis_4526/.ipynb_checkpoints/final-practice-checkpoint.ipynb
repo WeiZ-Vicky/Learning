{
 "cells": [
  {
   "cell_type": "code",
   "execution_count": 1,
   "id": "ac3a640b",
   "metadata": {},
   "outputs": [],
   "source": [
    "%%init_spark\n",
    "launcher.packages= [\"graphframes:graphframes:0.8.2-spark3.2-s_2.12\"]"
   ]
  },
  {
   "cell_type": "markdown",
   "id": "5d711df6",
   "metadata": {},
   "source": [
    "# Problem 1"
   ]
  },
  {
   "cell_type": "code",
   "execution_count": 41,
   "id": "cd8a474d",
   "metadata": {},
   "outputs": [
    {
     "name": "stdout",
     "output_type": "stream",
     "text": [
      "+-----------+---------------------------------------------------------------------------------------------------------------------------------------------------------------------------------------------+\n",
      "|document_id|tfidfVec                                                                                                                                                                                     |\n",
      "+-----------+---------------------------------------------------------------------------------------------------------------------------------------------------------------------------------------------+\n",
      "|doc 1      |(12,[1,2,3,4,5,6,7,8,9,11],[0.0,0.0,0.4054651081081644,0.4054651081081644,0.4054651081081644,0.4054651081081644,0.4054651081081644,0.4054651081081644,0.4054651081081644,0.4054651081081644])|\n",
      "|doc 2      |(12,[0,1,2,10],[1.6218604324326575,0.0,0.0,0.4054651081081644])                                                                                                                              |\n",
      "+-----------+---------------------------------------------------------------------------------------------------------------------------------------------------------------------------------------------+\n",
      "\n"
     ]
    },
    {
     "data": {
      "text/plain": [
       "import org.apache.spark.sql.DataFrame\n",
       "doc1: (String, String) =\n",
       "(doc 1,\"\n",
       "Columbia University is a large university in New York.\n",
       "It has many schools including Columbia College, Engineering School, Law School, and Business School.\n",
       "It was established in 1754\n",
       "\")\n",
       "doc2: (String, String) =\n",
       "(doc 2,\"\n",
       "Operations Research is a department in the Engineering School of Columbia University.\n",
       "Operations Research was established in 1919.\n",
       "Operations Research has a BS major and offers many MS degrees.\n",
       "Graduates of Operations Research get good jobs and have a very happy life.\n",
       "\")\n",
       "both_uc: (w1: String, w2: String)Boolean\n",
       "split_data: (a: String)Array[String]\n",
       "clean_data: (a: String)String\n",
       "replace_entities: (a: Array[String])Array[String]\n",
       "clean_data_udf: org.apache.spark.sql.expressions.UserDefinedFunction = Spar...\n"
      ]
     },
     "execution_count": 41,
     "metadata": {},
     "output_type": "execute_result"
    }
   ],
   "source": [
    "import org.apache.spark.sql.DataFrame\n",
    "val doc1 = (\"doc 1\",\"\"\"\n",
    "Columbia University is a large university in New York.\n",
    "It has many schools including Columbia College, Engineering School, Law School, and Business School.\n",
    "It was established in 1754\n",
    "\"\"\")\n",
    "val doc2 = (\"doc 2\",\"\"\"\n",
    "Operations Research is a department in the Engineering School of Columbia University.\n",
    "Operations Research was established in 1919.\n",
    "Operations Research has a BS major and offers many MS degrees.\n",
    "Graduates of Operations Research get good jobs and have a very happy life.\n",
    "\"\"\")\n",
    "\n",
    "def both_uc(w1: String,w2: String): Boolean = \n",
    "{\n",
    "    w1(0).isUpper & w2(0).isUpper\n",
    "}\n",
    "\n",
    "def split_data(a: String): Array[String] = a.split(\"\\\\s+\")\n",
    "\n",
    "def clean_data(a: String): String = \n",
    "{\n",
    "//     a.filter(a=>a != ','  & a != '.' & a != '\\n').trim() //not works because filter \\n will concate words together\n",
    "    a.replace(\"\\n\",\" \").replace(\".\",\" \").replace(\",\",\" \").replace(\"  \",\" \").trim()\n",
    "}\n",
    "\n",
    "\n",
    "def replace_entities(a: Array[String]):Array[String] = {\n",
    "    val indices = 0 to a.length-1\n",
    "    indices.slice(0,indices.length-1)\n",
    "    .flatMap(i => \n",
    "         if (both_uc(a(i),a(i+1))) Some(a(i)+a(i+1))\n",
    "         else None)\n",
    "    .toArray\n",
    "}\n",
    "\n",
    "val clean_data_udf = udf(clean_data _)\n",
    "val split_data_udf = udf(split_data _)\n",
    "val replace_entities_udf = udf(replace_entities _)\n",
    "\n",
    "def make_df(a: Seq[(String,String)]): DataFrame = {\n",
    "    sc.parallelize(a)\n",
    "        .toDF(\"document_id\",\"document_text\")\n",
    "        .withColumn(\"cleaned_text\",clean_data_udf($\"document_text\"))\n",
    "        .withColumn(\"document_terms\",split_data_udf($\"cleaned_text\"))\n",
    "        .withColumn(\"entity_terms\",replace_entities_udf($\"document_terms\"))\n",
    "}\n",
    "\n",
    "val df = make_df(Array(doc1,doc2))\n",
    "\n",
    "//Using CountVectorizer, generate term_freqs column\n",
    "import org.apache.spark.ml.feature.CountVectorizer\n",
    "val countVectorizer = new CountVectorizer()\n",
    "    .setInputCol(\"entity_terms\")\n",
    "    .setOutputCol(\"term_freqs\")\n",
    "    .setVocabSize(20)\n",
    "\n",
    "val vocabModel = countVectorizer.fit(df)\n",
    "val freqs = vocabModel.transform(df)\n",
    "\n",
    "//Using IDF get the tfidfVec\n",
    "import org.apache.spark.ml.feature.IDF\n",
    "\n",
    "val idf = new IDF().setInputCol(\"term_freqs\").setOutputCol(\"tfidfVec\")\n",
    "val idfModel = idf.fit(freqs)\n",
    "val idfMatrix = idfModel.transform(freqs).select(\"document_id\",\"tfidfVec\")\n",
    "\n",
    "idfMatrix.show(false) //The Result"
   ]
  },
  {
   "cell_type": "markdown",
   "id": "6face363",
   "metadata": {},
   "source": [
    "# Problem 2"
   ]
  },
  {
   "cell_type": "markdown",
   "id": "4c291826",
   "metadata": {},
   "source": [
    "# note: GraphFrame, bfs, CONS! mapValues"
   ]
  },
  {
   "cell_type": "code",
   "execution_count": 136,
   "id": "150efbf7",
   "metadata": {},
   "outputs": [
    {
     "data": {
      "text/plain": [
       "import org.apache.spark.sql._\n",
       "import org.apache.spark.sql.functions._\n",
       "import org.graphframes._\n",
       "vertexArray: Array[(Int, Int)] = Array((1,1), (2,2), (3,3), (4,4), (5,5), (6,6), (7,7), (8,8))\n",
       "edgeArray: Array[(Int, Int)] = Array((1,3), (2,3), (2,4), (4,5), (3,5), (5,6), (6,7), (6,8), (7,8))\n",
       "vertex_df: org.apache.spark.sql.DataFrame = [id: int, v_desc: int]\n",
       "edge_df: org.apache.spark.sql.DataFrame = [src: int, dst: int]\n",
       "g: org.graphframes.GraphFrame = GraphFrame(v:[id: int, v_desc: int], e:[src: int, dst: int])\n",
       "getAllVertexPairs: (g: org.graphframes.GraphFrame)Array[(Int, Int)]\n",
       "getShortestPath: (g: org.graphframes.GraphFrame, i: Int, j: Int)Array[Int]\n",
       "getAllShortestPaths: (g: org.graphframes.GraphFrame)List[Array[Int]]\n",
       "getBetweenessCentrality: (g: org.graphframes.GraphFrame)org.apache.spark...\n"
      ]
     },
     "execution_count": 136,
     "metadata": {},
     "output_type": "execute_result"
    }
   ],
   "source": [
    "import org.apache.spark.sql._\n",
    "import org.apache.spark.sql.functions._\n",
    "import org.graphframes._\n",
    "\n",
    "\n",
    "val vertexArray = Array(\n",
    "  (1,1),\n",
    "  (2,2),\n",
    "  (3,3),\n",
    "  (4,4),\n",
    "  (5,5),\n",
    "  (6,6),\n",
    "    (7,7),\n",
    "    (8,8)\n",
    ")\n",
    "\n",
    "\n",
    "val edgeArray = Array(\n",
    "  (1, 3),\n",
    "  (2, 3),\n",
    "  (2, 4),\n",
    "  (4, 5),\n",
    "  (3, 5),\n",
    "  (5, 6),\n",
    "  (6, 7),\n",
    "  (6, 8),\n",
    "  (7, 8)\n",
    ")\n",
    "\n",
    "val vertex_df = spark.createDataFrame(vertexArray).toDF(\"id\",\"v_desc\")\n",
    "val edge_df = spark.createDataFrame(edgeArray).toDF(\"src\",\"dst\")\n",
    "\n",
    "val g = GraphFrame(vertex_df, edge_df)\n",
    "\n",
    "//Function to get all vertex pairs. This is written for you\n",
    "def getAllVertexPairs(g: GraphFrame): Array[(Int,Int)] = {\n",
    "    def getAllPairs(nums: Seq[Int]) =\n",
    "        nums.flatMap(x => nums.map(y => (x,y))).filter(p=>p._1 != p._2)\n",
    "\n",
    "    val col_vals = g.vertices.select(\"id\").map(_.getInt(0)).collect.toSeq.toArray\n",
    "    val all_vertex_pairs = getAllPairs(col_vals).toArray\n",
    "    all_vertex_pairs\n",
    "}\n",
    "\n",
    "//Function to get the shortest path between two vertices. This is also already written\n",
    "//for you\n",
    "//Note that this uses the bfs algorithm. So it will take some time to run and should\n",
    "//not be run on large graphs!\n",
    "\n",
    "//:_* a special notation that tells the compiler to pass each element as its own argument, rather than all of it as a single argument.\n",
    "\n",
    "def getShortestPath(g: GraphFrame,i: Int, j: Int) = {\n",
    "    val path_df = g.bfs.fromExpr(s\"id=$i\").toExpr(s\"id=$j\").run() \n",
    "    if (path_df.count > 0) {\n",
    "        val cols = path_df.columns.filter(n=>n.contains(\"v\")).map(n=>col(n+\".id\"))\n",
    "        val a = path_df.select(cols:_*).rdd.collect()(0).toSeq.toArray.map(e => e.toString.toInt)\n",
    "        a\n",
    "    }\n",
    "    else Array[Int]()\n",
    "}\n",
    "\n",
    "def getAllShortestPaths(g: GraphFrame):List[Array[Int]]  = {\n",
    "    def loop(a: Array[(Int,Int)]):List[Array[Int]] = {\n",
    "        if (a.length == 0) List[Array[Int]]()\n",
    "        else {\n",
    "            val sp = getShortestPath(g,a(0)._1,a(0)._2)\n",
    "            if (a.length == 1)\n",
    "                List(sp)\n",
    "            else sp ::loop(a.slice(1,a.length))\n",
    "        }\n",
    "    }\n",
    "    val all_vertex_pairs = getAllVertexPairs(g)\n",
    "    loop(all_vertex_pairs)\n",
    "}\n",
    "\n",
    "def getBetweenessCentrality(g: GraphFrame) = {\n",
    "    //get all shortest paths removing empty paths\n",
    "    val all_shortest_paths = getAllShortestPaths(g).filter(p=>p.length>0)\n",
    "    val vertices = g.vertices.select(\"id\").rdd.map(v=>v(0).toString.toInt)\n",
    "    val denominator = vertices.count * (vertices.count - 1)\n",
    "    vertices.map(v => all_shortest_paths.flatten.groupBy(identity).mapValues(_.size).getOrElse(v,0)*1.0/denominator)\n",
    "}\n",
    "\n",
    "//Result\n",
    "val b = getBetweenessCentrality(g)\n",
    "b.collect"
   ]
  },
  {
   "cell_type": "code",
   "execution_count": 137,
   "id": "b112fe14",
   "metadata": {},
   "outputs": [
    {
     "data": {
      "text/plain": [
       "res91: Array[Double] = Array(0.0, 0.0, 0.10714285714285714, 0.03571428571428571, 0.21428571428571427, 0.17857142857142858, 0.0, 0.0)\n"
      ]
     },
     "execution_count": 137,
     "metadata": {},
     "output_type": "execute_result"
    }
   ],
   "source": [
    "b.collect"
   ]
  },
  {
   "cell_type": "code",
   "execution_count": null,
   "id": "23d9ed59",
   "metadata": {},
   "outputs": [],
   "source": []
  }
 ],
 "metadata": {
  "kernelspec": {
   "display_name": "spylon-kernel",
   "language": "scala",
   "name": "spylon-kernel"
  },
  "language_info": {
   "codemirror_mode": "text/x-scala",
   "file_extension": ".scala",
   "help_links": [
    {
     "text": "MetaKernel Magics",
     "url": "https://metakernel.readthedocs.io/en/latest/source/README.html"
    }
   ],
   "mimetype": "text/x-scala",
   "name": "scala",
   "pygments_lexer": "scala",
   "version": "0.4.1"
  }
 },
 "nbformat": 4,
 "nbformat_minor": 5
}
