{
 "cells": [
  {
   "cell_type": "markdown",
   "id": "a144db74",
   "metadata": {},
   "source": [
    "SAMPLE QUESTION 1\n",
    "\n",
    "The greatest common divisor (gcd) of two integers, neither of which are zero, is the largest positive integer that divides each of the integers. For example, the gcd of 8 and 12 is 4 and the gcd of 18 and 27 is 9. One procedure for calculating gcd is:\n",
    "\n",
    "Divide one number by the other and see if the remainder is 0\n",
    "If it is, then return the divisor (e.g., if the two numbers are 9 and 3, the remainder of dividing 9 by 3 is 0 and the function returns 3 as the gcd)\n",
    "If the the remainder is not zero, call the gcd function with the divisor as the first argument and the remainder as the second argiment\n",
    "\n",
    "As an example, consider 27 and 18. \n",
    "27/18 gives a remainder of 9 (nonzero)\n",
    "Call gcd (18,9)\n",
    "18/9 gives a remainder of 0. Return 9 as the gcd\n",
    "\n",
    " \n",
    "\n",
    "Write a tail recursive Scala function gcd(x,y) that calculates the gcd of two positive integers"
   ]
  },
  {
   "cell_type": "code",
   "execution_count": 2,
   "id": "e00f6231",
   "metadata": {},
   "outputs": [
    {
     "data": {
      "text/plain": [
       "gcd: (a: Int, b: Int)Int\n",
       "res1: Int = 5\n"
      ]
     },
     "execution_count": 2,
     "metadata": {},
     "output_type": "execute_result"
    }
   ],
   "source": [
    "//Sample Question 1 solution\n",
    "def gcd(a: Int, b: Int): Int = {\n",
    "    if (b == 0) a\n",
    "    else gcd(b, a % b)\n",
    "}\n",
    "\n",
    "gcd(10,15)"
   ]
  },
  {
   "cell_type": "markdown",
   "id": "dc6917a1",
   "metadata": {},
   "source": [
    "SAMPLE QUESTION 2\n",
    "\n",
    "In home assignment 1, we wrote a python recursive function permutations that returned all permutations of a given string. For example:\n",
    "\n",
    "permutations(\"abc\") returns ['abc', 'acb', 'bac', 'bca', 'cab', 'cba']  \n",
    "Write a Scala recursive version of the permutations function. Your function should take a string as an argument and return a Seq of String containing all the combinations. You can only use immutable objects (the python implementation below uses a mutable allPerms list and that's not allowed for this problem).   Your function does not need to be tail recursive. Useful Scala functions include:\n",
    "\n",
    "flatten or flatMap\n",
    "\n",
    "zipWithIndex\n",
    "\n",
    "slice\n",
    "\n",
    "#Python implementation\n",
    "def permutations(w):\n",
    "    all_perms=list()\n",
    "    if len(w) == 1:\n",
    "        return [w]\n",
    "    for i in range(len(w)):\n",
    "        new_word = w[:i] + w[i+1:]\n",
    "        new_perms = permutations(new_word)\n",
    "        new_perms = [w[i] + p for p in new_perms]\n",
    "        all_perms.extend(new_perms)\n",
    "    return all_perms"
   ]
  },
  {
   "cell_type": "code",
   "execution_count": 4,
   "id": "bf9c852e",
   "metadata": {},
   "outputs": [
    {
     "data": {
      "text/plain": [
       "a: String = abc\n",
       "res3: scala.collection.immutable.IndexedSeq[(Char, Int)] = Vector((a,0), (b,1), (c,2))\n"
      ]
     },
     "execution_count": 4,
     "metadata": {},
     "output_type": "execute_result"
    }
   ],
   "source": [
    "val a = \"abc\"\n",
    "a.zipWithIndex"
   ]
  },
  {
   "cell_type": "code",
   "execution_count": 14,
   "id": "a3310e51",
   "metadata": {},
   "outputs": [
    {
     "data": {
      "text/plain": [
       "res13: String = bc\n"
      ]
     },
     "execution_count": 14,
     "metadata": {},
     "output_type": "execute_result"
    }
   ],
   "source": [
    "a.slice(0,0)+a.slice(1,3)"
   ]
  },
  {
   "cell_type": "code",
   "execution_count": 15,
   "id": "7967cb87",
   "metadata": {},
   "outputs": [
    {
     "data": {
      "text/plain": [
       "b: String = bc\n",
       "res14: scala.collection.immutable.IndexedSeq[(Char, Int)] = Vector((b,0), (c,1))\n"
      ]
     },
     "execution_count": 15,
     "metadata": {},
     "output_type": "execute_result"
    }
   ],
   "source": [
    "val b = \"bc\"\n",
    "b.zipWithIndex\n",
    "// b.slice(0,0)+b.slice(1,2) //bc"
   ]
  },
  {
   "cell_type": "code",
   "execution_count": 16,
   "id": "848c4a9a",
   "metadata": {},
   "outputs": [
    {
     "data": {
      "text/plain": [
       "res15: String = b\n"
      ]
     },
     "execution_count": 16,
     "metadata": {},
     "output_type": "execute_result"
    }
   ],
   "source": [
    "b.slice(0,1)+b.slice(2,2) //cb"
   ]
  },
  {
   "cell_type": "code",
   "execution_count": 20,
   "id": "cbd64186",
   "metadata": {},
   "outputs": [
    {
     "data": {
      "text/plain": [
       "permutations: (w: String)Seq[String]\n",
       "res19: Seq[String] = Vector(abc, acb, bac, bca, cab, cba)\n"
      ]
     },
     "execution_count": 20,
     "metadata": {},
     "output_type": "execute_result"
    }
   ],
   "source": [
    "//Sample Question 2 solution\n",
    "def permutations(w: String):Seq[String] = {\n",
    "    if (w.length <= 1) Seq(w)\n",
    "    else \n",
    "        w.zipWithIndex.flatMap(i => {\n",
    "            val new_word = w.slice(0,i._2) + w.slice(i._2+1,w.length)\n",
    "//             println(new_word)\n",
    "//             println(\"i\",i._1)\n",
    "            permutations(new_word).map(p => i._1 + p)\n",
    "        })\n",
    "}     \n",
    "\n",
    "permutations(\"abc\")"
   ]
  },
  {
   "cell_type": "markdown",
   "id": "16d4a6df",
   "metadata": {},
   "source": [
    "SAMPLE QUESTION 3\n",
    "\n",
    "A simple test for whether a number, n,  is a prime number is to divide it by all numbers from 2 to sqrt(n). If it is divisible by any of those numbers, it is not prime. If it isn't divisible by any of those numbers, it is prime.\n",
    "\n",
    "Write a tail recursive Scala function isPrime that takes an integer as an argument and returns true if the integer is prime and false otherwise. Note that 0, 1, and negative numbers should be treated as not prime numbers. "
   ]
  },
  {
   "cell_type": "code",
   "execution_count": 21,
   "id": "f4f9c450",
   "metadata": {},
   "outputs": [
    {
     "data": {
      "text/plain": [
       "isPrime: (n: Int)Boolean\n",
       "res20: Boolean = false\n"
      ]
     },
     "execution_count": 21,
     "metadata": {},
     "output_type": "execute_result"
    }
   ],
   "source": [
    "//Sample Question 3 solution\n",
    "def isPrime(n: Int): Boolean = {\n",
    "    def loop(i: Int): Boolean = {\n",
    "        if (n % i == 0) false\n",
    "        else if (i*i > n) true\n",
    "        else loop(i+1)\n",
    "    }\n",
    "    if (n <= 1) false\n",
    "    if (n == 2 ) true\n",
    "    else loop(2)\n",
    "}\n",
    "isPrime(7)\n",
    "isPrime(9)"
   ]
  },
  {
   "cell_type": "markdown",
   "id": "0efc7199",
   "metadata": {},
   "source": [
    "SAMPLE QUESTION 4\n",
    "\n",
    "A pawn shop conducts BUY and SELL transactions every day and compiles these transactions into a scala array. Each transaction is recorded in a tuple (item, BUY/SELL,value). As an example, consider the array below (the first transaction is \"Item A was sold for $35\"):\n",
    "\n",
    "val data = Array((\"A\",\"SELL\",35),\n",
    "                 (\"B\",\"SELL\",15),\n",
    "                 (\"A\",\"BUY\",25),\n",
    "                 (\"B\",\"SELL\",17),\n",
    "                 (\"B\",\"BUY\",15),\n",
    "                 (\"B\",\"BUY\",27),\n",
    "                 (\"B\",\"SELL\",18),\n",
    "                 (\"A\",\"BUY\",22),\n",
    "                 (\"C\",\"SELL\",30),\n",
    "                 (\"D\",\"BUY\",11),\n",
    "                (\"D\",\"BUY\",17))\n",
    " \n",
    "\n",
    "\n",
    "At the end of the day, the shop wants to compile a report that contains the net inventory change of each product and the net cash flow (a SELL is a positive cash flow while a BUY is a negative cash flow) for each product. The company also wants to get a number for the total cash flow across all products at the end of the day.\n",
    "\n",
    "Starting with a Scala Array of the type above, use combineByKey to calculate the net change in inventory and the net cash flow for each product. For the above example, combineByKey should return (Key, (inventory change, net cash flow))\n",
    "\n",
    "Array((A,(1,-12)), (B,(-1,8)), (C,(-1,30)), (D,(2,-28)))\n",
    "\n",
    "Then, on the result of combineByKey, use reduce to calculate the net cash flow. For the above example, the net cash flow is -2.\n",
    "\n",
    "Please bear in mind that you need paired RDDs for combineByKey!"
   ]
  },
  {
   "cell_type": "code",
   "execution_count": 24,
   "id": "4dd04341",
   "metadata": {},
   "outputs": [
    {
     "data": {
      "text/plain": [
       "data: Array[(String, String, Int)] = Array((A,SELL,35), (B,SELL,15), (A,BUY,25), (B,SELL,17), (B,BUY,15), (B,BUY,27), (B,SELL,18), (A,BUY,22), (C,SELL,30), (D,BUY,11), (D,BUY,17))\n",
       "dataRDD: org.apache.spark.rdd.RDD[(String, String, Int)] = ParallelCollectionRDD[0] at parallelize at <console>:38\n",
       "pairRDD: org.apache.spark.rdd.RDD[(String, (String, Int))] = MapPartitionsRDD[1] at map at <console>:39\n",
       "combiner: ((String, Int)) => (Int, Int) = $Lambda$2476/0x0000000800f1d040@254de50e\n",
       "merger: ((Int, Int), (String, Int)) => (Int, Int) = $Lambda$2477/0x0000000800f1c840@78246136\n",
       "mergeAndCombiner: ((Int, Int), (Int, Int)) => (Int, Int) = $Lambda$2478/0x0000000800f1b840@e0bff27\n",
       "net: org.apache.spark.rdd.RDD[(String, (Int, Int))] = ShuffledRDD[2] at combineByKey at <console>:54\n",
       "res22: Int = -2\n"
      ]
     },
     "execution_count": 24,
     "metadata": {},
     "output_type": "execute_result"
    }
   ],
   "source": [
    "//Sample question 4 solution\n",
    "\n",
    "val data = Array((\"A\",\"SELL\",35),\n",
    "                 (\"B\",\"SELL\",15),\n",
    "                 (\"A\",\"BUY\",25),\n",
    "                 (\"B\",\"SELL\",17),\n",
    "                 (\"B\",\"BUY\",15),\n",
    "                 (\"B\",\"BUY\",27),\n",
    "                 (\"B\",\"SELL\",18),\n",
    "                 (\"A\",\"BUY\",22),\n",
    "                 (\"C\",\"SELL\",30),\n",
    "                 (\"D\",\"BUY\",11),\n",
    "                (\"D\",\"BUY\",17))\n",
    "\n",
    "val dataRDD = sc.parallelize(data)\n",
    "val pairRDD = dataRDD.map(r => (r._1,(r._2,r._3)))\n",
    "val combiner = (x: (String,Int)) => {\n",
    "    val (trans,value) = x\n",
    "    if (trans == \"SELL\") (-1,value)\n",
    "    else (1, -value)\n",
    "}\n",
    "val merger = (x: (Int,Int),y:(String,Int)) => {\n",
    "    val (numItems,netValue) = x\n",
    "    val (trans,value) = y\n",
    "    if (trans == \"SELL\") (numItems-1,netValue+value)\n",
    "    else (numItems+1, netValue-value)\n",
    "} \n",
    "val mergeAndCombiner = (x:(Int,Int),y:(Int,Int)) => {\n",
    "    (x._1 + y._1,x._2+y._2)\n",
    "}\n",
    "val net = pairRDD.combineByKey(combiner,merger,mergeAndCombiner)\n",
    "net.map(i => i._2._2).reduce(_+_)"
   ]
  },
  {
   "cell_type": "markdown",
   "id": "1669eea1",
   "metadata": {},
   "source": [
    "SAMPLE QUESTION 5\n",
    "\n",
    "An online shopping provider allows users to store data in either a shopping cart or in a wish list. When the user clicks on the check out button, the value of the items in the shopping cart are added up and the total cost charged to the user. Your job is to create data structures for the shopping cart and the wish list and to write a checkout function that uses case class matching to figure out whether a particular item is in the shopping cart or on the wish list\n",
    "\n",
    "1. Create an abstract class ItemList to store all user data. ItemList should contain three data attributes: item (a String), price (Double), and qty (Int)\n",
    "\n",
    "2. Create two case classes: ShoppingCart and WishList, both extending ItemList\n",
    "\n",
    "3. Write a function check_out that takes a List of ItemList as an argument and returns a Double that contains the total value of all items in the ShoppingCart. Use case class matching to decide whether an item in ItemList is of type ShoppingCart or of type WishList. The function should use tail recursion to calculate the total value of checkout items.\n",
    "\n",
    "Example:\n",
    "\n",
    "val user_item_list = List(ShoppingCart(\"Tofu\",2.35,2),WishList(\"LED TV\",1211.99,1),\n",
    "ShoppingCart(\"AAA batteries\",0.99,16))\n",
    "\n",
    "check_out(user_item_list)\n",
    "\n",
    "Should return:\n",
    "\n",
    "Double = 20.54"
   ]
  },
  {
   "cell_type": "code",
   "execution_count": 10,
   "id": "e56ea71f",
   "metadata": {},
   "outputs": [
    {
     "data": {
      "text/plain": [
       "defined class ItemList\n",
       "defined class ShoppingCart\n",
       "defined class WishList\n",
       "check_out: (l: List[ItemList])Double\n",
       "user_item_list: List[Product with Serializable with ItemList] = List(ShoppingCart(Tofu,2.35,2), WishList(LED TV,1211.99,1), ShoppingCart(AAA batteries,0.99,16))\n",
       "res8: Double = 20.54\n"
      ]
     },
     "execution_count": 10,
     "metadata": {},
     "output_type": "execute_result"
    }
   ],
   "source": [
    "//Sample question 5 solution\n",
    "\n",
    "abstract class ItemList(item: String,price: Double,qty: Int)\n",
    "case class ShoppingCart(item: String,price: Double,qty: Int) extends ItemList(item,price,qty)\n",
    "case class WishList(item: String,price: Double,qty: Int) extends ItemList(item,price,qty)\n",
    "def check_out(l: List[ItemList]): Double = {\n",
    "    def loop(n: Int,sum: Double): Double =\n",
    "        if (n >= l.length) sum\n",
    "        else \n",
    "           l(n) match {\n",
    "               case i: ShoppingCart => loop(n+1,i.price*i.qty+sum)\n",
    "               case i: WishList => loop(n+1,sum)\n",
    "           }\n",
    "        loop(0,0)\n",
    "}\n",
    "\n",
    "val user_item_list = List(ShoppingCart(\"Tofu\",2.35,2),WishList(\"LED TV\",1211.99,1),\n",
    "ShoppingCart(\"AAA batteries\",0.99,16))\n",
    "\n",
    "check_out(user_item_list)"
   ]
  },
  {
   "cell_type": "markdown",
   "id": "a6f51c92",
   "metadata": {},
   "source": [
    "SAMPLE QUESTION 6\n",
    "\n",
    "Write a Spark program that computes the average length of words starting with a particular letter in a piece of text. For example, the text\n",
    "\n",
    " \n",
    "\n",
    "To be or not to be that is the question\n",
    "Whether tis nobler in the mind to suffer\n",
    "The slings and arrows of outrageous fortune\n",
    "Or to take Arms against a Sea of troubles\n",
    "And by opposing end them: to die to sleep\n",
    "\n",
    "\n",
    "\n",
    "Should return,\n",
    "\n",
    " \n",
    "\n",
    "e -> 3.0, s -> 5.0, n -> 4.5, t -> 3.2142856, f -> 7.0, a -> 4.0, m -> 4.0, i -> 2.0, q -> 8.0, b -> 2.0, w -> 7.0, o -> 4.3333335, d -> 3.0\n",
    " \n",
    "\n",
    "Use combineByKey for this program\n",
    "Convert all words to lowercase. The function x.toLowerCase() converts String x to lower case\n",
    "If x and y are integers, then x/y will return an integer. To return a float, do x/y.toFloat\n"
   ]
  },
  {
   "cell_type": "code",
   "execution_count": 43,
   "id": "7b1ed458",
   "metadata": {},
   "outputs": [
    {
     "name": "stdout",
     "output_type": "stream",
     "text": [
      "Map(e -> 3.0, n -> 4.5, w -> 7.0, q -> 8.0, b -> 2.0, t -> 3.2142857142857144, s -> 5.0, d -> 3.0, m -> 4.0, a -> 4.0, i -> 2.0, f -> 7.0, o -> 4.333333333333333)\n"
     ]
    },
    {
     "data": {
      "text/plain": [
       "text: String =\n",
       "To be or not to be that is the question\n",
       "Whether tis nobler in the mind to suffer\n",
       "The slings and arrows of outrageous fortune\n",
       "Or to take Arms against a Sea of troubles\n",
       "And by opposing end them: to die to sleep\n",
       "words: org.apache.spark.rdd.RDD[String] = ParallelCollectionRDD[22] at parallelize at <console>:40\n",
       "word_map: org.apache.spark.rdd.RDD[(Char, Int)] = MapPartitionsRDD[23] at map at <console>:41\n",
       "combiner: Int => (Int, Int) = $Lambda$3743/0x0000000800fcb840@43f3f6de\n",
       "merger: ((Int, Int), Int) => (Int, Int) = $Lambda$3744/0x0000000800fcb040@681b7499\n",
       "mergeAndCombiner: ((Int, Int), (Int, Int)) => (Int, Int) = $Lambda$3745/0x0000000800fca840@1191553c\n",
       "total: org.apache.spark.rdd.RDD[(Char, (Int, Int))] = ShuffledRDD[24] at combineByKey at <console>:52\n",
       "getAvgFunction: ((Char, ...\n"
      ]
     },
     "execution_count": 43,
     "metadata": {},
     "output_type": "execute_result"
    }
   ],
   "source": [
    "//Sample question 6 solution\n",
    "\n",
    "val text = \"\"\"To be or not to be that is the question\n",
    "Whether tis nobler in the mind to suffer\n",
    "The slings and arrows of outrageous fortune\n",
    "Or to take Arms against a Sea of troubles\n",
    "And by opposing end them: to die to sleep\"\"\"\n",
    "val words = sc.parallelize(text.split(\"\\n\").flatMap(l=>l.split(\" \")))\n",
    "val word_map = words.map(word => (word.toLowerCase()(0),word.length))\n",
    "val combiner = (x: Int) => (1,x)\n",
    "val merger = (x: (Int, Int),y: Int) => {\n",
    "    val (c,acc) = x\n",
    "    (c +1 , acc+y)\n",
    "}\n",
    "val mergeAndCombiner = (x1: (Int, Int), x2: (Int, Int)) => {\n",
    "val (c1, acc1) = x1\n",
    "val (c2, acc2) = x2\n",
    "(c1+c2,acc1+acc2)\n",
    "}\n",
    "val total = word_map.combineByKey(combiner,merger,mergeAndCombiner)\n",
    "\n",
    "val getAvgFunction = (x: (Char, (Int, Int))) => {\n",
    "    val (identifier, (count, total)) = x\n",
    "    (identifier,total.toDouble/count.toDouble)\n",
    "}\n",
    "\n",
    "val averages = total.collectAsMap().map(getAvgFunction)\n",
    "println(averages)"
   ]
  },
  {
   "cell_type": "code",
   "execution_count": 40,
   "id": "1b6cb1b7",
   "metadata": {},
   "outputs": [
    {
     "data": {
      "text/plain": [
       "m: scala.collection.Map[Int,Int] = Map(1 -> 2, 3 -> 4)\n"
      ]
     },
     "execution_count": 40,
     "metadata": {},
     "output_type": "execute_result"
    }
   ],
   "source": [
    "val m = sc.parallelize(List((1, 2), (3, 4))).collectAsMap()"
   ]
  },
  {
   "cell_type": "code",
   "execution_count": 42,
   "id": "203746ca",
   "metadata": {},
   "outputs": [
    {
     "data": {
      "text/plain": [
       "res36: scala.collection.Map[Char,(Int, Int)] = Map(e -> (1,3), n -> (2,9), w -> (1,7), q -> (1,8), b -> (3,6), t -> (14,45), s -> (4,20), d -> (1,3), m -> (1,4), a -> (6,24), i -> (2,4), f -> (1,7), o -> (6,26))\n"
      ]
     },
     "execution_count": 42,
     "metadata": {},
     "output_type": "execute_result"
    }
   ],
   "source": [
    "total.collectAsMap()"
   ]
  },
  {
   "cell_type": "code",
   "execution_count": 35,
   "id": "8d76878d",
   "metadata": {},
   "outputs": [
    {
     "data": {
      "text/plain": [
       "res33: Array[(Char, Double)] = Array((a,4.0), (i,2.0), (q,8.0), (b,2.0), (s,5.0), (d,3.0), (t,3.2142857142857144), (e,3.0), (m,4.0), (n,4.5), (f,7.0), (w,7.0), (o,4.333333333333333))\n"
      ]
     },
     "execution_count": 35,
     "metadata": {},
     "output_type": "execute_result"
    }
   ],
   "source": [
    "averages.collect"
   ]
  },
  {
   "cell_type": "code",
   "execution_count": 31,
   "id": "8b1a31f0",
   "metadata": {},
   "outputs": [
    {
     "data": {
      "text/plain": [
       "res29: Array[(Char, (Int, Int))] = Array((a,(6,24)), (i,(2,4)), (q,(1,8)), (b,(3,6)), (s,(4,20)), (d,(1,3)), (t,(14,45)), (e,(1,3)), (m,(1,4)), (n,(2,9)), (f,(1,7)), (w,(1,7)), (o,(6,26)))\n"
      ]
     },
     "execution_count": 31,
     "metadata": {},
     "output_type": "execute_result"
    }
   ],
   "source": [
    "total.collect"
   ]
  },
  {
   "cell_type": "markdown",
   "id": "c1bf26d5",
   "metadata": {},
   "source": [
    "SAMPLE QUESTION 7\n",
    "\n",
    "A company keeps track of its sales in a comma separated text file. An example of the structure of the file is:\n",
    "\n",
    "\n",
    "order_number,item_group_id,item_id,quantity_sold,price\n",
    "36,12,1014,3,49.98\n",
    "37,12,191,5,99.99\n",
    "38,12,502,5,50.0\n",
    "39,13,276,4,31.99\n",
    "40,14,1004,1,399.98\n",
    "41,14,1014,2,49.98\n",
    "42,14,502,1,50.0\n",
    "43,15,502,1,50.0\n",
    "44,15,1073,1,199.99\n",
    "45,15,828,3,31.99\n",
    "46,15,365,3,59.99\n",
    "47,15,1004,1,399.98\n",
    "48,16,365,2,59.99\n",
    "49,16,365,5,59.99\n",
    "50,17,810,4,19.99\n",
    "51,17,1014,2,49.98\n",
    "52,17,93,3,24.99\n",
    "53,17,1073,1,199.99\n",
    "54,17,365,4,59.99\n",
    "55,18,1073,1,199.99\n",
    "\n",
    "Using a single aggregateByKey expression, calculate the total number of items sold, the total revenue, the maximum revenue from a single order, the lowest revenue from a single order, and the average revenue per item (not per order). For the above data, your function should return:\n",
    "\n",
    "(52,3818.459999999999,499.95,50.0,73.43192307692306)\n",
    "\n",
    "The template for your response is given below. You have to fill in the appropriate values for rdd, combiner, reducer, and initial_value.\n",
    "\n",
    " \n",
    "\n",
    "val data = \"\"\"order_number,item_group_id,item_id,quantity_sold,price\n",
    "36,12,1014,3,49.98\n",
    "37,12,191,5,99.99\n",
    "38,12,502,5,50.0\n",
    "39,13,276,4,31.99\n",
    "40,14,1004,1,399.98\n",
    "41,14,1014,2,49.98\n",
    "42,14,502,1,50.0\n",
    "43,15,502,1,50.0\n",
    "44,15,1073,1,199.99\n",
    "45,15,828,3,31.99\n",
    "46,15,365,3,59.99\n",
    "47,15,1004,1,399.98\n",
    "48,16,365,2,59.99\n",
    "49,16,365,5,59.99\n",
    "50,17,810,4,19.99\n",
    "51,17,1014,2,49.98\n",
    "52,17,93,3,24.99\n",
    "53,17,1073,1,199.99\n",
    "54,17,365,4,59.99\n",
    "55,18,1073,1,199.99\n",
    "\"\"\"\n",
    "\n",
    "\n",
    "\n",
    "val rdd = \n",
    "\n",
    "def combiner = \n",
    "\n",
    "def reducer = \n",
    "\n",
    "val initial_value = \n",
    "\n",
    "val result = rdd.aggregateByKey(initial_value)(combiner,reducer)\n",
    "\n"
   ]
  },
  {
   "cell_type": "code",
   "execution_count": 44,
   "id": "05c50a16",
   "metadata": {},
   "outputs": [
    {
     "data": {
      "text/plain": [
       "data: String =\n",
       "\"order_number,item_group_id,item_id,quantity_sold,price\n",
       "36,12,1014,3,49.98\n",
       "37,12,191,5,99.99\n",
       "38,12,502,5,50.0\n",
       "39,13,276,4,31.99\n",
       "40,14,1004,1,399.98\n",
       "41,14,1014,2,49.98\n",
       "42,14,502,1,50.0\n",
       "43,15,502,1,50.0\n",
       "44,15,1073,1,199.99\n",
       "45,15,828,3,31.99\n",
       "46,15,365,3,59.99\n",
       "47,15,1004,1,399.98\n",
       "48,16,365,2,59.99\n",
       "49,16,365,5,59.99\n",
       "50,17,810,4,19.99\n",
       "51,17,1014,2,49.98\n",
       "52,17,93,3,24.99\n",
       "53,17,1073,1,199.99\n",
       "54,17,365,4,59.99\n",
       "55,18,1073,1,199.99\n",
       "\"\n",
       "rdd: org.apache.spark.rdd.RDD[(Int, (Int, Double))] = MapPartitionsRDD[27] at map at <console>:62\n",
       "combiner: ((Int, Double, Double, Double, Double), (Int, Double)) => (Int, Double, Double, Double, Double)\n",
       "reducer: ((Int, Double, Double, Double, Double), (Int, Double, Double, Double, Double)) => (Int, Double, Double, Double, Double)\n",
       "initial_value: (Int, D...\n"
      ]
     },
     "execution_count": 44,
     "metadata": {},
     "output_type": "execute_result"
    }
   ],
   "source": [
    "//Sample question 7 solution\n",
    "\n",
    "val data = \"\"\"order_number,item_group_id,item_id,quantity_sold,price\n",
    "36,12,1014,3,49.98\n",
    "37,12,191,5,99.99\n",
    "38,12,502,5,50.0\n",
    "39,13,276,4,31.99\n",
    "40,14,1004,1,399.98\n",
    "41,14,1014,2,49.98\n",
    "42,14,502,1,50.0\n",
    "43,15,502,1,50.0\n",
    "44,15,1073,1,199.99\n",
    "45,15,828,3,31.99\n",
    "46,15,365,3,59.99\n",
    "47,15,1004,1,399.98\n",
    "48,16,365,2,59.99\n",
    "49,16,365,5,59.99\n",
    "50,17,810,4,19.99\n",
    "51,17,1014,2,49.98\n",
    "52,17,93,3,24.99\n",
    "53,17,1073,1,199.99\n",
    "54,17,365,4,59.99\n",
    "55,18,1073,1,199.99\n",
    "\"\"\"\n",
    "\n",
    "// total number of items sold, \n",
    "// the total revenue, \n",
    "// the maximum revenue from a single order, \n",
    "// the lowest revenue from a single order, \n",
    "// and the average revenue per item (not per order)\n",
    "\n",
    "val rdd = sc.parallelize(data.split(\"\\n\")\n",
    "                         .drop(1)\n",
    "                         .map(a=>a.split(\",\")))\n",
    "                        .map(a => (1,(a(3).toInt,a(3).toInt*a(4).toDouble)))\n",
    "\n",
    "def combiner = (accu: (Int,Double,Double,Double,Double),nv: (Int,Double)) => {\n",
    "    val count = accu._1 + nv._1\n",
    "    val total = accu._2 + nv._2\n",
    "    val maximum = if (nv._2 > accu._3) nv._2 else accu._3\n",
    "    val minimum = if (accu._4==0) nv._2 else if (nv._2 < accu._4) nv._2 else accu._4\n",
    "    (count,total,maximum,minimum,0.0)\n",
    "}\n",
    "\n",
    "def reducer = (accu: (Int,Double,Double,Double,Double), v: (Int,Double,Double,Double,Double)) => {\n",
    "    val count = accu._1 + v._1\n",
    "    val total = accu._2 + v._2\n",
    "    val maximum = if (v._3 > accu._3) v._3 else accu._3\n",
    "    val minimum = if (v._4 < accu._4) v._4 else accu._4\n",
    "    val average = total/count\n",
    "    (count,total,maximum,minimum,average)\n",
    "}\n",
    "\n",
    "val initial_value = (0,0.0,0.0,0.0,0.0)\n",
    "\n",
    "val result = rdd.aggregateByKey(initial_value)(combiner,reducer)\n"
   ]
  },
  {
   "cell_type": "code",
   "execution_count": 54,
   "id": "d8abd9a3",
   "metadata": {},
   "outputs": [
    {
     "data": {
      "text/plain": [
       "res47: (Int, Double, Double, Double, Double) = (52,3818.4599999999996,499.95,50.0,73.43192307692307)\n"
      ]
     },
     "execution_count": 54,
     "metadata": {},
     "output_type": "execute_result"
    }
   ],
   "source": [
    "result.collect()(0)._2"
   ]
  },
  {
   "cell_type": "code",
   "execution_count": null,
   "id": "65aba12f",
   "metadata": {},
   "outputs": [],
   "source": []
  }
 ],
 "metadata": {
  "kernelspec": {
   "display_name": "spylon-kernel",
   "language": "scala",
   "name": "spylon-kernel"
  },
  "language_info": {
   "codemirror_mode": "text/x-scala",
   "file_extension": ".scala",
   "help_links": [
    {
     "text": "MetaKernel Magics",
     "url": "https://metakernel.readthedocs.io/en/latest/source/README.html"
    }
   ],
   "mimetype": "text/x-scala",
   "name": "scala",
   "pygments_lexer": "scala",
   "version": "0.4.1"
  }
 },
 "nbformat": 4,
 "nbformat_minor": 5
}
