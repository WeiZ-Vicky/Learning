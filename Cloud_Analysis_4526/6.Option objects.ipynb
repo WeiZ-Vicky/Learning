{
 "cells": [
  {
   "cell_type": "markdown",
   "metadata": {},
   "source": [
    "<br><br><br>\n",
    "<span style=\"color:red;font-size:60px\">Option, Some, Any</span>\n",
    "<br><br>\n"
   ]
  },
  {
   "cell_type": "markdown",
   "metadata": {},
   "source": [
    "<li>Scala is a strongly typed language and always expects data of whatever type is specified</li>\n",
    "<li>Sometimes, however, there may be nothing to return from a function. This is a problem for Scala because a None type is not the same as, say, an Int type</li>\n",
    "<li>The <span style=\"color:blue\">Option</span> type in Scala helps deal with situations where <span style=\"color:blue\">either something or nothing</span> is returned</li>"
   ]
  },
  {
   "cell_type": "markdown",
   "metadata": {},
   "source": [
    "<span style=\"color:blue;font-size:large\">Option as a functional programming concept</span>\n",
    "<br><br>\n",
    "<li>Option ensures type safety when something or nothing can be returned</li>\n",
    "<li>Option is \"functional\" because it ensures that an object is returned (rather than an exception being thrown)</li>"
   ]
  },
  {
   "cell_type": "markdown",
   "metadata": {},
   "source": [
    "<img src=\"option.png\">"
   ]
  },
  {
   "cell_type": "markdown",
   "metadata": {},
   "source": [
    "<br><br><br>\n",
    "<span style=\"color:green;font-size:xx-large\">Scala Map objects</span>\n",
    "<br><br>\n",
    "<li>Dictionary like data structure</li>\n",
    "<li>(key, value) mapping</li>\n",
    "<li>the <span style=\"color:red\">get</span> function returns the value given a key</li>\n",
    "<li>Since the key may not be in the map, get  returns the value as an Option type</li>\n",
    "<li>Either Some(value_type) or None</li>\n",
    "<li><a href=\"https://docs.scala-lang.org/overviews/collections/maps.html\">https://docs.scala-lang.org/overviews/collections/maps.html</a></li>\n"
   ]
  },
  {
   "cell_type": "code",
   "execution_count": 2,
   "metadata": {},
   "outputs": [
    {
     "data": {
      "text/plain": [
       "x: scala.collection.immutable.Map[String,Int] = Map(John -> 20, Jill -> 50)\n",
       "y: Option[Int] = Some(20)\n",
       "z: Option[Int] = None\n"
      ]
     },
     "execution_count": 2,
     "metadata": {},
     "output_type": "execute_result"
    }
   ],
   "source": [
    "val x = Map(\"John\" -> 20, \"Jill\" -> 50)\n",
    "val y = x.get(\"John\") \n",
    "val z = x.get(\"Jane\")"
   ]
  },
  {
   "cell_type": "code",
   "execution_count": 3,
   "metadata": {},
   "outputs": [
    {
     "data": {
      "text/plain": [
       "res0: Int = 20\n"
      ]
     },
     "execution_count": 3,
     "metadata": {},
     "output_type": "execute_result"
    }
   ],
   "source": [
    "x(\"John\") "
   ]
  },
  {
   "cell_type": "markdown",
   "metadata": {},
   "source": [
    "<br><br>\n",
    "<span style=\"color:blue;font-size:large\">get returns an Option. We need to decide what to do if the Option is None</span>\n",
    "<li>Because Scala allows matching on data types, we can use pattern matching to figure out whether we've got a Some or a None</li>"
   ]
  },
  {
   "cell_type": "code",
   "execution_count": 4,
   "metadata": {},
   "outputs": [
    {
     "data": {
      "text/plain": [
       "get_age: (m: Map[String,Int], s: String)Int\n",
       "jill: Int = 50\n",
       "jane: Int = -1\n"
      ]
     },
     "execution_count": 4,
     "metadata": {},
     "output_type": "execute_result"
    }
   ],
   "source": [
    "def get_age(m: Map[String,Int], s: String): Int = {\n",
    "    val a = m.get(s) //Some[Int] or None\n",
    "    a match {\n",
    "        case Some(x) => x //Note the case class matching syntax\n",
    "        case None => -1\n",
    "    }\n",
    "}\n",
    "\n",
    "val jill = get_age(x,\"Jill\")\n",
    "val jane = get_age(x,\"Jane\")"
   ]
  },
  {
   "cell_type": "markdown",
   "metadata": {},
   "source": [
    "<br><br><br>\n",
    "<span style=\"color:green;font-size:xx-large\">Dealing with missing data using Option</span>\n",
    "<br><br>\n",
    "<li>When reading data from an external source, often some data may be missing</li>\n",
    "    <li>In the example below, Jacoby's age is missing</li>\n",
    "    <li>If our application needs to convert age into an Int, this will be a problem</li>\n",
    "    <li>A function that reads the data and then processes it has to be able to handle the missing data</li>\n",
    "    <li>Option objects are useful here. If the data is present, return Some[Int], otherwise return None</li>"
   ]
  },
  {
   "cell_type": "markdown",
   "metadata": {},
   "source": [
    "<span style=\"font-size:17px\">\n",
    "    <li><b>foreach</b>: a Scala function that iterates over an iterable but returns nothing</li>\n",
    "    <li>useful when you want to do a map like operation but not return anything</li>\n",
    "</span>"
   ]
  },
  {
   "cell_type": "markdown",
   "metadata": {},
   "source": [
    "<span style=\"font-size:17px\">\n",
    "    <li>tuples can be matched using a case class type syntax</li>\n",
    "    <li>and, in the process, assign names to tuple elements</li>\n",
    "</span>"
   ]
  },
  {
   "cell_type": "code",
   "execution_count": 7,
   "metadata": {},
   "outputs": [
    {
     "name": "stdout",
     "output_type": "stream",
     "text": [
      "John age 56 lives in New York\n",
      "Jabberwocky age 17 lives in New York\n"
     ]
    },
    {
     "data": {
      "text/plain": [
       "y: Array[(String, String, String)] = Array((John,56,New York), (Jill,80,Boston), (Jacoby,\"\",Phoenix), (Jabberwocky,17,New York))\n"
      ]
     },
     "execution_count": 7,
     "metadata": {},
     "output_type": "execute_result"
    }
   ],
   "source": [
    "val y = Array((\"John\",\"56\",\"New York\"),(\"Jill\",\"80\",\"Boston\"),\n",
    "              (\"Jacoby\",\"\",\"Phoenix\"),(\"Jabberwocky\",\"17\",\"New York\"))\n",
    "y.foreach(t => t match {\n",
    "    case (name,age,\"New York\") => println(s\"$name age $age lives in New York\")\n",
    "    case _ =>\n",
    "})"
   ]
  },
  {
   "cell_type": "markdown",
   "metadata": {},
   "source": [
    "<br><br>\n",
    "<span style=\"color:blue;font-size:large\">Dealing with the missing value</span>\n",
    "<li>Jacoby is missing the \"age\" attribute and we need to be able to handle this</li>\n",
    "<li>We can use the fact that only valid number strings can be converted to an Int</li>\n",
    "<li>Along with Scala's <span style=\"color:green\">exception handling</span> facility</li>\n"
   ]
  },
  {
   "cell_type": "markdown",
   "metadata": {},
   "source": [
    "<span style=\"font-size:17px\">\n",
    "<li>Try converting age to Int</li>\n",
    "<li>Return Option[(String,String,String)]. If age is missing, None will be returned</li>\n",
    "    </span>"
   ]
  },
  {
   "cell_type": "code",
   "execution_count": 10,
   "metadata": {},
   "outputs": [
    {
     "ename": "java.lang.NumberFormatException",
     "evalue": " For input string: \"23a\"",
     "output_type": "error",
     "traceback": [
      "java.lang.NumberFormatException: For input string: \"23a\"",
      "  at java.base/java.lang.NumberFormatException.forInputString(NumberFormatException.java:65)",
      "  at java.base/java.lang.Integer.parseInt(Integer.java:652)",
      "  at java.base/java.lang.Integer.parseInt(Integer.java:770)",
      "  at scala.collection.immutable.StringLike.toInt(StringLike.scala:304)",
      "  at scala.collection.immutable.StringLike.toInt$(StringLike.scala:304)",
      "  at scala.collection.immutable.StringOps.toInt(StringOps.scala:33)",
      "  ... 38 elided",
      ""
     ]
    }
   ],
   "source": [
    "\"23a\".toInt"
   ]
  },
  {
   "cell_type": "code",
   "execution_count": 5,
   "metadata": {},
   "outputs": [
    {
     "data": {
      "text/plain": [
       "res1: Int = 23\n"
      ]
     },
     "execution_count": 5,
     "metadata": {},
     "output_type": "execute_result"
    }
   ],
   "source": [
    "\"23\".toInt"
   ]
  },
  {
   "cell_type": "code",
   "execution_count": 10,
   "metadata": {},
   "outputs": [
    {
     "data": {
      "text/plain": [
       "x: String = 23a\n",
       "r: Option[Int] = None\n"
      ]
     },
     "execution_count": 10,
     "metadata": {},
     "output_type": "execute_result"
    }
   ],
   "source": [
    "val x = \"23a\"\n",
    "val r = try {\n",
    "         Some(x.toInt) //Will either convert d._2 to Int or throw an exception\n",
    "    } catch {\n",
    "        case e: Exception => None\n",
    "    }\n"
   ]
  },
  {
   "cell_type": "code",
   "execution_count": 11,
   "metadata": {},
   "outputs": [
    {
     "data": {
      "text/plain": [
       "y: Array[(String, String, String)] = Array((John,56,New York), (Jill,80,Boston), (Jacoby,\"\",Phoenix), (Jabberwocky,17,New York))\n"
      ]
     },
     "execution_count": 11,
     "metadata": {},
     "output_type": "execute_result"
    }
   ],
   "source": [
    "val y = Array((\"John\",\"56\",\"New York\"),(\"Jill\",\"80\",\"Boston\"),\n",
    "              (\"Jacoby\",\"\",\"Phoenix\"),(\"Jabberwocky\",\"17\",\"New York\"))"
   ]
  },
  {
   "cell_type": "code",
   "execution_count": 12,
   "metadata": {},
   "outputs": [
    {
     "data": {
      "text/plain": [
       "missing: (d: (String, String, String))Option[(String, String, String)]\n"
      ]
     },
     "execution_count": 12,
     "metadata": {},
     "output_type": "execute_result"
    }
   ],
   "source": [
    "def missing(d: (String,String,String)): Option[(String,String,String)] = {\n",
    "    val r = try {\n",
    "         Some(d._2.toInt) //Will either convert d._2 to Int or throw an exception\n",
    "    } catch {\n",
    "        case e: Exception => None\n",
    "    } //r is now either Some[Int] or None\n",
    "    println(r)\n",
    "    r match {  //r?\n",
    "        case Some(s) => Some(d) //if r is Some[Int] return Some[(String,String,String)]\n",
    "        case None => None       //if not, return None\n",
    "    }\n",
    "    \n",
    "}\n",
    "\n"
   ]
  },
  {
   "cell_type": "code",
   "execution_count": 13,
   "metadata": {},
   "outputs": [
    {
     "name": "stdout",
     "output_type": "stream",
     "text": [
      "None\n",
      "Some(56)\n"
     ]
    },
    {
     "data": {
      "text/plain": [
       "d: (String, String, String) = (Jacoby,\"\",Phoenix)\n",
       "d1: (String, String, String) = (John,56,New York)\n",
       "v1: Option[(String, String, String)] = None\n",
       "v2: Option[(String, String, String)] = Some((John,56,New York))\n"
      ]
     },
     "execution_count": 13,
     "metadata": {},
     "output_type": "execute_result"
    }
   ],
   "source": [
    "val d = (\"Jacoby\",\"\",\"Phoenix\")\n",
    "val d1 = (\"John\",\"56\",\"New York\")\n",
    "val v1 = missing(d)\n",
    "val v2 = missing(d1)"
   ]
  },
  {
   "cell_type": "code",
   "execution_count": 14,
   "metadata": {},
   "outputs": [
    {
     "data": {
      "text/plain": [
       "y: Array[(String, String, String)] = Array((John,56,New York), (Jill,80,Boston), (Jacoby,\"\",Phoenix), (Jabberwocky,17,New York))\n",
       "res3: Array[Option[(String, String, String)]] = Array(Some((John,56,New York)), Some((Jill,80,Boston)), None, Some((Jabberwocky,17,New York)))\n"
      ]
     },
     "execution_count": 14,
     "metadata": {},
     "output_type": "execute_result"
    }
   ],
   "source": [
    "//Applying missing to the Array\n",
    "val y = Array((\"John\",\"56\",\"New York\"),(\"Jill\",\"80\",\"Boston\"),\n",
    "              (\"Jacoby\",\"\",\"Phoenix\"),(\"Jabberwocky\",\"17\",\"New York\"))\n",
    "y.map(x => missing(x))"
   ]
  },
  {
   "cell_type": "markdown",
   "metadata": {},
   "source": [
    "<br><br>\n",
    "<span style=\"color:blue;font-size:large\">Converting Some and None to a usable data type</h2>\n",
    "<span style=\"font-size:16px\">\n",
    "    <li><span style=\"color:blue\">flatMap</span>: applies the map function and then \"flattens\" the collection (removes one layer - Some and None go away) </li> \n",
    "<li>Collect applies a function to each element and returns those elements that satisfy the function</li>\n",
    "</span>"
   ]
  },
  {
   "cell_type": "code",
   "execution_count": 15,
   "metadata": {},
   "outputs": [
    {
     "data": {
      "text/plain": [
       "z: Array[Option[(String, String, String)]] = Array(Some((John,56,New York)), Some((Jill,80,Boston)), None, Some((Jabberwocky,17,New York)))\n"
      ]
     },
     "execution_count": 15,
     "metadata": {},
     "output_type": "execute_result"
    }
   ],
   "source": [
    "val z = y.map(x => missing(x))"
   ]
  },
  {
   "cell_type": "code",
   "execution_count": 16,
   "metadata": {},
   "outputs": [
    {
     "data": {
      "text/plain": [
       "res4: Array[(String, String, String)] = Array((John,56,New York), (Jill,80,Boston), (Jabberwocky,17,New York))\n"
      ]
     },
     "execution_count": 16,
     "metadata": {},
     "output_type": "execute_result"
    }
   ],
   "source": [
    "z.flatten"
   ]
  },
  {
   "cell_type": "code",
   "execution_count": 17,
   "metadata": {},
   "outputs": [
    {
     "data": {
      "text/plain": [
       "res5: Array[(String, String, String)] = Array((John,56,New York), (Jill,80,Boston), (Jabberwocky,17,New York))\n"
      ]
     },
     "execution_count": 17,
     "metadata": {},
     "output_type": "execute_result"
    }
   ],
   "source": [
    "y.map(x => missing(x)).flatten"
   ]
  },
  {
   "cell_type": "code",
   "execution_count": 18,
   "metadata": {},
   "outputs": [
    {
     "data": {
      "text/plain": [
       "res6: Array[(String, String, String)] = Array((John,56,New York), (Jill,80,Boston), (Jabberwocky,17,New York))\n"
      ]
     },
     "execution_count": 18,
     "metadata": {},
     "output_type": "execute_result"
    }
   ],
   "source": [
    "y.flatMap(x => missing(x))"
   ]
  },
  {
   "cell_type": "code",
   "execution_count": 21,
   "metadata": {},
   "outputs": [
    {
     "data": {
      "text/plain": [
       "p: Array[Array[Int]] = Array(Array(1, 2, 3), Array(32, 1, 2))\n",
       "res11: Array[Int] = Array(1, 2, 3, 32, 1, 2)\n"
      ]
     },
     "execution_count": 21,
     "metadata": {},
     "output_type": "execute_result"
    }
   ],
   "source": [
    "val p = Array(Array(1,2,3),Array(32,1,2))\n",
    "p.flatten"
   ]
  },
  {
   "cell_type": "code",
   "execution_count": 21,
   "metadata": {},
   "outputs": [
    {
     "data": {
      "text/plain": [
       "res9: Array[(String, String, String)] = Array((John,56,New York), (Jill,80,Boston), (Jabberwocky,17,New York))\n"
      ]
     },
     "execution_count": 21,
     "metadata": {},
     "output_type": "execute_result"
    }
   ],
   "source": [
    "y.map(missing).collect{case Some(i) => i}"
   ]
  },
  {
   "cell_type": "markdown",
   "metadata": {},
   "source": [
    "<br><br>\n",
    "<span style=\"color:green;font-size:xx-large\">flatMap and flatten</span>\n",
    "<br><br>\n",
    "<li><span style=\"color:blue\">flatten</span> Opens up a scala sequence by removing one sequence layer</li>\n",
    "<li><span style=\"color:blue\">flatMap</span> Applies a function to a sequence and then flattens the result</li>\n",
    "</span>"
   ]
  },
  {
   "cell_type": "markdown",
   "metadata": {},
   "source": [
    "<br><br>\n",
    "<span style=\"color:blue;font-size:large\">Example</span>\n",
    "<br>\n",
    "<li>Imagine we have an array of Int</li>\n",
    "<li>And we want to generate an array that contains the Int and its additive inverse</li>\n"
   ]
  },
  {
   "cell_type": "code",
   "execution_count": 23,
   "metadata": {},
   "outputs": [
    {
     "data": {
      "text/plain": [
       "ints: Array[Int] = Array(1, 3, -4, 9, 2, -15, 30, -45)\n",
       "adjacent_ints: Array[Array[Int]] = Array(Array(1, -1), Array(3, -3), Array(-4, 4), Array(9, -9), Array(2, -2), Array(-15, 15), Array(30, -30), Array(-45, 45))\n",
       "flattened: Array[Int] = Array(1, -1, 3, -3, -4, 4, 9, -9, 2, -2, -15, 15, 30, -30, -45, 45)\n",
       "flatMapped: Array[Int] = Array(1, -1, 3, -3, -4, 4, 9, -9, 2, -2, -15, 15, 30, -30, -45, 45)\n"
      ]
     },
     "execution_count": 23,
     "metadata": {},
     "output_type": "execute_result"
    }
   ],
   "source": [
    "val ints = Array(1,3,-4,9,2,-15,30,-45)\n",
    "val adjacent_ints = ints.map(x => Array(x,-1*x))\n",
    "val flattened = adjacent_ints.flatten\n",
    "\n",
    "//Or use the flatMap version\n",
    "val flatMapped = ints.flatMap(x => Array(x,-1*x))"
   ]
  },
  {
   "cell_type": "code",
   "execution_count": 24,
   "metadata": {},
   "outputs": [
    {
     "data": {
      "text/plain": [
       "res13: Array[(String, String, String)] = Array((John,56,New York), (Jill,80,Boston), (Jabberwocky,17,New York))\n"
      ]
     },
     "execution_count": 24,
     "metadata": {},
     "output_type": "execute_result"
    }
   ],
   "source": [
    "y.flatMap(missing)"
   ]
  },
  {
   "cell_type": "code",
   "execution_count": null,
   "metadata": {},
   "outputs": [],
   "source": []
  }
 ],
 "metadata": {
  "kernelspec": {
   "display_name": "spylon-kernel",
   "language": "scala",
   "name": "spylon-kernel"
  },
  "language_info": {
   "codemirror_mode": "text/x-scala",
   "file_extension": ".scala",
   "help_links": [
    {
     "text": "MetaKernel Magics",
     "url": "https://metakernel.readthedocs.io/en/latest/source/README.html"
    }
   ],
   "mimetype": "text/x-scala",
   "name": "scala",
   "pygments_lexer": "scala",
   "version": "0.4.1"
  },
  "toc": {
   "base_numbering": 1,
   "nav_menu": {},
   "number_sections": true,
   "sideBar": true,
   "skip_h1_title": false,
   "title_cell": "Table of Contents",
   "title_sidebar": "Contents",
   "toc_cell": false,
   "toc_position": {},
   "toc_section_display": true,
   "toc_window_display": false
  }
 },
 "nbformat": 4,
 "nbformat_minor": 2
}
