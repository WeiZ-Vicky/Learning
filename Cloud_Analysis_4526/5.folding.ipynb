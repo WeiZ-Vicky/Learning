{
 "cells": [
  {
   "cell_type": "markdown",
   "metadata": {},
   "source": [
    "<br><br><br>\n",
    "<div style=\"font-size:80px\">\n",
    "<span style=\"color:blue;font-family:'Brush Script MT'\">F</span><span style=\"color:pink;font-family:'Brush Script MT'\">U</span><span style=\"color:green;font-family:'Brush Script MT'\">N</span><span style=\"color:blue;font-family:'Brush Script MT'\">ctional programming</span></h1>\n",
    "</div>\n",
    "<br><br><br>\n"
   ]
  },
  {
   "cell_type": "code",
   "execution_count": null,
   "metadata": {},
   "outputs": [],
   "source": []
  },
  {
   "cell_type": "markdown",
   "metadata": {},
   "source": [
    "<br><br><br>\n",
    "<span style=\"color:red;font-size:60px\">Folding</span>"
   ]
  },
  {
   "cell_type": "markdown",
   "metadata": {},
   "source": [
    "<span style=\"font-size:20px;\">\n",
    "<li>like reduce, folding functions apply a binary function to a sequence of elements</li>\n",
    "<li>unlike reduce, the initial value is given to the function and is not set to the first element in the sequence</li>\n",
    "<li>as a result:</li>\n",
    "<ul>\n",
    "    <li>folding can work on empty sequences</li>\n",
    "    <li>some fold operations can take data of one data type and return a result of a different data type (since the accumulator does not have to be of the same type as the sequence data)</li>\n",
    "    \n",
    "</ul>\n",
    "\n",
    "<li>scala provides 3 folding functions:\n",
    "    <ul>\n",
    "\n",
    "<li>foldLeft\n",
    "<li>foldRight\n",
    "<li>fold\n",
    "    </ul>\n",
    "</span>"
   ]
  },
  {
   "cell_type": "code",
   "execution_count": 9,
   "metadata": {},
   "outputs": [
    {
     "ename": "java.lang.UnsupportedOperationException",
     "evalue": " empty.reduceLeft",
     "output_type": "error",
     "traceback": [
      "java.lang.UnsupportedOperationException: empty.reduceLeft",
      "  at scala.collection.mutable.ArrayOps$ofInt.scala$collection$IndexedSeqOptimized$$super$reduceLeft(ArrayOps.scala:246)",
      "  at scala.collection.IndexedSeqOptimized.reduceLeft(IndexedSeqOptimized.scala:77)",
      "  at scala.collection.IndexedSeqOptimized.reduceLeft$(IndexedSeqOptimized.scala:76)",
      "  at scala.collection.mutable.ArrayOps$ofInt.reduceLeft(ArrayOps.scala:246)",
      "  at scala.collection.TraversableOnce.reduce(TraversableOnce.scala:254)",
      "  at scala.collection.TraversableOnce.reduce$(TraversableOnce.scala:254)",
      "  at scala.collection.mutable.ArrayOps$ofInt.reduce(ArrayOps.scala:246)",
      "  ... 38 elided",
      ""
     ]
    }
   ],
   "source": [
    "//Reduce doesn't work on an empty collection\n",
    "val s = Array[Int]()\n",
    "s.reduce((a,b)=>a+b)"
   ]
  },
  {
   "cell_type": "code",
   "execution_count": 11,
   "metadata": {},
   "outputs": [
    {
     "data": {
      "text/plain": [
       "s: Array[Int] = Array()\n",
       "res10: Int = 0\n"
      ]
     },
     "execution_count": 11,
     "metadata": {},
     "output_type": "execute_result"
    }
   ],
   "source": [
    "val s = Array[Int]()\n",
    "s.foldLeft(0)(_+_)"
   ]
  },
  {
   "cell_type": "markdown",
   "metadata": {},
   "source": [
    "<br><br><br>\n",
    "<span style=\"color:red;font-size:60px\">foldLeft</span>\n",
    "\n",
    "   <img src=\"foldLeft.png\">"
   ]
  },
  {
   "cell_type": "markdown",
   "metadata": {},
   "source": [
    "\n",
    "<br><br><br>\n",
    "<span style=\"color:green;font-size:xx-large\">In a foldLeft operation</span><p></p>\n",
    "\n",
    "<span style=\"font-size:20px;\">\n",
    "<ul><li>the initial value is passed as the first argument and the first element of the sequence is passed as the second argument to the function that performs the fold operation</li>\n",
    "    <li>then, the result of that operation is passed as the first argument and the second  element as the second argument</li>\n",
    "    <li>and so on</li>\n",
    "    <li>applying $ f $ on $ x $ of length $ 2 $ with initial value $ a $ using fold left is equivalent to: $ f(f(a,x(0)),x(1)) $</li>\n",
    "</ul>\n",
    "    </span>\n",
    "   "
   ]
  },
  {
   "cell_type": "markdown",
   "metadata": {},
   "source": [
    "<br><br><br>\n",
    "<span style=\"color:green;font-size:xx-large\">Fold vs reduce</span><br><br>\n",
    "<span style=\"font-size:20px;\">\n",
    "    Comparing fold and reduce to get the sum of the lengths of a string in a sequence\n",
    "    <li>reduce requires a two step process, a map to get the lengths, and a reduce to add them up</li>\n",
    "    <li>foldLeft can do the same thing in a single step</li>\n",
    "    </span>\n",
    "    "
   ]
  },
  {
   "cell_type": "code",
   "execution_count": 8,
   "metadata": {},
   "outputs": [
    {
     "data": {
      "text/plain": [
       "words: List[String] = List(this, is, a, list, of, strings)\n",
       "res7: Int = 20\n"
      ]
     },
     "execution_count": 8,
     "metadata": {},
     "output_type": "execute_result"
    }
   ],
   "source": [
    "//Reduce\n",
    "val words = List(\"this\", \"is\", \"a\", \"list\", \"of\", \"strings\")\n",
    "words.map(s => s.length).reduce(_+_)"
   ]
  },
  {
   "cell_type": "code",
   "execution_count": 2,
   "metadata": {},
   "outputs": [
    {
     "data": {
      "text/plain": [
       "words: List[String] = List(this, is, a, list, of, strings)\n",
       "res1: Int = 20\n"
      ]
     },
     "execution_count": 2,
     "metadata": {},
     "output_type": "execute_result"
    }
   ],
   "source": [
    "val words = List(\"this\", \"is\", \"a\", \"list\", \"of\", \"strings\")\n",
    "words.foldLeft(0)(_+_.length)\n",
    "words.foldLeft(0)((a,b)=>a+b.length)"
   ]
  },
  {
   "cell_type": "code",
   "execution_count": 4,
   "metadata": {},
   "outputs": [
    {
     "name": "stdout",
     "output_type": "stream",
     "text": [
      "this\t0\n",
      "is\t4\n",
      "a\t6\n",
      "list\t7\n",
      "of\t11\n",
      "strings\t13\n"
     ]
    },
    {
     "data": {
      "text/plain": [
       "words: List[String] = List(this, is, a, list, of, strings)\n",
       "res3: Int = 20\n"
      ]
     },
     "execution_count": 4,
     "metadata": {},
     "output_type": "execute_result"
    }
   ],
   "source": [
    "//Let's see how this works\n",
    "val words = List(\"this\", \"is\", \"a\", \"list\", \"of\", \"strings\")\n",
    "words.foldLeft(0)((sum, word) => {printf(\"%s\\t%d\\n\",word,sum);sum + word.length})"
   ]
  },
  {
   "cell_type": "markdown",
   "metadata": {},
   "source": [
    "<br><br><br>\n",
    "<span style=\"color:green;font-size:xx-large\">What will the values of r1 and r2 be?</span>"
   ]
  },
  {
   "cell_type": "code",
   "execution_count": 13,
   "metadata": {},
   "outputs": [
    {
     "data": {
      "text/plain": [
       "p: Array[Int] = Array(100, 2, 7, 4)\n",
       "r1: Int = 5\n",
       "r2: Int = 3\n"
      ]
     },
     "execution_count": 13,
     "metadata": {},
     "output_type": "execute_result"
    }
   ],
   "source": [
    "val p = Array(100,2,7,4)\n",
    "val r1 = p.foldLeft(0)((x,y)=>y+1) // ?? What will be the value of r1 ??  //5\n",
    "val r2 = Array(11,2,4).foldLeft(0)((y,x)=>y+1) //0,11-1;1,2-2;2,4-3"
   ]
  },
  {
   "cell_type": "code",
   "execution_count": 2,
   "metadata": {},
   "outputs": [
    {
     "data": {
      "text/plain": [
       "r2: Int = 3\n"
      ]
     },
     "execution_count": 2,
     "metadata": {},
     "output_type": "execute_result"
    }
   ],
   "source": [
    "val r2 = Array(11,12,13).foldLeft(0)((y,x)=>y+1)"
   ]
  },
  {
   "cell_type": "markdown",
   "metadata": {},
   "source": [
    "<br><br><br>\n",
    "<span style=\"color:green;font-size:xx-large\">Try this!</span><br><br>\n",
    "<span style=\"font-size:20px\">\n",
    "    Calculate the sum of squares difference (e.g., between predicted and actual values returned by an ML model)\n",
    "    </span>"
   ]
  },
  {
   "cell_type": "code",
   "execution_count": 13,
   "metadata": {},
   "outputs": [
    {
     "data": {
      "text/plain": [
       "data: Array[(Double, Double)] = Array((0.23,0.25), (0.17,0.1), (0.42,0.42), (0.67,0.54))\n",
       "ssq: Double = 0.0222\n"
      ]
     },
     "execution_count": 13,
     "metadata": {},
     "output_type": "execute_result"
    }
   ],
   "source": [
    "val data = Array((.23,.25),(.17,.10),(.42,.42),(.67,.54))\n",
    "val ssq = data.foldLeft(0.0)((x,y)=> x+(y._1-y._2)*(y._1-y._2))"
   ]
  },
  {
   "cell_type": "markdown",
   "metadata": {},
   "source": [
    "<br><br><br>\n",
    "<span style=\"color:red;font-size:50px\">foldRight</span>\n",
    "\n",
    "   <img src=\"foldRight.png\">"
   ]
  },
  {
   "cell_type": "markdown",
   "metadata": {},
   "source": [
    "\n",
    "<br><br><br>\n",
    "<span style=\"color:green;font-size:xx-large\">In a foldRight operation</span><p></p>\n",
    "\n",
    "<span style=\"font-size:20px;\">\n",
    "    <ul><li>the initial value is passed as the <b>second</b> argument and the last element of the sequence is passed as the <b>first</b> argument to the fold operation</li>\n",
    "    <li>then, the result of that operation is passed as the <b>second</b> argument and the second last element as the <b>first</b> argument</li>\n",
    "    <li>and so on</li>\n",
    "    <li>applying f on x of length 2 with initial value a using fold right is equivalent to: $ f(x(0),f(x(1),a)) $</li>\n",
    "</ul>\n",
    "    </span>\n",
    "   "
   ]
  },
  {
   "cell_type": "code",
   "execution_count": 14,
   "metadata": {},
   "outputs": [
    {
     "data": {
      "text/plain": [
       "x: List[Double] = List(2.0, 3.0, 3.0, 4.0, 5.0, 6.0)\n",
       "res9: Double = 0.4166666666666667\n"
      ]
     },
     "execution_count": 14,
     "metadata": {},
     "output_type": "execute_result"
    }
   ],
   "source": [
    "val x=List(2.0,3.0,3.0,4.0,5.0,6.0)\n",
    "x.foldRight(1.0)((a,b) => a/b)"
   ]
  },
  {
   "cell_type": "code",
   "execution_count": 21,
   "metadata": {},
   "outputs": [
    {
     "name": "stdout",
     "output_type": "stream",
     "text": [
      "6.00\t1.00\t6.00\n",
      "5.00\t6.00\t0.83\n",
      "4.00\t0.83\t4.80\n",
      "3.00\t4.80\t0.63\n",
      "3.00\t0.63\t4.80\n",
      "2.00\t4.80\t0.42\n"
     ]
    },
    {
     "data": {
      "text/plain": [
       "x: List[Double] = List(2.0, 3.0, 3.0, 4.0, 5.0, 6.0)\n",
       "res17: Double = 0.4166666666666667\n"
      ]
     },
     "execution_count": 21,
     "metadata": {},
     "output_type": "execute_result"
    }
   ],
   "source": [
    "val x=List(2.0,3.0,3.0,4.0,5.0,6.0)\n",
    "x.foldRight(1.0)((a,b) => {printf(\"%1.2f\\t%1.2f\\t%1.2f\\n\",a,b,a/b);a/b})\n",
    "// 2.0/(3.0/(3.0/(4.0/(5.0/6.0/1.0))))"
   ]
  },
  {
   "cell_type": "code",
   "execution_count": 16,
   "metadata": {},
   "outputs": [
    {
     "name": "stdout",
     "output_type": "stream",
     "text": [
      "1.00\t2.00\t0.50\n",
      "0.50\t3.00\t0.17\n",
      "0.17\t3.00\t0.06\n",
      "0.06\t4.00\t0.01\n",
      "0.01\t5.00\t0.00\n",
      "0.00\t6.00\t0.00\n"
     ]
    },
    {
     "data": {
      "text/plain": [
       "x: List[Double] = List(2.0, 3.0, 3.0, 4.0, 5.0, 6.0)\n",
       "res11: Double = 4.629629629629629E-4\n"
      ]
     },
     "execution_count": 16,
     "metadata": {},
     "output_type": "execute_result"
    }
   ],
   "source": [
    "val x=List(2.0,3.0,3.0,4.0,5.0,6.0)\n",
    "x.foldLeft(1.0)((a,b) => {printf(\"%1.2f\\t%1.2f\\t%1.2f\\n\",a,b,a/b);a/b})\n",
    "//1.0/2.0/3.0/3.0/4.0/5.0/6.0"
   ]
  },
  {
   "cell_type": "markdown",
   "metadata": {},
   "source": [
    "<br><br><br>\n",
    "<span style=\"color:green;font-size:xx-large\">What will be values of v1, v2, v3 be?</span>"
   ]
  },
  {
   "cell_type": "code",
   "execution_count": 23,
   "metadata": {
    "scrolled": true
   },
   "outputs": [
    {
     "data": {
      "text/plain": [
       "x: List[String] = List(Hello, bye, you)\n",
       "v1: Int = 11\n",
       "v2: String = Hellobyeyoustart\n",
       "v3: String = Hellobyeyou\n",
       "v4: String = startHellobyeyou\n"
      ]
     },
     "execution_count": 23,
     "metadata": {},
     "output_type": "execute_result"
    }
   ],
   "source": [
    "val x = List(\"Hello\",\"bye\",\"you\")\n",
    "val v1 = x.foldRight(0)((a,b) => a.length+b)\n",
    "val v2 = x.foldRight(\"start\")((a,b) => a+b)\n",
    "val v3 = x.foldRight(\"\")((a,b) => a+b)\n",
    "val v4 = x.foldLeft(\"start\")((a,b) => a+b)"
   ]
  },
  {
   "cell_type": "markdown",
   "metadata": {},
   "source": [
    "<br><br>\n",
    "<span style=\"font-size:large;color:blue\">\n",
    "Because of the order of operations, foldLeft and foldRight give different results</li>\n",
    "when the defined operation is not commutative</li>\n",
    "</span>"
   ]
  },
  {
   "cell_type": "code",
   "execution_count": 18,
   "metadata": {},
   "outputs": [
    {
     "data": {
      "text/plain": [
       "x: List[Double] = List(1.0, 2.0, 3.0)\n",
       "r1: Double = 0.16666666666666666\n",
       "r2: Double = 1.5\n"
      ]
     },
     "execution_count": 18,
     "metadata": {},
     "output_type": "execute_result"
    }
   ],
   "source": [
    "val x=List(1.0,2.0,3.0)\n",
    "val r1 = x.foldLeft(1.0)(_ / _) \n",
    "val r2 = x.foldRight(1.0)(_ / _) "
   ]
  },
  {
   "cell_type": "code",
   "execution_count": 18,
   "metadata": {},
   "outputs": [
    {
     "data": {
      "text/plain": [
       "res15: Double = 0.16666666666666666\n"
      ]
     },
     "execution_count": 18,
     "metadata": {},
     "output_type": "execute_result"
    }
   ],
   "source": [
    "1.0/1.0/2.0/3.0"
   ]
  },
  {
   "cell_type": "code",
   "execution_count": 17,
   "metadata": {},
   "outputs": [
    {
     "data": {
      "text/plain": [
       "res14: Double = 1.5\n"
      ]
     },
     "execution_count": 17,
     "metadata": {},
     "output_type": "execute_result"
    }
   ],
   "source": [
    "1.0/(2.0/(3.0/1.0))"
   ]
  },
  {
   "cell_type": "markdown",
   "metadata": {},
   "source": [
    "<br><br><br>\n",
    "<span style=\"color:green;font-size:xx-large\">Using folding to reverse a list</span>\n",
    "<li>Note the difference in the List operator!</li>"
   ]
  },
  {
   "cell_type": "code",
   "execution_count": 22,
   "metadata": {},
   "outputs": [
    {
     "data": {
      "text/plain": [
       "x: List[String] = List(Gallifrey, Skarro, Mondas)\n",
       "r3: List[String] = List(Mondas, Skarro, Gallifrey)\n",
       "r4: List[String] = List(Mondas, Skarro, Gallifrey)\n"
      ]
     },
     "execution_count": 22,
     "metadata": {},
     "output_type": "execute_result"
    }
   ],
   "source": [
    "val x = List(\"Gallifrey\",\"Skarro\",\"Mondas\")\n",
    "val r3 = x.foldLeft(List[String]())((b,a) => (a::b))\n",
    "val r4 = x.foldRight(List[String]())((b,a) => (a:::List(b)))"
   ]
  },
  {
   "cell_type": "code",
   "execution_count": 19,
   "metadata": {},
   "outputs": [
    {
     "data": {
      "text/plain": [
       "res16: List[String] = List()\n"
      ]
     },
     "execution_count": 19,
     "metadata": {},
     "output_type": "execute_result"
    }
   ],
   "source": [
    "List[String]()"
   ]
  },
  {
   "cell_type": "code",
   "execution_count": 21,
   "metadata": {},
   "outputs": [
    {
     "data": {
      "text/plain": [
       "res17: scala.collection.immutable.Nil.type = List()\n"
      ]
     },
     "execution_count": 21,
     "metadata": {},
     "output_type": "execute_result"
    }
   ],
   "source": [
    "Nil"
   ]
  },
  {
   "cell_type": "markdown",
   "metadata": {},
   "source": [
    "<br><br><br>\n",
    "<span style=\"color:red;font-size:50px\">fold</span>\n",
    "\n",
    "   <img src=\"fold.png\">"
   ]
  },
  {
   "cell_type": "markdown",
   "metadata": {},
   "source": [
    "\n",
    "<br><br><br>\n",
    "<span style=\"color:green;font-size:xx-large\">In a fold operation</span><p></p>\n",
    "\n",
    "<span style=\"font-size:20px;\">\n",
    "    <ul><li>the initial value is passed as the <b>first</b> argument and the first element of the sequence is passed as the <b>second</b> argument to the fold operation</li>\n",
    "    <li>then, the result of that operation is passed as the <b>first</b> argument and the second  element as the <b>second</b> argument</li>\n",
    "    <li>and so on</li>\n",
    "</ul>\n",
    "    <li>In fold, the initial value must be of the same type as the elements of the sequence</li>\n",
    "    </span>\n",
    "   "
   ]
  },
  {
   "cell_type": "code",
   "execution_count": 25,
   "metadata": {},
   "outputs": [
    {
     "name": "stdout",
     "output_type": "stream",
     "text": [
      "(1.0,5.0)\n",
      "(5.0,2.0)\n",
      "(10.0,8.0)\n",
      "(80.0,9.0)\n"
     ]
    },
    {
     "data": {
      "text/plain": [
       "y: Array[Double] = Array(5.0, 2.0, 8.0, 9.0)\n",
       "res19: Double = 720.0\n"
      ]
     },
     "execution_count": 25,
     "metadata": {},
     "output_type": "execute_result"
    }
   ],
   "source": [
    "val y = Array(5.0,2.0,8.0,9.0)\n",
    "y.fold(1.0)((a,b) => {println(a,b);a * b})\n"
   ]
  },
  {
   "cell_type": "markdown",
   "metadata": {},
   "source": [
    "<br><br><br>\n",
    "<span style=\"color:green;font-size:xx-large\">Scala fold and parallel operations</span><p></p>\n",
    "\n",
    "<span style=\"font-size:20px;\">\n",
    "    <ul><li>The fold operation is designed to be executed in parallel</li>\n",
    "        <li>But the onus of ensuring that the parallel operation will work is on the programmer</li>\n",
    "        <li>Let's look at how to parallelize fold and what the implications are</li>\n",
    "        <li>To convert a sequence into a parallel sequence, add a .par at the end</li>\n",
    "        <li>Note: foldRight and foldLeft cannot work in parallel</li>\n",
    "    </ul>\n",
    "    </span>\n",
    "   "
   ]
  },
  {
   "cell_type": "markdown",
   "metadata": {},
   "source": [
    "<br><br><br>\n",
    "<span style=\"color:blue;font-size:large\">fold without parallelism</span>"
   ]
  },
  {
   "cell_type": "code",
   "execution_count": 23,
   "metadata": {},
   "outputs": [
    {
     "name": "stdout",
     "output_type": "stream",
     "text": [
      "0.00 1.00\n",
      "1.00 2.00\n",
      "3.00 3.00\n",
      "6.00 4.00\n"
     ]
    },
    {
     "data": {
      "text/plain": [
       "y: Array[Double] = Array(1.0, 2.0, 3.0, 4.0)\n",
       "res15: Double = 10.0\n"
      ]
     },
     "execution_count": 23,
     "metadata": {},
     "output_type": "execute_result"
    }
   ],
   "source": [
    "val y = Array(1.0,2.0,3.0,4.0)\n",
    "y.fold(0.0)((a,b) => {printf(\"%1.2f %1.2f\\n\",a,b);a+b})"
   ]
  },
  {
   "cell_type": "markdown",
   "metadata": {},
   "source": [
    "<br><br><br>\n",
    "<span style=\"color:blue;font-size:large\">fold with parallelism</span>"
   ]
  },
  {
   "cell_type": "code",
   "execution_count": 24,
   "metadata": {},
   "outputs": [
    {
     "name": "stdout",
     "output_type": "stream",
     "text": [
      "0.00 4.00 4.00\n",
      "0.00 2.00 2.00\n",
      "0.00 1.00 1.00\n",
      "0.00 3.00 3.00\n",
      "1.00 2.00 3.00\n",
      "3.00 4.00 7.00\n",
      "3.00 7.00 10.00\n"
     ]
    },
    {
     "data": {
      "text/plain": [
       "y: scala.collection.parallel.mutable.ParArray[Double] = ParArray(1.0, 2.0, 3.0, 4.0)\n",
       "res16: Double = 10.0\n"
      ]
     },
     "execution_count": 24,
     "metadata": {},
     "output_type": "execute_result"
    }
   ],
   "source": [
    "val y = Array(1.0,2.0,3.0,4.0).par\n",
    "y.fold(0.0)((a,b) => {printf(\"%1.2f %1.2f %1.2f\\n\",a,b,a+b);a+b})"
   ]
  },
  {
   "cell_type": "markdown",
   "metadata": {},
   "source": [
    "<img src=\"fold_process.png\">"
   ]
  },
  {
   "cell_type": "markdown",
   "metadata": {},
   "source": [
    "<span style=\"font-size:20px;\">\n",
    "    <ul><li>Note that parallel fold works in the form of an inverse tree of operations</li>\n",
    "        <li>and you need to be careful how you use it</li>\n",
    "        <li>for example, if you need to get 1 + sum of elements, then you could do it in one of the following three ways</li>\n",
    "    </ul>\n",
    "    </span>"
   ]
  },
  {
   "cell_type": "code",
   "execution_count": 25,
   "metadata": {},
   "outputs": [
    {
     "name": "stdout",
     "output_type": "stream",
     "text": [
      "1.00 1.00\n",
      "2.00 2.00\n",
      "4.00 3.00\n",
      "7.00 4.00\n"
     ]
    },
    {
     "data": {
      "text/plain": [
       "y: Array[Double] = Array(1.0, 2.0, 3.0, 4.0)\n",
       "res17: Double = 11.0\n"
      ]
     },
     "execution_count": 25,
     "metadata": {},
     "output_type": "execute_result"
    }
   ],
   "source": [
    "//Sequential fold\n",
    "val y = Array(1.0,2.0,3.0,4.0)\n",
    "y.fold(1.0)((a,b) => {printf(\"%1.2f %1.2f\\n\",a,b);a+b})"
   ]
  },
  {
   "cell_type": "code",
   "execution_count": 26,
   "metadata": {},
   "outputs": [
    {
     "name": "stdout",
     "output_type": "stream",
     "text": [
      "1.00 1.00\n",
      "1.00 2.00\n",
      "1.00 3.00\n",
      "1.00 4.00\n",
      "2.00 3.00\n",
      "4.00 5.00\n",
      "5.00 9.00\n"
     ]
    },
    {
     "data": {
      "text/plain": [
       "y: scala.collection.parallel.mutable.ParArray[Double] = ParArray(1.0, 2.0, 3.0, 4.0)\n",
       "res18: Double = 14.0\n"
      ]
     },
     "execution_count": 26,
     "metadata": {},
     "output_type": "execute_result"
    }
   ],
   "source": [
    "//parallel fold: this won't work!\n",
    "val y = Array(1.0,2.0,3.0,4.0).par\n",
    "y.fold(1.0)((a,b) => {printf(\"%1.2f %1.2f\\n\",a,b);a+b})"
   ]
  },
  {
   "cell_type": "code",
   "execution_count": 27,
   "metadata": {},
   "outputs": [
    {
     "name": "stdout",
     "output_type": "stream",
     "text": [
      "0.00 3.00\n",
      "0.00 2.00\n",
      "0.00 1.00\n",
      "0.00 4.00\n",
      "1.00 2.00\n",
      "3.00 4.00\n",
      "3.00 7.00\n"
     ]
    },
    {
     "data": {
      "text/plain": [
       "y: scala.collection.parallel.mutable.ParArray[Double] = ParArray(1.0, 2.0, 3.0, 4.0)\n",
       "res19: Double = 11.0\n"
      ]
     },
     "execution_count": 27,
     "metadata": {},
     "output_type": "execute_result"
    }
   ],
   "source": [
    "//In two steps\n",
    "val y = Array(1.0,2.0,3.0,4.0).par\n",
    "1.0 + y.fold(0.0)((a,b) => {printf(\"%1.2f %1.2f\\n\",a,b);a+b})"
   ]
  },
  {
   "cell_type": "markdown",
   "metadata": {},
   "source": [
    "<br><br><br>\n",
    "<span style=\"color:green;font-size:xx-large\">Try this!</span>\n",
    "<br><br>\n",
    "<span style=\"font-size:20px;\">\n",
    "Given a Scala Seq (Seq is a superclass of Array) of Double, calculate the average using foldLeft (you won't be able to use fold for this)\n",
    "    <li>To get the average at the ith element of the sequence, you need the average at the (i-1)-th element and the value of i</li>\n",
    "    <li>So, think about how you can use the accumulator to manage both these values</li>\n",
    "    </span>"
   ]
  },
  {
   "cell_type": "raw",
   "metadata": {},
   "source": [
    "Average at element 1  in (1,2,3) = 1/1\n",
    "Average at element 2  = average of (1 + 2)/2 or 1.5\n",
    "Average at element 3 = 1.5 + (3-1.5)/3 or 2\n",
    "\n"
   ]
  },
  {
   "cell_type": "code",
   "execution_count": 26,
   "metadata": {},
   "outputs": [
    {
     "data": {
      "text/plain": [
       "seq2: Seq[Int] = List(1, 2, 3, 4, 5)\n",
       "average: (Double, Int) = (3.0,6)\n"
      ]
     },
     "execution_count": 26,
     "metadata": {},
     "output_type": "execute_result"
    }
   ],
   "source": [
    "//val seq = Seq.fill(30000)(scala.util.Random.nextInt(1000)/1000.toDouble)\n",
    "val seq2 = Seq(1,2,3,4,5)\n",
    "// val empty = Array[Int]()\n",
    "val average = seq2.foldLeft((0.0,1))((x,y)=>(x._1+(y-x._1)/x._2,x._2+1))\n",
    "// ._1\n",
    "// 0+(1-0.0)/1,2\n"
   ]
  },
  {
   "cell_type": "code",
   "execution_count": 7,
   "metadata": {},
   "outputs": [
    {
     "data": {
      "text/plain": [
       "y: Array[Double] = Array(1.0, 2.0, 3.0, 4.0)\n",
       "res5: Double = 8.0\n"
      ]
     },
     "execution_count": 7,
     "metadata": {},
     "output_type": "execute_result"
    }
   ],
   "source": [
    "val y = Array(1.0,2.0,3.0,4.0)\n",
    "y.foldLeft(0.0)((a,b)=>if (b!=2.0) a+b else a+0)"
   ]
  },
  {
   "cell_type": "code",
   "execution_count": 2,
   "metadata": {},
   "outputs": [
    {
     "data": {
      "text/plain": [
       "y: Array[Double] = Array(1.0, 2.0, 3.0, 4.0)\n",
       "res0: Double = 10.0\n"
      ]
     },
     "execution_count": 2,
     "metadata": {},
     "output_type": "execute_result"
    }
   ],
   "source": [
    "val y = Array(1.0,2.0,3.0,4.0)\n",
    "y.fold(0.0)((a,b)=> a+b)"
   ]
  },
  {
   "cell_type": "code",
   "execution_count": null,
   "metadata": {},
   "outputs": [],
   "source": []
  }
 ],
 "metadata": {
  "kernelspec": {
   "display_name": "spylon-kernel",
   "language": "scala",
   "name": "spylon-kernel"
  },
  "language_info": {
   "codemirror_mode": "text/x-scala",
   "file_extension": ".scala",
   "help_links": [
    {
     "text": "MetaKernel Magics",
     "url": "https://metakernel.readthedocs.io/en/latest/source/README.html"
    }
   ],
   "mimetype": "text/x-scala",
   "name": "scala",
   "pygments_lexer": "scala",
   "version": "0.4.1"
  },
  "toc": {
   "base_numbering": 1,
   "nav_menu": {},
   "number_sections": true,
   "sideBar": true,
   "skip_h1_title": false,
   "title_cell": "Table of Contents",
   "title_sidebar": "Contents",
   "toc_cell": false,
   "toc_position": {},
   "toc_section_display": true,
   "toc_window_display": false
  }
 },
 "nbformat": 4,
 "nbformat_minor": 2
}
