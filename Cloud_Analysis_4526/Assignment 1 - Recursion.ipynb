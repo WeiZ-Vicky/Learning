{
 "cells": [
  {
   "cell_type": "markdown",
   "id": "fe78c946",
   "metadata": {},
   "source": [
    "<h1>Problem 1</h1>\n",
    "Write a recursive Python function <span style=\"color:blue\">permutations(w)</span> that takes a string as an argument and returns a list containing all the permutations of that string. For e.g.,\n",
    "\n",
    "permutations(\"abc\") should return ['abc', 'acb', 'bac', 'bca', 'cab', 'cba']\n",
    "\n",
    "The easiest way to do this is as follows:\n",
    "\n",
    "<ol>\n",
    "    <li>initialize an empty list that will contain all the permutations (e.g., all_perms)</li>\n",
    "    <li> loop through the string selecting each letter as the first letter in the permutation in turn (e.g., 'a') - you can use iteration for this</li>\n",
    "    <li> call the permutation function on the string formed by the remaining letters (e.g., 'bc')</li>\n",
    "    <li> since the permutation function returns a list of permutations of the words, add the selected letter in step 1 to the front of each element of the returned string (e.g., add 'a' to each element of ['bc','cb']). List comprehension will be useful here</li>\n",
    "    <li> add this new list to the list to be returned (e.g., add ['abc', 'acb'] to all_perms)</li>\n",
    "    <li> after the loop finishes, return the list (once you've repeated the above for 'b' and 'c' as well)</li>\n",
    "</ol>\n",
    "<p>\n",
    "    <span style=\"color:blue\">permutations(\"\")</span> should return []\n",
    "    </p>\n",
    "    <p>\n",
    "    <span style=\"color:blue\">permutations(\"a\")</span> should return [\"a\"]\n",
    "    </p>\n",
    "    <p>\n",
    "    <span style=\"color:blue\">permutations(\"abcd\")</span> should return:\n",
    "<pre>\n",
    "    ['abcd',\n",
    "     'abdc',\n",
    "     'acbd',\n",
    "     'acdb',\n",
    "     'adbc',\n",
    "     'adcb',\n",
    "     'bacd',\n",
    "     'badc',\n",
    "     'bcad',\n",
    "     'bcda',\n",
    "     'bdac',\n",
    "     'bdca',\n",
    "     'cabd',\n",
    "     'cadb',\n",
    "     'cbad',\n",
    "     'cbda',\n",
    "     'cdab',\n",
    "     'cdba',\n",
    "     'dabc',\n",
    "     'dacb',\n",
    "     'dbac',\n",
    "     'dbca',\n",
    "     'dcab',\n",
    "     'dcba']\n",
    "</pre>"
   ]
  },
  {
   "cell_type": "code",
   "execution_count": 5,
   "id": "3d4a06a9",
   "metadata": {},
   "outputs": [],
   "source": [
    "#Your Solution\n",
    "def permutations(w):\n",
    "    all_perms = []\n",
    "    if len(w) <= 1: \n",
    "        return [w]\n",
    "    else:\n",
    "#         all_perms = []\n",
    "        for i in range(len(w)):\n",
    "            temp = permutations(w[0:i]+w[i+1:])\n",
    "            perms = [w[i] + j for j in temp]\n",
    "            all_perms = all_perms + perms\n",
    "            print(all_perms)\n",
    "    return all_perms"
   ]
  },
  {
   "cell_type": "code",
   "execution_count": 21,
   "id": "c6a87178",
   "metadata": {},
   "outputs": [],
   "source": [
    "def permutations(w):\n",
    "    all_perms = []\n",
    "    if len(w) == 1:\n",
    "        return [w]\n",
    "    for i in range(len(w)):\n",
    "        print(w)\n",
    "        new_word = w[:i] + w[i+1:]\n",
    "        new_perms = permutations(new_word)\n",
    "        new_perms = [w[i] + p for p in new_perms]\n",
    "        all_perms.extend(new_perms)\n",
    "        print(all_perms)\n",
    "    return all_perms"
   ]
  },
  {
   "cell_type": "code",
   "execution_count": 22,
   "id": "99bd4ca2",
   "metadata": {},
   "outputs": [
    {
     "name": "stdout",
     "output_type": "stream",
     "text": [
      "abc\n",
      "bc\n",
      "['bc']\n",
      "bc\n",
      "['bc', 'cb']\n",
      "['abc', 'acb']\n",
      "abc\n",
      "ac\n",
      "['ac']\n",
      "ac\n",
      "['ac', 'ca']\n",
      "['abc', 'acb', 'bac', 'bca']\n",
      "abc\n",
      "ab\n",
      "['ab']\n",
      "ab\n",
      "['ab', 'ba']\n",
      "['abc', 'acb', 'bac', 'bca', 'cab', 'cba']\n"
     ]
    },
    {
     "data": {
      "text/plain": [
       "['abc', 'acb', 'bac', 'bca', 'cab', 'cba']"
      ]
     },
     "execution_count": 22,
     "metadata": {},
     "output_type": "execute_result"
    }
   ],
   "source": [
    "w = 'abc'\n",
    "permutations(w) #Should return ['abc', 'acb', 'bac', 'bca', 'cab', 'cba']"
   ]
  },
  {
   "cell_type": "code",
   "execution_count": 6,
   "id": "d0759b4b",
   "metadata": {},
   "outputs": [
    {
     "data": {
      "text/plain": [
       "['abcd',\n",
       " 'abdc',\n",
       " 'acbd',\n",
       " 'acdb',\n",
       " 'adbc',\n",
       " 'adcb',\n",
       " 'bacd',\n",
       " 'badc',\n",
       " 'bcad',\n",
       " 'bcda',\n",
       " 'bdac',\n",
       " 'bdca',\n",
       " 'cabd',\n",
       " 'cadb',\n",
       " 'cbad',\n",
       " 'cbda',\n",
       " 'cdab',\n",
       " 'cdba',\n",
       " 'dabc',\n",
       " 'dacb',\n",
       " 'dbac',\n",
       " 'dbca',\n",
       " 'dcab',\n",
       " 'dcba']"
      ]
     },
     "execution_count": 6,
     "metadata": {},
     "output_type": "execute_result"
    }
   ],
   "source": [
    "permutations('abcd') #See above for return value"
   ]
  },
  {
   "cell_type": "code",
   "execution_count": 27,
   "id": "50e946a6",
   "metadata": {},
   "outputs": [
    {
     "data": {
      "text/plain": [
       "['']"
      ]
     },
     "execution_count": 27,
     "metadata": {},
     "output_type": "execute_result"
    }
   ],
   "source": [
    "permutations(\"\") #Should return []"
   ]
  },
  {
   "cell_type": "code",
   "execution_count": 30,
   "id": "eee6f143",
   "metadata": {},
   "outputs": [
    {
     "data": {
      "text/plain": [
       "'bc'"
      ]
     },
     "execution_count": 30,
     "metadata": {},
     "output_type": "execute_result"
    }
   ],
   "source": [
    "a = 'abc'\n",
    "a[0:0] + a[1:]"
   ]
  },
  {
   "cell_type": "markdown",
   "id": "d3065b0c",
   "metadata": {},
   "source": [
    "<h1>Problem 2</h1>\n",
    "Write a tail recursive function length that returns the total length of all the strings contained in a list of strings. \n",
    "\n",
    "For example:\n",
    "\n",
    "x=[\"John\",\"Jill\",\"Billy\"]\n",
    "\n",
    "length(x) \n",
    "\n",
    "should return 13. \n",
    "\n",
    "if \n",
    "\n",
    "x=[]\n",
    "\n",
    "length(x) should return 0.\n",
    "\n",
    "Your code can assume that the list is well-formed. I.e., it contains only strings or is empty"
   ]
  },
  {
   "cell_type": "code",
   "execution_count": 47,
   "id": "541d4e05",
   "metadata": {},
   "outputs": [],
   "source": [
    "# non-tail recursion\n",
    "# def length(x):\n",
    "#     if x == []:\n",
    "#         return 0\n",
    "#     if len(x)==1:\n",
    "#         return len(x[0])\n",
    "#     else:\n",
    "#         return len(x[0]) + length(x[1:])"
   ]
  },
  {
   "cell_type": "code",
   "execution_count": 7,
   "id": "33203bff",
   "metadata": {},
   "outputs": [],
   "source": [
    "#Your solution\n",
    "def length(x,r_sum=0):\n",
    "    if x == []:\n",
    "        return r_sum # in Scala r_sum will be declared by val\n",
    "    else:\n",
    "        return length(x[1:],r_sum + len(x[0]))"
   ]
  },
  {
   "cell_type": "code",
   "execution_count": 8,
   "id": "755d9ff5",
   "metadata": {},
   "outputs": [
    {
     "data": {
      "text/plain": [
       "13"
      ]
     },
     "execution_count": 8,
     "metadata": {},
     "output_type": "execute_result"
    }
   ],
   "source": [
    "x=[\"John\",\"Jill\",\"Billy\"]\n",
    "length(x) #Should return 13"
   ]
  },
  {
   "cell_type": "code",
   "execution_count": 9,
   "id": "2100ab0e",
   "metadata": {},
   "outputs": [
    {
     "data": {
      "text/plain": [
       "0"
      ]
     },
     "execution_count": 9,
     "metadata": {},
     "output_type": "execute_result"
    }
   ],
   "source": [
    "x=list()\n",
    "length(x) #Should return 0"
   ]
  },
  {
   "cell_type": "markdown",
   "id": "b9a26170",
   "metadata": {},
   "source": [
    "<h1>Problem 3</h1>\n",
    "The registrar at Columbia University wants you to write a tail-recursive function that can quickly check if a room with the necessary number of seats is available for a class. The function takess two arguments:\n",
    "<li>a list of rooms where each room is formatted in a tuple (room#,seats,available). If the room hasn't been allocated to a class, the value of available is 1, otherwise it is 0</li>\n",
    "<li>the maximum number of students who will be allowed to register for the new class</li>\n",
    "\n",
    "Your function should return the first room in the list of rooms that has sufficient seats for the new class and return (0,0,0) if no room assignment is possible\n",
    "\n",
    "For e.g.,\n",
    "\n",
    "<pre>\n",
    "rooms = [(301,70,0),(302,31,1),(317,56,1),(322,70,1),(352,35,0)]\n",
    "\n",
    "find_room(rooms, 69) should return (322, 70, 1)\n",
    "find_room(rooms,70) should return (0,0,0)\n",
    "find_room(rooms, 30) should return (302, 31, 1)\n",
    "</pre>"
   ]
  },
  {
   "cell_type": "code",
   "execution_count": 10,
   "id": "a3be9380",
   "metadata": {},
   "outputs": [],
   "source": [
    "#Your solution\n",
    "def find_room(rooms,num_students):\n",
    "    if rooms == []:\n",
    "        return (0,0,0)\n",
    "    elif rooms[0][2] == 1 and rooms[0][1] >= num_students:\n",
    "        return rooms[0]\n",
    "    else: \n",
    "        return find_room(rooms[1:],num_students)"
   ]
  },
  {
   "cell_type": "code",
   "execution_count": 11,
   "id": "5d603121",
   "metadata": {},
   "outputs": [
    {
     "data": {
      "text/plain": [
       "(302, 31, 1)"
      ]
     },
     "execution_count": 11,
     "metadata": {},
     "output_type": "execute_result"
    }
   ],
   "source": [
    "rooms = [(301,70,0),(302,31,1),(317,56,1),(322,70,1),(352,35,0)]\n",
    "find_room(rooms,30) #Should return (302, 31, 1)"
   ]
  },
  {
   "cell_type": "code",
   "execution_count": 12,
   "id": "f17ab2b3",
   "metadata": {},
   "outputs": [
    {
     "data": {
      "text/plain": [
       "(322, 70, 1)"
      ]
     },
     "execution_count": 12,
     "metadata": {},
     "output_type": "execute_result"
    }
   ],
   "source": [
    "rooms = [(301,70,0),(302,31,1),(317,56,1),(322,70,1),(352,35,0)]\n",
    "find_room(rooms,69) #Should return (322, 70, 1)"
   ]
  },
  {
   "cell_type": "code",
   "execution_count": 13,
   "id": "3c0fa5da",
   "metadata": {},
   "outputs": [
    {
     "data": {
      "text/plain": [
       "(322, 70, 1)"
      ]
     },
     "execution_count": 13,
     "metadata": {},
     "output_type": "execute_result"
    }
   ],
   "source": [
    "rooms = [(301,70,0),(302,31,1),(317,56,1),(322,70,1),(352,35,0)]\n",
    "find_room(rooms,70) #Should return (9, 0, 0)"
   ]
  },
  {
   "cell_type": "code",
   "execution_count": 14,
   "id": "53700a91",
   "metadata": {},
   "outputs": [
    {
     "data": {
      "text/plain": [
       "(0, 0, 0)"
      ]
     },
     "execution_count": 14,
     "metadata": {},
     "output_type": "execute_result"
    }
   ],
   "source": [
    "find_room([],20) #Should return 0"
   ]
  },
  {
   "cell_type": "code",
   "execution_count": null,
   "id": "f2a9e957",
   "metadata": {},
   "outputs": [],
   "source": []
  }
 ],
 "metadata": {
  "kernelspec": {
   "display_name": "Python 3 (ipykernel)",
   "language": "python",
   "name": "python3"
  },
  "language_info": {
   "codemirror_mode": {
    "name": "ipython",
    "version": 3
   },
   "file_extension": ".py",
   "mimetype": "text/x-python",
   "name": "python",
   "nbconvert_exporter": "python",
   "pygments_lexer": "ipython3",
   "version": "3.9.12"
  },
  "toc": {
   "base_numbering": 1,
   "nav_menu": {},
   "number_sections": true,
   "sideBar": true,
   "skip_h1_title": false,
   "title_cell": "Table of Contents",
   "title_sidebar": "Contents",
   "toc_cell": false,
   "toc_position": {},
   "toc_section_display": true,
   "toc_window_display": false
  }
 },
 "nbformat": 4,
 "nbformat_minor": 5
}
