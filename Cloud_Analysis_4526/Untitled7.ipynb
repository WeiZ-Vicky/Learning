{
 "cells": [
  {
   "cell_type": "code",
   "execution_count": 5,
   "id": "acbe496d",
   "metadata": {},
   "outputs": [],
   "source": [
    "%%init_spark\n",
    "launcher.packages= [\"graphframes:graphframes:0.8.2-spark3.2-s_2.12\"]"
   ]
  },
  {
   "cell_type": "code",
   "execution_count": 15,
   "id": "631f5852",
   "metadata": {},
   "outputs": [
    {
     "name": "stdout",
     "output_type": "stream",
     "text": [
      "+-----------+----------------------------------------------------------------------------------------------------------------------------------------------------------------------------------------------+\n",
      "|document_id|tfidfVec                                                                                                                                                                                      |\n",
      "+-----------+----------------------------------------------------------------------------------------------------------------------------------------------------------------------------------------------+\n",
      "|doc 1      |(12,[1,2,4,5,6,7,8,9,10,11],[0.0,0.0,0.4054651081081644,0.4054651081081644,0.4054651081081644,0.4054651081081644,0.4054651081081644,0.4054651081081644,0.4054651081081644,0.4054651081081644])|\n",
      "|doc 2      |(12,[0,1,2,3],[1.6218604324326575,0.0,0.0,0.4054651081081644])                                                                                                                                |\n",
      "+-----------+----------------------------------------------------------------------------------------------------------------------------------------------------------------------------------------------+\n",
      "\n"
     ]
    },
    {
     "data": {
      "text/plain": [
       "import org.apache.spark.sql.DataFrame\n",
       "doc1: (String, String) =\n",
       "(doc 1,\"\n",
       "Columbia University is a large university in New York.\n",
       "It has many schools including Columbia College, Engineering School, Law School, and Business School.\n",
       "It was established in 1754\n",
       "\")\n",
       "doc2: (String, String) =\n",
       "(doc 2,\"\n",
       "Operations Research is a department in the Engineering School of Columbia University.\n",
       "Operations Research was established in 1919.\n",
       "Operations Research has a BS major and offers many MS degrees.\n",
       "Graduates of Operations Research get good jobs and have a very happy life.\n",
       "\")\n",
       "both_uc: (w1: String, w2: String)Boolean\n",
       "split_data: (a: String)Array[String]\n",
       "clean_data: (a: String)String\n",
       "replace_entities: (a: Array[String])Array[String]\n",
       "clean_data_udf: org.apache.spark.sql.expressions.UserDefinedFunction = Spar...\n"
      ]
     },
     "execution_count": 15,
     "metadata": {},
     "output_type": "execute_result"
    }
   ],
   "source": [
    "import org.apache.spark.sql.DataFrame\n",
    "val doc1 = (\"doc 1\",\"\"\"\n",
    "Columbia University is a large university in New York.\n",
    "It has many schools including Columbia College, Engineering School, Law School, and Business School.\n",
    "It was established in 1754\n",
    "\"\"\")\n",
    "val doc2 = (\"doc 2\",\"\"\"\n",
    "Operations Research is a department in the Engineering School of Columbia University.\n",
    "Operations Research was established in 1919.\n",
    "Operations Research has a BS major and offers many MS degrees.\n",
    "Graduates of Operations Research get good jobs and have a very happy life.\n",
    "\"\"\")\n",
    "\n",
    "def both_uc(w1: String,w2: String): Boolean = if (w1(0).isUpper & w2(0).isUpper) true else false\n",
    "both_uc(\"columbia\",\"University\")\n",
    "\n",
    "def split_data(a: String): Array[String] = a.split(\"\\\\s+\")\n",
    "def clean_data(a: String): String =\n",
    "    a.replace(\"\\n\",\" \").replace(\".\",\" \").replace(\",\",\" \").replace(\"  \",\" \").trim()\n",
    "\n",
    "\n",
    "def replace_entities(a: Array[String]):Array[String] = {\n",
    "    val indices = 0 to a.length-1\n",
    "    indices.slice(0,indices.length-1)\n",
    "    .flatMap(i => \n",
    "         if (both_uc(a(i),a(i+1))) Some(a(i)+a(i+1))\n",
    "         else None)\n",
    "    .toArray\n",
    "}\n",
    "\n",
    "val clean_data_udf = udf(clean_data _)\n",
    "val split_data_udf = udf(split_data _)\n",
    "val replace_entities_udf = udf(replace_entities _)\n",
    "\n",
    "def make_df(s: Seq[(String,String)]): DataFrame = {\n",
    "    sc.parallelize(s)\n",
    "        .toDF(\"document_id\",\"document_text\")\n",
    "        .withColumn(\"cleaned_string\",clean_data_udf($\"document_text\"))\n",
    "        .withColumn(\"document_terms\",split_data_udf($\"cleaned_string\"))\n",
    "        .withColumn(\"entity_terms\",replace_entities_udf($\"document_terms\"))\n",
    "}\n",
    "\n",
    "\n",
    "val df = make_df(Array(doc1,doc2))\n",
    "\n",
    "import org.apache.spark.ml.feature.CountVectorizer\n",
    "val countVectorizer = new CountVectorizer()\n",
    "    .setInputCol(\"entity_terms\")\n",
    "    .setOutputCol(\"term_freqs\")\n",
    "    .setVocabSize(20)\n",
    "\n",
    "val vocabModel = countVectorizer.fit(df)\n",
    "val freqs = vocabModel.transform(df)\n",
    "\n",
    "import org.apache.spark.ml.feature.IDF\n",
    "\n",
    "val idf = new IDF()\n",
    "    .setInputCol(\"term_freqs\")\n",
    "    .setOutputCol(\"tfidfVec\")\n",
    "val idfModel = idf.fit(freqs)\n",
    "val idfMatrix = idfModel\n",
    "                .transform(freqs)\n",
    "                .select(\"document_id\", \"tfidfVec\")\n",
    "\n",
    "idfMatrix.show(false)"
   ]
  },
  {
   "cell_type": "code",
   "execution_count": 3,
   "id": "83439dd2",
   "metadata": {},
   "outputs": [
    {
     "data": {
      "text/plain": [
       "res0: org.apache.spark.sql.DataFrame = [document_id: string, document_text: string ... 3 more fields]\n"
      ]
     },
     "execution_count": 3,
     "metadata": {},
     "output_type": "execute_result"
    }
   ],
   "source": [
    "make_df(Array(doc1,doc2))"
   ]
  },
  {
   "cell_type": "code",
   "execution_count": 7,
   "id": "c31b5697",
   "metadata": {},
   "outputs": [
    {
     "name": "stdout",
     "output_type": "stream",
     "text": [
      "+-----------+--------------------+--------------------+--------------------+--------------------+\n",
      "|document_id|       document_text|      cleaned_string|      document_terms|        entity_terms|\n",
      "+-----------+--------------------+--------------------+--------------------+--------------------+\n",
      "|      doc 1|\\nColumbia Univer...|Columbia Universi...|[Columbia, Univer...|[ColumbiaUniversi...|\n",
      "|      doc 2|\\nOperations Rese...|Operations Resear...|[Operations, Rese...|[OperationsResear...|\n",
      "+-----------+--------------------+--------------------+--------------------+--------------------+\n",
      "\n"
     ]
    }
   ],
   "source": [
    "df.show"
   ]
  },
  {
   "cell_type": "code",
   "execution_count": 9,
   "id": "cc488931",
   "metadata": {},
   "outputs": [
    {
     "name": "stdout",
     "output_type": "stream",
     "text": [
      "+-----------+--------------------+--------------------+--------------------+--------------------+--------------------+\n",
      "|document_id|       document_text|      cleaned_string|      document_terms|        entity_terms|          term_freqs|\n",
      "+-----------+--------------------+--------------------+--------------------+--------------------+--------------------+\n",
      "|      doc 1|\\nColumbia Univer...|Columbia Universi...|[Columbia, Univer...|[ColumbiaUniversi...|(12,[1,2,3,4,5,6,...|\n",
      "|      doc 2|\\nOperations Rese...|Operations Resear...|[Operations, Rese...|[OperationsResear...|(12,[0,1,2,9],[4....|\n",
      "+-----------+--------------------+--------------------+--------------------+--------------------+--------------------+\n",
      "\n"
     ]
    }
   ],
   "source": [
    "freqs.show"
   ]
  },
  {
   "cell_type": "code",
   "execution_count": 14,
   "id": "c2d9352e",
   "metadata": {},
   "outputs": [
    {
     "name": "stdout",
     "output_type": "stream",
     "text": [
      "+----------------------------------------------------------------------+\n",
      "|term_freqs                                                            |\n",
      "+----------------------------------------------------------------------+\n",
      "|(12,[1,2,3,4,5,6,7,8,10,11],[1.0,1.0,1.0,1.0,1.0,1.0,1.0,1.0,1.0,1.0])|\n",
      "|(12,[0,1,2,9],[4.0,1.0,1.0,1.0])                                      |\n",
      "+----------------------------------------------------------------------+\n",
      "\n"
     ]
    }
   ],
   "source": [
    "freqs.select($\"term_freqs\").show(false)"
   ]
  },
  {
   "cell_type": "code",
   "execution_count": null,
   "id": "5b8674f4",
   "metadata": {},
   "outputs": [],
   "source": []
  }
 ],
 "metadata": {
  "kernelspec": {
   "display_name": "spylon-kernel",
   "language": "scala",
   "name": "spylon-kernel"
  },
  "language_info": {
   "codemirror_mode": "text/x-scala",
   "file_extension": ".scala",
   "help_links": [
    {
     "text": "MetaKernel Magics",
     "url": "https://metakernel.readthedocs.io/en/latest/source/README.html"
    }
   ],
   "mimetype": "text/x-scala",
   "name": "scala",
   "pygments_lexer": "scala",
   "version": "0.4.1"
  }
 },
 "nbformat": 4,
 "nbformat_minor": 5
}
