{
 "cells": [
  {
   "cell_type": "markdown",
   "id": "e6d65afc",
   "metadata": {},
   "source": [
    "A project is organized in a tree structure organized in the form of case classes (see the code below). Each stage of the project is in a node and has a cost associated with it. Write a recursive function cost_calc that returns the total cost of the project. Your function need not be tail recursive.\n",
    "\n",
    "For the provided example tree, your function should return 3427.26\n",
    "\n",
    "You can assume that a tree cannot be empty, i.e., the smallest tree contains one node (a leaf)\n"
   ]
  },
  {
   "cell_type": "code",
   "execution_count": 1,
   "id": "64f48bf4",
   "metadata": {},
   "outputs": [
    {
     "data": {
      "text/plain": [
       "Intitializing Scala interpreter ..."
      ]
     },
     "metadata": {},
     "output_type": "display_data"
    },
    {
     "data": {
      "text/plain": [
       "Spark Web UI available at http://dyn-209-2-225-244.dyn.columbia.edu:4040\n",
       "SparkContext available as 'sc' (version = 3.3.0, master = local[*], app id = local-1666184599086)\n",
       "SparkSession available as 'spark'\n"
      ]
     },
     "metadata": {},
     "output_type": "display_data"
    },
    {
     "data": {
      "text/plain": [
       "defined class Tree\n",
       "defined class Node\n",
       "defined class Leaf\n",
       "t: Node = Node(root,100.0,Leaf(task1,74.1),Node(task2,534.2,Node(task21,845.24,Leaf(task211,132.4),Leaf(task212,1543.12)),Leaf(task22,198.2)))\n"
      ]
     },
     "execution_count": 1,
     "metadata": {},
     "output_type": "execute_result"
    }
   ],
   "source": [
    "//P1\n",
    "abstract class Tree\n",
    "case class Node(id: String,task_cost: Double,left: Tree,right: Tree) extends Tree {\n",
    "} \n",
    "case class Leaf(id: String,task_cost: Double) extends Tree\n",
    "\n",
    "val t = Node(\"root\",100.0,\n",
    "             Leaf(\"task1\",74.1),\n",
    "             Node(\"task2\",534.2,\n",
    "                  Node(\"task21\",845.24,\n",
    "                       Leaf(\"task211\",132.4),\n",
    "                       Leaf(\"task212\",1543.12)),\n",
    "                  Leaf(\"task22\",198.2)))"
   ]
  },
  {
   "cell_type": "code",
   "execution_count": 2,
   "id": "9afa1e4b",
   "metadata": {},
   "outputs": [
    {
     "data": {
      "text/plain": [
       "res0: Double = 3427.2599999999998\n"
      ]
     },
     "execution_count": 2,
     "metadata": {},
     "output_type": "execute_result"
    }
   ],
   "source": [
    "100.0+74.1+534.2+845.24+132.4+1543.12+198.2"
   ]
  },
  {
   "cell_type": "code",
   "execution_count": 265,
   "id": "64d424de",
   "metadata": {},
   "outputs": [
    {
     "data": {
      "text/plain": [
       "defined class Tree\n",
       "defined class Node\n",
       "defined class Leaf\n",
       "cost_calc: (id: String, task_cost: Double, left: Tree, right: Tree)Double\n"
      ]
     },
     "execution_count": 265,
     "metadata": {},
     "output_type": "execute_result"
    }
   ],
   "source": [
    "//stop:when left&right are both Leaf\n",
    "abstract class Tree\n",
    "case class Node(id: String,task_cost: Double,left: Tree,right: Tree) extends Tree {\n",
    "}\n",
    "case class Leaf(id: String,task_cost: Double) extends Tree\n",
    "def cost_calc(id: String,task_cost: Double,left: Tree,right: Tree):Double = {\n",
    "    def loop(task_cost: Double,left: Tree,right: Tree,sum: Double):Double = {\n",
    "        (left, right)  match {\n",
    "            case (i:Node, j:Node) => {loop(i.task_cost,i.left,i.right,sum)+i.task_cost\n",
    "                                      loop(j.task_cost,j.left,j.right,sum)+j.task_cost}\n",
    "            case (i:Node, j:Leaf) => {loop(i.task_cost,i.left,i.right,sum)+j.task_cost+i.task_cost}\n",
    "            case (i:Leaf, j:Node) => {i.task_cost+loop(j.task_cost,j.left,j.right,sum)+j.task_cost}\n",
    "            case (i:Leaf, j:Leaf) => i.task_cost+j.task_cost\n",
    "        }\n",
    "    }\n",
    "    loop(task_cost,left,right,0.0)+task_cost\n",
    "}"
   ]
  },
  {
   "cell_type": "code",
   "execution_count": 266,
   "id": "02d32f5c",
   "metadata": {},
   "outputs": [
    {
     "data": {
      "text/plain": [
       "t: Node = Node(root,100.0,Leaf(task1,74.1),Node(task2,534.2,Node(task21,845.24,Leaf(task211,132.4),Leaf(task212,1543.12)),Leaf(task22,198.2)))\n",
       "res144: Double = 3427.26\n"
      ]
     },
     "execution_count": 266,
     "metadata": {},
     "output_type": "execute_result"
    }
   ],
   "source": [
    "val t = Node(\"root\",100.0,\n",
    "             Leaf(\"task1\",74.1),\n",
    "             Node(\"task2\",534.2,\n",
    "                  Node(\"task21\",845.24,\n",
    "                       Leaf(\"task211\",132.4),\n",
    "                       Leaf(\"task212\",1543.12)),\n",
    "                  Leaf(\"task22\",198.2)))\n",
    "cost_calc(t.id,t.task_cost,t.left,t.right)"
   ]
  },
  {
   "cell_type": "code",
   "execution_count": null,
   "id": "5d021967",
   "metadata": {},
   "outputs": [],
   "source": []
  },
  {
   "cell_type": "code",
   "execution_count": null,
   "id": "0152b432",
   "metadata": {},
   "outputs": [],
   "source": []
  },
  {
   "cell_type": "code",
   "execution_count": 22,
   "id": "a705331e",
   "metadata": {},
   "outputs": [
    {
     "data": {
      "text/plain": [
       "performance_data: Array[(String, String, Int)] = Array((Jack,Exam 1,30), (Jack,Exam 2,27), (Jill,Exam 1,46), (Jill,Exam 2,35), (Jack,Assignment 1,75), (Jack,Assignment 2,92), (Jack,Assignment 3,82), (Jill,Assignment 1,65), (Jill,Assignment 2,99), (Jill,Assignment 3,83))\n",
       "data_rdd: org.apache.spark.rdd.RDD[(String, String, Int)] = ParallelCollectionRDD[0] at parallelize at <console>:34\n"
      ]
     },
     "execution_count": 22,
     "metadata": {},
     "output_type": "execute_result"
    }
   ],
   "source": [
    "//P2\n",
    "val performance_data = Array((\"Jack\",\"Exam 1\",30),\n",
    "                             (\"Jack\",\"Exam 2\",27),\n",
    "                             (\"Jill\",\"Exam 1\",46),\n",
    "                             (\"Jill\",\"Exam 2\",35),\n",
    "                             (\"Jack\",\"Assignment 1\",75),\n",
    "                             (\"Jack\",\"Assignment 2\",92),\n",
    "                             (\"Jack\",\"Assignment 3\",82),\n",
    "                             (\"Jill\",\"Assignment 1\",65),\n",
    "                             (\"Jill\",\"Assignment 2\",99),\n",
    "                             (\"Jill\",\"Assignment 3\",83))\n",
    "val data_rdd = sc.parallelize(performance_data)   "
   ]
  },
  {
   "cell_type": "code",
   "execution_count": 38,
   "id": "f6c614f9",
   "metadata": {},
   "outputs": [
    {
     "data": {
      "text/plain": [
       "f1: ((Int, Double), Double) => (Int, Double)\n",
       "f2: ((Int, Double), (Int, Double)) => (Int, Double)\n",
       "initial_value: (Int, Double) = (0,0.0)\n",
       "res26: Array[(String, Double)] = Array((Exam 1,38.0), (Exam 2,31.0))\n"
      ]
     },
     "execution_count": 38,
     "metadata": {},
     "output_type": "execute_result"
    }
   ],
   "source": [
    "//P2q1\n",
    "def f1 = (acc:(Int,Double),v:Double) => (acc._1+1,acc._2+v)\n",
    "def f2 = (acc1:(Int,Double),acc2:(Int,Double)) => (acc1._1+acc2._1,acc1._2+acc2._2)\n",
    "val initial_value = (0,0.0)\n",
    "data_rdd.map(t => (t._2,t._3.toDouble)) //Create an appropriate (k,v) paired red\n",
    "    .filter(t=>t._1.contains(\"Exam\")) //filter to select only Exam evaluations\n",
    "    .aggregateByKey(initial_value)(f1,f2) //set the parameters\n",
    "    .map(t => (t._1,t._2._2/t._2._1)) //compute the average\n",
    ".collect"
   ]
  },
  {
   "cell_type": "code",
   "execution_count": 49,
   "id": "d807a0ca",
   "metadata": {},
   "outputs": [
    {
     "data": {
      "text/plain": [
       "C: ((String, Double)) => (Int, Double, Int, Double) = $Lambda$3598/0x00000008012fd040@2575166\n",
       "M: ((Int, Double, Int, Double), (String, Double)) => (Int, Double, Int, Double) = $Lambda$3599/0x00000008012fe040@356276ec\n",
       "MC: ((Int, Double, Int, Double), (Int, Double, Int, Double)) => (Int, Double, Int, Double) = $Lambda$3600/0x00000008012fe840@3d90be16\n",
       "res36: Array[(String, Double)] = Array((Jill,81.39999999999999), (Jack,64.8))\n"
      ]
     },
     "execution_count": 49,
     "metadata": {},
     "output_type": "execute_result"
    }
   ],
   "source": [
    "//P2q2\n",
    "val C = (x:(String,Double)) => {\n",
    "    val (t,score) = x\n",
    "    if (t.contains(\"Exam\")) (1,score/50*100,0,0.0) //(exam_count,exam_score,ass_count,ass_score)\n",
    "    else (0,0.0,1,score)\n",
    "}//the combiner\n",
    "val M = (x:(Int,Double,Int,Double),y:(String,Double)) => {\n",
    "    if (y._1.contains(\"Exam\")) (x._1+1,x._2+y._2,x._3,x._4)\n",
    "    else (x._1,x._2,x._3+1,x._4+y._2)\n",
    "}//the merger\n",
    "val MC = (x:(Int,Double,Int,Double),y:(Int,Double,Int,Double)) => {\n",
    "    (x._1+y._1,x._2+y._2,x._3+y._3,x._4+y._4)\n",
    "}//the merge and combiner\n",
    "data_rdd.map(t => (t._1,(t._2,t._3.toDouble))) //create an appropriate (key,value) pair RDD\n",
    "    .combineByKey(C, M, MC) \n",
    "    .map(t => (t._1,t._2._2/t._2._1*0.7+t._2._4/t._2._3*0.3)) //Use the result from combineByKey to calculate the final score\n",
    ".collect"
   ]
  },
  {
   "cell_type": "code",
   "execution_count": null,
   "id": "2b8b53ff",
   "metadata": {},
   "outputs": [],
   "source": []
  },
  {
   "cell_type": "code",
   "execution_count": 201,
   "id": "e253581d",
   "metadata": {},
   "outputs": [
    {
     "data": {
      "text/plain": [
       "a_list: List[String] = List(342.22, 24.71, 32a.2, 73.22, 15.b, 82.44)\n",
       "bad_data: (x: String)Option[Double]\n",
       "avg: Double = 130.64749999999998\n",
       "good_list: List[Double] = List(342.22, 24.71, 130.64749999999998, 73.22, 130.64749999999998, 82.44)\n"
      ]
     },
     "execution_count": 201,
     "metadata": {},
     "output_type": "execute_result"
    }
   ],
   "source": [
    "//P3:\n",
    "val a_list = List(\"342.22\",\"24.71\",\"32a.2\",\"73.22\",\"15.b\",\"82.44\")\n",
    "def bad_data(x: String): Option[Double] = {\n",
    "    try {\n",
    "        Some(x.toDouble) \n",
    "    } catch {\n",
    "        case e:Exception => None\n",
    "    }\n",
    "} //function definition\n",
    "(count,value)\n",
    "// val avg = a_list.flatMap(w=>bad_data(w)).foldLeft((0,0.0))((a,b)=>(a._1+1,a._2+b))\n",
    "val avg = a_list.flatMap(w=>bad_data(w)).sum/a_list.flatMap(w=>bad_data(w)).length//calculate average\n",
    "val good_list = a_list.map(w=>bad_data(w)).map(w=>{\n",
    "    w match {\n",
    "        case Some(a) => a\n",
    "        case None => avg\n",
    "    }\n",
    "})\n",
    "//replace bad data by avg"
   ]
  },
  {
   "cell_type": "code",
   "execution_count": 68,
   "id": "d2f98cc9",
   "metadata": {},
   "outputs": [
    {
     "data": {
      "text/plain": [
       "res51: List[Option[Double]] = List(Some(342.22), Some(24.71), None, Some(73.22), None, Some(82.44))\n"
      ]
     },
     "execution_count": 68,
     "metadata": {},
     "output_type": "execute_result"
    }
   ],
   "source": [
    "a_list.map(w=>bad_data(w))"
   ]
  },
  {
   "cell_type": "code",
   "execution_count": null,
   "id": "7391861c",
   "metadata": {},
   "outputs": [],
   "source": []
  },
  {
   "cell_type": "code",
   "execution_count": null,
   "id": "47f9db32",
   "metadata": {},
   "outputs": [],
   "source": []
  },
  {
   "cell_type": "code",
   "execution_count": 200,
   "id": "16c7cec6",
   "metadata": {},
   "outputs": [
    {
     "data": {
      "text/plain": [
       "data: List[(String, Int)] = List((Jing,10), (Henry,20), (Zainab,15), (Dravid,25), (Zoe,21), (Giulia,17), (Rosa,22))\n",
       "subs: List[List[(String, Int)]] = List(List((Giulia,17), (Dravid,25), (Henry,20), (Jing,10)), List((Rosa,22), (Zoe,21), (Zainab,15)))\n"
      ]
     },
     "execution_count": 200,
     "metadata": {},
     "output_type": "execute_result"
    }
   ],
   "source": [
    "//P4:\n",
    "val data = List((\"Jing\",10),\n",
    "                (\"Henry\",20),\n",
    "                (\"Zainab\",15),\n",
    "                (\"Dravid\",25),\n",
    "                (\"Zoe\",21),\n",
    "                (\"Giulia\",17),\n",
    "               (\"Rosa\",22))\n",
    "val subs = data.foldLeft(List(List[(String, Int)](),List[(String, Int)]()))((a,b) => {\n",
    "    if (b._1(0)<'K') (b::a(0))::List(a(1))\n",
    "    else a(0)::List(b::a(1))\n",
    "})\n"
   ]
  },
  {
   "cell_type": "code",
   "execution_count": 196,
   "id": "dd4d02ff",
   "metadata": {},
   "outputs": [
    {
     "data": {
      "text/plain": [
       "a: List[List[(String, Int)]] = List(List((Jing,10)), List())\n",
       "b: (String, Int) = (Henry,20)\n",
       "res110: List[List[(String, Int)]] = List(List((Jing,10)), List((Henry,20)))\n"
      ]
     },
     "execution_count": 196,
     "metadata": {},
     "output_type": "execute_result"
    }
   ],
   "source": [
    "val a = List(List((\"Jing\",10)),List[(String, Int)]())\n",
    "val b = (\"Henry\",20)\n",
    "a(0)::List(b::a(1))"
   ]
  },
  {
   "cell_type": "code",
   "execution_count": 193,
   "id": "452c54dd",
   "metadata": {},
   "outputs": [
    {
     "data": {
      "text/plain": [
       "a: List[List[(String, Int)]] = List(List(), List())\n",
       "b: (String, Int) = (Jing,10)\n",
       "res107: List[List[(String, Int)]] = List(List((Jing,10)), List())\n"
      ]
     },
     "execution_count": 193,
     "metadata": {},
     "output_type": "execute_result"
    }
   ],
   "source": [
    "val a = List(List((Jing,10)),List[(String, Int)]())\n",
    "val b = (\"Henry\",20)\n",
    "b::a(1)"
   ]
  },
  {
   "cell_type": "code",
   "execution_count": null,
   "id": "6da1c10e",
   "metadata": {},
   "outputs": [],
   "source": []
  }
 ],
 "metadata": {
  "kernelspec": {
   "display_name": "spylon-kernel",
   "language": "scala",
   "name": "spylon-kernel"
  },
  "language_info": {
   "codemirror_mode": "text/x-scala",
   "file_extension": ".scala",
   "help_links": [
    {
     "text": "MetaKernel Magics",
     "url": "https://metakernel.readthedocs.io/en/latest/source/README.html"
    }
   ],
   "mimetype": "text/x-scala",
   "name": "scala",
   "pygments_lexer": "scala",
   "version": "0.4.1"
  }
 },
 "nbformat": 4,
 "nbformat_minor": 5
}
