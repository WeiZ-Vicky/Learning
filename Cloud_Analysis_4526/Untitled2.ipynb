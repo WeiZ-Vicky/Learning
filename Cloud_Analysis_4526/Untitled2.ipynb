{
 "cells": [
  {
   "cell_type": "code",
   "execution_count": 1,
   "id": "4ae7a167",
   "metadata": {},
   "outputs": [],
   "source": [
    "%%init_spark\n",
    "launcher.packages= [\"graphframes:graphframes:0.8.2-spark3.2-s_2.12\"]"
   ]
  },
  {
   "cell_type": "code",
   "execution_count": 2,
   "id": "ad87d908",
   "metadata": {},
   "outputs": [
    {
     "data": {
      "text/plain": [
       "Intitializing Scala interpreter ..."
      ]
     },
     "metadata": {},
     "output_type": "display_data"
    },
    {
     "data": {
      "text/plain": [
       "Spark Web UI available at http://192.168.0.149:4040\n",
       "SparkContext available as 'sc' (version = 3.3.0, master = local[*], app id = local-1668542645146)\n",
       "SparkSession available as 'spark'\n"
      ]
     },
     "metadata": {},
     "output_type": "display_data"
    },
    {
     "data": {
      "text/plain": [
       "import org.apache.spark.sql._\n",
       "import org.apache.spark.sql.functions._\n",
       "import org.graphframes._\n"
      ]
     },
     "execution_count": 2,
     "metadata": {},
     "output_type": "execute_result"
    }
   ],
   "source": [
    "import org.apache.spark.sql._\n",
    "import org.apache.spark.sql.functions._\n",
    "import org.graphframes._\n"
   ]
  },
  {
   "cell_type": "code",
   "execution_count": 3,
   "id": "9b553493",
   "metadata": {},
   "outputs": [
    {
     "data": {
      "text/plain": [
       "vertexArray: Array[(Int, String, Int)] = Array((1,Alice,28), (2,Bob,27), (3,Charlie,65), (4,David,42), (5,Ed,55), (6,Fran,50), (7,Qing,27), (8,Sarika,78), (9,Olafson,17), (10,Birgit,33))\n",
       "edgeArray: Array[(Int, Int, Int)] = Array((2,1,7), (1,2,13), (2,4,2), (3,2,4), (3,6,3), (4,1,1), (5,2,2), (5,3,8), (5,6,3), (7,8,14), (7,9,2), (8,10,8), (9,10,6))\n",
       "vertex_df: org.apache.spark.sql.DataFrame = [id: int, name: string ... 1 more field]\n",
       "edge_df: org.apache.spark.sql.DataFrame = [src: int, dst: int ... 1 more field]\n",
       "g: org.graphframes.GraphFrame = GraphFrame(v:[id: int, name: string ... 1 more field], e:[src: int, dst: int ... 1 more field])\n"
      ]
     },
     "execution_count": 3,
     "metadata": {},
     "output_type": "execute_result"
    }
   ],
   "source": [
    "val vertexArray = Array(\n",
    "  (1, \"Alice\", 28),\n",
    "  (2, \"Bob\", 27),\n",
    "  (3, \"Charlie\", 65),\n",
    "  (4, \"David\", 42),\n",
    "  (5, \"Ed\", 55),\n",
    "  (6, \"Fran\", 50),\n",
    "    (7, \"Qing\",27),\n",
    "    (8, \"Sarika\",78),\n",
    "    (9, \"Olafson\",17),\n",
    "    (10, \"Birgit\",33)\n",
    ")\n",
    "\n",
    "val edgeArray = Array(\n",
    "  (2, 1, 7),\n",
    "  (1, 2, 13),\n",
    "  (2, 4, 2),\n",
    "  (3, 2, 4),\n",
    "  (3, 6, 3),\n",
    "  (4, 1, 1),\n",
    "  (5, 2, 2),\n",
    "  (5, 3, 8),\n",
    "  (5, 6, 3),\n",
    "    (7, 8, 14),\n",
    "    (7, 9, 2),\n",
    "    (8, 10, 8),\n",
    "    (9, 10, 6)\n",
    ")\n",
    "\n",
    "val vertex_df = spark.createDataFrame(vertexArray).toDF(\"id\",\"name\",\"age\")\n",
    "val edge_df = spark.createDataFrame(edgeArray).toDF(\"src\",\"dst\",\"attr\")\n",
    "\n",
    "val g = GraphFrame(vertex_df, edge_df)"
   ]
  },
  {
   "cell_type": "code",
   "execution_count": 5,
   "id": "6beb22c6",
   "metadata": {},
   "outputs": [
    {
     "name": "stdout",
     "output_type": "stream",
     "text": [
      "root\n",
      " |-- id: integer (nullable = false)\n",
      " |-- inDegree: integer (nullable = false)\n",
      "\n"
     ]
    }
   ],
   "source": [
    "g.inDegrees.printSchema"
   ]
  },
  {
   "cell_type": "code",
   "execution_count": 17,
   "id": "db1895a1",
   "metadata": {},
   "outputs": [
    {
     "data": {
      "text/plain": [
       "res13: Array[(Int, Int)] = Array((1,2), (4,1), (2,3), (6,2), (3,1), (9,1), (8,1), (10,2))\n"
      ]
     },
     "execution_count": 17,
     "metadata": {},
     "output_type": "execute_result"
    }
   ],
   "source": [
    "g.inDegrees.rdd.map(r => (r.getInt(0),r.getInt(1))).collect"
   ]
  },
  {
   "cell_type": "code",
   "execution_count": 13,
   "id": "c783652a",
   "metadata": {},
   "outputs": [
    {
     "data": {
      "text/plain": [
       "res9: Array[(Int, Int)] = Array((1,2), (4,1), (2,3), (6,2), (3,1), (9,1), (8,1), (10,2))\n"
      ]
     },
     "execution_count": 13,
     "metadata": {},
     "output_type": "execute_result"
    }
   ],
   "source": [
    "g.inDegrees.rdd.map(r => (r(0).toString.toInt,r.getInt(1))).collect"
   ]
  },
  {
   "cell_type": "code",
   "execution_count": 19,
   "id": "d46193a3",
   "metadata": {},
   "outputs": [
    {
     "name": "stdout",
     "output_type": "stream",
     "text": [
      "false"
     ]
    },
    {
     "data": {
      "text/plain": [
       "in_deg: Array[(Int, Int)] = Array((1,2), (2,3), (3,1), (4,1), (6,2), (8,1), (9,1), (10,2))\n",
       "out_deg: Array[(Int, Int)] = Array((1,1), (2,2), (3,2), (4,1), (5,3), (7,2), (8,1), (9,1))\n",
       "result: Boolean = false\n"
      ]
     },
     "execution_count": 19,
     "metadata": {},
     "output_type": "execute_result"
    }
   ],
   "source": [
    "val in_deg = g.inDegrees.rdd.map(r => (r.getInt(0),r.getInt(1))).collect\n",
    "val out_deg = g.outDegrees.rdd.map(r => (r.getInt(0),r.getInt(1))).collect\n",
    "scala.util.Sorting.quickSort(out_deg) //Sorts an array in place\n",
    "scala.util.Sorting.quickSort(in_deg) //Sorts an array in place\n",
    "val result = in_deg sameElements out_deg //Returns \"true\" if the two arrays are identical in value\n",
    "print(result)"
   ]
  },
  {
   "cell_type": "code",
   "execution_count": null,
   "id": "bec1495b",
   "metadata": {},
   "outputs": [],
   "source": []
  },
  {
   "cell_type": "code",
   "execution_count": null,
   "id": "b7e53bf1",
   "metadata": {},
   "outputs": [],
   "source": []
  },
  {
   "cell_type": "code",
   "execution_count": 38,
   "id": "bc405279",
   "metadata": {},
   "outputs": [
    {
     "data": {
      "text/plain": [
       "make_undirected_graph: (g: org.graphframes.GraphFrame)org.graphframes.GraphFrame\n"
      ]
     },
     "execution_count": 38,
     "metadata": {},
     "output_type": "execute_result"
    }
   ],
   "source": [
    "def make_undirected_graph(g: GraphFrame) = {\n",
    "    val u_edge_df = g.find(\"(a)-[]->(b)\")\n",
    "        .select($\"a.id\".as(\"src\"),$\"b.id\".as(\"dst\"))\n",
    "        .withColumn(\"swap\",when(col(\"src\")<col(\"dst\"),col(\"dst\")))\n",
    "        .withColumn(\"dst\",\n",
    "                    when(col(\"swap\").isNotNull,col(\"src\"))\n",
    "                    .otherwise(col(\"dst\")))\n",
    "        .withColumn(\"src\",\n",
    "                    when(col(\"swap\").isNotNull,col(\"swap\"))\n",
    "                   .otherwise(col(\"src\")))\n",
    "        .drop(col(\"swap\"))\n",
    "        .distinct\n",
    "    val u_vertices_df = g.vertices\n",
    "    val u_g = GraphFrame(u_vertices_df,u_edge_df)    \n",
    "    u_g\n",
    "}"
   ]
  },
  {
   "cell_type": "code",
   "execution_count": 39,
   "id": "a433f50d",
   "metadata": {},
   "outputs": [
    {
     "data": {
      "text/plain": [
       "res29: scala.collection.immutable.Map[Int,Int] = Map(5 -> 3, 1 -> 2, 6 -> 2, 2 -> 4, 3 -> 3, 4 -> 2)\n"
      ]
     },
     "execution_count": 39,
     "metadata": {},
     "output_type": "execute_result"
    }
   ],
   "source": [
    "make_undirected_graph(g) //keep only one edge between any two vertices regardless of direction\n",
    "    .edges //get the edges dataframe from this undirected graph\n",
    "    .rdd //convert the edges dataframe into an rdd\n",
    "    .map(r => Array(r.getInt(0),r.getInt(1))) //extract Array(src,dest) pairs for each edge\n",
    "    .collect //convert into a Scala Array e.g. Array(Array(1,2),Array(2,4),Array(3,2))\n",
    "    .flatten //flatten the array e.g., Array(1, 2, 2, 4, 3, 2)\n",
    "    .groupBy(identity) //group the elements by each individual value (grouped by 1, 2, 4, 3)\n",
    "    .mapValues(_.size) //return a Map object with each individual value as the key and the count as the value\n",
    "                        //e.g., 1 -> 1, 2 -> 3, 4 -> 1, 3 -> 1"
   ]
  },
  {
   "cell_type": "code",
   "execution_count": 22,
   "id": "d5e7e3d2",
   "metadata": {},
   "outputs": [
    {
     "data": {
      "text/plain": [
       "u_g: org.graphframes.GraphFrame = GraphFrame(v:[id: int, name: string ... 1 more field], e:[src: int, dst: int])\n"
      ]
     },
     "execution_count": 22,
     "metadata": {},
     "output_type": "execute_result"
    }
   ],
   "source": [
    "val u_g = make_undirected_graph(g)"
   ]
  },
  {
   "cell_type": "code",
   "execution_count": 24,
   "id": "8833b924",
   "metadata": {},
   "outputs": [
    {
     "name": "stdout",
     "output_type": "stream",
     "text": [
      "+---+---+\n",
      "|src|dst|\n",
      "+---+---+\n",
      "|  2|  1|\n",
      "|  4|  2|\n",
      "|  3|  2|\n",
      "|  6|  3|\n",
      "|  4|  1|\n",
      "|  5|  2|\n",
      "|  5|  3|\n",
      "|  6|  5|\n",
      "|  9|  7|\n",
      "|  8|  7|\n",
      "| 10|  9|\n",
      "| 10|  8|\n",
      "+---+---+\n",
      "\n"
     ]
    }
   ],
   "source": [
    "u_g.edges.show"
   ]
  },
  {
   "cell_type": "code",
   "execution_count": 25,
   "id": "37f59ae4",
   "metadata": {},
   "outputs": [
    {
     "name": "stdout",
     "output_type": "stream",
     "text": [
      "+---+---+----+\n",
      "|src|dst|attr|\n",
      "+---+---+----+\n",
      "|  2|  1|   7|\n",
      "|  1|  2|  13|\n",
      "|  2|  4|   2|\n",
      "|  3|  2|   4|\n",
      "|  3|  6|   3|\n",
      "|  4|  1|   1|\n",
      "|  5|  2|   2|\n",
      "|  5|  3|   8|\n",
      "|  5|  6|   3|\n",
      "|  7|  8|  14|\n",
      "|  7|  9|   2|\n",
      "|  8| 10|   8|\n",
      "|  9| 10|   6|\n",
      "+---+---+----+\n",
      "\n"
     ]
    }
   ],
   "source": [
    "g.edges.show"
   ]
  },
  {
   "cell_type": "code",
   "execution_count": null,
   "id": "5dda28b6",
   "metadata": {},
   "outputs": [],
   "source": []
  },
  {
   "cell_type": "code",
   "execution_count": null,
   "id": "166b44b0",
   "metadata": {},
   "outputs": [],
   "source": []
  },
  {
   "cell_type": "code",
   "execution_count": 31,
   "id": "3b646417",
   "metadata": {},
   "outputs": [
    {
     "data": {
      "text/plain": [
       "vertexArray: Array[(Int, String, Int)] = Array((1,Alice,28), (2,Bob,27), (3,Charlie,65), (4,David,42), (5,Ed,55), (6,Fran,50))\n",
       "edgeArray: Array[(Int, Int, Int)] = Array((2,1,7), (1,2,13), (2,4,2), (3,2,4), (3,6,3), (4,1,1), (5,2,2), (5,3,8), (5,6,3))\n",
       "vertex_df: org.apache.spark.sql.DataFrame = [id: int, name: string ... 1 more field]\n",
       "edge_df: org.apache.spark.sql.DataFrame = [src: int, dst: int ... 1 more field]\n",
       "graph: org.graphframes.GraphFrame = GraphFrame(v:[id: int, name: string ... 1 more field], e:[src: int, dst: int ... 1 more field])\n"
      ]
     },
     "execution_count": 31,
     "metadata": {},
     "output_type": "execute_result"
    }
   ],
   "source": [
    "val vertexArray = Array(\n",
    "  (1, \"Alice\", 28),\n",
    "  (2, \"Bob\", 27),\n",
    "  (3, \"Charlie\", 65),\n",
    "  (4, \"David\", 42),\n",
    "  (5, \"Ed\", 55),\n",
    "  (6, \"Fran\", 50)\n",
    ")\n",
    "\n",
    "val edgeArray = Array(\n",
    "  (2, 1, 7),\n",
    "  (1, 2, 13),\n",
    "  (2, 4, 2),\n",
    "  (3, 2, 4),\n",
    "  (3, 6, 3),\n",
    "  (4, 1, 1),\n",
    "  (5, 2, 2),\n",
    "  (5, 3, 8),\n",
    "  (5, 6, 3)\n",
    ")\n",
    "val vertex_df = spark.createDataFrame(vertexArray).toDF(\"id\",\"name\",\"age\")\n",
    "val edge_df = spark.createDataFrame(edgeArray).toDF(\"src\",\"dst\",\"attr\")\n",
    "val graph = GraphFrame(vertex_df,edge_df)"
   ]
  },
  {
   "cell_type": "code",
   "execution_count": 35,
   "id": "9084e06c",
   "metadata": {},
   "outputs": [
    {
     "name": "stdout",
     "output_type": "stream",
     "text": [
      "+---+---+----+\n",
      "|src|dst|attr|\n",
      "+---+---+----+\n",
      "|  2|  1|   7|\n",
      "|  1|  2|  13|\n",
      "+---+---+----+\n",
      "\n"
     ]
    }
   ],
   "source": [
    "graph.filterEdges(\"attr>2\").filterVertices(\"age < 50\").edges.show"
   ]
  },
  {
   "cell_type": "code",
   "execution_count": 37,
   "id": "4f772f42",
   "metadata": {},
   "outputs": [
    {
     "name": "stdout",
     "output_type": "stream",
     "text": [
      "+---+-----+---+\n",
      "| id| name|age|\n",
      "+---+-----+---+\n",
      "|  1|Alice| 28|\n",
      "|  2|  Bob| 27|\n",
      "|  4|David| 42|\n",
      "+---+-----+---+\n",
      "\n"
     ]
    }
   ],
   "source": [
    "graph.filterEdges(\"attr>2\").filterVertices(\"age < 50\").vertices.show"
   ]
  },
  {
   "cell_type": "code",
   "execution_count": null,
   "id": "ca1a33e1",
   "metadata": {},
   "outputs": [],
   "source": []
  }
 ],
 "metadata": {
  "kernelspec": {
   "display_name": "spylon-kernel",
   "language": "scala",
   "name": "spylon-kernel"
  },
  "language_info": {
   "codemirror_mode": "text/x-scala",
   "file_extension": ".scala",
   "help_links": [
    {
     "text": "MetaKernel Magics",
     "url": "https://metakernel.readthedocs.io/en/latest/source/README.html"
    }
   ],
   "mimetype": "text/x-scala",
   "name": "scala",
   "pygments_lexer": "scala",
   "version": "0.4.1"
  }
 },
 "nbformat": 4,
 "nbformat_minor": 5
}
