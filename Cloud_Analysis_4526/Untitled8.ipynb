{
 "cells": [
  {
   "cell_type": "code",
   "execution_count": 5,
   "id": "13fcaf39",
   "metadata": {},
   "outputs": [
    {
     "name": "stdout",
     "output_type": "stream",
     "text": [
      "22/12/15 17:19:00 WARN Utils: Your hostname, VickyZMacBook-Pro-2.local resolves to a loopback address: 127.0.0.1; using 10.56.160.213 instead (on interface en0)\n",
      "22/12/15 17:19:00 WARN Utils: Set SPARK_LOCAL_IP if you need to bind to another address\n"
     ]
    },
    {
     "name": "stderr",
     "output_type": "stream",
     "text": [
      "Setting default log level to \"WARN\".\n",
      "To adjust logging level use sc.setLogLevel(newLevel). For SparkR, use setLogLevel(newLevel).\n"
     ]
    },
    {
     "name": "stdout",
     "output_type": "stream",
     "text": [
      "22/12/15 17:19:00 WARN NativeCodeLoader: Unable to load native-hadoop library for your platform... using builtin-java classes where applicable\n",
      "22/12/15 17:19:01 WARN Utils: Service 'SparkUI' could not bind on port 4040. Attempting port 4041.\n",
      "22/12/15 17:19:01 WARN Utils: Service 'SparkUI' could not bind on port 4041. Attempting port 4042.\n",
      "22/12/15 17:19:01 WARN Utils: Service 'SparkUI' could not bind on port 4042. Attempting port 4043.\n",
      "22/12/15 17:19:01 WARN Utils: Service 'SparkUI' could not bind on port 4043. Attempting port 4044.\n"
     ]
    }
   ],
   "source": [
    "import pyspark\n",
    "from pyspark.sql import SparkSession\n",
    "spark = SparkSession.builder.appName(\"PySpark ML Basics\").getOrCreate()\n",
    "sc = spark.sparkContext"
   ]
  },
  {
   "cell_type": "code",
   "execution_count": null,
   "id": "45369eda",
   "metadata": {},
   "outputs": [],
   "source": [
    "from pyspark. import QuantileDiscretizer"
   ]
  },
  {
   "cell_type": "code",
   "execution_count": 6,
   "id": "8495a920",
   "metadata": {},
   "outputs": [
    {
     "ename": "NameError",
     "evalue": "name 'QuantileDiscretizer' is not defined",
     "output_type": "error",
     "traceback": [
      "\u001b[0;31m---------------------------------------------------------------------------\u001b[0m",
      "\u001b[0;31mNameError\u001b[0m                                 Traceback (most recent call last)",
      "Input \u001b[0;32mIn [6]\u001b[0m, in \u001b[0;36m<cell line: 3>\u001b[0;34m()\u001b[0m\n\u001b[1;32m      1\u001b[0m values \u001b[38;5;241m=\u001b[39m [(\u001b[38;5;241m0.1\u001b[39m,), (\u001b[38;5;241m0.4\u001b[39m,), (\u001b[38;5;241m1.2\u001b[39m,), (\u001b[38;5;241m1.5\u001b[39m,), (\u001b[38;5;28mfloat\u001b[39m(\u001b[38;5;124m\"\u001b[39m\u001b[38;5;124mnan\u001b[39m\u001b[38;5;124m\"\u001b[39m),), (\u001b[38;5;28mfloat\u001b[39m(\u001b[38;5;124m\"\u001b[39m\u001b[38;5;124mnan\u001b[39m\u001b[38;5;124m\"\u001b[39m),)]\n\u001b[1;32m      2\u001b[0m df1 \u001b[38;5;241m=\u001b[39m spark\u001b[38;5;241m.\u001b[39mcreateDataFrame(values, [\u001b[38;5;124m\"\u001b[39m\u001b[38;5;124mvalues\u001b[39m\u001b[38;5;124m\"\u001b[39m])\n\u001b[0;32m----> 3\u001b[0m qds1 \u001b[38;5;241m=\u001b[39m \u001b[43mQuantileDiscretizer\u001b[49m(inputCol\u001b[38;5;241m=\u001b[39m\u001b[38;5;124m\"\u001b[39m\u001b[38;5;124mvalues\u001b[39m\u001b[38;5;124m\"\u001b[39m, outputCol\u001b[38;5;241m=\u001b[39m\u001b[38;5;124m\"\u001b[39m\u001b[38;5;124mbuckets\u001b[39m\u001b[38;5;124m\"\u001b[39m)\n\u001b[1;32m      4\u001b[0m qds1\u001b[38;5;241m.\u001b[39msetNumBuckets(\u001b[38;5;241m2\u001b[39m)\n\u001b[1;32m      6\u001b[0m qds1\u001b[38;5;241m.\u001b[39msetRelativeError(\u001b[38;5;241m0.01\u001b[39m)\n",
      "\u001b[0;31mNameError\u001b[0m: name 'QuantileDiscretizer' is not defined"
     ]
    }
   ],
   "source": [
    "values = [(0.1,), (0.4,), (1.2,), (1.5,), (float(\"nan\"),), (float(\"nan\"),)]\n",
    "df1 = spark.createDataFrame(values, [\"values\"])\n",
    "qds1 = QuantileDiscretizer(inputCol=\"values\", outputCol=\"buckets\")\n",
    "qds1.setNumBuckets(2)\n",
    "\n",
    "qds1.setRelativeError(0.01)\n",
    "\n",
    "qds1.setHandleInvalid(\"error\")\n",
    "\n",
    "qds1.getRelativeError()\n",
    "\n",
    "bucketizer = qds1.fit(df1)\n",
    "qds1.setHandleInvalid(\"keep\").fit(df1).transform(df1).count()"
   ]
  },
  {
   "cell_type": "code",
   "execution_count": null,
   "id": "e633c69b",
   "metadata": {},
   "outputs": [],
   "source": []
  }
 ],
 "metadata": {
  "kernelspec": {
   "display_name": "Python 3 (ipykernel)",
   "language": "python",
   "name": "python3"
  },
  "language_info": {
   "codemirror_mode": {
    "name": "ipython",
    "version": 3
   },
   "file_extension": ".py",
   "mimetype": "text/x-python",
   "name": "python",
   "nbconvert_exporter": "python",
   "pygments_lexer": "ipython3",
   "version": "3.9.12"
  }
 },
 "nbformat": 4,
 "nbformat_minor": 5
}
