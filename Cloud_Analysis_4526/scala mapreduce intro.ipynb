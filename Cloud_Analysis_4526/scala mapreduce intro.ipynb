{
 "cells": [
  {
   "cell_type": "markdown",
   "metadata": {},
   "source": [
    "<span style=\"color:red;font-size:50px\">MapReduce</span>\n",
    "<li><span style=\"color:blue\">MapReduce</span> is a parallel and distributed programming paradigm used to process large datasets</li>\n",
    "<li>In MapReduce, data is often organized in the form of (key, value) pairs</li>\n",
    "<li>And then processed to produce “by key” results</li>\n",
    "<li><b>Note that MapReduce is a programming paradigm, not a programming operation</b> Each platform implements MapReduce in its own way</li>\n",
    "<li>In practice, programmers combine map and reduce functions to simulate the map reduce operation</li>\n"
   ]
  },
  {
   "cell_type": "code",
   "execution_count": 1,
   "metadata": {},
   "outputs": [
    {
     "data": {
      "text/plain": [
       "Intitializing Scala interpreter ..."
      ]
     },
     "metadata": {},
     "output_type": "display_data"
    },
    {
     "data": {
      "text/plain": [
       "Spark Web UI available at http://192.168.0.149:4041\n",
       "SparkContext available as 'sc' (version = 3.3.0, master = local[*], app id = local-1664235452977)\n",
       "SparkSession available as 'spark'\n"
      ]
     },
     "metadata": {},
     "output_type": "display_data"
    }
   ],
   "source": [
    "//used in functional programming"
   ]
  },
  {
   "cell_type": "markdown",
   "metadata": {},
   "source": [
    "<span style=\"color:green;font-size:xx-large\">The MapReduce process</span>\n",
    "<li>The data is either already distributed (as in Hadoop) or the controller distributes the data across workers</li>\n",
    "<li>A three stage process is applied:\n",
    "    <ul>\n",
    "        <li><span style=\"color:red\">Map stage</span>: Each worker applies a map function to each data item</li>\n",
    "    <li><span style=\"color:red\">Shuffle stage</span>: The controller then reorganizes the data so that each key is on the same machine (as far as is possible)</li>\n",
    "    <li><span style=\"color:red\">Reduce stage</span>: Finally, each worker applies a function to all members of a single key to produce a result</li>"
   ]
  },
  {
   "cell_type": "markdown",
   "metadata": {},
   "source": [
    "<span style=\"color:green;font-size:x-large\">Example: MapReduce to get the count of each word in a document</span>\n",
    "<img src=\"wordcount.png\">"
   ]
  },
  {
   "cell_type": "markdown",
   "metadata": {},
   "source": [
    "<span style=\"color:green;font-size:xx-large\">map</span><p>\n",
    "<li>An operation that maps a function to a range of values and produces a new list of results<p>\n",
    "\n",
    "$ map(f,[x_{1},x_{2},x_{3},…,x_{n}]) ——> [f(x_{1}),f(x_{2}),f(x_{3}),….,f(x_{n})] $\n",
    "<p>\n",
    "<li>map applies a function to an iterable</li>\n",
    "    "
   ]
  },
  {
   "cell_type": "markdown",
   "metadata": {},
   "source": [
    "<span style=\"color:green;font-size:xx-large\">Example:</span>\n",
    "<li>An array of tuples containing income information</li>\n",
    "<li>map a tax calculation function to get the tax owed by each individual</li>"
   ]
  },
  {
   "cell_type": "markdown",
   "metadata": {},
   "source": [
    "<span style=\"color:green;font-size:xx-large\">Aside: Scala tuples</span>\n",
    "<li>Immutable collections that allow for mixed data types</li>\n",
    "<li>Elements are accessed by ._1, ._2, etc</li>\n",
    "<li>Important: Elements are not accessed by ._0!</li>\n",
    "<li>Tuples are data work horses. We'll see a lot of them!</li>\n",
    "<li>In the example below: $(String, String, Int, Int)$ is a tuple definition</li>"
   ]
  },
  {
   "cell_type": "code",
   "execution_count": 2,
   "metadata": {},
   "outputs": [],
   "source": [
    "//in python numpy array, you know the byte size of each element, so you can index directly to the element\n",
    "//but with scala mixed data type tuples, you don't know each size of the element. It need to search for."
   ]
  },
  {
   "cell_type": "code",
   "execution_count": 5,
   "metadata": {},
   "outputs": [
    {
     "data": {
      "text/plain": [
       "x: (Int, Double, String) = (1,22.3,John)\n"
      ]
     },
     "execution_count": 5,
     "metadata": {},
     "output_type": "execute_result"
    }
   ],
   "source": [
    "val x = (1,22.3,\"John\")"
   ]
  },
  {
   "cell_type": "code",
   "execution_count": 4,
   "metadata": {},
   "outputs": [
    {
     "ename": "<console>",
     "evalue": "24: error: reassignment to val",
     "output_type": "error",
     "traceback": [
      "<console>:24: error: reassignment to val",
      "       x._1=2",
      "           ^",
      ""
     ]
    }
   ],
   "source": [
    "// x._1=2"
   ]
  },
  {
   "cell_type": "code",
   "execution_count": 4,
   "metadata": {},
   "outputs": [],
   "source": [
    "// x._0 //error: value _0 is not a member of (Int, Double, String)"
   ]
  },
  {
   "cell_type": "code",
   "execution_count": 5,
   "metadata": {},
   "outputs": [
    {
     "data": {
      "text/plain": [
       "res3: Int = 1\n"
      ]
     },
     "execution_count": 5,
     "metadata": {},
     "output_type": "execute_result"
    }
   ],
   "source": [
    "x._1"
   ]
  },
  {
   "cell_type": "code",
   "execution_count": 6,
   "metadata": {},
   "outputs": [
    {
     "data": {
      "text/plain": [
       "res4: Double = 22.3\n"
      ]
     },
     "execution_count": 6,
     "metadata": {},
     "output_type": "execute_result"
    }
   ],
   "source": [
    "x._2"
   ]
  },
  {
   "cell_type": "code",
   "execution_count": 7,
   "metadata": {},
   "outputs": [
    {
     "data": {
      "text/plain": [
       "demographics: Array[(String, String, Int, Int)] = Array((John,New York,350000,32), (Jill,Boston,432000,22))\n"
      ]
     },
     "execution_count": 7,
     "metadata": {},
     "output_type": "execute_result"
    }
   ],
   "source": [
    "val demographics = Array((\"John\",\"New York\",350000,32),(\"Jill\",\"Boston\",432000,22)) "
   ]
  },
  {
   "cell_type": "code",
   "execution_count": 8,
   "metadata": {},
   "outputs": [
    {
     "data": {
      "text/plain": [
       "res5: String = Jill\n"
      ]
     },
     "execution_count": 8,
     "metadata": {},
     "output_type": "execute_result"
    }
   ],
   "source": [
    "demographics(1)._1"
   ]
  },
  {
   "cell_type": "code",
   "execution_count": 9,
   "metadata": {},
   "outputs": [
    {
     "name": "stdout",
     "output_type": "stream",
     "text": [
      "(John,New York,350000,32)\n",
      "The first person is: John who is 32 years old\n"
     ]
    }
   ],
   "source": [
    "println(demographics(0))\n",
    "println(\"The first person is: \" + demographics(0)._1 + \" who is \" +demographics(0)._4 +\" years old\")"
   ]
  },
  {
   "cell_type": "code",
   "execution_count": 6,
   "metadata": {},
   "outputs": [
    {
     "ename": "<console>",
     "evalue": "26: error: value map is not a member of (Int, Double, String)",
     "output_type": "error",
     "traceback": [
      "<console>:26: error: value map is not a member of (Int, Double, String)",
      "       x.map(t=>println(t))",
      "         ^",
      ""
     ]
    }
   ],
   "source": [
    "// x.map(t=>println(t))"
   ]
  },
  {
   "cell_type": "markdown",
   "metadata": {},
   "source": [
    "<span style=\"color:green;font-size:large\">map the print function to each element of the Array</span>\n",
    "<p>\n",
    "    <li>Use the <span style=\"color:blue\">map</span> function</li>\n",
    "    <li>Or, as an alternative, the <span style=\"color:blue\">foreach</span> function</li>"
   ]
  },
  {
   "cell_type": "code",
   "execution_count": 10,
   "metadata": {},
   "outputs": [
    {
     "name": "stdout",
     "output_type": "stream",
     "text": [
      "The first person is: John who is 32 years old\n",
      "The first person is: Jill who is 22 years old\n"
     ]
    },
    {
     "data": {
      "text/plain": [
       "res7: Array[Unit] = Array((), ())\n"
      ]
     },
     "execution_count": 10,
     "metadata": {},
     "output_type": "execute_result"
    }
   ],
   "source": [
    "demographics.map(t=>println(\"The first person is: \" + t._1 + \" who is \" + t._4 + \" years old\"))\n",
    "//map will return same number of elements as in the original collection."
   ]
  },
  {
   "cell_type": "code",
   "execution_count": 11,
   "metadata": {},
   "outputs": [
    {
     "name": "stdout",
     "output_type": "stream",
     "text": [
      "The first person is: John who is 32 years old\n",
      "The first person is: Jill who is 22 years old\n"
     ]
    }
   ],
   "source": [
    "demographics.foreach(t=>println(\"The first person is: \" + t._1 + \" who is \" + t._4 + \" years old\")) \n",
    "//foreach doesn't return anything, mainly for print"
   ]
  },
  {
   "cell_type": "code",
   "execution_count": 12,
   "metadata": {},
   "outputs": [
    {
     "name": "stdout",
     "output_type": "stream",
     "text": [
      "(John,New York,350000,32)\n",
      "(Jill,Boston,432000,22)\n"
     ]
    }
   ],
   "source": [
    "demographics.foreach(println)"
   ]
  },
  {
   "cell_type": "markdown",
   "metadata": {},
   "source": [
    "<span style=\"color:green;font-size:x-large\">Calculating tax using the map function</span>"
   ]
  },
  {
   "cell_type": "code",
   "execution_count": 9,
   "metadata": {},
   "outputs": [
    {
     "data": {
      "text/plain": [
       "income: Array[(String, Int)] = Array((John,212343), (Jack,179343), (Jill,231222), (Qing,500222), (Overbrook,23123), (Savitri,923111), (Barton,723000), (Olafur,290000))\n",
       "taxes: Array[(String, Double)] = Array((John,42468.600000000006), (Jack,35868.6), (Jill,46244.4), (Qing,100044.40000000001), (Overbrook,4624.6), (Savitri,184622.2), (Barton,144600.0), (Olafur,58000.0))\n",
       "progressive_taxes: Array[(String, Double)] = Array((John,42468.600000000006), (Jack,17934.3), (Jill,46244.4), (Qing,250111.0), (Overbrook,2312.3), (Savitri,461555.5), (Barton,361500.0), (Olafur,58000.0))\n"
      ]
     },
     "execution_count": 9,
     "metadata": {},
     "output_type": "execute_result"
    }
   ],
   "source": [
    "val income = Array((\"John\",212343),(\"Jack\",179343),(\"Jill\",231222),(\"Qing\",500222),\n",
    "                   (\"Overbrook\",23123),(\"Savitri\",923111),\n",
    "                  (\"Barton\",723000),(\"Olafur\",290000))\n",
    "val taxes = income.map(i => (i._1,i._2*0.2))\n",
    "val progressive_taxes = income.map(v => if (v._2>500000.0) (v._1,v._2*.5)\n",
    "                                   else if (v._2 > 200000.0) (v._1,v._2*.2)\n",
    "                                  else (v._1,v._2*.1))"
   ]
  },
  {
   "cell_type": "markdown",
   "metadata": {},
   "source": [
    "<span style=\"color:red;font-size:40px\">Filter</span>\n",
    "<li>In a MapReduce operation, map sets up the data for the reduce operation</li>\n",
    "<li>For example, by creating (word, 1) tuples in the word count example</li>\n",
    "<li>The “1” serves as a placeholder for the count</li>\n",
    "<li>MapReduce often uses an intermediate “filter” operation to reduce the size of the data BEFORE the shuffle operation</li>\n",
    "<li>the shuffle operation is computationally expensive</li>\n",
    "<li>So removing unnecessary data before shuffling helps reduce computational time</li>"
   ]
  },
  {
   "cell_type": "markdown",
   "metadata": {},
   "source": [
    "<li><span style=\"color:red\">filter</span>: maps a <span style=\"color:blue\">predicate function</span> to a range of values and produces a subset of that range</li>\n",
    "<li>example, Array of individuals who pay more the 50000 in taxes</li>\n"
   ]
  },
  {
   "cell_type": "code",
   "execution_count": 14,
   "metadata": {},
   "outputs": [
    {
     "data": {
      "text/plain": [
       "res10: Array[(String, Double)] = Array((Qing,100044.40000000001), (Savitri,184622.2), (Barton,144600.0), (Olafur,58000.0))\n"
      ]
     },
     "execution_count": 14,
     "metadata": {},
     "output_type": "execute_result"
    }
   ],
   "source": [
    "income.map(v => (v._1,v._2*0.2)).filter(t=>t._2>50000.0)"
   ]
  },
  {
   "cell_type": "markdown",
   "metadata": {},
   "source": [
    "<span style=\"color:red;font-size:40px\">Reduce</span>\n",
    "<li>takes a function of two elements and applies this function to successive pairs of elements in a range to produce a single output</li>\n",
    "<li>reduce initializes the first argument to the first value in the series</li>\n",
    "<li>and then increments that value by the value of each successive element in the series</li>\n",
    "<li>Example: total taxes paid by individuals who pay more than $50,000 in taxes"
   ]
  },
  {
   "cell_type": "code",
   "execution_count": 15,
   "metadata": {},
   "outputs": [
    {
     "data": {
      "text/plain": [
       "res11: Double = 487266.60000000003\n"
      ]
     },
     "execution_count": 15,
     "metadata": {},
     "output_type": "execute_result"
    }
   ],
   "source": [
    "income\n",
    "    .map(v => (v._1,v._2*0.2)) //Create (name,tax) pairs Array[(String,Double)]\n",
    "    .filter(t=>t._2>50000.0) //filter out tuples with tax > 50,000  Array[(String,Double)]\n",
    "    .map(t => t._2) //Remove the name from each tuple  Array[Double]\n",
    "    .reduce((a,b) => a+b) //use reduce to find the total Double //a and b have the same data type // a is accumulator"
   ]
  },
  {
   "cell_type": "code",
   "execution_count": 11,
   "metadata": {},
   "outputs": [
    {
     "data": {
      "text/plain": [
       "res2: (String, Double) = (Total Tax,487266.60000000003)\n"
      ]
     },
     "execution_count": 11,
     "metadata": {},
     "output_type": "execute_result"
    }
   ],
   "source": [
    "Array((\"Qing\",100044.40000000001), (\"Savitri\",184622.2), (\"Barton\",144600.0), (\"Olafur\",58000.0))\n",
    "    .reduce((a,b)=>(\"Total Tax\",a._2+b._2))"
   ]
  },
  {
   "cell_type": "code",
   "execution_count": 17,
   "metadata": {},
   "outputs": [
    {
     "ename": "java.lang.UnsupportedOperationException",
     "evalue": " empty.reduceLeft",
     "output_type": "error",
     "traceback": [
      "java.lang.UnsupportedOperationException: empty.reduceLeft",
      "  at scala.collection.mutable.ArrayOps$ofInt.scala$collection$IndexedSeqOptimized$$super$reduceLeft(ArrayOps.scala:246)",
      "  at scala.collection.IndexedSeqOptimized.reduceLeft(IndexedSeqOptimized.scala:77)",
      "  at scala.collection.IndexedSeqOptimized.reduceLeft$(IndexedSeqOptimized.scala:76)",
      "  at scala.collection.mutable.ArrayOps$ofInt.reduceLeft(ArrayOps.scala:246)",
      "  at scala.collection.TraversableOnce.reduce(TraversableOnce.scala:254)",
      "  at scala.collection.TraversableOnce.reduce$(TraversableOnce.scala:254)",
      "  at scala.collection.mutable.ArrayOps$ofInt.reduce(ArrayOps.scala:246)",
      "  ... 37 elided",
      ""
     ]
    }
   ],
   "source": [
    "Array[Int]().reduce((a,b)=>a+b) //because nothing to initialize"
   ]
  },
  {
   "cell_type": "markdown",
   "metadata": {},
   "source": [
    "<span style=\"color:red;font-size:40px\">Why do we need map, filter, reduce?</span><p>\n",
    "<li>When dealing with large datasets</li>\n",
    "<ul>\n",
    "<li>map and filter can be applied <b>in parallel</b> to different segments of the data</li>\n",
    "<li>Each map and filter function computes some set of values</li>\n",
    "<li>The results of each computation can be collected by the reduce operation</li>\n",
    "    </ul>\n",
    "<li>Without these functions, analysis of big data would be very very hard!</li>"
   ]
  },
  {
   "cell_type": "markdown",
   "metadata": {},
   "source": [
    "<span style=\"color:green;font-size:40px\">Example: Count the frequency of each 3-letter word in a document</span>"
   ]
  },
  {
   "cell_type": "code",
   "execution_count": 1,
   "metadata": {},
   "outputs": [
    {
     "data": {
      "text/plain": [
       "Intitializing Scala interpreter ..."
      ]
     },
     "metadata": {},
     "output_type": "display_data"
    },
    {
     "data": {
      "text/plain": [
       "Spark Web UI available at http://192.168.0.149:4046\n",
       "SparkContext available as 'sc' (version = 3.3.0, master = local[*], app id = local-1671596714749)\n",
       "SparkSession available as 'spark'\n"
      ]
     },
     "metadata": {},
     "output_type": "display_data"
    },
    {
     "data": {
      "text/plain": [
       "text: String =\n",
       "My heart aches and a drowsy numbness pains My sense as though of hemlock I had drunk\n",
       "Or emptied some dull opiate to the drains One minute past and Lethe-wards had sunk\n",
       "Tis not through envy of thy happy lot But being too happy in thine happiness\n",
       "That thou light-winged Dryad of the trees\n",
       "In some melodious plot\n",
       "Of beechen green, and shadows numberless\n",
       "Singest of summer in full-throated ease\n"
      ]
     },
     "execution_count": 1,
     "metadata": {},
     "output_type": "execute_result"
    }
   ],
   "source": [
    "val text = \"\"\"My heart aches and a drowsy numbness pains My sense as though of hemlock I had drunk\n",
    "Or emptied some dull opiate to the drains One minute past and Lethe-wards had sunk\n",
    "Tis not through envy of thy happy lot But being too happy in thine happiness\n",
    "That thou light-winged Dryad of the trees\n",
    "In some melodious plot\n",
    "Of beechen green, and shadows numberless\n",
    "Singest of summer in full-throated ease\"\"\""
   ]
  },
  {
   "cell_type": "markdown",
   "metadata": {},
   "source": [
    "<span style=\"color:green;font-size:x-large\">Clean up the text and extract words</span>\n",
    "<li><span style=\"color:blue\">split</span> splits a string into an array on a substring</li>\n",
    "<li><span style=\"color:blue\">trim</span> removes leading and trailing spaces (does not remove \\n characters)</li>\n",
    "<li><span style=\"color:red\">Note:</span> in Scala, you don't have to include () in function calls if they are obviously functions and if there is no ambiguity</li>"
   ]
  },
  {
   "cell_type": "code",
   "execution_count": 13,
   "metadata": {},
   "outputs": [
    {
     "data": {
      "text/plain": [
       "x: String = Jack,Jill,Hill\n",
       "res3: Array[String] = Array(Jack, Jill, Hill)\n"
      ]
     },
     "execution_count": 13,
     "metadata": {},
     "output_type": "execute_result"
    }
   ],
   "source": [
    "val x = \"Jack,Jill,Hill\"\n",
    "x.split(\",\")"
   ]
  },
  {
   "cell_type": "code",
   "execution_count": 14,
   "metadata": {},
   "outputs": [
    {
     "data": {
      "text/plain": [
       "x: String = Jack ,Jill,Hill\n",
       "res4: String = Jack\n"
      ]
     },
     "execution_count": 14,
     "metadata": {},
     "output_type": "execute_result"
    }
   ],
   "source": [
    "val x = \"Jack ,Jill,Hill\" //Note the extra space afte Jack\n",
    "x.split(\",\")(0).trim\n"
   ]
  },
  {
   "cell_type": "markdown",
   "metadata": {},
   "source": [
    "<span style=\"color:green;font-size:large\">Split and trim the text</span><p>\n",
    "<li>convert the text to lower case</li>\n",
    "<li>split it at spaces</li>\n",
    "<li>use map to apply trim to each word in the text</li>"
   ]
  },
  {
   "cell_type": "code",
   "execution_count": 15,
   "metadata": {},
   "outputs": [
    {
     "data": {
      "text/plain": [
       "a: Array[String] =\n",
       "Array(my, heart, aches, and, a, drowsy, numbness, pains, my, sense, as, though, of, hemlock, i, had, drunk\n",
       "or, emptied, some, dull, opiate, to, the, drains, one, minute, past, and, lethe-wards, had, sunk\n",
       "tis, not, through, envy, of, thy, happy, lot, but, being, too, happy, in, thine, happiness\n",
       "that, thou, light-winged, dryad, of, the, trees\n",
       "in, some, melodious, plot\n",
       "of, beechen, green,, and, shadows, numberless\n",
       "singest, of, summer, in, full-throated, ease)\n",
       "t: Array[String] =\n",
       "Array(my, heart, aches, and, a, drowsy, numbness, pains, my, sense, as, though, of, hemlock, i, had, drunk\n",
       "or, emptied, some, dull, opiate, to, the, drains, one, minute, past, and, lethe-wards, had, sunk\n",
       "tis, not, through, envy, of, thy, happy, lot, but, being, too, happy, in, thine, happiness\n",
       "tha...\n"
      ]
     },
     "execution_count": 15,
     "metadata": {},
     "output_type": "execute_result"
    }
   ],
   "source": [
    "val a = text.toLowerCase.split(\" \")\n",
    "val t = a.map(i=>i.trim)\n",
    "//val t = a.map(_.trim)"
   ]
  },
  {
   "cell_type": "markdown",
   "metadata": {},
   "source": [
    "<span style=\"color:green;font-size:large\">Create (word,1) tuples</span>\n"
   ]
  },
  {
   "cell_type": "code",
   "execution_count": 16,
   "metadata": {},
   "outputs": [
    {
     "data": {
      "text/plain": [
       "m: Array[(String, Int)] =\n",
       "Array((my,1), (heart,1), (aches,1), (and,1), (a,1), (drowsy,1), (numbness,1), (pains,1), (my,1), (sense,1), (as,1), (though,1), (of,1), (hemlock,1), (i,1), (had,1), (drunk\n",
       "or,1), (emptied,1), (some,1), (dull,1), (opiate,1), (to,1), (the,1), (drains,1), (one,1), (minute,1), (past,1), (and,1), (lethe-wards,1), (had,1), (sunk\n",
       "tis,1), (not,1), (through,1), (envy,1), (of,1), (thy,1), (happy,1), (lot,1), (but,1), (being,1), (too,1), (happy,1), (in,1), (thine,1), (happiness\n",
       "that,1), (thou,1), (light-winged,1), (dryad,1), (of,1), (the,1), (trees\n",
       "in,1), (some,1), (melodious,1), (plot\n",
       "of,1), (beechen,1), (green,,1), (and,1), (shadows,1), (numberless\n",
       "singest,1), (of,1), (summer,1), (in,1), (full-throated,1), (ease,1))\n"
      ]
     },
     "execution_count": 16,
     "metadata": {},
     "output_type": "execute_result"
    }
   ],
   "source": [
    "val m = t.map(i=>(i,1))\n",
    "//val m = t.map((_,1))"
   ]
  },
  {
   "cell_type": "markdown",
   "metadata": {},
   "source": [
    "<span style=\"color:green;font-size:large\">Notice that we're creating actual objects for a and b</span>\n",
    "<li>That's not necessary</li>\n",
    "<li>We can use lazy val to avoid intermediate outputs</li>\n",
    "<li>And only force evaluation when necessary</li>"
   ]
  },
  {
   "cell_type": "code",
   "execution_count": 17,
   "metadata": {},
   "outputs": [
    {
     "data": {
      "text/plain": [
       "a: Array[String] = <lazy>\n",
       "t: Array[String] = <lazy>\n",
       "m: Array[(String, Int)] = <lazy>\n"
      ]
     },
     "execution_count": 17,
     "metadata": {},
     "output_type": "execute_result"
    }
   ],
   "source": [
    "lazy val a = text.toLowerCase.split(\" \")\n",
    "lazy val t = a.map(w => w.trim)\n",
    "lazy val m = t.map(w => (w,1))"
   ]
  },
  {
   "cell_type": "code",
   "execution_count": 18,
   "metadata": {},
   "outputs": [
    {
     "data": {
      "text/plain": [
       "res5: Array[(String, Int)] =\n",
       "Array((my,1), (heart,1), (aches,1), (and,1), (a,1), (drowsy,1), (numbness,1), (pains,1), (my,1), (sense,1), (as,1), (though,1), (of,1), (hemlock,1), (i,1), (had,1), (drunk\n",
       "or,1), (emptied,1), (some,1), (dull,1), (opiate,1), (to,1), (the,1), (drains,1), (one,1), (minute,1), (past,1), (and,1), (lethe-wards,1), (had,1), (sunk\n",
       "tis,1), (not,1), (through,1), (envy,1), (of,1), (thy,1), (happy,1), (lot,1), (but,1), (being,1), (too,1), (happy,1), (in,1), (thine,1), (happiness\n",
       "that,1), (thou,1), (light-winged,1), (dryad,1), (of,1), (the,1), (trees\n",
       "in,1), (some,1), (melodious,1), (plot\n",
       "of,1), (beechen,1), (green,,1), (and,1), (shadows,1), (numberless\n",
       "singest,1), (of,1), (summer,1), (in,1), (full-throated,1), (ease,1))\n"
      ]
     },
     "execution_count": 18,
     "metadata": {},
     "output_type": "execute_result"
    }
   ],
   "source": [
    "m"
   ]
  },
  {
   "cell_type": "markdown",
   "metadata": {},
   "source": [
    "<span style=\"color:green;font-size:large\">Apply the filter</span>\n"
   ]
  },
  {
   "cell_type": "code",
   "execution_count": 19,
   "metadata": {},
   "outputs": [
    {
     "data": {
      "text/plain": [
       "res6: Array[(String, Int)] = Array((and,1), (had,1), (the,1), (one,1), (and,1), (had,1), (not,1), (thy,1), (lot,1), (but,1), (too,1), (the,1), (and,1))\n"
      ]
     },
     "execution_count": 19,
     "metadata": {},
     "output_type": "execute_result"
    }
   ],
   "source": [
    "m.filter(t => t._1.length() == 3) "
   ]
  },
  {
   "cell_type": "markdown",
   "metadata": {},
   "source": [
    "<li>When there is only one argument to a scala function, the argument is obvious</li>\n",
    "<li>We can simplify the anonymous function as follows</li>\n"
   ]
  },
  {
   "cell_type": "code",
   "execution_count": 20,
   "metadata": {},
   "outputs": [
    {
     "data": {
      "text/plain": [
       "f: Array[(String, Int)] = <lazy>\n"
      ]
     },
     "execution_count": 20,
     "metadata": {},
     "output_type": "execute_result"
    }
   ],
   "source": [
    "lazy val f = m.filter(_._1.length() == 3)"
   ]
  },
  {
   "cell_type": "markdown",
   "metadata": {},
   "source": [
    "<span style=\"color:green;font-size:large\">apply groupby to group instances of a word together</span>\n",
    "<li>groupBy creates a Scala <span style=\"color:blue\">Map object</span></li>\n",
    "<li>Scala <span style=\"color:blue\">Map objects</span> are key-->value pairs</li>\n"
   ]
  },
  {
   "cell_type": "code",
   "execution_count": 21,
   "metadata": {},
   "outputs": [
    {
     "data": {
      "text/plain": [
       "res7: scala.collection.immutable.Map[String,Array[(String, Int)]] = Map(too -> Array((too,1)), thy -> Array((thy,1)), but -> Array((but,1)), had -> Array((had,1), (had,1)), not -> Array((not,1)), lot -> Array((lot,1)), and -> Array((and,1), (and,1), (and,1)), one -> Array((one,1)), the -> Array((the,1), (the,1)))\n"
      ]
     },
     "execution_count": 21,
     "metadata": {},
     "output_type": "execute_result"
    }
   ],
   "source": [
    "f.groupBy(_._1)"
   ]
  },
  {
   "cell_type": "code",
   "execution_count": 22,
   "metadata": {},
   "outputs": [
    {
     "data": {
      "text/plain": [
       "gp: scala.collection.immutable.Map[String,Array[(String, Int)]] = <lazy>\n"
      ]
     },
     "execution_count": 22,
     "metadata": {},
     "output_type": "execute_result"
    }
   ],
   "source": [
    "lazy val gp = f groupBy(_._1)\n",
    "\n"
   ]
  },
  {
   "cell_type": "code",
   "execution_count": 23,
   "metadata": {},
   "outputs": [
    {
     "data": {
      "text/plain": [
       "res8: Array[(String, Int)] = Array((too,1))\n"
      ]
     },
     "execution_count": 23,
     "metadata": {},
     "output_type": "execute_result"
    }
   ],
   "source": [
    "gp(\"too\")"
   ]
  },
  {
   "cell_type": "markdown",
   "metadata": {},
   "source": [
    "<span style=\"color:green;font-size:large\">reduce the grouped data</span>\n",
    "<li>Add up the 1's in the value part of the map</li>\n",
    "<li>And return (word, count) pairs</li>"
   ]
  },
  {
   "cell_type": "code",
   "execution_count": 46,
   "metadata": {},
   "outputs": [
    {
     "data": {
      "text/plain": [
       "res30: scala.collection.immutable.Map[String,Array[Int]] = Map(too -> Array(1), thy -> Array(1), but -> Array(1), had -> Array(1, 1), not -> Array(1), lot -> Array(1), and -> Array(1, 1, 1), one -> Array(1), the -> Array(1, 1))\n"
      ]
     },
     "execution_count": 46,
     "metadata": {},
     "output_type": "execute_result"
    }
   ],
   "source": [
    "//gp.map(w => (w._1,w._2.map(_=>1).reduce((a,b)=>a+b)))\n",
    "gp.map(w => (w._1,w._2.map(_=>1)))\n",
    "//.reduce(_+_)"
   ]
  },
  {
   "cell_type": "code",
   "execution_count": null,
   "metadata": {},
   "outputs": [],
   "source": [
    "val result = gp.map(w => (w._1,w._2.map(_=>1).reduce(_+_)))"
   ]
  },
  {
   "cell_type": "markdown",
   "metadata": {},
   "source": [
    "<span style=\"color:green;font-size:large\">Putting it all together in a function</span>"
   ]
  },
  {
   "cell_type": "code",
   "execution_count": null,
   "metadata": {},
   "outputs": [],
   "source": [
    "text\n",
    "    .toLowerCase\n",
    "    .split(\" \")\n",
    "    .map(w=>(w.trim,1))\n",
    "    .filter(_._1.length() == 3)\n",
    "    .groupBy(_._1)\n",
    "    .map(w => (w._1,w._2.map(_=>1).reduce(_+_)))"
   ]
  },
  {
   "cell_type": "code",
   "execution_count": 10,
   "metadata": {},
   "outputs": [
    {
     "data": {
      "text/plain": [
       "count_words: (text: String)scala.collection.immutable.Map[String,Int]\n"
      ]
     },
     "execution_count": 10,
     "metadata": {},
     "output_type": "execute_result"
    }
   ],
   "source": [
    "def count_words(text: String) = \n",
    "    text\n",
    "        .toLowerCase\n",
    "        .split(\" \")\n",
    "        .map(w=>(w.trim,1))\n",
    "        .filter(_._1.length() == 3)\n",
    "        .groupBy(_._1)\n",
    "        //.mapValues(w=>w.map(_=>1).reduce((a,b)=>a+b))\n",
    "        .map(w => (w._1,w._2.map(_=>1).reduce(_+_)))"
   ]
  },
  {
   "cell_type": "code",
   "execution_count": 11,
   "metadata": {},
   "outputs": [
    {
     "data": {
      "text/plain": [
       "res4: scala.collection.immutable.Map[String,Int] = Map(too -> 1, thy -> 1, but -> 1, had -> 2, not -> 1, lot -> 1, and -> 3, one -> 1, the -> 2)\n"
      ]
     },
     "execution_count": 11,
     "metadata": {},
     "output_type": "execute_result"
    }
   ],
   "source": [
    "count_words(text)"
   ]
  },
  {
   "cell_type": "markdown",
   "metadata": {},
   "source": [
    "<span style=\"color:green;font-size:x-large\">Comparison between scala and python word count</span>\n",
    "<img src=\"scala vs python word count.png\">"
   ]
  },
  {
   "cell_type": "markdown",
   "metadata": {},
   "source": [
    "<span style=\"color:red;font-size:xx-large\">More example</span><p>\n",
    "Given an array of tuples containing names of students and their scores on a test, return the average score for that test"
   ]
  },
  {
   "cell_type": "code",
   "execution_count": null,
   "metadata": {},
   "outputs": [],
   "source": [
    "//Return the average score on a test using map/reduce\n",
    "val scores = Array((\"Jack\",95),(\"Jill\",78),(\"Qing\",99),(\"Olafur\",87),(\"Ludovica\",65))\n",
    "val average = scores.map(t=>t._2).reduce(_+_).toDouble/scores.length"
   ]
  },
  {
   "cell_type": "code",
   "execution_count": null,
   "metadata": {},
   "outputs": [],
   "source": [
    "5/3"
   ]
  },
  {
   "cell_type": "code",
   "execution_count": null,
   "metadata": {},
   "outputs": [],
   "source": []
  },
  {
   "cell_type": "code",
   "execution_count": null,
   "metadata": {},
   "outputs": [],
   "source": []
  }
 ],
 "metadata": {
  "kernelspec": {
   "display_name": "spylon-kernel",
   "language": "scala",
   "name": "spylon-kernel"
  },
  "language_info": {
   "codemirror_mode": "text/x-scala",
   "file_extension": ".scala",
   "help_links": [
    {
     "text": "MetaKernel Magics",
     "url": "https://metakernel.readthedocs.io/en/latest/source/README.html"
    }
   ],
   "mimetype": "text/x-scala",
   "name": "scala",
   "pygments_lexer": "scala",
   "version": "0.4.1"
  },
  "toc": {
   "base_numbering": 1,
   "nav_menu": {},
   "number_sections": true,
   "sideBar": true,
   "skip_h1_title": false,
   "title_cell": "Table of Contents",
   "title_sidebar": "Contents",
   "toc_cell": false,
   "toc_position": {},
   "toc_section_display": true,
   "toc_window_display": false
  }
 },
 "nbformat": 4,
 "nbformat_minor": 2
}
